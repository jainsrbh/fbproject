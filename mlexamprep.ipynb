# read the data and set the datetime as the index
import pandas as pd
url = 'https://raw.githubusercontent.com/upxacademy/ML_with_Python/master/Datasets/bikeshare.csv?token=AYxzdiGnjM610dBT7PuwUnUNOmm3bGcvks5ZFDyLwA%3D%3D'
bikes = pd.read_csv(url, index_col='datetime', parse_dates=True)
## rename some columns# "count" is a method, so it's best to name that column something else
bikes.rename(columns={'count':'total'}, inplace=True)
