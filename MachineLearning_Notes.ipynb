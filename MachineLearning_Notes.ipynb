Skip to content
This repository
Search
Pull requests
Issues
Marketplace
Explore
 @jasontytam
 Sign out
 Watch 0
  Star 0
  Fork 0 jasontytam/python_MachineLearning
 Code  Issues 0  Pull requests 0  Projects 0  Wiki  Settings Insights 
Commits made with the web interface may expose your email address. If you'd like to keep your email private update your email settings.
python_MachineLearning/ 
MachineLearning_Notes.ipynb
   or cancel
    
 Edit file    Preview changes
1
{
2
 "cells": [
3
  {
4
   "cell_type": "code",
5
   "execution_count": null,
6
   "metadata": {
7
    "collapsed": true
8
   },
9
   "outputs": [],
10
   "source": [
11
    "# Imports - Basics\n",
12
    "\n",
13
    "import pandas as pd\n",
14
    "import numpy as np\n"
15
   ]
16
  },
17
  {
18
   "cell_type": "code",
19
   "execution_count": null,
20
   "metadata": {
21
    "collapsed": true
22
   },
23
   "outputs": [],
24
   "source": []
25
  },
26
  {
27
   "cell_type": "code",
28
   "execution_count": null,
29
   "metadata": {
30
    "collapsed": true
31
   },
32
   "outputs": [],
33
   "source": [
34
    "# Reading Data from Source"
35
   ]
36
  },
37
  {
38
   "cell_type": "code",
39
   "execution_count": null,
40
   "metadata": {
41
    "collapsed": true
42
   },
43
   "outputs": [],
44
   "source": [
45
    "# Read CSV\n",
46
    "\n",
47
    "url = 'https://raw.githubusercontent.com/upxacademy/ML_with_Python/master/Datasets/glass.data?token=AH0Y7F-9aM-g_uOfpoUhYRF3xm7oJjrzks5ZFEl1wA%3D%3D'\n",
48
    "col_names = ['index_col_name','feature_1','feature_2','feature_3','feature_4','label_col_name']\n",
49
    "dataframe = pd.read_csv(url, names=col_names, index_col='index_col_name')\n",
@jasontytam
Commit changes

Update MachineLearning_Notes.ipynb

Add an optional extended description…
  Commit directly to the master branch.
  Create a new branch for this commit and start a pull request. Learn more about pull requests.
Commit changes  Cancel
© 2017 GitHub, Inc.
Terms
Privacy
Security
Status
Help
Contact GitHub
API
Training
Shop
Blog
About
