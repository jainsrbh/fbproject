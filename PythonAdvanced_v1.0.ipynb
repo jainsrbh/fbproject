{
 "cells": [
  {
   "cell_type": "markdown",
   "metadata": {},
   "source": [
    "\n",
    "\n",
    "<img src=\"https://shwetkm.github.io/upxlogo.png\"></img>\n",
    "\n",
    "# Python Advanced - Data Science Foundation\n",
    "\n",
    "**SET THE WORKING DIRECTORY SO THAT WE DO NOT HAVE TO THINK ABOUT PATH PROBLEMS**\n",
    "\n",
    "Please ensure all your folder names <font color='red'><b>do not have a space & use forward slash (/)</b></font>"
   ]
  },
  {
   "cell_type": "code",
   "execution_count": 137,
   "metadata": {
    "collapsed": true
   },
   "outputs": [],
   "source": [
    "# Please ensure the path follows the rules we had discussed and ensure a '/' at the last\n",
    "your_local_path=\"C:/Users/User/Documents/data-science/attachment_PythonAdvanced/\""
   ]
  },
  {
   "cell_type": "markdown",
   "metadata": {},
   "source": [
    "**Introduction to NumPy**\n",
    "\n",
    "NumPy (short form for Numerical Python) is the most fundamental package designed for scientific computing and data analysis. Most of the other packages such as pandas, statsmodels are built on top of it, and is an important package to know and learn about. At the heart of NumPy is a data structure called **ndarray**. ndarray is a basically a multi-dimensional array that is built specifically for the purpose of numerical data analysis. Python also has array capabilities, but they are more generic. <b>The advantage of using ndarray is that processing is extremely efficient and fast.</b> \n",
    "\n",
    "You can perform standard mathematical operations on either individual elements or complete array. The range of functions covered is <b>linear algebra, statistical operations, and other specialized mathematical operations</b>. For our purpose, we need to know about <b>ndarray and the range of mathematical functions that are relevant to our research purpose</b>. If you already know languages such as C, Fortran, then you can integrate NumPy code with code written in these languages and can pass NumPy arrays seamlessly. \n",
    "\n",
    "From an overall perspective, understanding of <b>NumPy will help us in using pandas effectively as it is built on top of NumPy and frequently we will also be using functions of NumPy in research work</b>. In the current session, we will only look at some of the most important features of NumPy. For a full listing of NumPy features, please visit http://wiki.scipy.org/Numpy_Example_List .\n",
    "\n",
    "Possible application of NumPy package in research work are:\n",
    "<i>\n",
    "+ Algorithmic operations such as sorting, grouping and set operations\n",
    "+ Performing repetitive operations on whole arrays of data without using loops\n",
    "+ Data merging and alignment operations\n",
    "+ Data indexing, filtering, and transformation on individual elements or whole arrays\n",
    "+ Data summarization and descriptive statistics\n",
    "</i>\n",
    "**Installing NumPy**\n",
    "\n",
    "In order to check if NumPy is installed, go to Package Manager and type NumPy. You will get a list of packages with names closely matching to NumPy. For our purpose, we need to focus on package named numpy 1.xx. If the package is not installed, click on Install. \n",
    "\n",
    "**Importing NumPy**\n",
    "\n",
    "In order to be able to use NumPy, first import it using import statement"
   ]
  },
  {
   "cell_type": "code",
   "execution_count": 138,
   "metadata": {
    "collapsed": false
   },
   "outputs": [],
   "source": [
    "import numpy as np"
   ]
  },
  {
   "cell_type": "markdown",
   "metadata": {},
   "source": [
    "The above statement will import all of NumPy into your workspace. For starters its good, but if you are doing performance intensive work, then saving space is of importance. In such cases, you can import specific modules of NumPy by using"
   ]
  },
  {
   "cell_type": "code",
   "execution_count": 139,
   "metadata": {
    "collapsed": false
   },
   "outputs": [],
   "source": [
    "from numpy import array"
   ]
  },
  {
   "cell_type": "markdown",
   "metadata": {},
   "source": [
    "ndarray\n",
    "The most important data structure in NumPy is an n-dimensional array object. Using ndarray, you can store large multidimensional datasets in Python. Being an array, you can <b>perform mathematical operations on these arrays either one element at a time or on complete arrays without using loops</b>. The way to initialize an array object is"
   ]
  },
  {
   "cell_type": "code",
   "execution_count": 140,
   "metadata": {
    "collapsed": false
   },
   "outputs": [],
   "source": [
    "a = array((1,2,3,4,5))                       # initializes an array a and assigns values to it\n",
    "b = array((10,20,30,40,50))                  # initializes another array b\n",
    "#print (a)\n",
    "#print (b)\n",
    "#print(a+b) \n",
    "#print (a+5) \n",
    "#a**2"
   ]
  },
  {
   "cell_type": "code",
   "execution_count": 6,
   "metadata": {
    "collapsed": false
   },
   "outputs": [
    {
     "name": "stdout",
     "output_type": "stream",
     "text": [
      "[ 0  1  2  3  4  5  6  7  8  9 10 11 12 13 14]\n",
      "[ 1  3  5  7  9 11 13]\n",
      "[  1.           1.64285714   2.28571429   2.92857143   3.57142857\n",
      "   4.21428571   4.85714286   5.5          6.14285714   6.78571429\n",
      "   7.42857143   8.07142857   8.71428571   9.35714286  10.        ]\n"
     ]
    }
   ],
   "source": [
    "c = array(np.arange(15))                     # arange function here works as a sequence or counter\n",
    "anarray = array(np.arange(1,15,2))           # arange function here works as a sequence or counter incremented by 2 starting from 1\n",
    "onemorearray = array(np.linspace(1,10,15))   # linspace function here creates 15 evenly spaced numbers over a specified interval 1 to 10\n",
    "print(c)\n",
    "print(anarray)\n",
    "print(onemorearray)"
   ]
  },
  {
   "cell_type": "markdown",
   "metadata": {},
   "source": [
    "With each ndarray are associated two attributes: shape of the array, and type of the array. The <font color='red'><b>shape</b> of the array tells you about <b><u>dimensionality</u></b> of the array (rows and columns), and <b>type</b> of the array tells you about the <b><u>data type</u></b> contained</font> in the array."
   ]
  },
  {
   "cell_type": "code",
   "execution_count": 7,
   "metadata": {
    "collapsed": false
   },
   "outputs": [
    {
     "name": "stdout",
     "output_type": "stream",
     "text": [
      "[[[  32]\n",
      "  [  45]]\n",
      "\n",
      " [[ 123]\n",
      "  [ 756]]\n",
      "\n",
      " [[  23]\n",
      "  [2123]]]\n",
      "(3, 2, 1)\n",
      "int32\n",
      "6\n"
     ]
    }
   ],
   "source": [
    "data = np.array((32,45,123,756,23,2123))\n",
    "data = data.reshape(3,2,1)\n",
    "print(data)\n",
    "print(data.shape)\n",
    "print(data.dtype)\n",
    "print(data.size)"
   ]
  },
  {
   "cell_type": "code",
   "execution_count": 8,
   "metadata": {
    "collapsed": false
   },
   "outputs": [
    {
     "data": {
      "text/plain": [
       "(2, 4)"
      ]
     },
     "execution_count": 8,
     "metadata": {},
     "output_type": "execute_result"
    }
   ],
   "source": [
    "data2 = [[1,2,3,4],[5,6,7,8]]\n",
    "arr2 = np.array(data2)\n",
    "arr2\n",
    "arr2.shape"
   ]
  },
  {
   "cell_type": "code",
   "execution_count": 9,
   "metadata": {
    "collapsed": false
   },
   "outputs": [
    {
     "data": {
      "text/plain": [
       "array([ 0.,  0.,  0.,  0.,  0.,  0.,  0.,  0.,  0.,  0.,  0.,  0.,  0.,\n",
       "        0.,  0.,  0.,  0.,  0.,  0.,  0.,  0.,  0.,  0.,  0.,  0.,  0.,\n",
       "        0.,  0.,  0.,  0.,  0.,  0.,  0.,  0.,  0.,  0.,  0.,  0.,  0.,\n",
       "        0.,  0.,  0.,  0.,  0.,  0.,  0.,  0.,  0.,  0.,  0.])"
      ]
     },
     "execution_count": 9,
     "metadata": {},
     "output_type": "execute_result"
    }
   ],
   "source": [
    "np.zeros(50)                         # Make a 50, 0 numbered single dimensional array"
   ]
  },
  {
   "cell_type": "code",
   "execution_count": 10,
   "metadata": {
    "collapsed": false
   },
   "outputs": [
    {
     "data": {
      "text/plain": [
       "array([[ 0.,  0.,  0.,  0.,  0.],\n",
       "       [ 0.,  0.,  0.,  0.,  0.],\n",
       "       [ 0.,  0.,  0.,  0.,  0.]])"
      ]
     },
     "execution_count": 10,
     "metadata": {},
     "output_type": "execute_result"
    }
   ],
   "source": [
    "np.zeros((3,5))                      # Make a 15, 0 numbered 2 dimensional array"
   ]
  },
  {
   "cell_type": "code",
   "execution_count": 11,
   "metadata": {
    "collapsed": false
   },
   "outputs": [
    {
     "data": {
      "text/plain": [
       "array([ 1.,  1.,  1.,  1.,  1.,  1.,  1.,  1.,  1.,  1.,  1.,  1.,  1.,\n",
       "        1.,  1.,  1.,  1.,  1.,  1.,  1.,  1.,  1.,  1.,  1.,  1.,  1.,\n",
       "        1.,  1.,  1.,  1.])"
      ]
     },
     "execution_count": 11,
     "metadata": {},
     "output_type": "execute_result"
    }
   ],
   "source": [
    "np.ones(30)                          # Make a 30, 1 numbered single dimensional array"
   ]
  },
  {
   "cell_type": "code",
   "execution_count": 12,
   "metadata": {
    "collapsed": false
   },
   "outputs": [
    {
     "data": {
      "text/plain": [
       "array([[ 1.,  1.,  1.,  1.,  1.,  1.,  1.,  1.,  1.],\n",
       "       [ 1.,  1.,  1.,  1.,  1.,  1.,  1.,  1.,  1.],\n",
       "       [ 1.,  1.,  1.,  1.,  1.,  1.,  1.,  1.,  1.],\n",
       "       [ 1.,  1.,  1.,  1.,  1.,  1.,  1.,  1.,  1.],\n",
       "       [ 1.,  1.,  1.,  1.,  1.,  1.,  1.,  1.,  1.]])"
      ]
     },
     "execution_count": 12,
     "metadata": {},
     "output_type": "execute_result"
    }
   ],
   "source": [
    "np.ones((5,9))                       # Make a 45, 1 numbered 2 dimensional array"
   ]
  },
  {
   "cell_type": "code",
   "execution_count": 13,
   "metadata": {
    "collapsed": false
   },
   "outputs": [
    {
     "data": {
      "text/plain": [
       "array([[ 1.,  0.,  0.,  0.,  0.],\n",
       "       [ 0.,  1.,  0.,  0.,  0.],\n",
       "       [ 0.,  0.,  1.,  0.,  0.],\n",
       "       [ 0.,  0.,  0.,  1.,  0.],\n",
       "       [ 0.,  0.,  0.,  0.,  1.]])"
      ]
     },
     "execution_count": 13,
     "metadata": {},
     "output_type": "execute_result"
    }
   ],
   "source": [
    "np.eye(5)                            # creates a 5*5 identity matrix. "
   ]
  },
  {
   "cell_type": "code",
   "execution_count": 14,
   "metadata": {
    "collapsed": false
   },
   "outputs": [
    {
     "data": {
      "text/plain": [
       "array([[1, 0, 0, 0, 0, 0],\n",
       "       [0, 3, 0, 0, 0, 0],\n",
       "       [0, 0, 5, 0, 0, 0],\n",
       "       [0, 0, 0, 3, 0, 0],\n",
       "       [0, 0, 0, 0, 4, 0],\n",
       "       [0, 0, 0, 0, 0, 5]])"
      ]
     },
     "execution_count": 14,
     "metadata": {},
     "output_type": "execute_result"
    }
   ],
   "source": [
    "np.diag(array([1,3,5,3,4,5]))        # Populate the disgonal elements only"
   ]
  },
  {
   "cell_type": "markdown",
   "metadata": {},
   "source": [
    "**pandas**\n",
    "\n",
    "Pandas is the primary package for performing data analysis tasks in Python. pandas derives its name from <b>PANel Data AnalysiS</b> and is the fundamental package that provides <b>relational data structures (think Excel, SQL type) and a host of capabilities to play with those data structures</b>. It is the most widely used package in Python for data analysis tasks, and is very good to work with <b>cross sectional, time series, and panel data analysis</b>. Python sits on top of NumPy and can be used with NumPy arrays and the functions in NumPy. How is pandas suited for a researcher’s needs:\n",
    "<i>\n",
    "+ Has a tabular data structure that can hold both <b>homogenous and heterogenous data</b>.\n",
    "+ Very <b>good indexing capabilities</b> that makes data alignment and merging easy.\n",
    "+ Good <b>time series functionality</b>. No need to use different data structures for time series and cross sectional data. Allows for both <b>ordered and unordered time-series data</b>.\n",
    "+ A host of <b>statistical functions</b> developed around NumPy and pandas that makes a researcher’s task easy and fast.\n",
    "+ Programming is lot <b>simpler and faster</b>.\n",
    "+ Easily handles <b>data manipulation and cleaning</b>.\n",
    "+ Easy to expand and shorten data sets. <b>Comprehensive merging, joins, and group by functionality to join multiple data sets</b>.\n",
    "</i>\n",
    "\n",
    "**Installing pandas** \n",
    "\n",
    "In order to check if pandas is installed, go to Package Manager and type pandas. By default, pandas already comes installed with a distribution of Canopy. If the package is not installed, click on Install.\n",
    "\n",
    "**Importing pandas**\n",
    "\n",
    "In order to be able to use NumPy, first import it using import statement\n"
   ]
  },
  {
   "cell_type": "code",
   "execution_count": 15,
   "metadata": {
    "collapsed": false
   },
   "outputs": [],
   "source": [
    "import pandas as pd                         # This will import pandas into your workspace"
   ]
  },
  {
   "cell_type": "code",
   "execution_count": 16,
   "metadata": {
    "collapsed": false
   },
   "outputs": [],
   "source": [
    "import numpy as np                          # We will be using numpy functions so import numpy"
   ]
  },
  {
   "cell_type": "markdown",
   "metadata": {},
   "source": [
    "**Data Structures in pandas**\n",
    "\n",
    "There are two basic data structures in pandas: <b><i>Series and DataFrame</i></b>"
   ]
  },
  {
   "cell_type": "markdown",
   "metadata": {},
   "source": [
    "**Series:** It is similar to a NumPy 1-dimensional array. In addition to the values that are specified by the programmer, <b>pandas attaches a label to each of the values</b>. If the labels are not provided by the programmer, then pandas assigns labels ( 0 for first element, 1 for second element and so on). A benefit of assigning labels to data values is that it becomes easier to perform manipulations on the dataset as the whole dataset becomes more of a dictionary where each value is associated with a label. \n"
   ]
  },
  {
   "cell_type": "code",
   "execution_count": 17,
   "metadata": {
    "collapsed": false
   },
   "outputs": [
    {
     "data": {
      "text/plain": [
       "1    10\n",
       "2    20\n",
       "3    30\n",
       "4    40\n",
       "dtype: int64"
      ]
     },
     "execution_count": 17,
     "metadata": {},
     "output_type": "execute_result"
    }
   ],
   "source": [
    "series1 = pd.Series([10,20,30,40],index=['1','2','3','4'])\n",
    "series1"
   ]
  },
  {
   "cell_type": "code",
   "execution_count": 18,
   "metadata": {
    "collapsed": false
   },
   "outputs": [
    {
     "data": {
      "text/plain": [
       "array([10, 20, 30, 40], dtype=int64)"
      ]
     },
     "execution_count": 18,
     "metadata": {},
     "output_type": "execute_result"
    }
   ],
   "source": [
    "series1.values"
   ]
  },
  {
   "cell_type": "code",
   "execution_count": 19,
   "metadata": {
    "collapsed": false
   },
   "outputs": [
    {
     "data": {
      "text/plain": [
       "Index(['1', '2', '3', '4'], dtype='object')"
      ]
     },
     "execution_count": 19,
     "metadata": {},
     "output_type": "execute_result"
    }
   ],
   "source": [
    "series1.index"
   ]
  },
  {
   "cell_type": "markdown",
   "metadata": {},
   "source": [
    "If you want to specify custom index values rather than the default ones provided, you can do so using the following command"
   ]
  },
  {
   "cell_type": "code",
   "execution_count": 20,
   "metadata": {
    "collapsed": false
   },
   "outputs": [
    {
     "data": {
      "text/plain": [
       "one      10\n",
       "two      20\n",
       "three    30\n",
       "four     40\n",
       "five     50\n",
       "dtype: int64"
      ]
     },
     "execution_count": 20,
     "metadata": {},
     "output_type": "execute_result"
    }
   ],
   "source": [
    "series2 = pd.Series([10,20,30,40,50], index=['one','two','three','four','five'])\n",
    "series2"
   ]
  },
  {
   "cell_type": "markdown",
   "metadata": {},
   "source": [
    "The ways of accesing elements in a Series object are similar to what we have seen in NumPy, and you can perform NumPy operations on Series data arrays."
   ]
  },
  {
   "cell_type": "code",
   "execution_count": 21,
   "metadata": {
    "collapsed": false
   },
   "outputs": [
    {
     "data": {
      "text/plain": [
       "30"
      ]
     },
     "execution_count": 21,
     "metadata": {},
     "output_type": "execute_result"
    }
   ],
   "source": [
    "series2[2]                  # How to print 30 from the series"
   ]
  },
  {
   "cell_type": "code",
   "execution_count": 22,
   "metadata": {
    "collapsed": false
   },
   "outputs": [
    {
     "data": {
      "text/plain": [
       "30"
      ]
     },
     "execution_count": 22,
     "metadata": {},
     "output_type": "execute_result"
    }
   ],
   "source": [
    "series2['three']            # Another way to print 30 from the series"
   ]
  },
  {
   "cell_type": "code",
   "execution_count": 23,
   "metadata": {
    "collapsed": false
   },
   "outputs": [
    {
     "data": {
      "text/plain": [
       "one      10\n",
       "three    30\n",
       "four     40\n",
       "dtype: int64"
      ]
     },
     "execution_count": 23,
     "metadata": {},
     "output_type": "execute_result"
    }
   ],
   "source": [
    "series2[['one', 'three', 'four']]"
   ]
  },
  {
   "cell_type": "code",
   "execution_count": 24,
   "metadata": {
    "collapsed": false
   },
   "outputs": [
    {
     "data": {
      "text/plain": [
       "one     10\n",
       "two     20\n",
       "four    40\n",
       "dtype: int64"
      ]
     },
     "execution_count": 24,
     "metadata": {},
     "output_type": "execute_result"
    }
   ],
   "source": [
    "series2[[0,1,3]]"
   ]
  },
  {
   "cell_type": "code",
   "execution_count": 25,
   "metadata": {
    "collapsed": false
   },
   "outputs": [
    {
     "data": {
      "text/plain": [
       "one      14\n",
       "two      24\n",
       "three    34\n",
       "four     44\n",
       "five     54\n",
       "dtype: int64"
      ]
     },
     "execution_count": 25,
     "metadata": {},
     "output_type": "execute_result"
    }
   ],
   "source": [
    "series2 + 4            # Add 4 to every element"
   ]
  },
  {
   "cell_type": "code",
   "execution_count": 26,
   "metadata": {
    "collapsed": false
   },
   "outputs": [
    {
     "data": {
      "text/plain": [
       "one        1000\n",
       "two        8000\n",
       "three     27000\n",
       "four      64000\n",
       "five     125000\n",
       "dtype: int64"
      ]
     },
     "execution_count": 26,
     "metadata": {},
     "output_type": "execute_result"
    }
   ],
   "source": [
    "series2 ** 3           # Cube every element "
   ]
  },
  {
   "cell_type": "code",
   "execution_count": 27,
   "metadata": {
    "collapsed": false
   },
   "outputs": [
    {
     "data": {
      "text/plain": [
       "four    40\n",
       "five    50\n",
       "dtype: int64"
      ]
     },
     "execution_count": 27,
     "metadata": {},
     "output_type": "execute_result"
    }
   ],
   "source": [
    "series2[series2>30]    # Find all values greater than 30"
   ]
  },
  {
   "cell_type": "code",
   "execution_count": 28,
   "metadata": {
    "collapsed": false
   },
   "outputs": [
    {
     "data": {
      "text/plain": [
       "one      3.162278\n",
       "two      4.472136\n",
       "three    5.477226\n",
       "four     6.324555\n",
       "five     7.071068\n",
       "dtype: float64"
      ]
     },
     "execution_count": 28,
     "metadata": {},
     "output_type": "execute_result"
    }
   ],
   "source": [
    "np.sqrt(series2)       # Get the square roots of all the values"
   ]
  },
  {
   "cell_type": "markdown",
   "metadata": {},
   "source": [
    "If you have a dictionary, you can <b>create a Series data structure from that dictionary</b>. Suppose you are interested in EPS values for firms and the <i>values come from different sources and is not clean. In that case you dont have to worry about cleaning and aligning those values</i>. "
   ]
  },
  {
   "cell_type": "code",
   "execution_count": 29,
   "metadata": {
    "collapsed": false
   },
   "outputs": [
    {
     "data": {
      "text/plain": [
       "90     8\n",
       "91     9\n",
       "92     7\n",
       "93     8\n",
       "94     9\n",
       "95    11\n",
       "dtype: int64"
      ]
     },
     "execution_count": 29,
     "metadata": {},
     "output_type": "execute_result"
    }
   ],
   "source": [
    "years = [90, 91, 92, 93, 94, 95]\n",
    "f1 = {90:8, 91:9, 92:7, 93:8, 94:9, 95:11, 96:13}\n",
    "firm1 = pd.Series(f1,index=years)                     # Extra element in VALUE not an issue\n",
    "firm1"
   ]
  },
  {
   "cell_type": "code",
   "execution_count": 30,
   "metadata": {
    "collapsed": false
   },
   "outputs": [
    {
     "data": {
      "text/plain": [
       "90    14.0\n",
       "91     NaN\n",
       "92     9.0\n",
       "93    13.0\n",
       "94     5.0\n",
       "95     NaN\n",
       "dtype: float64"
      ]
     },
     "execution_count": 30,
     "metadata": {},
     "output_type": "execute_result"
    }
   ],
   "source": [
    "f2 = {90:14,92:9, 93:13, 94:5}                      \n",
    "firm2 = pd.Series(f2,index=years)                   # Extra element in the KEY is handled as NaN\n",
    "firm2"
   ]
  },
  {
   "cell_type": "code",
   "execution_count": 31,
   "metadata": {
    "collapsed": false,
    "scrolled": true
   },
   "outputs": [
    {
     "data": {
      "text/plain": [
       "90     NaN\n",
       "91     NaN\n",
       "92     NaN\n",
       "93    10.0\n",
       "94    12.0\n",
       "95    13.0\n",
       "dtype: float64"
      ]
     },
     "execution_count": 31,
     "metadata": {},
     "output_type": "execute_result"
    }
   ],
   "source": [
    "f3 = {93:10, 94:12, 95: 13}\n",
    "firm3 = pd.Series(f3,index=years)\n",
    "firm3"
   ]
  },
  {
   "cell_type": "markdown",
   "metadata": {},
   "source": [
    "NaN stands for missing or NA values in pandas. Make use of isnull() function to find out if there are any missing values in the data structure."
   ]
  },
  {
   "cell_type": "code",
   "execution_count": 32,
   "metadata": {
    "collapsed": false
   },
   "outputs": [
    {
     "data": {
      "text/plain": [
       "90     True\n",
       "91     True\n",
       "92     True\n",
       "93    False\n",
       "94    False\n",
       "95    False\n",
       "dtype: bool"
      ]
     },
     "execution_count": 32,
     "metadata": {},
     "output_type": "execute_result"
    }
   ],
   "source": [
    "pd.isnull(firm3)"
   ]
  },
  {
   "cell_type": "markdown",
   "metadata": {},
   "source": [
    "A key feature of Series data is structures is that you don't have to worry about data alignment. For example, if we have run a word count program on two different files and we have the following data structures"
   ]
  },
  {
   "cell_type": "code",
   "execution_count": 33,
   "metadata": {
    "collapsed": false
   },
   "outputs": [
    {
     "name": "stdout",
     "output_type": "stream",
     "text": [
      "debt        8\n",
      "earning     5\n",
      "finance    10\n",
      "dtype: int64\n",
      "compensation    4\n",
      "earning         9\n",
      "finance         8\n",
      "dtype: int64\n"
     ]
    }
   ],
   "source": [
    "dict1 = {'finance': 10, 'earning': 5, 'debt':8}\n",
    "dict2 = {'finance' : 8, 'compensation':4, 'earning': 9}\n",
    "count1 = pd.Series(dict1)\n",
    "count2 = pd.Series(dict2)\n",
    "print (count1)\n",
    "print (count2)"
   ]
  },
  {
   "cell_type": "markdown",
   "metadata": {},
   "source": [
    "If we want to calculate the sum of common words in combined files, then we dont have to worry about data alignment. If we want to include all words, then we can take care of NaN values and compute the sum. By default, Series data structure ignores NaN values. NaN values stand for missing data values."
   ]
  },
  {
   "cell_type": "code",
   "execution_count": 34,
   "metadata": {
    "collapsed": false
   },
   "outputs": [
    {
     "data": {
      "text/plain": [
       "compensation     NaN\n",
       "debt             NaN\n",
       "earning         14.0\n",
       "finance         18.0\n",
       "dtype: float64"
      ]
     },
     "execution_count": 34,
     "metadata": {},
     "output_type": "execute_result"
    }
   ],
   "source": [
    "count1+count2                                # Sum values on key based retrieval. Non matching keys become NaN"
   ]
  },
  {
   "cell_type": "markdown",
   "metadata": {},
   "source": [
    "**Data Frame**\n",
    "\n",
    "DataFrame is a <b>tabular data structure</b> in which data is laid out in <b>rows and column</b> format (similar to a CSV and SQL file), but it can also be <b>used for higher dimensional data</b> sets. The DataFrame object can contain homogenous and heterogenous values, and can be thought of as a logical extension of Series data structures. In contrast to <u>Series</u>, where there is <b>one index</b>, a <u>DataFrame</u> object has <b>one index for column and one index for rows</b>. This allows flexibility in accessing and manipulating data."
   ]
  },
  {
   "cell_type": "code",
   "execution_count": 35,
   "metadata": {
    "collapsed": false
   },
   "outputs": [
    {
     "data": {
      "text/html": [
       "<div>\n",
       "<table border=\"1\" class=\"dataframe\">\n",
       "  <thead>\n",
       "    <tr style=\"text-align: right;\">\n",
       "      <th></th>\n",
       "      <th>company</th>\n",
       "      <th>price</th>\n",
       "      <th>ticker</th>\n",
       "    </tr>\n",
       "  </thead>\n",
       "  <tbody>\n",
       "    <tr>\n",
       "      <th>0</th>\n",
       "      <td>American Express</td>\n",
       "      <td>95</td>\n",
       "      <td>AXP</td>\n",
       "    </tr>\n",
       "    <tr>\n",
       "      <th>1</th>\n",
       "      <td>Cisco</td>\n",
       "      <td>25</td>\n",
       "      <td>CSCO</td>\n",
       "    </tr>\n",
       "    <tr>\n",
       "      <th>2</th>\n",
       "      <td>Walt Disney</td>\n",
       "      <td>85</td>\n",
       "      <td>DIS</td>\n",
       "    </tr>\n",
       "    <tr>\n",
       "      <th>3</th>\n",
       "      <td>Microsoft</td>\n",
       "      <td>41</td>\n",
       "      <td>MSFT</td>\n",
       "    </tr>\n",
       "    <tr>\n",
       "      <th>4</th>\n",
       "      <td>Walmart</td>\n",
       "      <td>78</td>\n",
       "      <td>WMT</td>\n",
       "    </tr>\n",
       "  </tbody>\n",
       "</table>\n",
       "</div>"
      ],
      "text/plain": [
       "            company  price ticker\n",
       "0  American Express     95    AXP\n",
       "1             Cisco     25   CSCO\n",
       "2       Walt Disney     85    DIS\n",
       "3         Microsoft     41   MSFT\n",
       "4           Walmart     78    WMT"
      ]
     },
     "execution_count": 35,
     "metadata": {},
     "output_type": "execute_result"
    }
   ],
   "source": [
    "data = pd.DataFrame({'price':[95, 25, 85, 41, 78],\n",
    "                     'ticker':['AXP', 'CSCO', 'DIS', 'MSFT', 'WMT'],\n",
    "                     'company':['American Express', 'Cisco', 'Walt Disney','Microsoft', 'Walmart']})\n",
    "data"
   ]
  },
  {
   "cell_type": "markdown",
   "metadata": {},
   "source": [
    "If a column is passed with no values, it will simply have NaN values"
   ]
  },
  {
   "cell_type": "markdown",
   "metadata": {},
   "source": [
    "In order to access a column, simply mention the column name"
   ]
  },
  {
   "cell_type": "code",
   "execution_count": 36,
   "metadata": {
    "collapsed": false
   },
   "outputs": [
    {
     "data": {
      "text/plain": [
       "0    American Express\n",
       "1               Cisco\n",
       "2         Walt Disney\n",
       "3           Microsoft\n",
       "4             Walmart\n",
       "Name: company, dtype: object"
      ]
     },
     "execution_count": 36,
     "metadata": {},
     "output_type": "execute_result"
    }
   ],
   "source": [
    "data['company']                          # Print only company names"
   ]
  },
  {
   "cell_type": "code",
   "execution_count": 37,
   "metadata": {
    "collapsed": false
   },
   "outputs": [
    {
     "data": {
      "text/plain": [
       "0    American Express\n",
       "1               Cisco\n",
       "2         Walt Disney\n",
       "3           Microsoft\n",
       "4             Walmart\n",
       "Name: company, dtype: object"
      ]
     },
     "execution_count": 37,
     "metadata": {},
     "output_type": "execute_result"
    }
   ],
   "source": [
    "data.company                            # Another way to print only company names"
   ]
  },
  {
   "cell_type": "code",
   "execution_count": 38,
   "metadata": {
    "collapsed": false
   },
   "outputs": [
    {
     "data": {
      "text/plain": [
       "company    Cisco\n",
       "price         25\n",
       "ticker      CSCO\n",
       "Name: 1, dtype: object"
      ]
     },
     "execution_count": 38,
     "metadata": {},
     "output_type": "execute_result"
    }
   ],
   "source": [
    "data.ix[1]                              # Print the row corresponding to the given Index"
   ]
  },
  {
   "cell_type": "code",
   "execution_count": 39,
   "metadata": {
    "collapsed": false
   },
   "outputs": [
    {
     "data": {
      "text/html": [
       "<div>\n",
       "<table border=\"1\" class=\"dataframe\">\n",
       "  <thead>\n",
       "    <tr style=\"text-align: right;\">\n",
       "      <th></th>\n",
       "      <th>company</th>\n",
       "      <th>price</th>\n",
       "      <th>ticker</th>\n",
       "    </tr>\n",
       "  </thead>\n",
       "  <tbody>\n",
       "  </tbody>\n",
       "</table>\n",
       "</div>"
      ],
      "text/plain": [
       "Empty DataFrame\n",
       "Columns: [company, price, ticker]\n",
       "Index: []"
      ]
     },
     "execution_count": 39,
     "metadata": {},
     "output_type": "execute_result"
    }
   ],
   "source": [
    "data.ix[data.ticker=='DIST']            # Print the row corresponding to the ticker that is 'DIS'"
   ]
  },
  {
   "cell_type": "markdown",
   "metadata": {},
   "source": [
    "In order to add additional columns"
   ]
  },
  {
   "cell_type": "code",
   "execution_count": 40,
   "metadata": {
    "collapsed": false
   },
   "outputs": [
    {
     "data": {
      "text/html": [
       "<div>\n",
       "<table border=\"1\" class=\"dataframe\">\n",
       "  <thead>\n",
       "    <tr style=\"text-align: right;\">\n",
       "      <th></th>\n",
       "      <th>company</th>\n",
       "      <th>price</th>\n",
       "      <th>ticker</th>\n",
       "      <th>Year</th>\n",
       "    </tr>\n",
       "  </thead>\n",
       "  <tbody>\n",
       "    <tr>\n",
       "      <th>0</th>\n",
       "      <td>American Express</td>\n",
       "      <td>95</td>\n",
       "      <td>AXP</td>\n",
       "      <td>2014</td>\n",
       "    </tr>\n",
       "    <tr>\n",
       "      <th>1</th>\n",
       "      <td>Cisco</td>\n",
       "      <td>25</td>\n",
       "      <td>CSCO</td>\n",
       "      <td>2014</td>\n",
       "    </tr>\n",
       "    <tr>\n",
       "      <th>2</th>\n",
       "      <td>Walt Disney</td>\n",
       "      <td>85</td>\n",
       "      <td>DIS</td>\n",
       "      <td>2014</td>\n",
       "    </tr>\n",
       "    <tr>\n",
       "      <th>3</th>\n",
       "      <td>Microsoft</td>\n",
       "      <td>41</td>\n",
       "      <td>MSFT</td>\n",
       "      <td>2014</td>\n",
       "    </tr>\n",
       "    <tr>\n",
       "      <th>4</th>\n",
       "      <td>Walmart</td>\n",
       "      <td>78</td>\n",
       "      <td>WMT</td>\n",
       "      <td>2014</td>\n",
       "    </tr>\n",
       "  </tbody>\n",
       "</table>\n",
       "</div>"
      ],
      "text/plain": [
       "            company  price ticker  Year\n",
       "0  American Express     95    AXP  2014\n",
       "1             Cisco     25   CSCO  2014\n",
       "2       Walt Disney     85    DIS  2014\n",
       "3         Microsoft     41   MSFT  2014\n",
       "4           Walmart     78    WMT  2014"
      ]
     },
     "execution_count": 40,
     "metadata": {},
     "output_type": "execute_result"
    }
   ],
   "source": [
    "data['Year'] = 2014                       # Add additional column Year. Populate value of 2014 in all the rows.\n",
    "data"
   ]
  },
  {
   "cell_type": "code",
   "execution_count": 41,
   "metadata": {
    "collapsed": false
   },
   "outputs": [
    {
     "data": {
      "text/html": [
       "<div>\n",
       "<table border=\"1\" class=\"dataframe\">\n",
       "  <thead>\n",
       "    <tr style=\"text-align: right;\">\n",
       "      <th></th>\n",
       "      <th>company</th>\n",
       "      <th>price</th>\n",
       "      <th>ticker</th>\n",
       "      <th>Year</th>\n",
       "      <th>pricesquared</th>\n",
       "    </tr>\n",
       "  </thead>\n",
       "  <tbody>\n",
       "    <tr>\n",
       "      <th>0</th>\n",
       "      <td>American Express</td>\n",
       "      <td>95</td>\n",
       "      <td>AXP</td>\n",
       "      <td>2014</td>\n",
       "      <td>9025</td>\n",
       "    </tr>\n",
       "    <tr>\n",
       "      <th>1</th>\n",
       "      <td>Cisco</td>\n",
       "      <td>25</td>\n",
       "      <td>CSCO</td>\n",
       "      <td>2014</td>\n",
       "      <td>625</td>\n",
       "    </tr>\n",
       "    <tr>\n",
       "      <th>2</th>\n",
       "      <td>Walt Disney</td>\n",
       "      <td>85</td>\n",
       "      <td>DIS</td>\n",
       "      <td>2014</td>\n",
       "      <td>7225</td>\n",
       "    </tr>\n",
       "    <tr>\n",
       "      <th>3</th>\n",
       "      <td>Microsoft</td>\n",
       "      <td>41</td>\n",
       "      <td>MSFT</td>\n",
       "      <td>2014</td>\n",
       "      <td>1681</td>\n",
       "    </tr>\n",
       "    <tr>\n",
       "      <th>4</th>\n",
       "      <td>Walmart</td>\n",
       "      <td>78</td>\n",
       "      <td>WMT</td>\n",
       "      <td>2014</td>\n",
       "      <td>6084</td>\n",
       "    </tr>\n",
       "  </tbody>\n",
       "</table>\n",
       "</div>"
      ],
      "text/plain": [
       "            company  price ticker  Year  pricesquared\n",
       "0  American Express     95    AXP  2014          9025\n",
       "1             Cisco     25   CSCO  2014           625\n",
       "2       Walt Disney     85    DIS  2014          7225\n",
       "3         Microsoft     41   MSFT  2014          1681\n",
       "4           Walmart     78    WMT  2014          6084"
      ]
     },
     "execution_count": 41,
     "metadata": {},
     "output_type": "execute_result"
    }
   ],
   "source": [
    "data['pricesquared'] = data.price**2      # Square all the prices and add another column 'pricesquared'.\n",
    "data"
   ]
  },
  {
   "cell_type": "code",
   "execution_count": 42,
   "metadata": {
    "collapsed": false
   },
   "outputs": [
    {
     "data": {
      "text/html": [
       "<div>\n",
       "<table border=\"1\" class=\"dataframe\">\n",
       "  <thead>\n",
       "    <tr style=\"text-align: right;\">\n",
       "      <th></th>\n",
       "      <th>company</th>\n",
       "      <th>price</th>\n",
       "      <th>ticker</th>\n",
       "      <th>Year</th>\n",
       "    </tr>\n",
       "  </thead>\n",
       "  <tbody>\n",
       "    <tr>\n",
       "      <th>0</th>\n",
       "      <td>American Express</td>\n",
       "      <td>95</td>\n",
       "      <td>AXP</td>\n",
       "      <td>2014</td>\n",
       "    </tr>\n",
       "    <tr>\n",
       "      <th>1</th>\n",
       "      <td>Cisco</td>\n",
       "      <td>25</td>\n",
       "      <td>CSCO</td>\n",
       "      <td>2014</td>\n",
       "    </tr>\n",
       "    <tr>\n",
       "      <th>2</th>\n",
       "      <td>Walt Disney</td>\n",
       "      <td>85</td>\n",
       "      <td>DIS</td>\n",
       "      <td>2014</td>\n",
       "    </tr>\n",
       "    <tr>\n",
       "      <th>3</th>\n",
       "      <td>Microsoft</td>\n",
       "      <td>41</td>\n",
       "      <td>MSFT</td>\n",
       "      <td>2014</td>\n",
       "    </tr>\n",
       "    <tr>\n",
       "      <th>4</th>\n",
       "      <td>Walmart</td>\n",
       "      <td>78</td>\n",
       "      <td>WMT</td>\n",
       "      <td>2014</td>\n",
       "    </tr>\n",
       "  </tbody>\n",
       "</table>\n",
       "</div>"
      ],
      "text/plain": [
       "            company  price ticker  Year\n",
       "0  American Express     95    AXP  2014\n",
       "1             Cisco     25   CSCO  2014\n",
       "2       Walt Disney     85    DIS  2014\n",
       "3         Microsoft     41   MSFT  2014\n",
       "4           Walmart     78    WMT  2014"
      ]
     },
     "execution_count": 42,
     "metadata": {},
     "output_type": "execute_result"
    }
   ],
   "source": [
    "del data['pricesquared']                  # Delete column 'pricesquared'\n",
    "data"
   ]
  },
  {
   "cell_type": "code",
   "execution_count": 43,
   "metadata": {
    "collapsed": false
   },
   "outputs": [
    {
     "data": {
      "text/html": [
       "<div>\n",
       "<table border=\"1\" class=\"dataframe\">\n",
       "  <thead>\n",
       "    <tr style=\"text-align: right;\">\n",
       "      <th></th>\n",
       "      <th>company</th>\n",
       "      <th>price</th>\n",
       "      <th>ticker</th>\n",
       "      <th>Year</th>\n",
       "      <th>pricesquared</th>\n",
       "    </tr>\n",
       "  </thead>\n",
       "  <tbody>\n",
       "    <tr>\n",
       "      <th>0</th>\n",
       "      <td>American Express</td>\n",
       "      <td>95</td>\n",
       "      <td>AXP</td>\n",
       "      <td>2014</td>\n",
       "      <td>NaN</td>\n",
       "    </tr>\n",
       "    <tr>\n",
       "      <th>1</th>\n",
       "      <td>Cisco</td>\n",
       "      <td>25</td>\n",
       "      <td>CSCO</td>\n",
       "      <td>2014</td>\n",
       "      <td>NaN</td>\n",
       "    </tr>\n",
       "    <tr>\n",
       "      <th>2</th>\n",
       "      <td>Walt Disney</td>\n",
       "      <td>85</td>\n",
       "      <td>DIS</td>\n",
       "      <td>2014</td>\n",
       "      <td>NaN</td>\n",
       "    </tr>\n",
       "    <tr>\n",
       "      <th>3</th>\n",
       "      <td>Microsoft</td>\n",
       "      <td>41</td>\n",
       "      <td>MSFT</td>\n",
       "      <td>2014</td>\n",
       "      <td>NaN</td>\n",
       "    </tr>\n",
       "    <tr>\n",
       "      <th>4</th>\n",
       "      <td>Walmart</td>\n",
       "      <td>78</td>\n",
       "      <td>WMT</td>\n",
       "      <td>2014</td>\n",
       "      <td>NaN</td>\n",
       "    </tr>\n",
       "  </tbody>\n",
       "</table>\n",
       "</div>"
      ],
      "text/plain": [
       "            company  price ticker  Year  pricesquared\n",
       "0  American Express     95    AXP  2014           NaN\n",
       "1             Cisco     25   CSCO  2014           NaN\n",
       "2       Walt Disney     85    DIS  2014           NaN\n",
       "3         Microsoft     41   MSFT  2014           NaN\n",
       "4           Walmart     78    WMT  2014           NaN"
      ]
     },
     "execution_count": 43,
     "metadata": {},
     "output_type": "execute_result"
    }
   ],
   "source": [
    "data['pricesquared'] = np.NaN             # Create column 'pricesquared' with NaN values\n",
    "data"
   ]
  },
  {
   "cell_type": "code",
   "execution_count": 44,
   "metadata": {
    "collapsed": false
   },
   "outputs": [
    {
     "data": {
      "text/html": [
       "<div>\n",
       "<table border=\"1\" class=\"dataframe\">\n",
       "  <thead>\n",
       "    <tr style=\"text-align: right;\">\n",
       "      <th></th>\n",
       "      <th>company</th>\n",
       "      <th>price</th>\n",
       "      <th>ticker</th>\n",
       "      <th>Year</th>\n",
       "      <th>pricesquared</th>\n",
       "      <th>sequence</th>\n",
       "    </tr>\n",
       "  </thead>\n",
       "  <tbody>\n",
       "    <tr>\n",
       "      <th>0</th>\n",
       "      <td>American Express</td>\n",
       "      <td>95</td>\n",
       "      <td>AXP</td>\n",
       "      <td>2014</td>\n",
       "      <td>NaN</td>\n",
       "      <td>1</td>\n",
       "    </tr>\n",
       "    <tr>\n",
       "      <th>1</th>\n",
       "      <td>Cisco</td>\n",
       "      <td>25</td>\n",
       "      <td>CSCO</td>\n",
       "      <td>2014</td>\n",
       "      <td>NaN</td>\n",
       "      <td>2</td>\n",
       "    </tr>\n",
       "    <tr>\n",
       "      <th>2</th>\n",
       "      <td>Walt Disney</td>\n",
       "      <td>85</td>\n",
       "      <td>DIS</td>\n",
       "      <td>2014</td>\n",
       "      <td>NaN</td>\n",
       "      <td>3</td>\n",
       "    </tr>\n",
       "    <tr>\n",
       "      <th>3</th>\n",
       "      <td>Microsoft</td>\n",
       "      <td>41</td>\n",
       "      <td>MSFT</td>\n",
       "      <td>2014</td>\n",
       "      <td>NaN</td>\n",
       "      <td>4</td>\n",
       "    </tr>\n",
       "    <tr>\n",
       "      <th>4</th>\n",
       "      <td>Walmart</td>\n",
       "      <td>78</td>\n",
       "      <td>WMT</td>\n",
       "      <td>2014</td>\n",
       "      <td>NaN</td>\n",
       "      <td>5</td>\n",
       "    </tr>\n",
       "  </tbody>\n",
       "</table>\n",
       "</div>"
      ],
      "text/plain": [
       "            company  price ticker  Year  pricesquared  sequence\n",
       "0  American Express     95    AXP  2014           NaN         1\n",
       "1             Cisco     25   CSCO  2014           NaN         2\n",
       "2       Walt Disney     85    DIS  2014           NaN         3\n",
       "3         Microsoft     41   MSFT  2014           NaN         4\n",
       "4           Walmart     78    WMT  2014           NaN         5"
      ]
     },
     "execution_count": 44,
     "metadata": {},
     "output_type": "execute_result"
    }
   ],
   "source": [
    "data['sequence'] = np.arange(1,6)         # Add column 'sequence' and populate sequence of numbers from 1 to 5\n",
    "data"
   ]
  },
  {
   "cell_type": "code",
   "execution_count": 45,
   "metadata": {
    "collapsed": false
   },
   "outputs": [
    {
     "data": {
      "text/plain": [
       "array([['American Express', 95, 'AXP', 2014, nan, 1],\n",
       "       ['Cisco', 25, 'CSCO', 2014, nan, 2],\n",
       "       ['Walt Disney', 85, 'DIS', 2014, nan, 3],\n",
       "       ['Microsoft', 41, 'MSFT', 2014, nan, 4],\n",
       "       ['Walmart', 78, 'WMT', 2014, nan, 5]], dtype=object)"
      ]
     },
     "execution_count": 45,
     "metadata": {},
     "output_type": "execute_result"
    }
   ],
   "source": [
    "data.values                               # Get the values in a 2 dimensional form (without index)"
   ]
  },
  {
   "cell_type": "code",
   "execution_count": 46,
   "metadata": {
    "collapsed": false
   },
   "outputs": [
    {
     "data": {
      "text/html": [
       "<div>\n",
       "<table border=\"1\" class=\"dataframe\">\n",
       "  <thead>\n",
       "    <tr style=\"text-align: right;\">\n",
       "      <th></th>\n",
       "      <th>company</th>\n",
       "      <th>price</th>\n",
       "      <th>ticker</th>\n",
       "      <th>Year</th>\n",
       "      <th>pricesquared</th>\n",
       "      <th>sequence</th>\n",
       "    </tr>\n",
       "  </thead>\n",
       "  <tbody>\n",
       "    <tr>\n",
       "      <th>0</th>\n",
       "      <td>American Express</td>\n",
       "      <td>95</td>\n",
       "      <td>AXP</td>\n",
       "      <td>2014</td>\n",
       "      <td>NaN</td>\n",
       "      <td>1</td>\n",
       "    </tr>\n",
       "    <tr>\n",
       "      <th>1</th>\n",
       "      <td>Cisco</td>\n",
       "      <td>25</td>\n",
       "      <td>CSCO</td>\n",
       "      <td>2014</td>\n",
       "      <td>NaN</td>\n",
       "      <td>2</td>\n",
       "    </tr>\n",
       "    <tr>\n",
       "      <th>3</th>\n",
       "      <td>Microsoft</td>\n",
       "      <td>41</td>\n",
       "      <td>MSFT</td>\n",
       "      <td>2014</td>\n",
       "      <td>NaN</td>\n",
       "      <td>4</td>\n",
       "    </tr>\n",
       "    <tr>\n",
       "      <th>4</th>\n",
       "      <td>Walmart</td>\n",
       "      <td>78</td>\n",
       "      <td>WMT</td>\n",
       "      <td>2014</td>\n",
       "      <td>NaN</td>\n",
       "      <td>5</td>\n",
       "    </tr>\n",
       "  </tbody>\n",
       "</table>\n",
       "</div>"
      ],
      "text/plain": [
       "            company  price ticker  Year  pricesquared  sequence\n",
       "0  American Express     95    AXP  2014           NaN         1\n",
       "1             Cisco     25   CSCO  2014           NaN         2\n",
       "3         Microsoft     41   MSFT  2014           NaN         4\n",
       "4           Walmart     78    WMT  2014           NaN         5"
      ]
     },
     "execution_count": 46,
     "metadata": {},
     "output_type": "execute_result"
    }
   ],
   "source": [
    "newdata = data.drop(2)                    # Delete data at index 2\n",
    "newdata"
   ]
  },
  {
   "cell_type": "code",
   "execution_count": 47,
   "metadata": {
    "collapsed": false
   },
   "outputs": [
    {
     "name": "stdout",
     "output_type": "stream",
     "text": [
      "-------------Firm 1------------\n",
      "90     8\n",
      "91     9\n",
      "92     7\n",
      "93     8\n",
      "94     9\n",
      "95    11\n",
      "dtype: int64\n",
      "-------------Firm 2------------\n",
      "90    14.0\n",
      "91     NaN\n",
      "92     9.0\n",
      "93    13.0\n",
      "94     5.0\n",
      "95     NaN\n",
      "dtype: float64\n",
      "-------------Firm 3------------\n",
      "90     NaN\n",
      "91     NaN\n",
      "92     NaN\n",
      "93    10.0\n",
      "94    12.0\n",
      "95    13.0\n",
      "dtype: float64\n",
      "-------------Create empty dataframe------------\n",
      "   Firm1 Firm2 Firm3\n",
      "90   NaN   NaN   NaN\n",
      "91   NaN   NaN   NaN\n",
      "92   NaN   NaN   NaN\n",
      "93   NaN   NaN   NaN\n",
      "94   NaN   NaN   NaN\n",
      "95   NaN   NaN   NaN\n",
      "-------------Populate the dataframe------------\n",
      "    Firm1  Firm2  Firm3\n",
      "90      8   14.0    NaN\n",
      "91      9    NaN    NaN\n",
      "92      7    9.0    NaN\n",
      "93      8   13.0   10.0\n",
      "94      9    5.0   12.0\n",
      "95     11    NaN   13.0\n"
     ]
    }
   ],
   "source": [
    "years = [90, 91, 92, 93, 94, 95]\n",
    "print('-------------Firm 1------------')\n",
    "f1 = {90:8, 91:9, 92:7, 93:8, 94:9, 95:11}\n",
    "firm1 = pd.Series(f1,index=years)\n",
    "print(firm1)\n",
    "print('-------------Firm 2------------')\n",
    "f2 = {90:14,92:9, 93:13, 94:5}\n",
    "firm2 = pd.Series(f2,index=years)\n",
    "print(firm2)\n",
    "print('-------------Firm 3------------')\n",
    "f3 = {93:10, 94:12, 95: 13}\n",
    "firm3 = pd.Series(f3,index=years)\n",
    "print(firm3)\n",
    "print('-------------Create empty dataframe------------')\n",
    "df1 = pd.DataFrame(columns=['Firm1','Firm2','Firm3'],index=years)    # Convert the 3 series to a DataFrame with 'years' as Index\n",
    "print(df1)\n",
    "print('-------------Populate the dataframe------------')\n",
    "df1.Firm1 = firm1\n",
    "df1.Firm2 = firm2\n",
    "df1.Firm3 = firm3\n",
    "print(df1)\n"
   ]
  },
  {
   "cell_type": "code",
   "execution_count": 48,
   "metadata": {
    "collapsed": false
   },
   "outputs": [
    {
     "name": "stdout",
     "output_type": "stream",
     "text": [
      "         90   91   92    93    94    95\n",
      "Firm1   8.0  9.0  7.0   8.0   9.0  11.0\n",
      "Firm2  14.0  NaN  9.0  13.0   5.0   NaN\n",
      "Firm3   NaN  NaN  NaN  10.0  12.0  13.0\n",
      "-----------------Delete Column = 90--------------------------\n",
      "        91   92    93    94    95\n",
      "Firm1  9.0  7.0   8.0   9.0  11.0\n",
      "Firm2  NaN  9.0  13.0   5.0   NaN\n",
      "Firm3  NaN  NaN  10.0  12.0  13.0\n"
     ]
    }
   ],
   "source": [
    "dft = df1.T         # Transpose the table\n",
    "print(dft)\n",
    "print('-----------------Delete Column = 90--------------------------')\n",
    "del dft[90]\n",
    "print(dft)\n"
   ]
  },
  {
   "cell_type": "markdown",
   "metadata": {},
   "source": [
    "You can pass a number of data structures to DataFrame such as a <b>ndarray, lists, dict, Series, and another DataFrame</b>. You can also <b>reindex</b> to confirm to data to a new index. Reindexing is a powerful feature that <b>allows you to access data in a number of different ways</b>, and also to confirm data to some new time series or other index."
   ]
  },
  {
   "cell_type": "code",
   "execution_count": 49,
   "metadata": {
    "collapsed": false
   },
   "outputs": [
    {
     "data": {
      "text/html": [
       "<div>\n",
       "<table border=\"1\" class=\"dataframe\">\n",
       "  <thead>\n",
       "    <tr style=\"text-align: right;\">\n",
       "      <th></th>\n",
       "      <th>Firm1</th>\n",
       "      <th>Firm2</th>\n",
       "      <th>Firm3</th>\n",
       "    </tr>\n",
       "  </thead>\n",
       "  <tbody>\n",
       "    <tr>\n",
       "      <th>88</th>\n",
       "      <td>NaN</td>\n",
       "      <td>NaN</td>\n",
       "      <td>NaN</td>\n",
       "    </tr>\n",
       "    <tr>\n",
       "      <th>89</th>\n",
       "      <td>NaN</td>\n",
       "      <td>NaN</td>\n",
       "      <td>NaN</td>\n",
       "    </tr>\n",
       "    <tr>\n",
       "      <th>90</th>\n",
       "      <td>8.0</td>\n",
       "      <td>14.0</td>\n",
       "      <td>NaN</td>\n",
       "    </tr>\n",
       "    <tr>\n",
       "      <th>91</th>\n",
       "      <td>9.0</td>\n",
       "      <td>NaN</td>\n",
       "      <td>NaN</td>\n",
       "    </tr>\n",
       "    <tr>\n",
       "      <th>92</th>\n",
       "      <td>7.0</td>\n",
       "      <td>9.0</td>\n",
       "      <td>NaN</td>\n",
       "    </tr>\n",
       "    <tr>\n",
       "      <th>93</th>\n",
       "      <td>8.0</td>\n",
       "      <td>13.0</td>\n",
       "      <td>10.0</td>\n",
       "    </tr>\n",
       "    <tr>\n",
       "      <th>94</th>\n",
       "      <td>9.0</td>\n",
       "      <td>5.0</td>\n",
       "      <td>12.0</td>\n",
       "    </tr>\n",
       "    <tr>\n",
       "      <th>95</th>\n",
       "      <td>11.0</td>\n",
       "      <td>NaN</td>\n",
       "      <td>13.0</td>\n",
       "    </tr>\n",
       "    <tr>\n",
       "      <th>96</th>\n",
       "      <td>NaN</td>\n",
       "      <td>NaN</td>\n",
       "      <td>NaN</td>\n",
       "    </tr>\n",
       "    <tr>\n",
       "      <th>97</th>\n",
       "      <td>NaN</td>\n",
       "      <td>NaN</td>\n",
       "      <td>NaN</td>\n",
       "    </tr>\n",
       "    <tr>\n",
       "      <th>98</th>\n",
       "      <td>NaN</td>\n",
       "      <td>NaN</td>\n",
       "      <td>NaN</td>\n",
       "    </tr>\n",
       "  </tbody>\n",
       "</table>\n",
       "</div>"
      ],
      "text/plain": [
       "    Firm1  Firm2  Firm3\n",
       "88    NaN    NaN    NaN\n",
       "89    NaN    NaN    NaN\n",
       "90    8.0   14.0    NaN\n",
       "91    9.0    NaN    NaN\n",
       "92    7.0    9.0    NaN\n",
       "93    8.0   13.0   10.0\n",
       "94    9.0    5.0   12.0\n",
       "95   11.0    NaN   13.0\n",
       "96    NaN    NaN    NaN\n",
       "97    NaN    NaN    NaN\n",
       "98    NaN    NaN    NaN"
      ]
     },
     "execution_count": 49,
     "metadata": {},
     "output_type": "execute_result"
    }
   ],
   "source": [
    "reindexdf1 = df1.reindex([88,89,90,91,92,93,94,95,96,97,98])     # No data from 88-89 & from 96-98\n",
    "reindexdf1"
   ]
  },
  {
   "cell_type": "code",
   "execution_count": 50,
   "metadata": {
    "collapsed": false
   },
   "outputs": [
    {
     "name": "stdout",
     "output_type": "stream",
     "text": [
      "    Firm1  Firm2  Firm3\n",
      "90      8   14.0    NaN\n",
      "91      9    NaN    NaN\n",
      "92      7    9.0    NaN\n",
      "93      8   13.0   10.0\n",
      "94      9    5.0   12.0\n",
      "95     11    NaN   13.0\n"
     ]
    },
    {
     "data": {
      "text/html": [
       "<div>\n",
       "<table border=\"1\" class=\"dataframe\">\n",
       "  <thead>\n",
       "    <tr style=\"text-align: right;\">\n",
       "      <th></th>\n",
       "      <th>Firm1</th>\n",
       "      <th>Firm2</th>\n",
       "      <th>Firm3</th>\n",
       "    </tr>\n",
       "  </thead>\n",
       "  <tbody>\n",
       "    <tr>\n",
       "      <th>1988</th>\n",
       "      <td>NaN</td>\n",
       "      <td>NaN</td>\n",
       "      <td>NaN</td>\n",
       "    </tr>\n",
       "    <tr>\n",
       "      <th>1989</th>\n",
       "      <td>NaN</td>\n",
       "      <td>NaN</td>\n",
       "      <td>NaN</td>\n",
       "    </tr>\n",
       "    <tr>\n",
       "      <th>1990</th>\n",
       "      <td>NaN</td>\n",
       "      <td>NaN</td>\n",
       "      <td>NaN</td>\n",
       "    </tr>\n",
       "    <tr>\n",
       "      <th>1991</th>\n",
       "      <td>NaN</td>\n",
       "      <td>NaN</td>\n",
       "      <td>NaN</td>\n",
       "    </tr>\n",
       "    <tr>\n",
       "      <th>1992</th>\n",
       "      <td>NaN</td>\n",
       "      <td>NaN</td>\n",
       "      <td>NaN</td>\n",
       "    </tr>\n",
       "    <tr>\n",
       "      <th>1993</th>\n",
       "      <td>NaN</td>\n",
       "      <td>NaN</td>\n",
       "      <td>NaN</td>\n",
       "    </tr>\n",
       "    <tr>\n",
       "      <th>1994</th>\n",
       "      <td>NaN</td>\n",
       "      <td>NaN</td>\n",
       "      <td>NaN</td>\n",
       "    </tr>\n",
       "    <tr>\n",
       "      <th>1995</th>\n",
       "      <td>NaN</td>\n",
       "      <td>NaN</td>\n",
       "      <td>NaN</td>\n",
       "    </tr>\n",
       "    <tr>\n",
       "      <th>1996</th>\n",
       "      <td>NaN</td>\n",
       "      <td>NaN</td>\n",
       "      <td>NaN</td>\n",
       "    </tr>\n",
       "    <tr>\n",
       "      <th>1997</th>\n",
       "      <td>NaN</td>\n",
       "      <td>NaN</td>\n",
       "      <td>NaN</td>\n",
       "    </tr>\n",
       "    <tr>\n",
       "      <th>1998</th>\n",
       "      <td>NaN</td>\n",
       "      <td>NaN</td>\n",
       "      <td>NaN</td>\n",
       "    </tr>\n",
       "    <tr>\n",
       "      <th>1999</th>\n",
       "      <td>NaN</td>\n",
       "      <td>NaN</td>\n",
       "      <td>NaN</td>\n",
       "    </tr>\n",
       "    <tr>\n",
       "      <th>2000</th>\n",
       "      <td>NaN</td>\n",
       "      <td>NaN</td>\n",
       "      <td>NaN</td>\n",
       "    </tr>\n",
       "    <tr>\n",
       "      <th>2001</th>\n",
       "      <td>NaN</td>\n",
       "      <td>NaN</td>\n",
       "      <td>NaN</td>\n",
       "    </tr>\n",
       "    <tr>\n",
       "      <th>2002</th>\n",
       "      <td>NaN</td>\n",
       "      <td>NaN</td>\n",
       "      <td>NaN</td>\n",
       "    </tr>\n",
       "    <tr>\n",
       "      <th>2003</th>\n",
       "      <td>NaN</td>\n",
       "      <td>NaN</td>\n",
       "      <td>NaN</td>\n",
       "    </tr>\n",
       "    <tr>\n",
       "      <th>2004</th>\n",
       "      <td>NaN</td>\n",
       "      <td>NaN</td>\n",
       "      <td>NaN</td>\n",
       "    </tr>\n",
       "    <tr>\n",
       "      <th>2005</th>\n",
       "      <td>NaN</td>\n",
       "      <td>NaN</td>\n",
       "      <td>NaN</td>\n",
       "    </tr>\n",
       "    <tr>\n",
       "      <th>2006</th>\n",
       "      <td>NaN</td>\n",
       "      <td>NaN</td>\n",
       "      <td>NaN</td>\n",
       "    </tr>\n",
       "    <tr>\n",
       "      <th>2007</th>\n",
       "      <td>NaN</td>\n",
       "      <td>NaN</td>\n",
       "      <td>NaN</td>\n",
       "    </tr>\n",
       "  </tbody>\n",
       "</table>\n",
       "</div>"
      ],
      "text/plain": [
       "      Firm1  Firm2  Firm3\n",
       "1988    NaN    NaN    NaN\n",
       "1989    NaN    NaN    NaN\n",
       "1990    NaN    NaN    NaN\n",
       "1991    NaN    NaN    NaN\n",
       "1992    NaN    NaN    NaN\n",
       "1993    NaN    NaN    NaN\n",
       "1994    NaN    NaN    NaN\n",
       "1995    NaN    NaN    NaN\n",
       "1996    NaN    NaN    NaN\n",
       "1997    NaN    NaN    NaN\n",
       "1998    NaN    NaN    NaN\n",
       "1999    NaN    NaN    NaN\n",
       "2000    NaN    NaN    NaN\n",
       "2001    NaN    NaN    NaN\n",
       "2002    NaN    NaN    NaN\n",
       "2003    NaN    NaN    NaN\n",
       "2004    NaN    NaN    NaN\n",
       "2005    NaN    NaN    NaN\n",
       "2006    NaN    NaN    NaN\n",
       "2007    NaN    NaN    NaN"
      ]
     },
     "execution_count": 50,
     "metadata": {},
     "output_type": "execute_result"
    }
   ],
   "source": [
    "print(df1)                                                 # Year from 90 to 95                \n",
    "reindexdf1 = df1.reindex(np.arange(1988,2008))             # Make the years more meaningful. Then populate the values separately.\n",
    "reindexdf1"
   ]
  },
  {
   "cell_type": "code",
   "execution_count": 51,
   "metadata": {
    "collapsed": false
   },
   "outputs": [
    {
     "name": "stdout",
     "output_type": "stream",
     "text": [
      "-------------Firm 4------------\n",
      "90     8\n",
      "91     9\n",
      "92     7\n",
      "93     8\n",
      "94     9\n",
      "95    11\n",
      "dtype: int64\n",
      "-------------Firm 5------------\n",
      "90    14\n",
      "91    12\n",
      "92     9\n",
      "93    13\n",
      "94     5\n",
      "95     8\n",
      "dtype: int64\n",
      "-------------Firm 6------------\n",
      "90     8\n",
      "91     9\n",
      "92     9\n",
      "93    10\n",
      "94    12\n",
      "95    13\n",
      "dtype: int64\n",
      "-------------Create  empty Data Frame------------\n",
      "   Firm1 Firm2 Firm3\n",
      "90   NaN   NaN   NaN\n",
      "91   NaN   NaN   NaN\n",
      "92   NaN   NaN   NaN\n",
      "93   NaN   NaN   NaN\n",
      "94   NaN   NaN   NaN\n",
      "95   NaN   NaN   NaN\n",
      "-------------Assign values to the Data Frame------------\n",
      "    Firm1  Firm2  Firm3\n",
      "90      8     14      8\n",
      "91      9     12      9\n",
      "92      7      9      9\n",
      "93      8     13     10\n",
      "94      9      5     12\n",
      "95     11      8     13\n"
     ]
    }
   ],
   "source": [
    "years1 = [90, 91, 92, 93, 94, 95]\n",
    "print('-------------Firm 4------------')\n",
    "f4 = {90:8, 91:9, 92:7, 93:8, 94:9, 95:11}\n",
    "firm4 = pd.Series(f4,index=years)\n",
    "print(firm4)\n",
    "print('-------------Firm 5------------')\n",
    "f5 = {90:14,91:12, 92:9, 93:13, 94:5, 95:8}\n",
    "firm5 = pd.Series(f5,index=years)\n",
    "print(firm5)\n",
    "print('-------------Firm 6------------')\n",
    "f6 = {90:8, 91: 9, 92:9,93:10, 94:12, 95: 13}\n",
    "firm6 = pd.Series(f6,index=years)\n",
    "print(firm6)\n",
    "print('-------------Create  empty Data Frame------------')\n",
    "df2 = pd.DataFrame(columns=['Firm1','Firm2','Firm3'],index=years1)\n",
    "print(df2)\n",
    "print('-------------Assign values to the Data Frame------------')\n",
    "df2.Firm1 = firm4\n",
    "df2.Firm2 = firm5\n",
    "df2.Firm3 = firm6\n",
    "print(df2)\n"
   ]
  },
  {
   "cell_type": "code",
   "execution_count": 52,
   "metadata": {
    "collapsed": false
   },
   "outputs": [
    {
     "data": {
      "text/html": [
       "<div>\n",
       "<table border=\"1\" class=\"dataframe\">\n",
       "  <thead>\n",
       "    <tr style=\"text-align: right;\">\n",
       "      <th></th>\n",
       "      <th>Firm1</th>\n",
       "      <th>Firm2</th>\n",
       "      <th>Firm3</th>\n",
       "    </tr>\n",
       "  </thead>\n",
       "  <tbody>\n",
       "    <tr>\n",
       "      <th>88</th>\n",
       "      <td>0</td>\n",
       "      <td>0</td>\n",
       "      <td>0</td>\n",
       "    </tr>\n",
       "    <tr>\n",
       "      <th>89</th>\n",
       "      <td>0</td>\n",
       "      <td>0</td>\n",
       "      <td>0</td>\n",
       "    </tr>\n",
       "    <tr>\n",
       "      <th>90</th>\n",
       "      <td>8</td>\n",
       "      <td>14</td>\n",
       "      <td>8</td>\n",
       "    </tr>\n",
       "    <tr>\n",
       "      <th>91</th>\n",
       "      <td>9</td>\n",
       "      <td>12</td>\n",
       "      <td>9</td>\n",
       "    </tr>\n",
       "    <tr>\n",
       "      <th>92</th>\n",
       "      <td>7</td>\n",
       "      <td>9</td>\n",
       "      <td>9</td>\n",
       "    </tr>\n",
       "    <tr>\n",
       "      <th>93</th>\n",
       "      <td>8</td>\n",
       "      <td>13</td>\n",
       "      <td>10</td>\n",
       "    </tr>\n",
       "    <tr>\n",
       "      <th>94</th>\n",
       "      <td>9</td>\n",
       "      <td>5</td>\n",
       "      <td>12</td>\n",
       "    </tr>\n",
       "    <tr>\n",
       "      <th>95</th>\n",
       "      <td>11</td>\n",
       "      <td>8</td>\n",
       "      <td>13</td>\n",
       "    </tr>\n",
       "    <tr>\n",
       "      <th>96</th>\n",
       "      <td>0</td>\n",
       "      <td>0</td>\n",
       "      <td>0</td>\n",
       "    </tr>\n",
       "    <tr>\n",
       "      <th>97</th>\n",
       "      <td>0</td>\n",
       "      <td>0</td>\n",
       "      <td>0</td>\n",
       "    </tr>\n",
       "    <tr>\n",
       "      <th>98</th>\n",
       "      <td>0</td>\n",
       "      <td>0</td>\n",
       "      <td>0</td>\n",
       "    </tr>\n",
       "  </tbody>\n",
       "</table>\n",
       "</div>"
      ],
      "text/plain": [
       "    Firm1  Firm2  Firm3\n",
       "88      0      0      0\n",
       "89      0      0      0\n",
       "90      8     14      8\n",
       "91      9     12      9\n",
       "92      7      9      9\n",
       "93      8     13     10\n",
       "94      9      5     12\n",
       "95     11      8     13\n",
       "96      0      0      0\n",
       "97      0      0      0\n",
       "98      0      0      0"
      ]
     },
     "execution_count": 52,
     "metadata": {},
     "output_type": "execute_result"
    }
   ],
   "source": [
    "reindexdf2 = df2.reindex([88,89,90,91,92,93,94,95,96,97,98], fill_value=0)             # Fill row values with 0\n",
    "reindexdf2"
   ]
  },
  {
   "cell_type": "markdown",
   "metadata": {},
   "source": [
    "Similarly, you have backfill (bfill) method to fill values backwards."
   ]
  },
  {
   "cell_type": "code",
   "execution_count": 53,
   "metadata": {
    "collapsed": false
   },
   "outputs": [
    {
     "data": {
      "text/html": [
       "<div>\n",
       "<table border=\"1\" class=\"dataframe\">\n",
       "  <thead>\n",
       "    <tr style=\"text-align: right;\">\n",
       "      <th></th>\n",
       "      <th>Firm1</th>\n",
       "      <th>Firm2</th>\n",
       "      <th>Firm3</th>\n",
       "    </tr>\n",
       "  </thead>\n",
       "  <tbody>\n",
       "    <tr>\n",
       "      <th>88</th>\n",
       "      <td>NaN</td>\n",
       "      <td>NaN</td>\n",
       "      <td>NaN</td>\n",
       "    </tr>\n",
       "    <tr>\n",
       "      <th>89</th>\n",
       "      <td>NaN</td>\n",
       "      <td>NaN</td>\n",
       "      <td>NaN</td>\n",
       "    </tr>\n",
       "    <tr>\n",
       "      <th>90</th>\n",
       "      <td>8.0</td>\n",
       "      <td>14.0</td>\n",
       "      <td>8.0</td>\n",
       "    </tr>\n",
       "    <tr>\n",
       "      <th>91</th>\n",
       "      <td>9.0</td>\n",
       "      <td>12.0</td>\n",
       "      <td>9.0</td>\n",
       "    </tr>\n",
       "    <tr>\n",
       "      <th>92</th>\n",
       "      <td>7.0</td>\n",
       "      <td>9.0</td>\n",
       "      <td>9.0</td>\n",
       "    </tr>\n",
       "    <tr>\n",
       "      <th>93</th>\n",
       "      <td>8.0</td>\n",
       "      <td>13.0</td>\n",
       "      <td>10.0</td>\n",
       "    </tr>\n",
       "    <tr>\n",
       "      <th>94</th>\n",
       "      <td>9.0</td>\n",
       "      <td>5.0</td>\n",
       "      <td>12.0</td>\n",
       "    </tr>\n",
       "    <tr>\n",
       "      <th>95</th>\n",
       "      <td>11.0</td>\n",
       "      <td>8.0</td>\n",
       "      <td>13.0</td>\n",
       "    </tr>\n",
       "    <tr>\n",
       "      <th>96</th>\n",
       "      <td>11.0</td>\n",
       "      <td>8.0</td>\n",
       "      <td>13.0</td>\n",
       "    </tr>\n",
       "    <tr>\n",
       "      <th>97</th>\n",
       "      <td>11.0</td>\n",
       "      <td>8.0</td>\n",
       "      <td>13.0</td>\n",
       "    </tr>\n",
       "    <tr>\n",
       "      <th>98</th>\n",
       "      <td>11.0</td>\n",
       "      <td>8.0</td>\n",
       "      <td>13.0</td>\n",
       "    </tr>\n",
       "  </tbody>\n",
       "</table>\n",
       "</div>"
      ],
      "text/plain": [
       "    Firm1  Firm2  Firm3\n",
       "88    NaN    NaN    NaN\n",
       "89    NaN    NaN    NaN\n",
       "90    8.0   14.0    8.0\n",
       "91    9.0   12.0    9.0\n",
       "92    7.0    9.0    9.0\n",
       "93    8.0   13.0   10.0\n",
       "94    9.0    5.0   12.0\n",
       "95   11.0    8.0   13.0\n",
       "96   11.0    8.0   13.0\n",
       "97   11.0    8.0   13.0\n",
       "98   11.0    8.0   13.0"
      ]
     },
     "execution_count": 53,
     "metadata": {},
     "output_type": "execute_result"
    }
   ],
   "source": [
    "reindexdf3 = df2.reindex([88,89,90,91,92,93,94,95,96,97,98], method='ffill') # Forwrd fill the last non-empty row to the left over\n",
    "reindexdf3"
   ]
  },
  {
   "cell_type": "code",
   "execution_count": 54,
   "metadata": {
    "collapsed": false
   },
   "outputs": [
    {
     "data": {
      "text/html": [
       "<div>\n",
       "<table border=\"1\" class=\"dataframe\">\n",
       "  <thead>\n",
       "    <tr style=\"text-align: right;\">\n",
       "      <th></th>\n",
       "      <th>Firm1</th>\n",
       "      <th>Firm2</th>\n",
       "      <th>Firm3</th>\n",
       "    </tr>\n",
       "  </thead>\n",
       "  <tbody>\n",
       "    <tr>\n",
       "      <th>1988</th>\n",
       "      <td>NaN</td>\n",
       "      <td>NaN</td>\n",
       "      <td>NaN</td>\n",
       "    </tr>\n",
       "    <tr>\n",
       "      <th>1989</th>\n",
       "      <td>NaN</td>\n",
       "      <td>NaN</td>\n",
       "      <td>NaN</td>\n",
       "    </tr>\n",
       "    <tr>\n",
       "      <th>1990</th>\n",
       "      <td>NaN</td>\n",
       "      <td>NaN</td>\n",
       "      <td>NaN</td>\n",
       "    </tr>\n",
       "    <tr>\n",
       "      <th>1991</th>\n",
       "      <td>NaN</td>\n",
       "      <td>NaN</td>\n",
       "      <td>NaN</td>\n",
       "    </tr>\n",
       "    <tr>\n",
       "      <th>1992</th>\n",
       "      <td>NaN</td>\n",
       "      <td>NaN</td>\n",
       "      <td>NaN</td>\n",
       "    </tr>\n",
       "    <tr>\n",
       "      <th>1993</th>\n",
       "      <td>NaN</td>\n",
       "      <td>NaN</td>\n",
       "      <td>NaN</td>\n",
       "    </tr>\n",
       "    <tr>\n",
       "      <th>1994</th>\n",
       "      <td>NaN</td>\n",
       "      <td>NaN</td>\n",
       "      <td>NaN</td>\n",
       "    </tr>\n",
       "    <tr>\n",
       "      <th>1995</th>\n",
       "      <td>NaN</td>\n",
       "      <td>NaN</td>\n",
       "      <td>NaN</td>\n",
       "    </tr>\n",
       "    <tr>\n",
       "      <th>1996</th>\n",
       "      <td>NaN</td>\n",
       "      <td>NaN</td>\n",
       "      <td>NaN</td>\n",
       "    </tr>\n",
       "    <tr>\n",
       "      <th>1997</th>\n",
       "      <td>NaN</td>\n",
       "      <td>NaN</td>\n",
       "      <td>NaN</td>\n",
       "    </tr>\n",
       "    <tr>\n",
       "      <th>1998</th>\n",
       "      <td>NaN</td>\n",
       "      <td>NaN</td>\n",
       "      <td>NaN</td>\n",
       "    </tr>\n",
       "    <tr>\n",
       "      <th>1999</th>\n",
       "      <td>NaN</td>\n",
       "      <td>NaN</td>\n",
       "      <td>NaN</td>\n",
       "    </tr>\n",
       "    <tr>\n",
       "      <th>2000</th>\n",
       "      <td>NaN</td>\n",
       "      <td>NaN</td>\n",
       "      <td>NaN</td>\n",
       "    </tr>\n",
       "    <tr>\n",
       "      <th>2001</th>\n",
       "      <td>NaN</td>\n",
       "      <td>NaN</td>\n",
       "      <td>NaN</td>\n",
       "    </tr>\n",
       "    <tr>\n",
       "      <th>2002</th>\n",
       "      <td>NaN</td>\n",
       "      <td>NaN</td>\n",
       "      <td>NaN</td>\n",
       "    </tr>\n",
       "    <tr>\n",
       "      <th>2003</th>\n",
       "      <td>NaN</td>\n",
       "      <td>NaN</td>\n",
       "      <td>NaN</td>\n",
       "    </tr>\n",
       "    <tr>\n",
       "      <th>2004</th>\n",
       "      <td>NaN</td>\n",
       "      <td>NaN</td>\n",
       "      <td>NaN</td>\n",
       "    </tr>\n",
       "    <tr>\n",
       "      <th>2005</th>\n",
       "      <td>NaN</td>\n",
       "      <td>NaN</td>\n",
       "      <td>NaN</td>\n",
       "    </tr>\n",
       "    <tr>\n",
       "      <th>2006</th>\n",
       "      <td>NaN</td>\n",
       "      <td>NaN</td>\n",
       "      <td>NaN</td>\n",
       "    </tr>\n",
       "    <tr>\n",
       "      <th>2007</th>\n",
       "      <td>NaN</td>\n",
       "      <td>NaN</td>\n",
       "      <td>NaN</td>\n",
       "    </tr>\n",
       "  </tbody>\n",
       "</table>\n",
       "</div>"
      ],
      "text/plain": [
       "      Firm1  Firm2  Firm3\n",
       "1988    NaN    NaN    NaN\n",
       "1989    NaN    NaN    NaN\n",
       "1990    NaN    NaN    NaN\n",
       "1991    NaN    NaN    NaN\n",
       "1992    NaN    NaN    NaN\n",
       "1993    NaN    NaN    NaN\n",
       "1994    NaN    NaN    NaN\n",
       "1995    NaN    NaN    NaN\n",
       "1996    NaN    NaN    NaN\n",
       "1997    NaN    NaN    NaN\n",
       "1998    NaN    NaN    NaN\n",
       "1999    NaN    NaN    NaN\n",
       "2000    NaN    NaN    NaN\n",
       "2001    NaN    NaN    NaN\n",
       "2002    NaN    NaN    NaN\n",
       "2003    NaN    NaN    NaN\n",
       "2004    NaN    NaN    NaN\n",
       "2005    NaN    NaN    NaN\n",
       "2006    NaN    NaN    NaN\n",
       "2007    NaN    NaN    NaN"
      ]
     },
     "execution_count": 54,
     "metadata": {},
     "output_type": "execute_result"
    }
   ],
   "source": [
    "reindexdf1"
   ]
  },
  {
   "cell_type": "code",
   "execution_count": 55,
   "metadata": {
    "collapsed": false
   },
   "outputs": [
    {
     "data": {
      "text/html": [
       "<div>\n",
       "<table border=\"1\" class=\"dataframe\">\n",
       "  <thead>\n",
       "    <tr style=\"text-align: right;\">\n",
       "      <th></th>\n",
       "      <th>Firm1</th>\n",
       "      <th>Firm2</th>\n",
       "      <th>Firm3</th>\n",
       "    </tr>\n",
       "  </thead>\n",
       "  <tbody>\n",
       "    <tr>\n",
       "      <th>88</th>\n",
       "      <td>NaN</td>\n",
       "      <td>NaN</td>\n",
       "      <td>NaN</td>\n",
       "    </tr>\n",
       "    <tr>\n",
       "      <th>89</th>\n",
       "      <td>NaN</td>\n",
       "      <td>NaN</td>\n",
       "      <td>NaN</td>\n",
       "    </tr>\n",
       "    <tr>\n",
       "      <th>90</th>\n",
       "      <td>8.0</td>\n",
       "      <td>14.0</td>\n",
       "      <td>8.0</td>\n",
       "    </tr>\n",
       "    <tr>\n",
       "      <th>91</th>\n",
       "      <td>9.0</td>\n",
       "      <td>12.0</td>\n",
       "      <td>9.0</td>\n",
       "    </tr>\n",
       "    <tr>\n",
       "      <th>92</th>\n",
       "      <td>7.0</td>\n",
       "      <td>9.0</td>\n",
       "      <td>9.0</td>\n",
       "    </tr>\n",
       "    <tr>\n",
       "      <th>93</th>\n",
       "      <td>8.0</td>\n",
       "      <td>13.0</td>\n",
       "      <td>10.0</td>\n",
       "    </tr>\n",
       "    <tr>\n",
       "      <th>94</th>\n",
       "      <td>9.0</td>\n",
       "      <td>5.0</td>\n",
       "      <td>12.0</td>\n",
       "    </tr>\n",
       "    <tr>\n",
       "      <th>95</th>\n",
       "      <td>11.0</td>\n",
       "      <td>8.0</td>\n",
       "      <td>13.0</td>\n",
       "    </tr>\n",
       "    <tr>\n",
       "      <th>96</th>\n",
       "      <td>11.0</td>\n",
       "      <td>8.0</td>\n",
       "      <td>13.0</td>\n",
       "    </tr>\n",
       "    <tr>\n",
       "      <th>97</th>\n",
       "      <td>11.0</td>\n",
       "      <td>8.0</td>\n",
       "      <td>13.0</td>\n",
       "    </tr>\n",
       "    <tr>\n",
       "      <th>98</th>\n",
       "      <td>11.0</td>\n",
       "      <td>8.0</td>\n",
       "      <td>13.0</td>\n",
       "    </tr>\n",
       "  </tbody>\n",
       "</table>\n",
       "</div>"
      ],
      "text/plain": [
       "    Firm1  Firm2  Firm3\n",
       "88    NaN    NaN    NaN\n",
       "89    NaN    NaN    NaN\n",
       "90    8.0   14.0    8.0\n",
       "91    9.0   12.0    9.0\n",
       "92    7.0    9.0    9.0\n",
       "93    8.0   13.0   10.0\n",
       "94    9.0    5.0   12.0\n",
       "95   11.0    8.0   13.0\n",
       "96   11.0    8.0   13.0\n",
       "97   11.0    8.0   13.0\n",
       "98   11.0    8.0   13.0"
      ]
     },
     "execution_count": 55,
     "metadata": {},
     "output_type": "execute_result"
    }
   ],
   "source": [
    "reindexdf3"
   ]
  },
  {
   "cell_type": "code",
   "execution_count": 56,
   "metadata": {
    "collapsed": false
   },
   "outputs": [
    {
     "data": {
      "text/html": [
       "<div>\n",
       "<table border=\"1\" class=\"dataframe\">\n",
       "  <thead>\n",
       "    <tr style=\"text-align: right;\">\n",
       "      <th></th>\n",
       "      <th>Firm1</th>\n",
       "      <th>Firm2</th>\n",
       "      <th>Firm3</th>\n",
       "    </tr>\n",
       "  </thead>\n",
       "  <tbody>\n",
       "    <tr>\n",
       "      <th>88</th>\n",
       "      <td>NaN</td>\n",
       "      <td>NaN</td>\n",
       "      <td>NaN</td>\n",
       "    </tr>\n",
       "    <tr>\n",
       "      <th>89</th>\n",
       "      <td>NaN</td>\n",
       "      <td>NaN</td>\n",
       "      <td>NaN</td>\n",
       "    </tr>\n",
       "    <tr>\n",
       "      <th>90</th>\n",
       "      <td>NaN</td>\n",
       "      <td>NaN</td>\n",
       "      <td>NaN</td>\n",
       "    </tr>\n",
       "    <tr>\n",
       "      <th>91</th>\n",
       "      <td>NaN</td>\n",
       "      <td>NaN</td>\n",
       "      <td>NaN</td>\n",
       "    </tr>\n",
       "    <tr>\n",
       "      <th>92</th>\n",
       "      <td>NaN</td>\n",
       "      <td>NaN</td>\n",
       "      <td>NaN</td>\n",
       "    </tr>\n",
       "    <tr>\n",
       "      <th>93</th>\n",
       "      <td>NaN</td>\n",
       "      <td>NaN</td>\n",
       "      <td>NaN</td>\n",
       "    </tr>\n",
       "    <tr>\n",
       "      <th>94</th>\n",
       "      <td>NaN</td>\n",
       "      <td>NaN</td>\n",
       "      <td>NaN</td>\n",
       "    </tr>\n",
       "    <tr>\n",
       "      <th>95</th>\n",
       "      <td>NaN</td>\n",
       "      <td>NaN</td>\n",
       "      <td>NaN</td>\n",
       "    </tr>\n",
       "    <tr>\n",
       "      <th>96</th>\n",
       "      <td>NaN</td>\n",
       "      <td>NaN</td>\n",
       "      <td>NaN</td>\n",
       "    </tr>\n",
       "    <tr>\n",
       "      <th>97</th>\n",
       "      <td>NaN</td>\n",
       "      <td>NaN</td>\n",
       "      <td>NaN</td>\n",
       "    </tr>\n",
       "    <tr>\n",
       "      <th>98</th>\n",
       "      <td>NaN</td>\n",
       "      <td>NaN</td>\n",
       "      <td>NaN</td>\n",
       "    </tr>\n",
       "    <tr>\n",
       "      <th>1988</th>\n",
       "      <td>NaN</td>\n",
       "      <td>NaN</td>\n",
       "      <td>NaN</td>\n",
       "    </tr>\n",
       "    <tr>\n",
       "      <th>1989</th>\n",
       "      <td>NaN</td>\n",
       "      <td>NaN</td>\n",
       "      <td>NaN</td>\n",
       "    </tr>\n",
       "    <tr>\n",
       "      <th>1990</th>\n",
       "      <td>NaN</td>\n",
       "      <td>NaN</td>\n",
       "      <td>NaN</td>\n",
       "    </tr>\n",
       "    <tr>\n",
       "      <th>1991</th>\n",
       "      <td>NaN</td>\n",
       "      <td>NaN</td>\n",
       "      <td>NaN</td>\n",
       "    </tr>\n",
       "    <tr>\n",
       "      <th>1992</th>\n",
       "      <td>NaN</td>\n",
       "      <td>NaN</td>\n",
       "      <td>NaN</td>\n",
       "    </tr>\n",
       "    <tr>\n",
       "      <th>1993</th>\n",
       "      <td>NaN</td>\n",
       "      <td>NaN</td>\n",
       "      <td>NaN</td>\n",
       "    </tr>\n",
       "    <tr>\n",
       "      <th>1994</th>\n",
       "      <td>NaN</td>\n",
       "      <td>NaN</td>\n",
       "      <td>NaN</td>\n",
       "    </tr>\n",
       "    <tr>\n",
       "      <th>1995</th>\n",
       "      <td>NaN</td>\n",
       "      <td>NaN</td>\n",
       "      <td>NaN</td>\n",
       "    </tr>\n",
       "    <tr>\n",
       "      <th>1996</th>\n",
       "      <td>NaN</td>\n",
       "      <td>NaN</td>\n",
       "      <td>NaN</td>\n",
       "    </tr>\n",
       "    <tr>\n",
       "      <th>1997</th>\n",
       "      <td>NaN</td>\n",
       "      <td>NaN</td>\n",
       "      <td>NaN</td>\n",
       "    </tr>\n",
       "    <tr>\n",
       "      <th>1998</th>\n",
       "      <td>NaN</td>\n",
       "      <td>NaN</td>\n",
       "      <td>NaN</td>\n",
       "    </tr>\n",
       "    <tr>\n",
       "      <th>1999</th>\n",
       "      <td>NaN</td>\n",
       "      <td>NaN</td>\n",
       "      <td>NaN</td>\n",
       "    </tr>\n",
       "    <tr>\n",
       "      <th>2000</th>\n",
       "      <td>NaN</td>\n",
       "      <td>NaN</td>\n",
       "      <td>NaN</td>\n",
       "    </tr>\n",
       "    <tr>\n",
       "      <th>2001</th>\n",
       "      <td>NaN</td>\n",
       "      <td>NaN</td>\n",
       "      <td>NaN</td>\n",
       "    </tr>\n",
       "    <tr>\n",
       "      <th>2002</th>\n",
       "      <td>NaN</td>\n",
       "      <td>NaN</td>\n",
       "      <td>NaN</td>\n",
       "    </tr>\n",
       "    <tr>\n",
       "      <th>2003</th>\n",
       "      <td>NaN</td>\n",
       "      <td>NaN</td>\n",
       "      <td>NaN</td>\n",
       "    </tr>\n",
       "    <tr>\n",
       "      <th>2004</th>\n",
       "      <td>NaN</td>\n",
       "      <td>NaN</td>\n",
       "      <td>NaN</td>\n",
       "    </tr>\n",
       "    <tr>\n",
       "      <th>2005</th>\n",
       "      <td>NaN</td>\n",
       "      <td>NaN</td>\n",
       "      <td>NaN</td>\n",
       "    </tr>\n",
       "    <tr>\n",
       "      <th>2006</th>\n",
       "      <td>NaN</td>\n",
       "      <td>NaN</td>\n",
       "      <td>NaN</td>\n",
       "    </tr>\n",
       "    <tr>\n",
       "      <th>2007</th>\n",
       "      <td>NaN</td>\n",
       "      <td>NaN</td>\n",
       "      <td>NaN</td>\n",
       "    </tr>\n",
       "  </tbody>\n",
       "</table>\n",
       "</div>"
      ],
      "text/plain": [
       "      Firm1  Firm2  Firm3\n",
       "88      NaN    NaN    NaN\n",
       "89      NaN    NaN    NaN\n",
       "90      NaN    NaN    NaN\n",
       "91      NaN    NaN    NaN\n",
       "92      NaN    NaN    NaN\n",
       "93      NaN    NaN    NaN\n",
       "94      NaN    NaN    NaN\n",
       "95      NaN    NaN    NaN\n",
       "96      NaN    NaN    NaN\n",
       "97      NaN    NaN    NaN\n",
       "98      NaN    NaN    NaN\n",
       "1988    NaN    NaN    NaN\n",
       "1989    NaN    NaN    NaN\n",
       "1990    NaN    NaN    NaN\n",
       "1991    NaN    NaN    NaN\n",
       "1992    NaN    NaN    NaN\n",
       "1993    NaN    NaN    NaN\n",
       "1994    NaN    NaN    NaN\n",
       "1995    NaN    NaN    NaN\n",
       "1996    NaN    NaN    NaN\n",
       "1997    NaN    NaN    NaN\n",
       "1998    NaN    NaN    NaN\n",
       "1999    NaN    NaN    NaN\n",
       "2000    NaN    NaN    NaN\n",
       "2001    NaN    NaN    NaN\n",
       "2002    NaN    NaN    NaN\n",
       "2003    NaN    NaN    NaN\n",
       "2004    NaN    NaN    NaN\n",
       "2005    NaN    NaN    NaN\n",
       "2006    NaN    NaN    NaN\n",
       "2007    NaN    NaN    NaN"
      ]
     },
     "execution_count": 56,
     "metadata": {},
     "output_type": "execute_result"
    }
   ],
   "source": [
    "reindexdf1+reindexdf3"
   ]
  },
  {
   "cell_type": "code",
   "execution_count": 57,
   "metadata": {
    "collapsed": false
   },
   "outputs": [
    {
     "data": {
      "text/html": [
       "<div>\n",
       "<table border=\"1\" class=\"dataframe\">\n",
       "  <thead>\n",
       "    <tr style=\"text-align: right;\">\n",
       "      <th></th>\n",
       "      <th>Firm1</th>\n",
       "      <th>Firm2</th>\n",
       "      <th>Firm3</th>\n",
       "    </tr>\n",
       "  </thead>\n",
       "  <tbody>\n",
       "    <tr>\n",
       "      <th>88</th>\n",
       "      <td>NaN</td>\n",
       "      <td>NaN</td>\n",
       "      <td>NaN</td>\n",
       "    </tr>\n",
       "    <tr>\n",
       "      <th>89</th>\n",
       "      <td>NaN</td>\n",
       "      <td>NaN</td>\n",
       "      <td>NaN</td>\n",
       "    </tr>\n",
       "    <tr>\n",
       "      <th>90</th>\n",
       "      <td>8.0</td>\n",
       "      <td>14.0</td>\n",
       "      <td>8.0</td>\n",
       "    </tr>\n",
       "    <tr>\n",
       "      <th>91</th>\n",
       "      <td>9.0</td>\n",
       "      <td>12.0</td>\n",
       "      <td>9.0</td>\n",
       "    </tr>\n",
       "    <tr>\n",
       "      <th>92</th>\n",
       "      <td>7.0</td>\n",
       "      <td>9.0</td>\n",
       "      <td>9.0</td>\n",
       "    </tr>\n",
       "    <tr>\n",
       "      <th>93</th>\n",
       "      <td>8.0</td>\n",
       "      <td>13.0</td>\n",
       "      <td>10.0</td>\n",
       "    </tr>\n",
       "    <tr>\n",
       "      <th>94</th>\n",
       "      <td>9.0</td>\n",
       "      <td>5.0</td>\n",
       "      <td>12.0</td>\n",
       "    </tr>\n",
       "    <tr>\n",
       "      <th>95</th>\n",
       "      <td>11.0</td>\n",
       "      <td>8.0</td>\n",
       "      <td>13.0</td>\n",
       "    </tr>\n",
       "    <tr>\n",
       "      <th>96</th>\n",
       "      <td>11.0</td>\n",
       "      <td>8.0</td>\n",
       "      <td>13.0</td>\n",
       "    </tr>\n",
       "    <tr>\n",
       "      <th>97</th>\n",
       "      <td>11.0</td>\n",
       "      <td>8.0</td>\n",
       "      <td>13.0</td>\n",
       "    </tr>\n",
       "    <tr>\n",
       "      <th>98</th>\n",
       "      <td>11.0</td>\n",
       "      <td>8.0</td>\n",
       "      <td>13.0</td>\n",
       "    </tr>\n",
       "    <tr>\n",
       "      <th>1988</th>\n",
       "      <td>NaN</td>\n",
       "      <td>NaN</td>\n",
       "      <td>NaN</td>\n",
       "    </tr>\n",
       "    <tr>\n",
       "      <th>1989</th>\n",
       "      <td>NaN</td>\n",
       "      <td>NaN</td>\n",
       "      <td>NaN</td>\n",
       "    </tr>\n",
       "    <tr>\n",
       "      <th>1990</th>\n",
       "      <td>NaN</td>\n",
       "      <td>NaN</td>\n",
       "      <td>NaN</td>\n",
       "    </tr>\n",
       "    <tr>\n",
       "      <th>1991</th>\n",
       "      <td>NaN</td>\n",
       "      <td>NaN</td>\n",
       "      <td>NaN</td>\n",
       "    </tr>\n",
       "    <tr>\n",
       "      <th>1992</th>\n",
       "      <td>NaN</td>\n",
       "      <td>NaN</td>\n",
       "      <td>NaN</td>\n",
       "    </tr>\n",
       "    <tr>\n",
       "      <th>1993</th>\n",
       "      <td>NaN</td>\n",
       "      <td>NaN</td>\n",
       "      <td>NaN</td>\n",
       "    </tr>\n",
       "    <tr>\n",
       "      <th>1994</th>\n",
       "      <td>NaN</td>\n",
       "      <td>NaN</td>\n",
       "      <td>NaN</td>\n",
       "    </tr>\n",
       "    <tr>\n",
       "      <th>1995</th>\n",
       "      <td>NaN</td>\n",
       "      <td>NaN</td>\n",
       "      <td>NaN</td>\n",
       "    </tr>\n",
       "    <tr>\n",
       "      <th>1996</th>\n",
       "      <td>NaN</td>\n",
       "      <td>NaN</td>\n",
       "      <td>NaN</td>\n",
       "    </tr>\n",
       "    <tr>\n",
       "      <th>1997</th>\n",
       "      <td>NaN</td>\n",
       "      <td>NaN</td>\n",
       "      <td>NaN</td>\n",
       "    </tr>\n",
       "    <tr>\n",
       "      <th>1998</th>\n",
       "      <td>NaN</td>\n",
       "      <td>NaN</td>\n",
       "      <td>NaN</td>\n",
       "    </tr>\n",
       "    <tr>\n",
       "      <th>1999</th>\n",
       "      <td>NaN</td>\n",
       "      <td>NaN</td>\n",
       "      <td>NaN</td>\n",
       "    </tr>\n",
       "    <tr>\n",
       "      <th>2000</th>\n",
       "      <td>NaN</td>\n",
       "      <td>NaN</td>\n",
       "      <td>NaN</td>\n",
       "    </tr>\n",
       "    <tr>\n",
       "      <th>2001</th>\n",
       "      <td>NaN</td>\n",
       "      <td>NaN</td>\n",
       "      <td>NaN</td>\n",
       "    </tr>\n",
       "    <tr>\n",
       "      <th>2002</th>\n",
       "      <td>NaN</td>\n",
       "      <td>NaN</td>\n",
       "      <td>NaN</td>\n",
       "    </tr>\n",
       "    <tr>\n",
       "      <th>2003</th>\n",
       "      <td>NaN</td>\n",
       "      <td>NaN</td>\n",
       "      <td>NaN</td>\n",
       "    </tr>\n",
       "    <tr>\n",
       "      <th>2004</th>\n",
       "      <td>NaN</td>\n",
       "      <td>NaN</td>\n",
       "      <td>NaN</td>\n",
       "    </tr>\n",
       "    <tr>\n",
       "      <th>2005</th>\n",
       "      <td>NaN</td>\n",
       "      <td>NaN</td>\n",
       "      <td>NaN</td>\n",
       "    </tr>\n",
       "    <tr>\n",
       "      <th>2006</th>\n",
       "      <td>NaN</td>\n",
       "      <td>NaN</td>\n",
       "      <td>NaN</td>\n",
       "    </tr>\n",
       "    <tr>\n",
       "      <th>2007</th>\n",
       "      <td>NaN</td>\n",
       "      <td>NaN</td>\n",
       "      <td>NaN</td>\n",
       "    </tr>\n",
       "  </tbody>\n",
       "</table>\n",
       "</div>"
      ],
      "text/plain": [
       "      Firm1  Firm2  Firm3\n",
       "88      NaN    NaN    NaN\n",
       "89      NaN    NaN    NaN\n",
       "90      8.0   14.0    8.0\n",
       "91      9.0   12.0    9.0\n",
       "92      7.0    9.0    9.0\n",
       "93      8.0   13.0   10.0\n",
       "94      9.0    5.0   12.0\n",
       "95     11.0    8.0   13.0\n",
       "96     11.0    8.0   13.0\n",
       "97     11.0    8.0   13.0\n",
       "98     11.0    8.0   13.0\n",
       "1988    NaN    NaN    NaN\n",
       "1989    NaN    NaN    NaN\n",
       "1990    NaN    NaN    NaN\n",
       "1991    NaN    NaN    NaN\n",
       "1992    NaN    NaN    NaN\n",
       "1993    NaN    NaN    NaN\n",
       "1994    NaN    NaN    NaN\n",
       "1995    NaN    NaN    NaN\n",
       "1996    NaN    NaN    NaN\n",
       "1997    NaN    NaN    NaN\n",
       "1998    NaN    NaN    NaN\n",
       "1999    NaN    NaN    NaN\n",
       "2000    NaN    NaN    NaN\n",
       "2001    NaN    NaN    NaN\n",
       "2002    NaN    NaN    NaN\n",
       "2003    NaN    NaN    NaN\n",
       "2004    NaN    NaN    NaN\n",
       "2005    NaN    NaN    NaN\n",
       "2006    NaN    NaN    NaN\n",
       "2007    NaN    NaN    NaN"
      ]
     },
     "execution_count": 57,
     "metadata": {},
     "output_type": "execute_result"
    }
   ],
   "source": [
    "reindexdf1.add(reindexdf3, fill_value=0)                      # Replace values for non-existing element to 0 so as help sum up"
   ]
  },
  {
   "cell_type": "markdown",
   "metadata": {},
   "source": [
    "You can use NumPy functions inside DataFrame objects."
   ]
  },
  {
   "cell_type": "code",
   "execution_count": 58,
   "metadata": {
    "collapsed": false
   },
   "outputs": [
    {
     "data": {
      "text/html": [
       "<div>\n",
       "<table border=\"1\" class=\"dataframe\">\n",
       "  <thead>\n",
       "    <tr style=\"text-align: right;\">\n",
       "      <th></th>\n",
       "      <th>one</th>\n",
       "      <th>two</th>\n",
       "      <th>three</th>\n",
       "    </tr>\n",
       "  </thead>\n",
       "  <tbody>\n",
       "    <tr>\n",
       "      <th>0</th>\n",
       "      <td>0.337706</td>\n",
       "      <td>-0.097009</td>\n",
       "      <td>-0.127147</td>\n",
       "    </tr>\n",
       "    <tr>\n",
       "      <th>1</th>\n",
       "      <td>0.347090</td>\n",
       "      <td>0.933258</td>\n",
       "      <td>-0.675926</td>\n",
       "    </tr>\n",
       "    <tr>\n",
       "      <th>2</th>\n",
       "      <td>0.485641</td>\n",
       "      <td>1.374892</td>\n",
       "      <td>-2.357105</td>\n",
       "    </tr>\n",
       "  </tbody>\n",
       "</table>\n",
       "</div>"
      ],
      "text/plain": [
       "        one       two     three\n",
       "0  0.337706 -0.097009 -0.127147\n",
       "1  0.347090  0.933258 -0.675926\n",
       "2  0.485641  1.374892 -2.357105"
      ]
     },
     "execution_count": 58,
     "metadata": {},
     "output_type": "execute_result"
    }
   ],
   "source": [
    "dataframe = pd.DataFrame(np.random.randn(3,3),columns=['one','two','three'])  # Create array of 3*3 dimensionality using standard normally distributed random vales\n",
    "dataframe"
   ]
  },
  {
   "cell_type": "code",
   "execution_count": 59,
   "metadata": {
    "collapsed": false
   },
   "outputs": [
    {
     "data": {
      "text/html": [
       "<div>\n",
       "<table border=\"1\" class=\"dataframe\">\n",
       "  <thead>\n",
       "    <tr style=\"text-align: right;\">\n",
       "      <th></th>\n",
       "      <th>one</th>\n",
       "      <th>two</th>\n",
       "      <th>three</th>\n",
       "    </tr>\n",
       "  </thead>\n",
       "  <tbody>\n",
       "    <tr>\n",
       "      <th>0</th>\n",
       "      <td>0.337706</td>\n",
       "      <td>0.097009</td>\n",
       "      <td>0.127147</td>\n",
       "    </tr>\n",
       "    <tr>\n",
       "      <th>1</th>\n",
       "      <td>0.347090</td>\n",
       "      <td>0.933258</td>\n",
       "      <td>0.675926</td>\n",
       "    </tr>\n",
       "    <tr>\n",
       "      <th>2</th>\n",
       "      <td>0.485641</td>\n",
       "      <td>1.374892</td>\n",
       "      <td>2.357105</td>\n",
       "    </tr>\n",
       "  </tbody>\n",
       "</table>\n",
       "</div>"
      ],
      "text/plain": [
       "        one       two     three\n",
       "0  0.337706  0.097009  0.127147\n",
       "1  0.347090  0.933258  0.675926\n",
       "2  0.485641  1.374892  2.357105"
      ]
     },
     "execution_count": 59,
     "metadata": {},
     "output_type": "execute_result"
    }
   ],
   "source": [
    "np.abs(dataframe)                   # Absolute value"
   ]
  },
  {
   "cell_type": "code",
   "execution_count": 60,
   "metadata": {
    "collapsed": false
   },
   "outputs": [
    {
     "data": {
      "text/plain": [
       "one      0.147935\n",
       "two      1.471901\n",
       "three    2.229958\n",
       "dtype: float64"
      ]
     },
     "execution_count": 60,
     "metadata": {},
     "output_type": "execute_result"
    }
   ],
   "source": [
    "f = lambda x:x.max()-x.min()        # We have option to use a powerful lambda function feature. Get the range in a column\n",
    "dataframe.apply(f)"
   ]
  },
  {
   "cell_type": "code",
   "execution_count": 61,
   "metadata": {
    "collapsed": false
   },
   "outputs": [
    {
     "data": {
      "text/plain": [
       "0    0.464853\n",
       "1    1.609184\n",
       "2    3.731997\n",
       "dtype: float64"
      ]
     },
     "execution_count": 61,
     "metadata": {},
     "output_type": "execute_result"
    }
   ],
   "source": [
    "dataframe.apply(f,axis=1)           # Apply lambda function on the row and not column as we did in the previous example"
   ]
  },
  {
   "cell_type": "code",
   "execution_count": 62,
   "metadata": {
    "collapsed": false,
    "scrolled": true
   },
   "outputs": [
    {
     "name": "stdout",
     "output_type": "stream",
     "text": [
      "        one       two     three\n",
      "0  0.337706 -0.097009 -0.127147\n",
      "1  0.347090  0.933258 -0.675926\n",
      "2  0.485641  1.374892 -2.357105\n"
     ]
    },
    {
     "data": {
      "text/html": [
       "<div>\n",
       "<table border=\"1\" class=\"dataframe\">\n",
       "  <thead>\n",
       "    <tr style=\"text-align: right;\">\n",
       "      <th></th>\n",
       "      <th>one</th>\n",
       "      <th>two</th>\n",
       "      <th>three</th>\n",
       "    </tr>\n",
       "  </thead>\n",
       "  <tbody>\n",
       "    <tr>\n",
       "      <th>0</th>\n",
       "      <td>-0.052440</td>\n",
       "      <td>-0.834056</td>\n",
       "      <td>0.926246</td>\n",
       "    </tr>\n",
       "    <tr>\n",
       "      <th>1</th>\n",
       "      <td>-0.043056</td>\n",
       "      <td>0.196211</td>\n",
       "      <td>0.377466</td>\n",
       "    </tr>\n",
       "    <tr>\n",
       "      <th>2</th>\n",
       "      <td>0.095495</td>\n",
       "      <td>0.637845</td>\n",
       "      <td>-1.303712</td>\n",
       "    </tr>\n",
       "  </tbody>\n",
       "</table>\n",
       "</div>"
      ],
      "text/plain": [
       "        one       two     three\n",
       "0 -0.052440 -0.834056  0.926246\n",
       "1 -0.043056  0.196211  0.377466\n",
       "2  0.095495  0.637845 -1.303712"
      ]
     },
     "execution_count": 62,
     "metadata": {},
     "output_type": "execute_result"
    }
   ],
   "source": [
    "print(dataframe)\n",
    "g = lambda x: x - np.mean(x)        \n",
    "dataframe.apply(g)"
   ]
  },
  {
   "cell_type": "code",
   "execution_count": 63,
   "metadata": {
    "collapsed": false
   },
   "outputs": [
    {
     "name": "stdout",
     "output_type": "stream",
     "text": [
      "        one       two     three\n",
      "0  0.337706 -0.097009 -0.127147\n",
      "1  0.347090  0.933258 -0.675926\n",
      "2  0.485641  1.374892 -2.357105\n"
     ]
    },
    {
     "data": {
      "text/html": [
       "<div>\n",
       "<table border=\"1\" class=\"dataframe\">\n",
       "  <thead>\n",
       "    <tr style=\"text-align: right;\">\n",
       "      <th></th>\n",
       "      <th>one</th>\n",
       "      <th>two</th>\n",
       "      <th>three</th>\n",
       "    </tr>\n",
       "  </thead>\n",
       "  <tbody>\n",
       "    <tr>\n",
       "      <th>mean</th>\n",
       "      <td>0.390146</td>\n",
       "      <td>0.737047</td>\n",
       "      <td>-1.053393</td>\n",
       "    </tr>\n",
       "    <tr>\n",
       "      <th>max</th>\n",
       "      <td>0.485641</td>\n",
       "      <td>1.374892</td>\n",
       "      <td>-0.127147</td>\n",
       "    </tr>\n",
       "    <tr>\n",
       "      <th>min</th>\n",
       "      <td>0.337706</td>\n",
       "      <td>-0.097009</td>\n",
       "      <td>-2.357105</td>\n",
       "    </tr>\n",
       "  </tbody>\n",
       "</table>\n",
       "</div>"
      ],
      "text/plain": [
       "           one       two     three\n",
       "mean  0.390146  0.737047 -1.053393\n",
       "max   0.485641  1.374892 -0.127147\n",
       "min   0.337706 -0.097009 -2.357105"
      ]
     },
     "execution_count": 63,
     "metadata": {},
     "output_type": "execute_result"
    }
   ],
   "source": [
    "def f(x):\n",
    "    return pd.Series([np.mean(x), x.max(), x.min()], index=['mean','max','min'])\n",
    "print(dataframe)\n",
    "dataframe.apply(f)"
   ]
  },
  {
   "cell_type": "code",
   "execution_count": 64,
   "metadata": {
    "collapsed": false
   },
   "outputs": [
    {
     "data": {
      "text/html": [
       "<div>\n",
       "<table border=\"1\" class=\"dataframe\">\n",
       "  <thead>\n",
       "    <tr style=\"text-align: right;\">\n",
       "      <th></th>\n",
       "      <th>one</th>\n",
       "      <th>two</th>\n",
       "      <th>three</th>\n",
       "    </tr>\n",
       "  </thead>\n",
       "  <tbody>\n",
       "    <tr>\n",
       "      <th>0</th>\n",
       "      <td>-0.056074</td>\n",
       "      <td>1.449619</td>\n",
       "      <td>0.951882</td>\n",
       "    </tr>\n",
       "    <tr>\n",
       "      <th>1</th>\n",
       "      <td>0.718189</td>\n",
       "      <td>-1.837714</td>\n",
       "      <td>-0.501953</td>\n",
       "    </tr>\n",
       "    <tr>\n",
       "      <th>2</th>\n",
       "      <td>0.608232</td>\n",
       "      <td>0.313978</td>\n",
       "      <td>-1.205704</td>\n",
       "    </tr>\n",
       "  </tbody>\n",
       "</table>\n",
       "</div>"
      ],
      "text/plain": [
       "        one       two     three\n",
       "0 -0.056074  1.449619  0.951882\n",
       "1  0.718189 -1.837714 -0.501953\n",
       "2  0.608232  0.313978 -1.205704"
      ]
     },
     "execution_count": 64,
     "metadata": {},
     "output_type": "execute_result"
    }
   ],
   "source": [
    "dataframe = pd.DataFrame(np.random.randn(3,3),columns=['one','two','three'])\n",
    "dataframe"
   ]
  },
  {
   "cell_type": "code",
   "execution_count": 65,
   "metadata": {
    "collapsed": false
   },
   "outputs": [
    {
     "name": "stdout",
     "output_type": "stream",
     "text": [
      "        one       two     three\n",
      "0 -0.056074  1.449619  0.951882\n",
      "2  0.608232  0.313978 -1.205704\n",
      "1  0.718189 -1.837714 -0.501953\n"
     ]
    },
    {
     "name": "stderr",
     "output_type": "stream",
     "text": [
      "C:\\Users\\User\\Anaconda3\\lib\\site-packages\\ipykernel\\__main__.py:1: FutureWarning: by argument to sort_index is deprecated, pls use .sort_values(by=...)\n",
      "  if __name__ == '__main__':\n"
     ]
    }
   ],
   "source": [
    "print(dataframe.sort_index(by='one'))    # Sort by column 'one'"
   ]
  },
  {
   "cell_type": "code",
   "execution_count": 66,
   "metadata": {
    "collapsed": false
   },
   "outputs": [
    {
     "name": "stderr",
     "output_type": "stream",
     "text": [
      "C:\\Users\\User\\Anaconda3\\lib\\site-packages\\ipykernel\\__main__.py:1: FutureWarning: by argument to sort_index is deprecated, pls use .sort_values(by=...)\n",
      "  if __name__ == '__main__':\n"
     ]
    },
    {
     "data": {
      "text/html": [
       "<div>\n",
       "<table border=\"1\" class=\"dataframe\">\n",
       "  <thead>\n",
       "    <tr style=\"text-align: right;\">\n",
       "      <th></th>\n",
       "      <th>one</th>\n",
       "      <th>two</th>\n",
       "      <th>three</th>\n",
       "    </tr>\n",
       "  </thead>\n",
       "  <tbody>\n",
       "    <tr>\n",
       "      <th>0</th>\n",
       "      <td>-0.056074</td>\n",
       "      <td>1.449619</td>\n",
       "      <td>0.951882</td>\n",
       "    </tr>\n",
       "    <tr>\n",
       "      <th>2</th>\n",
       "      <td>0.608232</td>\n",
       "      <td>0.313978</td>\n",
       "      <td>-1.205704</td>\n",
       "    </tr>\n",
       "    <tr>\n",
       "      <th>1</th>\n",
       "      <td>0.718189</td>\n",
       "      <td>-1.837714</td>\n",
       "      <td>-0.501953</td>\n",
       "    </tr>\n",
       "  </tbody>\n",
       "</table>\n",
       "</div>"
      ],
      "text/plain": [
       "        one       two     three\n",
       "0 -0.056074  1.449619  0.951882\n",
       "2  0.608232  0.313978 -1.205704\n",
       "1  0.718189 -1.837714 -0.501953"
      ]
     },
     "execution_count": 66,
     "metadata": {},
     "output_type": "execute_result"
    }
   ],
   "source": [
    "dataframe.sort_index(by=['one','two'])   # Sort first by column 'one' then by column 'two'"
   ]
  },
  {
   "cell_type": "code",
   "execution_count": 67,
   "metadata": {
    "collapsed": false
   },
   "outputs": [
    {
     "data": {
      "text/plain": [
       "one      1.270347\n",
       "two     -0.074117\n",
       "three   -0.755775\n",
       "dtype: float64"
      ]
     },
     "execution_count": 67,
     "metadata": {},
     "output_type": "execute_result"
    }
   ],
   "source": [
    "dataframe.sum()                          # Column wise sum"
   ]
  },
  {
   "cell_type": "code",
   "execution_count": 68,
   "metadata": {
    "collapsed": false
   },
   "outputs": [
    {
     "data": {
      "text/plain": [
       "0    2.345427\n",
       "1   -1.621478\n",
       "2   -0.283493\n",
       "dtype: float64"
      ]
     },
     "execution_count": 68,
     "metadata": {},
     "output_type": "execute_result"
    }
   ],
   "source": [
    "dataframe.sum(axis=1)                    # Row wise sum"
   ]
  },
  {
   "cell_type": "code",
   "execution_count": 69,
   "metadata": {
    "collapsed": false
   },
   "outputs": [
    {
     "name": "stdout",
     "output_type": "stream",
     "text": [
      "        one       two     three\n",
      "0 -0.056074  1.449619  0.951882\n",
      "1  0.718189 -1.837714 -0.501953\n",
      "2  0.608232  0.313978 -1.205704\n"
     ]
    },
    {
     "data": {
      "text/html": [
       "<div>\n",
       "<table border=\"1\" class=\"dataframe\">\n",
       "  <thead>\n",
       "    <tr style=\"text-align: right;\">\n",
       "      <th></th>\n",
       "      <th>one</th>\n",
       "      <th>two</th>\n",
       "      <th>three</th>\n",
       "    </tr>\n",
       "  </thead>\n",
       "  <tbody>\n",
       "    <tr>\n",
       "      <th>0</th>\n",
       "      <td>-0.056074</td>\n",
       "      <td>1.393545</td>\n",
       "      <td>2.345427</td>\n",
       "    </tr>\n",
       "    <tr>\n",
       "      <th>1</th>\n",
       "      <td>0.718189</td>\n",
       "      <td>-1.119525</td>\n",
       "      <td>-1.621478</td>\n",
       "    </tr>\n",
       "    <tr>\n",
       "      <th>2</th>\n",
       "      <td>0.608232</td>\n",
       "      <td>0.922211</td>\n",
       "      <td>-0.283493</td>\n",
       "    </tr>\n",
       "  </tbody>\n",
       "</table>\n",
       "</div>"
      ],
      "text/plain": [
       "        one       two     three\n",
       "0 -0.056074  1.393545  2.345427\n",
       "1  0.718189 -1.119525 -1.621478\n",
       "2  0.608232  0.922211 -0.283493"
      ]
     },
     "execution_count": 69,
     "metadata": {},
     "output_type": "execute_result"
    }
   ],
   "source": [
    "print(dataframe)\n",
    "dataframe.cumsum(axis=1)                 # Get cumulative sum"
   ]
  },
  {
   "cell_type": "code",
   "execution_count": 70,
   "metadata": {
    "collapsed": false
   },
   "outputs": [
    {
     "data": {
      "text/html": [
       "<div>\n",
       "<table border=\"1\" class=\"dataframe\">\n",
       "  <thead>\n",
       "    <tr style=\"text-align: right;\">\n",
       "      <th></th>\n",
       "      <th>one</th>\n",
       "      <th>two</th>\n",
       "      <th>three</th>\n",
       "    </tr>\n",
       "  </thead>\n",
       "  <tbody>\n",
       "    <tr>\n",
       "      <th>count</th>\n",
       "      <td>3.000000</td>\n",
       "      <td>3.000000</td>\n",
       "      <td>3.000000</td>\n",
       "    </tr>\n",
       "    <tr>\n",
       "      <th>mean</th>\n",
       "      <td>0.423449</td>\n",
       "      <td>-0.024706</td>\n",
       "      <td>-0.251925</td>\n",
       "    </tr>\n",
       "    <tr>\n",
       "      <th>std</th>\n",
       "      <td>0.418903</td>\n",
       "      <td>1.669632</td>\n",
       "      <td>1.100309</td>\n",
       "    </tr>\n",
       "    <tr>\n",
       "      <th>min</th>\n",
       "      <td>-0.056074</td>\n",
       "      <td>-1.837714</td>\n",
       "      <td>-1.205704</td>\n",
       "    </tr>\n",
       "    <tr>\n",
       "      <th>25%</th>\n",
       "      <td>0.276079</td>\n",
       "      <td>-0.761868</td>\n",
       "      <td>-0.853828</td>\n",
       "    </tr>\n",
       "    <tr>\n",
       "      <th>50%</th>\n",
       "      <td>0.608232</td>\n",
       "      <td>0.313978</td>\n",
       "      <td>-0.501953</td>\n",
       "    </tr>\n",
       "    <tr>\n",
       "      <th>75%</th>\n",
       "      <td>0.663211</td>\n",
       "      <td>0.881799</td>\n",
       "      <td>0.224965</td>\n",
       "    </tr>\n",
       "    <tr>\n",
       "      <th>max</th>\n",
       "      <td>0.718189</td>\n",
       "      <td>1.449619</td>\n",
       "      <td>0.951882</td>\n",
       "    </tr>\n",
       "  </tbody>\n",
       "</table>\n",
       "</div>"
      ],
      "text/plain": [
       "            one       two     three\n",
       "count  3.000000  3.000000  3.000000\n",
       "mean   0.423449 -0.024706 -0.251925\n",
       "std    0.418903  1.669632  1.100309\n",
       "min   -0.056074 -1.837714 -1.205704\n",
       "25%    0.276079 -0.761868 -0.853828\n",
       "50%    0.608232  0.313978 -0.501953\n",
       "75%    0.663211  0.881799  0.224965\n",
       "max    0.718189  1.449619  0.951882"
      ]
     },
     "execution_count": 70,
     "metadata": {},
     "output_type": "execute_result"
    }
   ],
   "source": [
    "dataframe.describe()"
   ]
  },
  {
   "cell_type": "markdown",
   "metadata": {},
   "source": [
    "If you have non-numeric data, then applying describe function would produce statistics such as <b>count, unique, frequency</b>. In addition to this, you can also calculate <b>skewness (skew), kurtosis (kurt), percent changes, difference, and other statistics</b>."
   ]
  },
  {
   "cell_type": "markdown",
   "metadata": {},
   "source": [
    "Let us look at the example of percent change calculation where we pull company stock price data from Yahoo Finance website and apply percent change method on it. <b>Pandas</b> provides a number of <b>web interfaces</b> such as <i>Yahoo Finance, Google Finance, St. Louis FED, Ken French data library, World Bank</i>. Here, we look at example of Yahoo Finance. Later, we will look at other options. To extract data from these websites, you need to use <b>pandas.io.data</b> "
   ]
  },
  {
   "cell_type": "code",
   "execution_count": 71,
   "metadata": {
    "collapsed": false
   },
   "outputs": [
    {
     "data": {
      "text/html": [
       "<div>\n",
       "<table border=\"1\" class=\"dataframe\">\n",
       "  <thead>\n",
       "    <tr style=\"text-align: right;\">\n",
       "      <th></th>\n",
       "      <th>Open</th>\n",
       "      <th>High</th>\n",
       "      <th>Low</th>\n",
       "      <th>Close</th>\n",
       "      <th>Volume</th>\n",
       "      <th>Adj Close</th>\n",
       "    </tr>\n",
       "    <tr>\n",
       "      <th>Date</th>\n",
       "      <th></th>\n",
       "      <th></th>\n",
       "      <th></th>\n",
       "      <th></th>\n",
       "      <th></th>\n",
       "      <th></th>\n",
       "    </tr>\n",
       "  </thead>\n",
       "  <tbody>\n",
       "    <tr>\n",
       "      <th>2014-06-02</th>\n",
       "      <td>633.959984</td>\n",
       "      <td>634.830017</td>\n",
       "      <td>622.500015</td>\n",
       "      <td>628.650009</td>\n",
       "      <td>92337700</td>\n",
       "      <td>85.212629</td>\n",
       "    </tr>\n",
       "    <tr>\n",
       "      <th>2014-06-03</th>\n",
       "      <td>628.459991</td>\n",
       "      <td>638.740013</td>\n",
       "      <td>628.250000</td>\n",
       "      <td>637.539986</td>\n",
       "      <td>73177300</td>\n",
       "      <td>86.417653</td>\n",
       "    </tr>\n",
       "    <tr>\n",
       "      <th>2014-06-04</th>\n",
       "      <td>637.440010</td>\n",
       "      <td>647.890022</td>\n",
       "      <td>636.109993</td>\n",
       "      <td>644.819992</td>\n",
       "      <td>83870500</td>\n",
       "      <td>87.404447</td>\n",
       "    </tr>\n",
       "    <tr>\n",
       "      <th>2014-06-05</th>\n",
       "      <td>646.199997</td>\n",
       "      <td>649.370003</td>\n",
       "      <td>642.610008</td>\n",
       "      <td>647.349983</td>\n",
       "      <td>75951400</td>\n",
       "      <td>87.747384</td>\n",
       "    </tr>\n",
       "    <tr>\n",
       "      <th>2014-06-06</th>\n",
       "      <td>649.900002</td>\n",
       "      <td>651.259979</td>\n",
       "      <td>644.470024</td>\n",
       "      <td>645.570023</td>\n",
       "      <td>87484600</td>\n",
       "      <td>87.506113</td>\n",
       "    </tr>\n",
       "    <tr>\n",
       "      <th>2014-06-09</th>\n",
       "      <td>92.699997</td>\n",
       "      <td>93.879997</td>\n",
       "      <td>91.750000</td>\n",
       "      <td>93.699997</td>\n",
       "      <td>75415000</td>\n",
       "      <td>88.906324</td>\n",
       "    </tr>\n",
       "  </tbody>\n",
       "</table>\n",
       "</div>"
      ],
      "text/plain": [
       "                  Open        High         Low       Close    Volume  \\\n",
       "Date                                                                   \n",
       "2014-06-02  633.959984  634.830017  622.500015  628.650009  92337700   \n",
       "2014-06-03  628.459991  638.740013  628.250000  637.539986  73177300   \n",
       "2014-06-04  637.440010  647.890022  636.109993  644.819992  83870500   \n",
       "2014-06-05  646.199997  649.370003  642.610008  647.349983  75951400   \n",
       "2014-06-06  649.900002  651.259979  644.470024  645.570023  87484600   \n",
       "2014-06-09   92.699997   93.879997   91.750000   93.699997  75415000   \n",
       "\n",
       "            Adj Close  \n",
       "Date                   \n",
       "2014-06-02  85.212629  \n",
       "2014-06-03  86.417653  \n",
       "2014-06-04  87.404447  \n",
       "2014-06-05  87.747384  \n",
       "2014-06-06  87.506113  \n",
       "2014-06-09  88.906324  "
      ]
     },
     "execution_count": 71,
     "metadata": {},
     "output_type": "execute_result"
    }
   ],
   "source": [
    "# Anaconda Command Prompt -> pip install pandas_datareader\n",
    "from pandas_datareader import data as web\n",
    "aapl = web.get_data_yahoo('aapl',start='6/1/2014',end='6/9/2014')\n",
    "aapl"
   ]
  },
  {
   "cell_type": "code",
   "execution_count": 143,
   "metadata": {
    "collapsed": false
   },
   "outputs": [
    {
     "data": {
      "text/html": [
       "<div>\n",
       "<table border=\"1\" class=\"dataframe\">\n",
       "  <thead>\n",
       "    <tr style=\"text-align: right;\">\n",
       "      <th></th>\n",
       "      <th>Open</th>\n",
       "      <th>High</th>\n",
       "      <th>Low</th>\n",
       "      <th>Close</th>\n",
       "      <th>Volume</th>\n",
       "      <th>Adj Close</th>\n",
       "      <th>lag1</th>\n",
       "      <th>lead1</th>\n",
       "    </tr>\n",
       "    <tr>\n",
       "      <th>Date</th>\n",
       "      <th></th>\n",
       "      <th></th>\n",
       "      <th></th>\n",
       "      <th></th>\n",
       "      <th></th>\n",
       "      <th></th>\n",
       "      <th></th>\n",
       "      <th></th>\n",
       "    </tr>\n",
       "  </thead>\n",
       "  <tbody>\n",
       "    <tr>\n",
       "      <th>2014-03-03</th>\n",
       "      <td>NaN</td>\n",
       "      <td>0.013813</td>\n",
       "      <td>-0.014774</td>\n",
       "      <td>0.009468</td>\n",
       "      <td>113109.692112</td>\n",
       "      <td>-0.999999</td>\n",
       "      <td>NaN</td>\n",
       "      <td>6.467551</td>\n",
       "    </tr>\n",
       "    <tr>\n",
       "      <th>2014-03-04</th>\n",
       "      <td>NaN</td>\n",
       "      <td>0.003089</td>\n",
       "      <td>-0.009143</td>\n",
       "      <td>0.006575</td>\n",
       "      <td>121949.534736</td>\n",
       "      <td>-0.999999</td>\n",
       "      <td>6.370036</td>\n",
       "      <td>0.008716</td>\n",
       "    </tr>\n",
       "    <tr>\n",
       "      <th>2014-03-05</th>\n",
       "      <td>NaN</td>\n",
       "      <td>0.007214</td>\n",
       "      <td>-0.010510</td>\n",
       "      <td>0.006104</td>\n",
       "      <td>93949.896477</td>\n",
       "      <td>-0.999999</td>\n",
       "      <td>6.403025</td>\n",
       "      <td>-0.000922</td>\n",
       "    </tr>\n",
       "    <tr>\n",
       "      <th>2014-03-06</th>\n",
       "      <td>NaN</td>\n",
       "      <td>0.003097</td>\n",
       "      <td>-0.011863</td>\n",
       "      <td>0.005018</td>\n",
       "      <td>87370.081132</td>\n",
       "      <td>-0.999998</td>\n",
       "      <td>6.441138</td>\n",
       "      <td>-0.003607</td>\n",
       "    </tr>\n",
       "    <tr>\n",
       "      <th>2014-03-07</th>\n",
       "      <td>NaN</td>\n",
       "      <td>0.001676</td>\n",
       "      <td>-0.011147</td>\n",
       "      <td>0.008345</td>\n",
       "      <td>104030.366653</td>\n",
       "      <td>-0.999999</td>\n",
       "      <td>6.422969</td>\n",
       "      <td>0.000320</td>\n",
       "    </tr>\n",
       "    <tr>\n",
       "      <th>2014-03-10</th>\n",
       "      <td>NaN</td>\n",
       "      <td>0.009406</td>\n",
       "      <td>-0.009356</td>\n",
       "      <td>0.004883</td>\n",
       "      <td>84090.769197</td>\n",
       "      <td>-0.999998</td>\n",
       "      <td>6.411927</td>\n",
       "      <td>0.010651</td>\n",
       "    </tr>\n",
       "    <tr>\n",
       "      <th>2014-03-11</th>\n",
       "      <td>NaN</td>\n",
       "      <td>0.006144</td>\n",
       "      <td>-0.011416</td>\n",
       "      <td>0.006572</td>\n",
       "      <td>130212.403562</td>\n",
       "      <td>-0.999999</td>\n",
       "      <td>6.347089</td>\n",
       "      <td>0.010717</td>\n",
       "    </tr>\n",
       "    <tr>\n",
       "      <th>2014-03-12</th>\n",
       "      <td>NaN</td>\n",
       "      <td>0.005313</td>\n",
       "      <td>-0.009956</td>\n",
       "      <td>0.008665</td>\n",
       "      <td>92862.721125</td>\n",
       "      <td>-0.999999</td>\n",
       "      <td>6.411444</td>\n",
       "      <td>-0.010147</td>\n",
       "    </tr>\n",
       "    <tr>\n",
       "      <th>2014-03-13</th>\n",
       "      <td>NaN</td>\n",
       "      <td>0.004131</td>\n",
       "      <td>-0.019457</td>\n",
       "      <td>0.002816</td>\n",
       "      <td>121426.869419</td>\n",
       "      <td>-0.999999</td>\n",
       "      <td>6.501955</td>\n",
       "      <td>-0.022214</td>\n",
       "    </tr>\n",
       "    <tr>\n",
       "      <th>2014-03-14</th>\n",
       "      <td>NaN</td>\n",
       "      <td>0.003971</td>\n",
       "      <td>-0.014862</td>\n",
       "      <td>0.003231</td>\n",
       "      <td>113017.739180</td>\n",
       "      <td>-0.999999</td>\n",
       "      <td>6.502903</td>\n",
       "      <td>-0.007368</td>\n",
       "    </tr>\n",
       "    <tr>\n",
       "      <th>2014-03-17</th>\n",
       "      <td>NaN</td>\n",
       "      <td>0.004302</td>\n",
       "      <td>-0.007774</td>\n",
       "      <td>0.001693</td>\n",
       "      <td>94706.443461</td>\n",
       "      <td>-0.999999</td>\n",
       "      <td>6.389761</td>\n",
       "      <td>0.012789</td>\n",
       "    </tr>\n",
       "    <tr>\n",
       "      <th>2014-03-18</th>\n",
       "      <td>NaN</td>\n",
       "      <td>0.011542</td>\n",
       "      <td>-0.012726</td>\n",
       "      <td>0.011805</td>\n",
       "      <td>98628.660107</td>\n",
       "      <td>-0.999999</td>\n",
       "      <td>6.353578</td>\n",
       "      <td>0.008581</td>\n",
       "    </tr>\n",
       "    <tr>\n",
       "      <th>2014-03-19</th>\n",
       "      <td>NaN</td>\n",
       "      <td>0.007478</td>\n",
       "      <td>-0.013501</td>\n",
       "      <td>0.004272</td>\n",
       "      <td>105764.536540</td>\n",
       "      <td>-0.999999</td>\n",
       "      <td>6.420588</td>\n",
       "      <td>-0.005081</td>\n",
       "    </tr>\n",
       "    <tr>\n",
       "      <th>2014-03-20</th>\n",
       "      <td>NaN</td>\n",
       "      <td>0.005246</td>\n",
       "      <td>-0.009987</td>\n",
       "      <td>0.002560</td>\n",
       "      <td>98541.839999</td>\n",
       "      <td>-0.999999</td>\n",
       "      <td>6.454555</td>\n",
       "      <td>0.003030</td>\n",
       "    </tr>\n",
       "    <tr>\n",
       "      <th>2014-03-21</th>\n",
       "      <td>NaN</td>\n",
       "      <td>0.003422</td>\n",
       "      <td>-0.013902</td>\n",
       "      <td>0.012426</td>\n",
       "      <td>175485.710661</td>\n",
       "      <td>-0.999999</td>\n",
       "      <td>6.360579</td>\n",
       "      <td>0.019841</td>\n",
       "    </tr>\n",
       "    <tr>\n",
       "      <th>2014-03-24</th>\n",
       "      <td>NaN</td>\n",
       "      <td>0.003863</td>\n",
       "      <td>-0.010065</td>\n",
       "      <td>0.007719</td>\n",
       "      <td>164922.676313</td>\n",
       "      <td>-0.999999</td>\n",
       "      <td>6.331677</td>\n",
       "      <td>0.022745</td>\n",
       "    </tr>\n",
       "    <tr>\n",
       "      <th>2014-03-25</th>\n",
       "      <td>NaN</td>\n",
       "      <td>0.007849</td>\n",
       "      <td>-0.011287</td>\n",
       "      <td>0.010008</td>\n",
       "      <td>129493.672003</td>\n",
       "      <td>-0.999999</td>\n",
       "      <td>6.339682</td>\n",
       "      <td>0.001094</td>\n",
       "    </tr>\n",
       "    <tr>\n",
       "      <th>2014-03-26</th>\n",
       "      <td>NaN</td>\n",
       "      <td>0.004538</td>\n",
       "      <td>-0.018470</td>\n",
       "      <td>0.001707</td>\n",
       "      <td>138837.047444</td>\n",
       "      <td>-0.999999</td>\n",
       "      <td>6.490239</td>\n",
       "      <td>-0.013817</td>\n",
       "    </tr>\n",
       "    <tr>\n",
       "      <th>2014-03-27</th>\n",
       "      <td>NaN</td>\n",
       "      <td>0.002741</td>\n",
       "      <td>-0.011782</td>\n",
       "      <td>0.004373</td>\n",
       "      <td>103277.199177</td>\n",
       "      <td>-0.999999</td>\n",
       "      <td>6.450657</td>\n",
       "      <td>-0.005410</td>\n",
       "    </tr>\n",
       "    <tr>\n",
       "      <th>2014-03-28</th>\n",
       "      <td>NaN</td>\n",
       "      <td>0.001152</td>\n",
       "      <td>-0.008702</td>\n",
       "      <td>0.004885</td>\n",
       "      <td>93395.792562</td>\n",
       "      <td>-0.999999</td>\n",
       "      <td>6.426925</td>\n",
       "      <td>-0.001340</td>\n",
       "    </tr>\n",
       "    <tr>\n",
       "      <th>2014-03-31</th>\n",
       "      <td>NaN</td>\n",
       "      <td>0.002930</td>\n",
       "      <td>-0.009023</td>\n",
       "      <td>0.001511</td>\n",
       "      <td>78560.877192</td>\n",
       "      <td>-0.999998</td>\n",
       "      <td>6.420292</td>\n",
       "      <td>0.008922</td>\n",
       "    </tr>\n",
       "    <tr>\n",
       "      <th>2014-04-01</th>\n",
       "      <td>NaN</td>\n",
       "      <td>0.007643</td>\n",
       "      <td>-0.009412</td>\n",
       "      <td>0.009091</td>\n",
       "      <td>92660.313682</td>\n",
       "      <td>-0.999999</td>\n",
       "      <td>6.351384</td>\n",
       "      <td>0.010825</td>\n",
       "    </tr>\n",
       "    <tr>\n",
       "      <th>2014-04-02</th>\n",
       "      <td>NaN</td>\n",
       "      <td>0.002028</td>\n",
       "      <td>-0.005925</td>\n",
       "      <td>0.004239</td>\n",
       "      <td>83134.565381</td>\n",
       "      <td>-0.999998</td>\n",
       "      <td>6.406327</td>\n",
       "      <td>-0.005280</td>\n",
       "    </tr>\n",
       "    <tr>\n",
       "      <th>2014-04-03</th>\n",
       "      <td>NaN</td>\n",
       "      <td>0.002050</td>\n",
       "      <td>-0.008958</td>\n",
       "      <td>0.002139</td>\n",
       "      <td>75327.048631</td>\n",
       "      <td>-0.999998</td>\n",
       "      <td>6.470405</td>\n",
       "      <td>-0.019777</td>\n",
       "    </tr>\n",
       "    <tr>\n",
       "      <th>2014-04-04</th>\n",
       "      <td>NaN</td>\n",
       "      <td>0.000352</td>\n",
       "      <td>-0.017444</td>\n",
       "      <td>0.002337</td>\n",
       "      <td>129390.141785</td>\n",
       "      <td>-0.999999</td>\n",
       "      <td>6.515861</td>\n",
       "      <td>-0.028434</td>\n",
       "    </tr>\n",
       "    <tr>\n",
       "      <th>2014-04-07</th>\n",
       "      <td>NaN</td>\n",
       "      <td>0.005454</td>\n",
       "      <td>-0.016971</td>\n",
       "      <td>0.003027</td>\n",
       "      <td>138426.422862</td>\n",
       "      <td>-0.999999</td>\n",
       "      <td>6.536970</td>\n",
       "      <td>-0.015757</td>\n",
       "    </tr>\n",
       "    <tr>\n",
       "      <th>2014-04-08</th>\n",
       "      <td>NaN</td>\n",
       "      <td>0.001771</td>\n",
       "      <td>-0.014103</td>\n",
       "      <td>0.009138</td>\n",
       "      <td>116482.451596</td>\n",
       "      <td>-0.999999</td>\n",
       "      <td>6.419058</td>\n",
       "      <td>0.013086</td>\n",
       "    </tr>\n",
       "    <tr>\n",
       "      <th>2014-04-09</th>\n",
       "      <td>NaN</td>\n",
       "      <td>0.015020</td>\n",
       "      <td>-0.015966</td>\n",
       "      <td>0.015900</td>\n",
       "      <td>97190.127135</td>\n",
       "      <td>-0.999999</td>\n",
       "      <td>6.322389</td>\n",
       "      <td>0.000076</td>\n",
       "    </tr>\n",
       "    <tr>\n",
       "      <th>2014-04-10</th>\n",
       "      <td>NaN</td>\n",
       "      <td>0.002940</td>\n",
       "      <td>-0.017041</td>\n",
       "      <td>0.000593</td>\n",
       "      <td>114450.359795</td>\n",
       "      <td>-0.999999</td>\n",
       "      <td>6.515568</td>\n",
       "      <td>-0.020195</td>\n",
       "    </tr>\n",
       "    <tr>\n",
       "      <th>2014-04-11</th>\n",
       "      <td>NaN</td>\n",
       "      <td>0.007380</td>\n",
       "      <td>-0.010883</td>\n",
       "      <td>0.004776</td>\n",
       "      <td>130730.504384</td>\n",
       "      <td>-0.999999</td>\n",
       "      <td>6.473886</td>\n",
       "      <td>-0.003439</td>\n",
       "    </tr>\n",
       "    <tr>\n",
       "      <th>...</th>\n",
       "      <td>...</td>\n",
       "      <td>...</td>\n",
       "      <td>...</td>\n",
       "      <td>...</td>\n",
       "      <td>...</td>\n",
       "      <td>...</td>\n",
       "      <td>...</td>\n",
       "      <td>...</td>\n",
       "    </tr>\n",
       "    <tr>\n",
       "      <th>2014-04-28</th>\n",
       "      <td>NaN</td>\n",
       "      <td>0.040066</td>\n",
       "      <td>-0.038943</td>\n",
       "      <td>0.037621</td>\n",
       "      <td>281726.338698</td>\n",
       "      <td>-1.000000</td>\n",
       "      <td>6.142037</td>\n",
       "      <td>0.035651</td>\n",
       "    </tr>\n",
       "    <tr>\n",
       "      <th>2014-04-29</th>\n",
       "      <td>NaN</td>\n",
       "      <td>0.003773</td>\n",
       "      <td>-0.010856</td>\n",
       "      <td>0.004784</td>\n",
       "      <td>142393.278511</td>\n",
       "      <td>-0.999999</td>\n",
       "      <td>6.440677</td>\n",
       "      <td>-0.006733</td>\n",
       "    </tr>\n",
       "    <tr>\n",
       "      <th>2014-04-30</th>\n",
       "      <td>NaN</td>\n",
       "      <td>0.011457</td>\n",
       "      <td>-0.016065</td>\n",
       "      <td>0.000492</td>\n",
       "      <td>193461.359430</td>\n",
       "      <td>-0.999999</td>\n",
       "      <td>6.446795</td>\n",
       "      <td>-0.001435</td>\n",
       "    </tr>\n",
       "    <tr>\n",
       "      <th>2014-05-01</th>\n",
       "      <td>NaN</td>\n",
       "      <td>0.004730</td>\n",
       "      <td>-0.014190</td>\n",
       "      <td>0.008732</td>\n",
       "      <td>103150.412251</td>\n",
       "      <td>-0.999999</td>\n",
       "      <td>6.401199</td>\n",
       "      <td>0.004220</td>\n",
       "    </tr>\n",
       "    <tr>\n",
       "      <th>2014-05-02</th>\n",
       "      <td>NaN</td>\n",
       "      <td>0.003140</td>\n",
       "      <td>-0.007556</td>\n",
       "      <td>0.004867</td>\n",
       "      <td>80795.851024</td>\n",
       "      <td>-0.999998</td>\n",
       "      <td>6.404862</td>\n",
       "      <td>0.016028</td>\n",
       "    </tr>\n",
       "    <tr>\n",
       "      <th>2014-05-05</th>\n",
       "      <td>NaN</td>\n",
       "      <td>0.018402</td>\n",
       "      <td>-0.018303</td>\n",
       "      <td>0.018576</td>\n",
       "      <td>119419.265685</td>\n",
       "      <td>-0.999999</td>\n",
       "      <td>6.315186</td>\n",
       "      <td>0.003088</td>\n",
       "    </tr>\n",
       "    <tr>\n",
       "      <th>2014-05-06</th>\n",
       "      <td>NaN</td>\n",
       "      <td>0.004337</td>\n",
       "      <td>-0.016545</td>\n",
       "      <td>0.000000</td>\n",
       "      <td>157535.205223</td>\n",
       "      <td>-0.999999</td>\n",
       "      <td>6.500381</td>\n",
       "      <td>-0.014360</td>\n",
       "    </tr>\n",
       "    <tr>\n",
       "      <th>2014-05-07</th>\n",
       "      <td>NaN</td>\n",
       "      <td>0.003427</td>\n",
       "      <td>-0.016006</td>\n",
       "      <td>0.007827</td>\n",
       "      <td>119385.326046</td>\n",
       "      <td>-0.999999</td>\n",
       "      <td>6.444685</td>\n",
       "      <td>-0.010801</td>\n",
       "    </tr>\n",
       "    <tr>\n",
       "      <th>2014-05-08</th>\n",
       "      <td>NaN</td>\n",
       "      <td>0.010472</td>\n",
       "      <td>-0.013476</td>\n",
       "      <td>0.002711</td>\n",
       "      <td>97916.139283</td>\n",
       "      <td>-0.999999</td>\n",
       "      <td>6.431881</td>\n",
       "      <td>-0.011463</td>\n",
       "    </tr>\n",
       "    <tr>\n",
       "      <th>2014-05-09</th>\n",
       "      <td>NaN</td>\n",
       "      <td>0.002925</td>\n",
       "      <td>-0.010098</td>\n",
       "      <td>0.008978</td>\n",
       "      <td>124498.431315</td>\n",
       "      <td>-0.999999</td>\n",
       "      <td>6.408296</td>\n",
       "      <td>0.008231</td>\n",
       "    </tr>\n",
       "    <tr>\n",
       "      <th>2014-05-12</th>\n",
       "      <td>NaN</td>\n",
       "      <td>0.010502</td>\n",
       "      <td>-0.010545</td>\n",
       "      <td>0.009244</td>\n",
       "      <td>89910.439150</td>\n",
       "      <td>-0.999998</td>\n",
       "      <td>6.286708</td>\n",
       "      <td>0.014038</td>\n",
       "    </tr>\n",
       "    <tr>\n",
       "      <th>2014-05-13</th>\n",
       "      <td>NaN</td>\n",
       "      <td>0.004291</td>\n",
       "      <td>-0.006459</td>\n",
       "      <td>0.005180</td>\n",
       "      <td>67255.632846</td>\n",
       "      <td>-0.999998</td>\n",
       "      <td>6.365872</td>\n",
       "      <td>0.001754</td>\n",
       "    </tr>\n",
       "    <tr>\n",
       "      <th>2014-05-14</th>\n",
       "      <td>NaN</td>\n",
       "      <td>0.008389</td>\n",
       "      <td>-0.009474</td>\n",
       "      <td>0.003600</td>\n",
       "      <td>70049.686027</td>\n",
       "      <td>-0.999998</td>\n",
       "      <td>6.376062</td>\n",
       "      <td>-0.008320</td>\n",
       "    </tr>\n",
       "    <tr>\n",
       "      <th>2014-05-15</th>\n",
       "      <td>NaN</td>\n",
       "      <td>0.003195</td>\n",
       "      <td>-0.014348</td>\n",
       "      <td>0.001326</td>\n",
       "      <td>98011.127278</td>\n",
       "      <td>-0.999999</td>\n",
       "      <td>6.440700</td>\n",
       "      <td>0.006129</td>\n",
       "    </tr>\n",
       "    <tr>\n",
       "      <th>2014-05-16</th>\n",
       "      <td>NaN</td>\n",
       "      <td>0.015120</td>\n",
       "      <td>-0.020300</td>\n",
       "      <td>0.020687</td>\n",
       "      <td>115585.514092</td>\n",
       "      <td>-0.999999</td>\n",
       "      <td>6.270132</td>\n",
       "      <td>0.026782</td>\n",
       "    </tr>\n",
       "    <tr>\n",
       "      <th>2014-05-19</th>\n",
       "      <td>NaN</td>\n",
       "      <td>0.015857</td>\n",
       "      <td>-0.016466</td>\n",
       "      <td>0.012154</td>\n",
       "      <td>131391.840609</td>\n",
       "      <td>-0.999999</td>\n",
       "      <td>6.291035</td>\n",
       "      <td>0.012050</td>\n",
       "    </tr>\n",
       "    <tr>\n",
       "      <th>2014-05-20</th>\n",
       "      <td>NaN</td>\n",
       "      <td>0.003126</td>\n",
       "      <td>-0.009350</td>\n",
       "      <td>0.006625</td>\n",
       "      <td>97085.203079</td>\n",
       "      <td>-0.999999</td>\n",
       "      <td>6.375964</td>\n",
       "      <td>0.002845</td>\n",
       "    </tr>\n",
       "    <tr>\n",
       "      <th>2014-05-21</th>\n",
       "      <td>NaN</td>\n",
       "      <td>0.004753</td>\n",
       "      <td>-0.007648</td>\n",
       "      <td>0.007059</td>\n",
       "      <td>81170.182389</td>\n",
       "      <td>-0.999998</td>\n",
       "      <td>6.357960</td>\n",
       "      <td>0.004233</td>\n",
       "    </tr>\n",
       "    <tr>\n",
       "      <th>2014-05-22</th>\n",
       "      <td>NaN</td>\n",
       "      <td>0.005358</td>\n",
       "      <td>-0.009429</td>\n",
       "      <td>0.005247</td>\n",
       "      <td>82647.578308</td>\n",
       "      <td>-0.999998</td>\n",
       "      <td>6.365766</td>\n",
       "      <td>0.012898</td>\n",
       "    </tr>\n",
       "    <tr>\n",
       "      <th>2014-05-23</th>\n",
       "      <td>NaN</td>\n",
       "      <td>0.012318</td>\n",
       "      <td>-0.013437</td>\n",
       "      <td>0.012630</td>\n",
       "      <td>94526.869154</td>\n",
       "      <td>-0.999999</td>\n",
       "      <td>6.295020</td>\n",
       "      <td>0.030234</td>\n",
       "    </tr>\n",
       "    <tr>\n",
       "      <th>2014-05-27</th>\n",
       "      <td>NaN</td>\n",
       "      <td>0.016204</td>\n",
       "      <td>-0.016345</td>\n",
       "      <td>0.016244</td>\n",
       "      <td>139404.874418</td>\n",
       "      <td>-0.999999</td>\n",
       "      <td>6.241820</td>\n",
       "      <td>0.016088</td>\n",
       "    </tr>\n",
       "    <tr>\n",
       "      <th>2014-05-28</th>\n",
       "      <td>NaN</td>\n",
       "      <td>0.006086</td>\n",
       "      <td>-0.009606</td>\n",
       "      <td>0.000369</td>\n",
       "      <td>126391.844243</td>\n",
       "      <td>-0.999999</td>\n",
       "      <td>6.396580</td>\n",
       "      <td>0.015584</td>\n",
       "    </tr>\n",
       "    <tr>\n",
       "      <th>2014-05-29</th>\n",
       "      <td>NaN</td>\n",
       "      <td>0.014367</td>\n",
       "      <td>-0.014289</td>\n",
       "      <td>0.012122</td>\n",
       "      <td>148128.468163</td>\n",
       "      <td>-0.999999</td>\n",
       "      <td>6.245410</td>\n",
       "      <td>0.014407</td>\n",
       "    </tr>\n",
       "    <tr>\n",
       "      <th>2014-05-30</th>\n",
       "      <td>NaN</td>\n",
       "      <td>0.009702</td>\n",
       "      <td>-0.023705</td>\n",
       "      <td>0.006519</td>\n",
       "      <td>222756.024737</td>\n",
       "      <td>-0.999999</td>\n",
       "      <td>6.405166</td>\n",
       "      <td>-0.010592</td>\n",
       "    </tr>\n",
       "    <tr>\n",
       "      <th>2014-06-02</th>\n",
       "      <td>NaN</td>\n",
       "      <td>0.001372</td>\n",
       "      <td>-0.019423</td>\n",
       "      <td>0.009880</td>\n",
       "      <td>146881.523945</td>\n",
       "      <td>-0.999999</td>\n",
       "      <td>6.428477</td>\n",
       "      <td>0.007172</td>\n",
       "    </tr>\n",
       "    <tr>\n",
       "      <th>2014-06-03</th>\n",
       "      <td>NaN</td>\n",
       "      <td>0.016357</td>\n",
       "      <td>-0.016423</td>\n",
       "      <td>0.014787</td>\n",
       "      <td>114779.722162</td>\n",
       "      <td>-0.999999</td>\n",
       "      <td>6.274555</td>\n",
       "      <td>0.025722</td>\n",
       "    </tr>\n",
       "    <tr>\n",
       "      <th>2014-06-04</th>\n",
       "      <td>NaN</td>\n",
       "      <td>0.016394</td>\n",
       "      <td>-0.018182</td>\n",
       "      <td>0.013693</td>\n",
       "      <td>130067.082629</td>\n",
       "      <td>-0.999999</td>\n",
       "      <td>6.294137</td>\n",
       "      <td>0.015387</td>\n",
       "    </tr>\n",
       "    <tr>\n",
       "      <th>2014-06-05</th>\n",
       "      <td>NaN</td>\n",
       "      <td>0.004906</td>\n",
       "      <td>-0.010410</td>\n",
       "      <td>0.007376</td>\n",
       "      <td>117325.642457</td>\n",
       "      <td>-0.999999</td>\n",
       "      <td>6.348595</td>\n",
       "      <td>0.001163</td>\n",
       "    </tr>\n",
       "    <tr>\n",
       "      <th>2014-06-06</th>\n",
       "      <td>NaN</td>\n",
       "      <td>0.002093</td>\n",
       "      <td>-0.010426</td>\n",
       "      <td>0.001707</td>\n",
       "      <td>135514.276241</td>\n",
       "      <td>-0.999999</td>\n",
       "      <td>6.397769</td>\n",
       "      <td>-0.855256</td>\n",
       "    </tr>\n",
       "    <tr>\n",
       "      <th>2014-06-09</th>\n",
       "      <td>NaN</td>\n",
       "      <td>0.012729</td>\n",
       "      <td>-0.022689</td>\n",
       "      <td>0.021253</td>\n",
       "      <td>804854.948928</td>\n",
       "      <td>-0.999999</td>\n",
       "      <td>6.261239</td>\n",
       "      <td>NaN</td>\n",
       "    </tr>\n",
       "  </tbody>\n",
       "</table>\n",
       "<p>69 rows × 8 columns</p>\n",
       "</div>"
      ],
      "text/plain": [
       "            Open      High       Low     Close         Volume  Adj Close  \\\n",
       "Date                                                                       \n",
       "2014-03-03   NaN  0.013813 -0.014774  0.009468  113109.692112  -0.999999   \n",
       "2014-03-04   NaN  0.003089 -0.009143  0.006575  121949.534736  -0.999999   \n",
       "2014-03-05   NaN  0.007214 -0.010510  0.006104   93949.896477  -0.999999   \n",
       "2014-03-06   NaN  0.003097 -0.011863  0.005018   87370.081132  -0.999998   \n",
       "2014-03-07   NaN  0.001676 -0.011147  0.008345  104030.366653  -0.999999   \n",
       "2014-03-10   NaN  0.009406 -0.009356  0.004883   84090.769197  -0.999998   \n",
       "2014-03-11   NaN  0.006144 -0.011416  0.006572  130212.403562  -0.999999   \n",
       "2014-03-12   NaN  0.005313 -0.009956  0.008665   92862.721125  -0.999999   \n",
       "2014-03-13   NaN  0.004131 -0.019457  0.002816  121426.869419  -0.999999   \n",
       "2014-03-14   NaN  0.003971 -0.014862  0.003231  113017.739180  -0.999999   \n",
       "2014-03-17   NaN  0.004302 -0.007774  0.001693   94706.443461  -0.999999   \n",
       "2014-03-18   NaN  0.011542 -0.012726  0.011805   98628.660107  -0.999999   \n",
       "2014-03-19   NaN  0.007478 -0.013501  0.004272  105764.536540  -0.999999   \n",
       "2014-03-20   NaN  0.005246 -0.009987  0.002560   98541.839999  -0.999999   \n",
       "2014-03-21   NaN  0.003422 -0.013902  0.012426  175485.710661  -0.999999   \n",
       "2014-03-24   NaN  0.003863 -0.010065  0.007719  164922.676313  -0.999999   \n",
       "2014-03-25   NaN  0.007849 -0.011287  0.010008  129493.672003  -0.999999   \n",
       "2014-03-26   NaN  0.004538 -0.018470  0.001707  138837.047444  -0.999999   \n",
       "2014-03-27   NaN  0.002741 -0.011782  0.004373  103277.199177  -0.999999   \n",
       "2014-03-28   NaN  0.001152 -0.008702  0.004885   93395.792562  -0.999999   \n",
       "2014-03-31   NaN  0.002930 -0.009023  0.001511   78560.877192  -0.999998   \n",
       "2014-04-01   NaN  0.007643 -0.009412  0.009091   92660.313682  -0.999999   \n",
       "2014-04-02   NaN  0.002028 -0.005925  0.004239   83134.565381  -0.999998   \n",
       "2014-04-03   NaN  0.002050 -0.008958  0.002139   75327.048631  -0.999998   \n",
       "2014-04-04   NaN  0.000352 -0.017444  0.002337  129390.141785  -0.999999   \n",
       "2014-04-07   NaN  0.005454 -0.016971  0.003027  138426.422862  -0.999999   \n",
       "2014-04-08   NaN  0.001771 -0.014103  0.009138  116482.451596  -0.999999   \n",
       "2014-04-09   NaN  0.015020 -0.015966  0.015900   97190.127135  -0.999999   \n",
       "2014-04-10   NaN  0.002940 -0.017041  0.000593  114450.359795  -0.999999   \n",
       "2014-04-11   NaN  0.007380 -0.010883  0.004776  130730.504384  -0.999999   \n",
       "...          ...       ...       ...       ...            ...        ...   \n",
       "2014-04-28   NaN  0.040066 -0.038943  0.037621  281726.338698  -1.000000   \n",
       "2014-04-29   NaN  0.003773 -0.010856  0.004784  142393.278511  -0.999999   \n",
       "2014-04-30   NaN  0.011457 -0.016065  0.000492  193461.359430  -0.999999   \n",
       "2014-05-01   NaN  0.004730 -0.014190  0.008732  103150.412251  -0.999999   \n",
       "2014-05-02   NaN  0.003140 -0.007556  0.004867   80795.851024  -0.999998   \n",
       "2014-05-05   NaN  0.018402 -0.018303  0.018576  119419.265685  -0.999999   \n",
       "2014-05-06   NaN  0.004337 -0.016545  0.000000  157535.205223  -0.999999   \n",
       "2014-05-07   NaN  0.003427 -0.016006  0.007827  119385.326046  -0.999999   \n",
       "2014-05-08   NaN  0.010472 -0.013476  0.002711   97916.139283  -0.999999   \n",
       "2014-05-09   NaN  0.002925 -0.010098  0.008978  124498.431315  -0.999999   \n",
       "2014-05-12   NaN  0.010502 -0.010545  0.009244   89910.439150  -0.999998   \n",
       "2014-05-13   NaN  0.004291 -0.006459  0.005180   67255.632846  -0.999998   \n",
       "2014-05-14   NaN  0.008389 -0.009474  0.003600   70049.686027  -0.999998   \n",
       "2014-05-15   NaN  0.003195 -0.014348  0.001326   98011.127278  -0.999999   \n",
       "2014-05-16   NaN  0.015120 -0.020300  0.020687  115585.514092  -0.999999   \n",
       "2014-05-19   NaN  0.015857 -0.016466  0.012154  131391.840609  -0.999999   \n",
       "2014-05-20   NaN  0.003126 -0.009350  0.006625   97085.203079  -0.999999   \n",
       "2014-05-21   NaN  0.004753 -0.007648  0.007059   81170.182389  -0.999998   \n",
       "2014-05-22   NaN  0.005358 -0.009429  0.005247   82647.578308  -0.999998   \n",
       "2014-05-23   NaN  0.012318 -0.013437  0.012630   94526.869154  -0.999999   \n",
       "2014-05-27   NaN  0.016204 -0.016345  0.016244  139404.874418  -0.999999   \n",
       "2014-05-28   NaN  0.006086 -0.009606  0.000369  126391.844243  -0.999999   \n",
       "2014-05-29   NaN  0.014367 -0.014289  0.012122  148128.468163  -0.999999   \n",
       "2014-05-30   NaN  0.009702 -0.023705  0.006519  222756.024737  -0.999999   \n",
       "2014-06-02   NaN  0.001372 -0.019423  0.009880  146881.523945  -0.999999   \n",
       "2014-06-03   NaN  0.016357 -0.016423  0.014787  114779.722162  -0.999999   \n",
       "2014-06-04   NaN  0.016394 -0.018182  0.013693  130067.082629  -0.999999   \n",
       "2014-06-05   NaN  0.004906 -0.010410  0.007376  117325.642457  -0.999999   \n",
       "2014-06-06   NaN  0.002093 -0.010426  0.001707  135514.276241  -0.999999   \n",
       "2014-06-09   NaN  0.012729 -0.022689  0.021253  804854.948928  -0.999999   \n",
       "\n",
       "                lag1     lead1  \n",
       "Date                            \n",
       "2014-03-03       NaN  6.467551  \n",
       "2014-03-04  6.370036  0.008716  \n",
       "2014-03-05  6.403025 -0.000922  \n",
       "2014-03-06  6.441138 -0.003607  \n",
       "2014-03-07  6.422969  0.000320  \n",
       "2014-03-10  6.411927  0.010651  \n",
       "2014-03-11  6.347089  0.010717  \n",
       "2014-03-12  6.411444 -0.010147  \n",
       "2014-03-13  6.501955 -0.022214  \n",
       "2014-03-14  6.502903 -0.007368  \n",
       "2014-03-17  6.389761  0.012789  \n",
       "2014-03-18  6.353578  0.008581  \n",
       "2014-03-19  6.420588 -0.005081  \n",
       "2014-03-20  6.454555  0.003030  \n",
       "2014-03-21  6.360579  0.019841  \n",
       "2014-03-24  6.331677  0.022745  \n",
       "2014-03-25  6.339682  0.001094  \n",
       "2014-03-26  6.490239 -0.013817  \n",
       "2014-03-27  6.450657 -0.005410  \n",
       "2014-03-28  6.426925 -0.001340  \n",
       "2014-03-31  6.420292  0.008922  \n",
       "2014-04-01  6.351384  0.010825  \n",
       "2014-04-02  6.406327 -0.005280  \n",
       "2014-04-03  6.470405 -0.019777  \n",
       "2014-04-04  6.515861 -0.028434  \n",
       "2014-04-07  6.536970 -0.015757  \n",
       "2014-04-08  6.419058  0.013086  \n",
       "2014-04-09  6.322389  0.000076  \n",
       "2014-04-10  6.515568 -0.020195  \n",
       "2014-04-11  6.473886 -0.003439  \n",
       "...              ...       ...  \n",
       "2014-04-28  6.142037  0.035651  \n",
       "2014-04-29  6.440677 -0.006733  \n",
       "2014-04-30  6.446795 -0.001435  \n",
       "2014-05-01  6.401199  0.004220  \n",
       "2014-05-02  6.404862  0.016028  \n",
       "2014-05-05  6.315186  0.003088  \n",
       "2014-05-06  6.500381 -0.014360  \n",
       "2014-05-07  6.444685 -0.010801  \n",
       "2014-05-08  6.431881 -0.011463  \n",
       "2014-05-09  6.408296  0.008231  \n",
       "2014-05-12  6.286708  0.014038  \n",
       "2014-05-13  6.365872  0.001754  \n",
       "2014-05-14  6.376062 -0.008320  \n",
       "2014-05-15  6.440700  0.006129  \n",
       "2014-05-16  6.270132  0.026782  \n",
       "2014-05-19  6.291035  0.012050  \n",
       "2014-05-20  6.375964  0.002845  \n",
       "2014-05-21  6.357960  0.004233  \n",
       "2014-05-22  6.365766  0.012898  \n",
       "2014-05-23  6.295020  0.030234  \n",
       "2014-05-27  6.241820  0.016088  \n",
       "2014-05-28  6.396580  0.015584  \n",
       "2014-05-29  6.245410  0.014407  \n",
       "2014-05-30  6.405166 -0.010592  \n",
       "2014-06-02  6.428477  0.007172  \n",
       "2014-06-03  6.274555  0.025722  \n",
       "2014-06-04  6.294137  0.015387  \n",
       "2014-06-05  6.348595  0.001163  \n",
       "2014-06-06  6.397769 -0.855256  \n",
       "2014-06-09  6.261239       NaN  \n",
       "\n",
       "[69 rows x 8 columns]"
      ]
     },
     "execution_count": 143,
     "metadata": {},
     "output_type": "execute_result"
    }
   ],
   "source": [
    "aapl.pct_change(axis=1)"
   ]
  },
  {
   "cell_type": "markdown",
   "metadata": {},
   "source": [
    "If you want to pull data from a number of companies, you can do so by specifying a list. "
   ]
  },
  {
   "cell_type": "code",
   "execution_count": 73,
   "metadata": {
    "collapsed": false
   },
   "outputs": [
    {
     "name": "stdout",
     "output_type": "stream",
     "text": [
      "                  Open        High         Low       Close    Volume  \\\n",
      "Date                                                                   \n",
      "2014-06-02  560.702520  560.902531  545.732448  553.932488   1435000   \n",
      "2014-06-03  550.992480  552.342495  542.552463  544.942440   1866600   \n",
      "2014-06-04  541.502464  548.612478  538.752429  544.662436   1816400   \n",
      "2014-06-05  546.402499  554.952498  544.452449  553.902499   1689100   \n",
      "2014-06-06  558.062528  558.062528  548.932509  556.332503   1736700   \n",
      "2014-06-09  557.152501  562.902523  556.042523  562.122552   1467500   \n",
      "2014-06-02  633.959984  634.830017  622.500015  628.650009  92337700   \n",
      "2014-06-03  628.459991  638.740013  628.250000  637.539986  73177300   \n",
      "2014-06-04  637.440010  647.890022  636.109993  644.819992  83870500   \n",
      "2014-06-05  646.199997  649.370003  642.610008  647.349983  75951400   \n",
      "2014-06-06  649.900002  651.259979  644.470024  645.570023  87484600   \n",
      "2014-06-09   92.699997   93.879997   91.750000   93.699997  75415000   \n",
      "2014-06-02   24.639999   24.799999   24.559999   24.780001  20393300   \n",
      "2014-06-03   24.750000   24.820000   24.450001   24.680000  23339100   \n",
      "2014-06-04   24.610001   24.650000   24.400000   24.500000  20635100   \n",
      "2014-06-05   24.620001   24.740000   24.410000   24.700001  23320300   \n",
      "2014-06-06   24.730000   24.950001   24.709999   24.830000  22485100   \n",
      "2014-06-09   24.790001   24.950001   24.719999   24.799999  18818400   \n",
      "2014-06-02   84.269997   84.419998   84.010002   84.269997   3933800   \n",
      "2014-06-03   84.070000   84.230003   83.720001   83.879997   4541400   \n",
      "2014-06-04   83.849998   84.400002   83.309998   84.239998   5800100   \n",
      "2014-06-05   84.370003   84.949997   83.900002   84.779999   5956000   \n",
      "2014-06-06   84.910004   84.989998   84.269997   84.610001   5302800   \n",
      "2014-06-09   84.599998   85.860001   84.529999   85.480003   5667600   \n",
      "2014-06-02   40.950001   41.090000   40.680000   40.790001  18504300   \n",
      "2014-06-03   40.599998   40.680000   40.250000   40.290001  18068900   \n",
      "2014-06-04   40.209999   40.369999   39.860001   40.320000  23209000   \n",
      "2014-06-05   40.590000   41.250000   40.400002   41.209999  31865200   \n",
      "2014-06-06   41.480000   41.660000   41.240002   41.480000  24060500   \n",
      "2014-06-09   41.389999   41.480000   41.020000   41.270000  15019200   \n",
      "\n",
      "             Adj Close company  \n",
      "Date                            \n",
      "2014-06-02  553.932488    GOOG  \n",
      "2014-06-03  544.942440    GOOG  \n",
      "2014-06-04  544.662436    GOOG  \n",
      "2014-06-05  553.902499    GOOG  \n",
      "2014-06-06  556.332503    GOOG  \n",
      "2014-06-09  562.122552    GOOG  \n",
      "2014-06-02   85.212629    AAPL  \n",
      "2014-06-03   86.417653    AAPL  \n",
      "2014-06-04   87.404447    AAPL  \n",
      "2014-06-05   87.747384    AAPL  \n",
      "2014-06-06   87.506113    AAPL  \n",
      "2014-06-09   88.906324    AAPL  \n",
      "2014-06-02   22.494377    CSCO  \n",
      "2014-06-03   22.403600    CSCO  \n",
      "2014-06-04   22.240202    CSCO  \n",
      "2014-06-05   22.421756    CSCO  \n",
      "2014-06-06   22.539764    CSCO  \n",
      "2014-06-09   22.512531    CSCO  \n",
      "2014-06-02   80.987266     DIS  \n",
      "2014-06-03   80.612459     DIS  \n",
      "2014-06-04   80.958436     DIS  \n",
      "2014-06-05   81.477401     DIS  \n",
      "2014-06-06   81.314025     DIS  \n",
      "2014-06-09   82.150137     DIS  \n",
      "2014-06-02   37.937830    MSFT  \n",
      "2014-06-03   37.472792    MSFT  \n",
      "2014-06-04   37.500693    MSFT  \n",
      "2014-06-05   38.328461    MSFT  \n",
      "2014-06-06   38.579582    MSFT  \n",
      "2014-06-09   38.384267    MSFT  \n"
     ]
    }
   ],
   "source": [
    "alldata = []\n",
    "for company in ['GOOG','AAPL','CSCO','DIS','MSFT']:\n",
    "    data = web.get_data_yahoo(company,start='6/1/2014',end='6/9/2014')   # Get data based on Company name\n",
    "    data['company'] = company\n",
    "    alldata.append(data)\n",
    "\n",
    "print (pd.concat(alldata))                                               # Join the Array form"
   ]
  },
  {
   "cell_type": "code",
   "execution_count": 74,
   "metadata": {
    "collapsed": false
   },
   "outputs": [
    {
     "data": {
      "text/plain": [
       "{'AAPL':                   Open        High         Low       Close    Volume  \\\n",
       " Date                                                                   \n",
       " 2014-06-02  633.959984  634.830017  622.500015  628.650009  92337700   \n",
       " 2014-06-03  628.459991  638.740013  628.250000  637.539986  73177300   \n",
       " 2014-06-04  637.440010  647.890022  636.109993  644.819992  83870500   \n",
       " 2014-06-05  646.199997  649.370003  642.610008  647.349983  75951400   \n",
       " 2014-06-06  649.900002  651.259979  644.470024  645.570023  87484600   \n",
       " 2014-06-09   92.699997   93.879997   91.750000   93.699997  75415000   \n",
       " \n",
       "             Adj Close  \n",
       " Date                   \n",
       " 2014-06-02  85.212629  \n",
       " 2014-06-03  86.417653  \n",
       " 2014-06-04  87.404447  \n",
       " 2014-06-05  87.747384  \n",
       " 2014-06-06  87.506113  \n",
       " 2014-06-09  88.906324  ,\n",
       " 'CSCO':                  Open       High        Low      Close    Volume  Adj Close\n",
       " Date                                                                       \n",
       " 2014-06-02  24.639999  24.799999  24.559999  24.780001  20393300  22.494377\n",
       " 2014-06-03  24.750000  24.820000  24.450001  24.680000  23339100  22.403600\n",
       " 2014-06-04  24.610001  24.650000  24.400000  24.500000  20635100  22.240202\n",
       " 2014-06-05  24.620001  24.740000  24.410000  24.700001  23320300  22.421756\n",
       " 2014-06-06  24.730000  24.950001  24.709999  24.830000  22485100  22.539764\n",
       " 2014-06-09  24.790001  24.950001  24.719999  24.799999  18818400  22.512531,\n",
       " 'DIS':                  Open       High        Low      Close   Volume  Adj Close\n",
       " Date                                                                      \n",
       " 2014-06-02  84.269997  84.419998  84.010002  84.269997  3933800  80.987266\n",
       " 2014-06-03  84.070000  84.230003  83.720001  83.879997  4541400  80.612459\n",
       " 2014-06-04  83.849998  84.400002  83.309998  84.239998  5800100  80.958436\n",
       " 2014-06-05  84.370003  84.949997  83.900002  84.779999  5956000  81.477401\n",
       " 2014-06-06  84.910004  84.989998  84.269997  84.610001  5302800  81.314025\n",
       " 2014-06-09  84.599998  85.860001  84.529999  85.480003  5667600  82.150137,\n",
       " 'GOOG':                   Open        High         Low       Close   Volume  \\\n",
       " Date                                                                  \n",
       " 2014-06-02  560.702520  560.902531  545.732448  553.932488  1435000   \n",
       " 2014-06-03  550.992480  552.342495  542.552463  544.942440  1866600   \n",
       " 2014-06-04  541.502464  548.612478  538.752429  544.662436  1816400   \n",
       " 2014-06-05  546.402499  554.952498  544.452449  553.902499  1689100   \n",
       " 2014-06-06  558.062528  558.062528  548.932509  556.332503  1736700   \n",
       " 2014-06-09  557.152501  562.902523  556.042523  562.122552  1467500   \n",
       " \n",
       "              Adj Close  \n",
       " Date                    \n",
       " 2014-06-02  553.932488  \n",
       " 2014-06-03  544.942440  \n",
       " 2014-06-04  544.662436  \n",
       " 2014-06-05  553.902499  \n",
       " 2014-06-06  556.332503  \n",
       " 2014-06-09  562.122552  ,\n",
       " 'MSFT':                  Open       High        Low      Close    Volume  Adj Close\n",
       " Date                                                                       \n",
       " 2014-06-02  40.950001  41.090000  40.680000  40.790001  18504300  37.937830\n",
       " 2014-06-03  40.599998  40.680000  40.250000  40.290001  18068900  37.472792\n",
       " 2014-06-04  40.209999  40.369999  39.860001  40.320000  23209000  37.500693\n",
       " 2014-06-05  40.590000  41.250000  40.400002  41.209999  31865200  38.328461\n",
       " 2014-06-06  41.480000  41.660000  41.240002  41.480000  24060500  38.579582\n",
       " 2014-06-09  41.389999  41.480000  41.020000  41.270000  15019200  38.384267}"
      ]
     },
     "execution_count": 74,
     "metadata": {},
     "output_type": "execute_result"
    }
   ],
   "source": [
    "all_data = {}\n",
    "for ticker in ['GOOG','AAPL','CSCO','DIS','MSFT']:                                 # Dictionary form\n",
    "    all_data[ticker]= web.get_data_yahoo(ticker,start='6/1/2014',end='6/9/2014')   # Get data based on Ticker name\n",
    "all_data\n"
   ]
  },
  {
   "cell_type": "code",
   "execution_count": 75,
   "metadata": {
    "collapsed": false
   },
   "outputs": [
    {
     "data": {
      "text/html": [
       "<div>\n",
       "<table border=\"1\" class=\"dataframe\">\n",
       "  <thead>\n",
       "    <tr style=\"text-align: right;\">\n",
       "      <th></th>\n",
       "      <th>AAPL</th>\n",
       "      <th>CSCO</th>\n",
       "      <th>DIS</th>\n",
       "      <th>GOOG</th>\n",
       "      <th>MSFT</th>\n",
       "    </tr>\n",
       "    <tr>\n",
       "      <th>Date</th>\n",
       "      <th></th>\n",
       "      <th></th>\n",
       "      <th></th>\n",
       "      <th></th>\n",
       "      <th></th>\n",
       "    </tr>\n",
       "  </thead>\n",
       "  <tbody>\n",
       "    <tr>\n",
       "      <th>2014-06-02</th>\n",
       "      <td>85.212629</td>\n",
       "      <td>22.494377</td>\n",
       "      <td>80.987266</td>\n",
       "      <td>553.932488</td>\n",
       "      <td>37.937830</td>\n",
       "    </tr>\n",
       "    <tr>\n",
       "      <th>2014-06-03</th>\n",
       "      <td>86.417653</td>\n",
       "      <td>22.403600</td>\n",
       "      <td>80.612459</td>\n",
       "      <td>544.942440</td>\n",
       "      <td>37.472792</td>\n",
       "    </tr>\n",
       "    <tr>\n",
       "      <th>2014-06-04</th>\n",
       "      <td>87.404447</td>\n",
       "      <td>22.240202</td>\n",
       "      <td>80.958436</td>\n",
       "      <td>544.662436</td>\n",
       "      <td>37.500693</td>\n",
       "    </tr>\n",
       "    <tr>\n",
       "      <th>2014-06-05</th>\n",
       "      <td>87.747384</td>\n",
       "      <td>22.421756</td>\n",
       "      <td>81.477401</td>\n",
       "      <td>553.902499</td>\n",
       "      <td>38.328461</td>\n",
       "    </tr>\n",
       "    <tr>\n",
       "      <th>2014-06-06</th>\n",
       "      <td>87.506113</td>\n",
       "      <td>22.539764</td>\n",
       "      <td>81.314025</td>\n",
       "      <td>556.332503</td>\n",
       "      <td>38.579582</td>\n",
       "    </tr>\n",
       "    <tr>\n",
       "      <th>2014-06-09</th>\n",
       "      <td>88.906324</td>\n",
       "      <td>22.512531</td>\n",
       "      <td>82.150137</td>\n",
       "      <td>562.122552</td>\n",
       "      <td>38.384267</td>\n",
       "    </tr>\n",
       "  </tbody>\n",
       "</table>\n",
       "</div>"
      ],
      "text/plain": [
       "                 AAPL       CSCO        DIS        GOOG       MSFT\n",
       "Date                                                              \n",
       "2014-06-02  85.212629  22.494377  80.987266  553.932488  37.937830\n",
       "2014-06-03  86.417653  22.403600  80.612459  544.942440  37.472792\n",
       "2014-06-04  87.404447  22.240202  80.958436  544.662436  37.500693\n",
       "2014-06-05  87.747384  22.421756  81.477401  553.902499  38.328461\n",
       "2014-06-06  87.506113  22.539764  81.314025  556.332503  38.579582\n",
       "2014-06-09  88.906324  22.512531  82.150137  562.122552  38.384267"
      ]
     },
     "execution_count": 75,
     "metadata": {},
     "output_type": "execute_result"
    }
   ],
   "source": [
    "closeprice = pd.DataFrame({tic:data['Adj Close']\n",
    "                           for tic, data in all_data.items()})  # Try to relate with the last column in prev example for MSFT\n",
    "closeprice"
   ]
  },
  {
   "cell_type": "code",
   "execution_count": 76,
   "metadata": {
    "collapsed": false
   },
   "outputs": [
    {
     "data": {
      "text/html": [
       "<div>\n",
       "<table border=\"1\" class=\"dataframe\">\n",
       "  <thead>\n",
       "    <tr style=\"text-align: right;\">\n",
       "      <th></th>\n",
       "      <th>AAPL</th>\n",
       "      <th>CSCO</th>\n",
       "      <th>DIS</th>\n",
       "      <th>GOOG</th>\n",
       "      <th>MSFT</th>\n",
       "    </tr>\n",
       "    <tr>\n",
       "      <th>Date</th>\n",
       "      <th></th>\n",
       "      <th></th>\n",
       "      <th></th>\n",
       "      <th></th>\n",
       "      <th></th>\n",
       "    </tr>\n",
       "  </thead>\n",
       "  <tbody>\n",
       "    <tr>\n",
       "      <th>2014-06-02</th>\n",
       "      <td>92337700</td>\n",
       "      <td>20393300</td>\n",
       "      <td>3933800</td>\n",
       "      <td>1435000</td>\n",
       "      <td>18504300</td>\n",
       "    </tr>\n",
       "    <tr>\n",
       "      <th>2014-06-03</th>\n",
       "      <td>73177300</td>\n",
       "      <td>23339100</td>\n",
       "      <td>4541400</td>\n",
       "      <td>1866600</td>\n",
       "      <td>18068900</td>\n",
       "    </tr>\n",
       "    <tr>\n",
       "      <th>2014-06-04</th>\n",
       "      <td>83870500</td>\n",
       "      <td>20635100</td>\n",
       "      <td>5800100</td>\n",
       "      <td>1816400</td>\n",
       "      <td>23209000</td>\n",
       "    </tr>\n",
       "    <tr>\n",
       "      <th>2014-06-05</th>\n",
       "      <td>75951400</td>\n",
       "      <td>23320300</td>\n",
       "      <td>5956000</td>\n",
       "      <td>1689100</td>\n",
       "      <td>31865200</td>\n",
       "    </tr>\n",
       "    <tr>\n",
       "      <th>2014-06-06</th>\n",
       "      <td>87484600</td>\n",
       "      <td>22485100</td>\n",
       "      <td>5302800</td>\n",
       "      <td>1736700</td>\n",
       "      <td>24060500</td>\n",
       "    </tr>\n",
       "    <tr>\n",
       "      <th>2014-06-09</th>\n",
       "      <td>75415000</td>\n",
       "      <td>18818400</td>\n",
       "      <td>5667600</td>\n",
       "      <td>1467500</td>\n",
       "      <td>15019200</td>\n",
       "    </tr>\n",
       "  </tbody>\n",
       "</table>\n",
       "</div>"
      ],
      "text/plain": [
       "                AAPL      CSCO      DIS     GOOG      MSFT\n",
       "Date                                                      \n",
       "2014-06-02  92337700  20393300  3933800  1435000  18504300\n",
       "2014-06-03  73177300  23339100  4541400  1866600  18068900\n",
       "2014-06-04  83870500  20635100  5800100  1816400  23209000\n",
       "2014-06-05  75951400  23320300  5956000  1689100  31865200\n",
       "2014-06-06  87484600  22485100  5302800  1736700  24060500\n",
       "2014-06-09  75415000  18818400  5667600  1467500  15019200"
      ]
     },
     "execution_count": 76,
     "metadata": {},
     "output_type": "execute_result"
    }
   ],
   "source": [
    "volume = pd.DataFrame({tic:data['Volume']\n",
    "                       for tic, data in all_data.items()})     # Iterates over a dictionary\n",
    "volume"
   ]
  },
  {
   "cell_type": "code",
   "execution_count": 77,
   "metadata": {
    "collapsed": false
   },
   "outputs": [
    {
     "data": {
      "text/html": [
       "<div>\n",
       "<table border=\"1\" class=\"dataframe\">\n",
       "  <thead>\n",
       "    <tr style=\"text-align: right;\">\n",
       "      <th></th>\n",
       "      <th>AAPL</th>\n",
       "      <th>CSCO</th>\n",
       "      <th>DIS</th>\n",
       "      <th>GOOG</th>\n",
       "      <th>MSFT</th>\n",
       "    </tr>\n",
       "    <tr>\n",
       "      <th>Date</th>\n",
       "      <th></th>\n",
       "      <th></th>\n",
       "      <th></th>\n",
       "      <th></th>\n",
       "      <th></th>\n",
       "    </tr>\n",
       "  </thead>\n",
       "  <tbody>\n",
       "    <tr>\n",
       "      <th>2014-06-02</th>\n",
       "      <td>NaN</td>\n",
       "      <td>NaN</td>\n",
       "      <td>NaN</td>\n",
       "      <td>NaN</td>\n",
       "      <td>NaN</td>\n",
       "    </tr>\n",
       "    <tr>\n",
       "      <th>2014-06-03</th>\n",
       "      <td>0.014141</td>\n",
       "      <td>-0.004036</td>\n",
       "      <td>-0.004628</td>\n",
       "      <td>-0.016230</td>\n",
       "      <td>-0.012258</td>\n",
       "    </tr>\n",
       "    <tr>\n",
       "      <th>2014-06-04</th>\n",
       "      <td>0.011419</td>\n",
       "      <td>-0.007293</td>\n",
       "      <td>0.004292</td>\n",
       "      <td>-0.000514</td>\n",
       "      <td>0.000745</td>\n",
       "    </tr>\n",
       "    <tr>\n",
       "      <th>2014-06-05</th>\n",
       "      <td>0.003924</td>\n",
       "      <td>0.008163</td>\n",
       "      <td>0.006410</td>\n",
       "      <td>0.016965</td>\n",
       "      <td>0.022073</td>\n",
       "    </tr>\n",
       "    <tr>\n",
       "      <th>2014-06-06</th>\n",
       "      <td>-0.002750</td>\n",
       "      <td>0.005263</td>\n",
       "      <td>-0.002005</td>\n",
       "      <td>0.004387</td>\n",
       "      <td>0.006552</td>\n",
       "    </tr>\n",
       "    <tr>\n",
       "      <th>2014-06-09</th>\n",
       "      <td>0.016001</td>\n",
       "      <td>-0.001208</td>\n",
       "      <td>0.010283</td>\n",
       "      <td>0.010408</td>\n",
       "      <td>-0.005063</td>\n",
       "    </tr>\n",
       "  </tbody>\n",
       "</table>\n",
       "</div>"
      ],
      "text/plain": [
       "                AAPL      CSCO       DIS      GOOG      MSFT\n",
       "Date                                                        \n",
       "2014-06-02       NaN       NaN       NaN       NaN       NaN\n",
       "2014-06-03  0.014141 -0.004036 -0.004628 -0.016230 -0.012258\n",
       "2014-06-04  0.011419 -0.007293  0.004292 -0.000514  0.000745\n",
       "2014-06-05  0.003924  0.008163  0.006410  0.016965  0.022073\n",
       "2014-06-06 -0.002750  0.005263 -0.002005  0.004387  0.006552\n",
       "2014-06-09  0.016001 -0.001208  0.010283  0.010408 -0.005063"
      ]
     },
     "execution_count": 77,
     "metadata": {},
     "output_type": "execute_result"
    }
   ],
   "source": [
    "ret = closeprice.pct_change()\n",
    "ret"
   ]
  },
  {
   "cell_type": "code",
   "execution_count": 78,
   "metadata": {
    "collapsed": false
   },
   "outputs": [],
   "source": [
    "volchange = volume.pct_change()         # Try yourself\n",
    "#volchange"
   ]
  },
  {
   "cell_type": "code",
   "execution_count": 79,
   "metadata": {
    "collapsed": false
   },
   "outputs": [
    {
     "data": {
      "text/html": [
       "<div>\n",
       "<table border=\"1\" class=\"dataframe\">\n",
       "  <thead>\n",
       "    <tr style=\"text-align: right;\">\n",
       "      <th></th>\n",
       "      <th>AAPL</th>\n",
       "      <th>CSCO</th>\n",
       "      <th>DIS</th>\n",
       "      <th>GOOG</th>\n",
       "      <th>MSFT</th>\n",
       "    </tr>\n",
       "  </thead>\n",
       "  <tbody>\n",
       "    <tr>\n",
       "      <th>AAPL</th>\n",
       "      <td>1.000000</td>\n",
       "      <td>-0.745784</td>\n",
       "      <td>0.293663</td>\n",
       "      <td>-0.362720</td>\n",
       "      <td>-0.689093</td>\n",
       "    </tr>\n",
       "    <tr>\n",
       "      <th>CSCO</th>\n",
       "      <td>-0.745784</td>\n",
       "      <td>1.000000</td>\n",
       "      <td>0.090216</td>\n",
       "      <td>0.666312</td>\n",
       "      <td>0.785344</td>\n",
       "    </tr>\n",
       "    <tr>\n",
       "      <th>DIS</th>\n",
       "      <td>0.293663</td>\n",
       "      <td>0.090216</td>\n",
       "      <td>1.000000</td>\n",
       "      <td>0.769141</td>\n",
       "      <td>0.319371</td>\n",
       "    </tr>\n",
       "    <tr>\n",
       "      <th>GOOG</th>\n",
       "      <td>-0.362720</td>\n",
       "      <td>0.666312</td>\n",
       "      <td>0.769141</td>\n",
       "      <td>1.000000</td>\n",
       "      <td>0.782584</td>\n",
       "    </tr>\n",
       "    <tr>\n",
       "      <th>MSFT</th>\n",
       "      <td>-0.689093</td>\n",
       "      <td>0.785344</td>\n",
       "      <td>0.319371</td>\n",
       "      <td>0.782584</td>\n",
       "      <td>1.000000</td>\n",
       "    </tr>\n",
       "  </tbody>\n",
       "</table>\n",
       "</div>"
      ],
      "text/plain": [
       "          AAPL      CSCO       DIS      GOOG      MSFT\n",
       "AAPL  1.000000 -0.745784  0.293663 -0.362720 -0.689093\n",
       "CSCO -0.745784  1.000000  0.090216  0.666312  0.785344\n",
       "DIS   0.293663  0.090216  1.000000  0.769141  0.319371\n",
       "GOOG -0.362720  0.666312  0.769141  1.000000  0.782584\n",
       "MSFT -0.689093  0.785344  0.319371  0.782584  1.000000"
      ]
     },
     "execution_count": 79,
     "metadata": {},
     "output_type": "execute_result"
    }
   ],
   "source": [
    "ret.corr()                              # Check CSCO & MSFT trend"
   ]
  },
  {
   "cell_type": "code",
   "execution_count": 80,
   "metadata": {
    "collapsed": false
   },
   "outputs": [
    {
     "data": {
      "text/html": [
       "<div>\n",
       "<table border=\"1\" class=\"dataframe\">\n",
       "  <thead>\n",
       "    <tr style=\"text-align: right;\">\n",
       "      <th></th>\n",
       "      <th>AAPL</th>\n",
       "      <th>CSCO</th>\n",
       "      <th>DIS</th>\n",
       "      <th>GOOG</th>\n",
       "      <th>MSFT</th>\n",
       "    </tr>\n",
       "  </thead>\n",
       "  <tbody>\n",
       "    <tr>\n",
       "      <th>AAPL</th>\n",
       "      <td>0.000061</td>\n",
       "      <td>-0.000037</td>\n",
       "      <td>0.000014</td>\n",
       "      <td>-0.000036</td>\n",
       "      <td>-0.000070</td>\n",
       "    </tr>\n",
       "    <tr>\n",
       "      <th>CSCO</th>\n",
       "      <td>-0.000037</td>\n",
       "      <td>0.000041</td>\n",
       "      <td>0.000004</td>\n",
       "      <td>0.000054</td>\n",
       "      <td>0.000066</td>\n",
       "    </tr>\n",
       "    <tr>\n",
       "      <th>DIS</th>\n",
       "      <td>0.000014</td>\n",
       "      <td>0.000004</td>\n",
       "      <td>0.000037</td>\n",
       "      <td>0.000059</td>\n",
       "      <td>0.000025</td>\n",
       "    </tr>\n",
       "    <tr>\n",
       "      <th>GOOG</th>\n",
       "      <td>-0.000036</td>\n",
       "      <td>0.000054</td>\n",
       "      <td>0.000059</td>\n",
       "      <td>0.000158</td>\n",
       "      <td>0.000128</td>\n",
       "    </tr>\n",
       "    <tr>\n",
       "      <th>MSFT</th>\n",
       "      <td>-0.000070</td>\n",
       "      <td>0.000066</td>\n",
       "      <td>0.000025</td>\n",
       "      <td>0.000128</td>\n",
       "      <td>0.000169</td>\n",
       "    </tr>\n",
       "  </tbody>\n",
       "</table>\n",
       "</div>"
      ],
      "text/plain": [
       "          AAPL      CSCO       DIS      GOOG      MSFT\n",
       "AAPL  0.000061 -0.000037  0.000014 -0.000036 -0.000070\n",
       "CSCO -0.000037  0.000041  0.000004  0.000054  0.000066\n",
       "DIS   0.000014  0.000004  0.000037  0.000059  0.000025\n",
       "GOOG -0.000036  0.000054  0.000059  0.000158  0.000128\n",
       "MSFT -0.000070  0.000066  0.000025  0.000128  0.000169"
      ]
     },
     "execution_count": 80,
     "metadata": {},
     "output_type": "execute_result"
    }
   ],
   "source": [
    "ret.cov()"
   ]
  },
  {
   "cell_type": "code",
   "execution_count": 81,
   "metadata": {
    "collapsed": false
   },
   "outputs": [
    {
     "data": {
      "text/plain": [
       "0.78258435736776322"
      ]
     },
     "execution_count": 81,
     "metadata": {},
     "output_type": "execute_result"
    }
   ],
   "source": [
    "ret.GOOG.corr(ret.MSFT)    # Correlation between Company A & Company B"
   ]
  },
  {
   "cell_type": "code",
   "execution_count": 82,
   "metadata": {
    "collapsed": false
   },
   "outputs": [
    {
     "data": {
      "text/plain": [
       "AAPL   -0.689093\n",
       "CSCO    0.785344\n",
       "DIS     0.319371\n",
       "GOOG    0.782584\n",
       "MSFT    1.000000\n",
       "dtype: float64"
      ]
     },
     "execution_count": 82,
     "metadata": {},
     "output_type": "execute_result"
    }
   ],
   "source": [
    "ret.corrwith(ret.MSFT)    # Correlation between Company A & All other Companies"
   ]
  },
  {
   "cell_type": "code",
   "execution_count": 83,
   "metadata": {
    "collapsed": false
   },
   "outputs": [
    {
     "data": {
      "text/plain": [
       "AAPL   -0.584612\n",
       "CSCO    0.371548\n",
       "DIS     0.106456\n",
       "GOOG   -0.892679\n",
       "MSFT    0.532331\n",
       "dtype: float64"
      ]
     },
     "execution_count": 83,
     "metadata": {},
     "output_type": "execute_result"
    }
   ],
   "source": [
    "ret.corrwith(volchange)  # Correlation of pct change in close price with volume change for the company"
   ]
  },
  {
   "cell_type": "code",
   "execution_count": 84,
   "metadata": {
    "collapsed": false
   },
   "outputs": [
    {
     "data": {
      "text/html": [
       "<div>\n",
       "<table border=\"1\" class=\"dataframe\">\n",
       "  <thead>\n",
       "    <tr style=\"text-align: right;\">\n",
       "      <th></th>\n",
       "      <th>Open</th>\n",
       "      <th>High</th>\n",
       "      <th>Low</th>\n",
       "      <th>Close</th>\n",
       "      <th>Volume</th>\n",
       "      <th>Adj Close</th>\n",
       "    </tr>\n",
       "    <tr>\n",
       "      <th>Date</th>\n",
       "      <th></th>\n",
       "      <th></th>\n",
       "      <th></th>\n",
       "      <th></th>\n",
       "      <th></th>\n",
       "      <th></th>\n",
       "    </tr>\n",
       "  </thead>\n",
       "  <tbody>\n",
       "    <tr>\n",
       "      <th>2014-03-03</th>\n",
       "      <td>523.419991</td>\n",
       "      <td>530.650009</td>\n",
       "      <td>522.809990</td>\n",
       "      <td>527.760010</td>\n",
       "      <td>59695300</td>\n",
       "      <td>71.139789</td>\n",
       "    </tr>\n",
       "    <tr>\n",
       "      <th>2014-03-04</th>\n",
       "      <td>530.999977</td>\n",
       "      <td>532.640015</td>\n",
       "      <td>527.769997</td>\n",
       "      <td>531.239983</td>\n",
       "      <td>64785000</td>\n",
       "      <td>71.608874</td>\n",
       "    </tr>\n",
       "    <tr>\n",
       "      <th>2014-03-05</th>\n",
       "      <td>530.919975</td>\n",
       "      <td>534.750023</td>\n",
       "      <td>529.129974</td>\n",
       "      <td>532.360008</td>\n",
       "      <td>50015700</td>\n",
       "      <td>71.759849</td>\n",
       "    </tr>\n",
       "    <tr>\n",
       "      <th>2014-03-06</th>\n",
       "      <td>532.789978</td>\n",
       "      <td>534.440002</td>\n",
       "      <td>528.099991</td>\n",
       "      <td>530.749985</td>\n",
       "      <td>46372200</td>\n",
       "      <td>71.542825</td>\n",
       "    </tr>\n",
       "    <tr>\n",
       "      <th>2014-03-07</th>\n",
       "      <td>531.090019</td>\n",
       "      <td>531.980026</td>\n",
       "      <td>526.050011</td>\n",
       "      <td>530.440018</td>\n",
       "      <td>55182400</td>\n",
       "      <td>71.501042</td>\n",
       "    </tr>\n",
       "  </tbody>\n",
       "</table>\n",
       "</div>"
      ],
      "text/plain": [
       "                  Open        High         Low       Close    Volume  \\\n",
       "Date                                                                   \n",
       "2014-03-03  523.419991  530.650009  522.809990  527.760010  59695300   \n",
       "2014-03-04  530.999977  532.640015  527.769997  531.239983  64785000   \n",
       "2014-03-05  530.919975  534.750023  529.129974  532.360008  50015700   \n",
       "2014-03-06  532.789978  534.440002  528.099991  530.749985  46372200   \n",
       "2014-03-07  531.090019  531.980026  526.050011  530.440018  55182400   \n",
       "\n",
       "            Adj Close  \n",
       "Date                   \n",
       "2014-03-03  71.139789  \n",
       "2014-03-04  71.608874  \n",
       "2014-03-05  71.759849  \n",
       "2014-03-06  71.542825  \n",
       "2014-03-07  71.501042  "
      ]
     },
     "execution_count": 84,
     "metadata": {},
     "output_type": "execute_result"
    }
   ],
   "source": [
    "aapl = web.get_data_yahoo('aapl',start='3/1/2014',end='6/9/2014')\n",
    "aapl.head()\n",
    "#aapl"
   ]
  },
  {
   "cell_type": "code",
   "execution_count": 85,
   "metadata": {
    "collapsed": false
   },
   "outputs": [
    {
     "name": "stderr",
     "output_type": "stream",
     "text": [
      "C:\\Users\\User\\Anaconda3\\lib\\site-packages\\ipykernel\\__main__.py:1: FutureWarning: pd.rolling_mean is deprecated for Series and will be removed in a future version, replace with \n",
      "\tSeries.rolling(window=10,center=False).mean()\n",
      "  if __name__ == '__main__':\n"
     ]
    },
    {
     "data": {
      "text/plain": [
       "Date\n",
       "2014-06-03    78289190.0\n",
       "2014-06-04    80805340.0\n",
       "2014-06-05    83478990.0\n",
       "2014-06-06    87208450.0\n",
       "2014-06-09    88944710.0\n",
       "Name: Volume, dtype: float64"
      ]
     },
     "execution_count": 85,
     "metadata": {},
     "output_type": "execute_result"
    }
   ],
   "source": [
    "mov_avg = pd.rolling_mean(aapl.Volume,10)   # Lets get moving averages (Averages of subset) for Apple. \n",
    "mov_avg.tail()\n",
    "#mov_avg"
   ]
  },
  {
   "cell_type": "code",
   "execution_count": 86,
   "metadata": {
    "collapsed": false
   },
   "outputs": [
    {
     "data": {
      "text/html": [
       "<div>\n",
       "<table border=\"1\" class=\"dataframe\">\n",
       "  <thead>\n",
       "    <tr style=\"text-align: right;\">\n",
       "      <th></th>\n",
       "      <th>Open</th>\n",
       "      <th>High</th>\n",
       "      <th>Low</th>\n",
       "      <th>Close</th>\n",
       "      <th>Volume</th>\n",
       "      <th>Adj Close</th>\n",
       "      <th>lag1</th>\n",
       "      <th>lead1</th>\n",
       "    </tr>\n",
       "    <tr>\n",
       "      <th>Date</th>\n",
       "      <th></th>\n",
       "      <th></th>\n",
       "      <th></th>\n",
       "      <th></th>\n",
       "      <th></th>\n",
       "      <th></th>\n",
       "      <th></th>\n",
       "      <th></th>\n",
       "    </tr>\n",
       "  </thead>\n",
       "  <tbody>\n",
       "    <tr>\n",
       "      <th>2014-03-03</th>\n",
       "      <td>523.419991</td>\n",
       "      <td>530.650009</td>\n",
       "      <td>522.809990</td>\n",
       "      <td>527.760010</td>\n",
       "      <td>59695300</td>\n",
       "      <td>71.139789</td>\n",
       "      <td>NaN</td>\n",
       "      <td>531.239983</td>\n",
       "    </tr>\n",
       "    <tr>\n",
       "      <th>2014-03-04</th>\n",
       "      <td>530.999977</td>\n",
       "      <td>532.640015</td>\n",
       "      <td>527.769997</td>\n",
       "      <td>531.239983</td>\n",
       "      <td>64785000</td>\n",
       "      <td>71.608874</td>\n",
       "      <td>527.760010</td>\n",
       "      <td>532.360008</td>\n",
       "    </tr>\n",
       "    <tr>\n",
       "      <th>2014-03-05</th>\n",
       "      <td>530.919975</td>\n",
       "      <td>534.750023</td>\n",
       "      <td>529.129974</td>\n",
       "      <td>532.360008</td>\n",
       "      <td>50015700</td>\n",
       "      <td>71.759849</td>\n",
       "      <td>531.239983</td>\n",
       "      <td>530.749985</td>\n",
       "    </tr>\n",
       "    <tr>\n",
       "      <th>2014-03-06</th>\n",
       "      <td>532.789978</td>\n",
       "      <td>534.440002</td>\n",
       "      <td>528.099991</td>\n",
       "      <td>530.749985</td>\n",
       "      <td>46372200</td>\n",
       "      <td>71.542825</td>\n",
       "      <td>532.360008</td>\n",
       "      <td>530.440018</td>\n",
       "    </tr>\n",
       "    <tr>\n",
       "      <th>2014-03-07</th>\n",
       "      <td>531.090019</td>\n",
       "      <td>531.980026</td>\n",
       "      <td>526.050011</td>\n",
       "      <td>530.440018</td>\n",
       "      <td>55182400</td>\n",
       "      <td>71.501042</td>\n",
       "      <td>530.749985</td>\n",
       "      <td>530.919975</td>\n",
       "    </tr>\n",
       "  </tbody>\n",
       "</table>\n",
       "</div>"
      ],
      "text/plain": [
       "                  Open        High         Low       Close    Volume  \\\n",
       "Date                                                                   \n",
       "2014-03-03  523.419991  530.650009  522.809990  527.760010  59695300   \n",
       "2014-03-04  530.999977  532.640015  527.769997  531.239983  64785000   \n",
       "2014-03-05  530.919975  534.750023  529.129974  532.360008  50015700   \n",
       "2014-03-06  532.789978  534.440002  528.099991  530.749985  46372200   \n",
       "2014-03-07  531.090019  531.980026  526.050011  530.440018  55182400   \n",
       "\n",
       "            Adj Close        lag1       lead1  \n",
       "Date                                           \n",
       "2014-03-03  71.139789         NaN  531.239983  \n",
       "2014-03-04  71.608874  527.760010  532.360008  \n",
       "2014-03-05  71.759849  531.239983  530.749985  \n",
       "2014-03-06  71.542825  532.360008  530.440018  \n",
       "2014-03-07  71.501042  530.749985  530.919975  "
      ]
     },
     "execution_count": 86,
     "metadata": {},
     "output_type": "execute_result"
    }
   ],
   "source": [
    "aapl\n",
    "aapl['lag1'] = aapl.Close.shift(1)    # Move column 1 cell below\n",
    "aapl['lead1'] = aapl.Close.shift(-1)  # Move column 1 cell above\n",
    "aapl.head()"
   ]
  },
  {
   "cell_type": "code",
   "execution_count": 87,
   "metadata": {
    "collapsed": false
   },
   "outputs": [],
   "source": [
    "import matplotlib.pyplot as plt\n",
    "import matplotlib as mpl\n",
    "% matplotlib inline"
   ]
  },
  {
   "cell_type": "code",
   "execution_count": 88,
   "metadata": {
    "collapsed": false
   },
   "outputs": [
    {
     "data": {
      "text/plain": [
       "<matplotlib.legend.Legend at 0x2447a80a048>"
      ]
     },
     "execution_count": 88,
     "metadata": {},
     "output_type": "execute_result"
    },
    {
     "data": {
      "image/png": "[encoded data removed]",
      "text/plain": [
       "<matplotlib.figure.Figure at 0x2447a80a1d0>"
      ]
     },
     "metadata": {},
     "output_type": "display_data"
    }
   ],
   "source": [
    "mov_avg.plot(label='Mov Avg')\n",
    "aapl.Volume.plot(label='Volume')\n",
    "plt.legend()"
   ]
  },
  {
   "cell_type": "code",
   "execution_count": 89,
   "metadata": {
    "collapsed": false
   },
   "outputs": [
    {
     "data": {
      "text/html": [
       "<div>\n",
       "<table border=\"1\" class=\"dataframe\">\n",
       "  <thead>\n",
       "    <tr style=\"text-align: right;\">\n",
       "      <th></th>\n",
       "      <th>AAPL</th>\n",
       "      <th>DIS</th>\n",
       "      <th>GE</th>\n",
       "      <th>IBM</th>\n",
       "    </tr>\n",
       "    <tr>\n",
       "      <th>Date</th>\n",
       "      <th></th>\n",
       "      <th></th>\n",
       "      <th></th>\n",
       "      <th></th>\n",
       "    </tr>\n",
       "  </thead>\n",
       "  <tbody>\n",
       "    <tr>\n",
       "      <th>2014-01-02</th>\n",
       "      <td>74.115916</td>\n",
       "      <td>73.298906</td>\n",
       "      <td>24.699227</td>\n",
       "      <td>167.640170</td>\n",
       "    </tr>\n",
       "    <tr>\n",
       "      <th>2014-01-03</th>\n",
       "      <td>72.487897</td>\n",
       "      <td>73.145142</td>\n",
       "      <td>24.681264</td>\n",
       "      <td>168.643138</td>\n",
       "    </tr>\n",
       "    <tr>\n",
       "      <th>2014-01-06</th>\n",
       "      <td>72.883175</td>\n",
       "      <td>72.866438</td>\n",
       "      <td>24.483671</td>\n",
       "      <td>168.064851</td>\n",
       "    </tr>\n",
       "    <tr>\n",
       "      <th>2014-01-07</th>\n",
       "      <td>72.361944</td>\n",
       "      <td>73.366178</td>\n",
       "      <td>24.510616</td>\n",
       "      <td>171.417118</td>\n",
       "    </tr>\n",
       "    <tr>\n",
       "      <th>2014-01-08</th>\n",
       "      <td>72.820202</td>\n",
       "      <td>72.289813</td>\n",
       "      <td>24.438762</td>\n",
       "      <td>169.844894</td>\n",
       "    </tr>\n",
       "  </tbody>\n",
       "</table>\n",
       "</div>"
      ],
      "text/plain": [
       "                 AAPL        DIS         GE         IBM\n",
       "Date                                                   \n",
       "2014-01-02  74.115916  73.298906  24.699227  167.640170\n",
       "2014-01-03  72.487897  73.145142  24.681264  168.643138\n",
       "2014-01-06  72.883175  72.866438  24.483671  168.064851\n",
       "2014-01-07  72.361944  73.366178  24.510616  171.417118\n",
       "2014-01-08  72.820202  72.289813  24.438762  169.844894"
      ]
     },
     "execution_count": 89,
     "metadata": {},
     "output_type": "execute_result"
    }
   ],
   "source": [
    "closedata = web.get_data_yahoo(['AAPL', 'GE', 'DIS', 'IBM'], \n",
    "                               start='1/1/2014',end='6/9/2014')['Adj Close']\n",
    "closedata.head()"
   ]
  },
  {
   "cell_type": "code",
   "execution_count": 90,
   "metadata": {
    "collapsed": false
   },
   "outputs": [
    {
     "data": {
      "text/plain": [
       "<matplotlib.text.Text at 0x2447d0c9b70>"
      ]
     },
     "execution_count": 90,
     "metadata": {},
     "output_type": "execute_result"
    },
    {
     "data": {
      "image/png": "[encoded data removed]",
      "text/plain": [
       "<matplotlib.figure.Figure at 0x2447d4734a8>"
      ]
     },
     "metadata": {},
     "output_type": "display_data"
    }
   ],
   "source": [
    "retdata = closedata.pct_change()\n",
    "plt.scatter(retdata.AAPL,retdata.IBM)\n",
    "plt.xlabel('Apple Returns')\n",
    "plt.ylabel('IBM Returns')"
   ]
  },
  {
   "cell_type": "code",
   "execution_count": 91,
   "metadata": {
    "collapsed": false
   },
   "outputs": [
    {
     "data": {
      "text/plain": [
       "array([[<matplotlib.axes._subplots.AxesSubplot object at 0x000002447D0D4278>,\n",
       "        <matplotlib.axes._subplots.AxesSubplot object at 0x000002447D3BA5F8>,\n",
       "        <matplotlib.axes._subplots.AxesSubplot object at 0x000002447D5E3828>,\n",
       "        <matplotlib.axes._subplots.AxesSubplot object at 0x000002447D614048>],\n",
       "       [<matplotlib.axes._subplots.AxesSubplot object at 0x000002447D9B30F0>,\n",
       "        <matplotlib.axes._subplots.AxesSubplot object at 0x000002447D9EAE48>,\n",
       "        <matplotlib.axes._subplots.AxesSubplot object at 0x000002447DA381D0>,\n",
       "        <matplotlib.axes._subplots.AxesSubplot object at 0x000002447DA4BB00>],\n",
       "       [<matplotlib.axes._subplots.AxesSubplot object at 0x000002447DABDEB8>,\n",
       "        <matplotlib.axes._subplots.AxesSubplot object at 0x000002447DB11550>,\n",
       "        <matplotlib.axes._subplots.AxesSubplot object at 0x000002447DB45FD0>,\n",
       "        <matplotlib.axes._subplots.AxesSubplot object at 0x000002447DB97240>],\n",
       "       [<matplotlib.axes._subplots.AxesSubplot object at 0x000002447DBD8518>,\n",
       "        <matplotlib.axes._subplots.AxesSubplot object at 0x000002447F0CEB00>,\n",
       "        <matplotlib.axes._subplots.AxesSubplot object at 0x000002447F111358>,\n",
       "        <matplotlib.axes._subplots.AxesSubplot object at 0x000002447F15B6A0>]], dtype=object)"
      ]
     },
     "execution_count": 91,
     "metadata": {},
     "output_type": "execute_result"
    },
    {
     "data": {
      "image/png": "[encoded data removed]",
      "text/plain": [
       "<matplotlib.figure.Figure at 0x2447cfcdef0>"
      ]
     },
     "metadata": {},
     "output_type": "display_data"
    }
   ],
   "source": [
    "pd.scatter_matrix(retdata,diagonal='kde', figsize=(6,6))  # kde -> Density plot. For other diagonals check out: http://pandas.pydata.org/pandas-docs/stable/visualization.html#other-plots"
   ]
  },
  {
   "cell_type": "code",
   "execution_count": 92,
   "metadata": {
    "collapsed": false
   },
   "outputs": [
    {
     "data": {
      "text/html": [
       "<div>\n",
       "<table border=\"1\" class=\"dataframe\">\n",
       "  <thead>\n",
       "    <tr style=\"text-align: right;\">\n",
       "      <th></th>\n",
       "      <th>AAPL</th>\n",
       "      <th>DIS</th>\n",
       "      <th>GE</th>\n",
       "      <th>IBM</th>\n",
       "    </tr>\n",
       "  </thead>\n",
       "  <tbody>\n",
       "    <tr>\n",
       "      <th>AAPL</th>\n",
       "      <td>1.000000</td>\n",
       "      <td>0.161061</td>\n",
       "      <td>0.209030</td>\n",
       "      <td>0.127119</td>\n",
       "    </tr>\n",
       "    <tr>\n",
       "      <th>DIS</th>\n",
       "      <td>0.161061</td>\n",
       "      <td>1.000000</td>\n",
       "      <td>0.583683</td>\n",
       "      <td>0.328477</td>\n",
       "    </tr>\n",
       "    <tr>\n",
       "      <th>GE</th>\n",
       "      <td>0.209030</td>\n",
       "      <td>0.583683</td>\n",
       "      <td>1.000000</td>\n",
       "      <td>0.450981</td>\n",
       "    </tr>\n",
       "    <tr>\n",
       "      <th>IBM</th>\n",
       "      <td>0.127119</td>\n",
       "      <td>0.328477</td>\n",
       "      <td>0.450981</td>\n",
       "      <td>1.000000</td>\n",
       "    </tr>\n",
       "  </tbody>\n",
       "</table>\n",
       "</div>"
      ],
      "text/plain": [
       "          AAPL       DIS        GE       IBM\n",
       "AAPL  1.000000  0.161061  0.209030  0.127119\n",
       "DIS   0.161061  1.000000  0.583683  0.328477\n",
       "GE    0.209030  0.583683  1.000000  0.450981\n",
       "IBM   0.127119  0.328477  0.450981  1.000000"
      ]
     },
     "execution_count": 92,
     "metadata": {},
     "output_type": "execute_result"
    }
   ],
   "source": [
    "corr = retdata.corr()\n",
    "corr"
   ]
  },
  {
   "cell_type": "code",
   "execution_count": 93,
   "metadata": {
    "collapsed": false
   },
   "outputs": [
    {
     "data": {
      "text/plain": [
       "([<matplotlib.axis.YTick at 0x2447f894198>,\n",
       "  <matplotlib.axis.YTick at 0x2447f893f60>,\n",
       "  <matplotlib.axis.YTick at 0x2447f8ceac8>,\n",
       "  <matplotlib.axis.YTick at 0x2447f982d30>],\n",
       " <a list of 4 Text yticklabel objects>)"
      ]
     },
     "execution_count": 93,
     "metadata": {},
     "output_type": "execute_result"
    },
    {
     "data": {
      "image/png": "[encoded data removed]",
      "text/plain": [
       "<matplotlib.figure.Figure at 0x2447f86d9e8>"
      ]
     },
     "metadata": {},
     "output_type": "display_data"
    }
   ],
   "source": [
    "plt.imshow(corr,cmap='hot',interpolation='none')    # Heat map form to display correlation\n",
    "plt.colorbar()\n",
    "plt.xticks(range(len(corr)),corr.columns)\n",
    "plt.yticks(range(len(corr)),corr.columns)"
   ]
  },
  {
   "cell_type": "code",
   "execution_count": 94,
   "metadata": {
    "collapsed": false
   },
   "outputs": [
    {
     "data": {
      "image/png": "[encoded data removed]",
      "text/plain": [
       "<matplotlib.figure.Figure at 0x2447f8e8208>"
      ]
     },
     "metadata": {},
     "output_type": "display_data"
    }
   ],
   "source": [
    "plt.scatter(retdata.std(),retdata.mean())       # See relation between variability and returns\n",
    "plt.xlabel('Risk')\n",
    "plt.ylabel('Returns')\n",
    "for label, x, y in zip(retdata.columns, retdata.std(), retdata.mean()):\n",
    "    plt.annotate(label,xy=(x,y),xytext=(20,-20),textcoords='offset points',ha='right',va='bottom',\n",
    "                 bbox=dict(boxstyle='round',fc='red'))\n"
   ]
  },
  {
   "cell_type": "markdown",
   "metadata": {},
   "source": [
    "**Missing Data**\n",
    "\n",
    "Pandas have a number of features to deal with <b>missing data</b>. We have seen an example of the case of descriptive statistics, where missing values are not taken into account while calculating the descriptive statistics. Missing data is denoted by NaN. "
   ]
  },
  {
   "cell_type": "code",
   "execution_count": 95,
   "metadata": {
    "collapsed": false
   },
   "outputs": [
    {
     "data": {
      "text/html": [
       "<div>\n",
       "<table border=\"1\" class=\"dataframe\">\n",
       "  <thead>\n",
       "    <tr style=\"text-align: right;\">\n",
       "      <th></th>\n",
       "      <th>Firm1</th>\n",
       "      <th>Firm2</th>\n",
       "      <th>Firm3</th>\n",
       "    </tr>\n",
       "  </thead>\n",
       "  <tbody>\n",
       "    <tr>\n",
       "      <th>90</th>\n",
       "      <td>8</td>\n",
       "      <td>14.0</td>\n",
       "      <td>NaN</td>\n",
       "    </tr>\n",
       "    <tr>\n",
       "      <th>91</th>\n",
       "      <td>9</td>\n",
       "      <td>NaN</td>\n",
       "      <td>NaN</td>\n",
       "    </tr>\n",
       "    <tr>\n",
       "      <th>92</th>\n",
       "      <td>7</td>\n",
       "      <td>9.0</td>\n",
       "      <td>NaN</td>\n",
       "    </tr>\n",
       "    <tr>\n",
       "      <th>93</th>\n",
       "      <td>8</td>\n",
       "      <td>13.0</td>\n",
       "      <td>10.0</td>\n",
       "    </tr>\n",
       "    <tr>\n",
       "      <th>94</th>\n",
       "      <td>9</td>\n",
       "      <td>5.0</td>\n",
       "      <td>12.0</td>\n",
       "    </tr>\n",
       "    <tr>\n",
       "      <th>95</th>\n",
       "      <td>11</td>\n",
       "      <td>NaN</td>\n",
       "      <td>13.0</td>\n",
       "    </tr>\n",
       "  </tbody>\n",
       "</table>\n",
       "</div>"
      ],
      "text/plain": [
       "    Firm1  Firm2  Firm3\n",
       "90      8   14.0    NaN\n",
       "91      9    NaN    NaN\n",
       "92      7    9.0    NaN\n",
       "93      8   13.0   10.0\n",
       "94      9    5.0   12.0\n",
       "95     11    NaN   13.0"
      ]
     },
     "execution_count": 95,
     "metadata": {},
     "output_type": "execute_result"
    }
   ],
   "source": [
    "years = [90, 91, 92, 93, 94, 95]\n",
    "f1 = {90:8, 91:9, 92:7, 93:8, 94:9, 95:11}\n",
    "firm1 = pd.Series(f1,index=years)\n",
    "firm1\n",
    "f2 = {90:14,92:9, 93:13, 94:5}\n",
    "firm2 = pd.Series(f2,index=years)\n",
    "firm2\n",
    "f3 = {93:10, 94:12, 95: 13}\n",
    "firm3 = pd.Series(f3,index=years)\n",
    "firm3\n",
    "df3 = pd.DataFrame(columns=['Firm1','Firm2','Firm3'],index=years)\n",
    "df3\n",
    "df3.Firm1 = firm1\n",
    "df3.Firm2 = firm2\n",
    "df3.Firm3 = firm3\n",
    "df3"
   ]
  },
  {
   "cell_type": "code",
   "execution_count": 96,
   "metadata": {
    "collapsed": false
   },
   "outputs": [
    {
     "data": {
      "text/plain": [
       "90    14.0\n",
       "91     NaN\n",
       "92     9.0\n",
       "93    13.0\n",
       "94     5.0\n",
       "95     NaN\n",
       "dtype: float64"
      ]
     },
     "execution_count": 96,
     "metadata": {},
     "output_type": "execute_result"
    }
   ],
   "source": [
    "firm2"
   ]
  },
  {
   "cell_type": "code",
   "execution_count": 97,
   "metadata": {
    "collapsed": false
   },
   "outputs": [
    {
     "data": {
      "text/plain": [
       "90    14.0\n",
       "92     9.0\n",
       "93    13.0\n",
       "94     5.0\n",
       "dtype: float64"
      ]
     },
     "execution_count": 97,
     "metadata": {},
     "output_type": "execute_result"
    }
   ],
   "source": [
    "nadeleted = firm2.dropna()\n",
    "nadeleted"
   ]
  },
  {
   "cell_type": "code",
   "execution_count": 98,
   "metadata": {
    "collapsed": false
   },
   "outputs": [
    {
     "data": {
      "text/html": [
       "<div>\n",
       "<table border=\"1\" class=\"dataframe\">\n",
       "  <thead>\n",
       "    <tr style=\"text-align: right;\">\n",
       "      <th></th>\n",
       "      <th>Firm1</th>\n",
       "      <th>Firm2</th>\n",
       "      <th>Firm3</th>\n",
       "    </tr>\n",
       "  </thead>\n",
       "  <tbody>\n",
       "    <tr>\n",
       "      <th>90</th>\n",
       "      <td>8</td>\n",
       "      <td>14.0</td>\n",
       "      <td>NaN</td>\n",
       "    </tr>\n",
       "    <tr>\n",
       "      <th>91</th>\n",
       "      <td>9</td>\n",
       "      <td>NaN</td>\n",
       "      <td>NaN</td>\n",
       "    </tr>\n",
       "    <tr>\n",
       "      <th>92</th>\n",
       "      <td>7</td>\n",
       "      <td>9.0</td>\n",
       "      <td>NaN</td>\n",
       "    </tr>\n",
       "    <tr>\n",
       "      <th>93</th>\n",
       "      <td>8</td>\n",
       "      <td>13.0</td>\n",
       "      <td>10.0</td>\n",
       "    </tr>\n",
       "    <tr>\n",
       "      <th>94</th>\n",
       "      <td>9</td>\n",
       "      <td>5.0</td>\n",
       "      <td>12.0</td>\n",
       "    </tr>\n",
       "    <tr>\n",
       "      <th>95</th>\n",
       "      <td>11</td>\n",
       "      <td>NaN</td>\n",
       "      <td>13.0</td>\n",
       "    </tr>\n",
       "  </tbody>\n",
       "</table>\n",
       "</div>"
      ],
      "text/plain": [
       "    Firm1  Firm2  Firm3\n",
       "90      8   14.0    NaN\n",
       "91      9    NaN    NaN\n",
       "92      7    9.0    NaN\n",
       "93      8   13.0   10.0\n",
       "94      9    5.0   12.0\n",
       "95     11    NaN   13.0"
      ]
     },
     "execution_count": 98,
     "metadata": {},
     "output_type": "execute_result"
    }
   ],
   "source": [
    "df3"
   ]
  },
  {
   "cell_type": "markdown",
   "metadata": {},
   "source": [
    "In case of DataFrame, <b>if you use dropna, it deletes entire row by default</b>. Another way is to drop only <b>those rows that are all NA</b>. If you want to <b>drop columns, pass axis=1</b>"
   ]
  },
  {
   "cell_type": "code",
   "execution_count": 99,
   "metadata": {
    "collapsed": false
   },
   "outputs": [],
   "source": [
    "cleandf3 = df3.dropna()          # Drop row if any value in the row is NaN"
   ]
  },
  {
   "cell_type": "code",
   "execution_count": 100,
   "metadata": {
    "collapsed": false
   },
   "outputs": [
    {
     "data": {
      "text/html": [
       "<div>\n",
       "<table border=\"1\" class=\"dataframe\">\n",
       "  <thead>\n",
       "    <tr style=\"text-align: right;\">\n",
       "      <th></th>\n",
       "      <th>Firm1</th>\n",
       "      <th>Firm2</th>\n",
       "      <th>Firm3</th>\n",
       "    </tr>\n",
       "  </thead>\n",
       "  <tbody>\n",
       "    <tr>\n",
       "      <th>93</th>\n",
       "      <td>8</td>\n",
       "      <td>13.0</td>\n",
       "      <td>10.0</td>\n",
       "    </tr>\n",
       "    <tr>\n",
       "      <th>94</th>\n",
       "      <td>9</td>\n",
       "      <td>5.0</td>\n",
       "      <td>12.0</td>\n",
       "    </tr>\n",
       "  </tbody>\n",
       "</table>\n",
       "</div>"
      ],
      "text/plain": [
       "    Firm1  Firm2  Firm3\n",
       "93      8   13.0   10.0\n",
       "94      9    5.0   12.0"
      ]
     },
     "execution_count": 100,
     "metadata": {},
     "output_type": "execute_result"
    }
   ],
   "source": [
    "cleandf3"
   ]
  },
  {
   "cell_type": "code",
   "execution_count": 101,
   "metadata": {
    "collapsed": false
   },
   "outputs": [
    {
     "data": {
      "text/html": [
       "<div>\n",
       "<table border=\"1\" class=\"dataframe\">\n",
       "  <thead>\n",
       "    <tr style=\"text-align: right;\">\n",
       "      <th></th>\n",
       "      <th>Firm1</th>\n",
       "      <th>Firm2</th>\n",
       "      <th>Firm3</th>\n",
       "    </tr>\n",
       "  </thead>\n",
       "  <tbody>\n",
       "    <tr>\n",
       "      <th>90</th>\n",
       "      <td>8</td>\n",
       "      <td>14.0</td>\n",
       "      <td>NaN</td>\n",
       "    </tr>\n",
       "    <tr>\n",
       "      <th>91</th>\n",
       "      <td>9</td>\n",
       "      <td>NaN</td>\n",
       "      <td>NaN</td>\n",
       "    </tr>\n",
       "    <tr>\n",
       "      <th>92</th>\n",
       "      <td>7</td>\n",
       "      <td>9.0</td>\n",
       "      <td>NaN</td>\n",
       "    </tr>\n",
       "    <tr>\n",
       "      <th>93</th>\n",
       "      <td>8</td>\n",
       "      <td>13.0</td>\n",
       "      <td>10.0</td>\n",
       "    </tr>\n",
       "    <tr>\n",
       "      <th>94</th>\n",
       "      <td>9</td>\n",
       "      <td>5.0</td>\n",
       "      <td>12.0</td>\n",
       "    </tr>\n",
       "    <tr>\n",
       "      <th>95</th>\n",
       "      <td>11</td>\n",
       "      <td>NaN</td>\n",
       "      <td>13.0</td>\n",
       "    </tr>\n",
       "  </tbody>\n",
       "</table>\n",
       "</div>"
      ],
      "text/plain": [
       "    Firm1  Firm2  Firm3\n",
       "90      8   14.0    NaN\n",
       "91      9    NaN    NaN\n",
       "92      7    9.0    NaN\n",
       "93      8   13.0   10.0\n",
       "94      9    5.0   12.0\n",
       "95     11    NaN   13.0"
      ]
     },
     "execution_count": 101,
     "metadata": {},
     "output_type": "execute_result"
    }
   ],
   "source": [
    "clean2 = df3.dropna(how='all')   # Drop row if all values in the row are NaN\n",
    "clean2"
   ]
  },
  {
   "cell_type": "code",
   "execution_count": 102,
   "metadata": {
    "collapsed": false
   },
   "outputs": [
    {
     "data": {
      "text/html": [
       "<div>\n",
       "<table border=\"1\" class=\"dataframe\">\n",
       "  <thead>\n",
       "    <tr style=\"text-align: right;\">\n",
       "      <th></th>\n",
       "      <th>Firm1</th>\n",
       "    </tr>\n",
       "  </thead>\n",
       "  <tbody>\n",
       "    <tr>\n",
       "      <th>90</th>\n",
       "      <td>8</td>\n",
       "    </tr>\n",
       "    <tr>\n",
       "      <th>91</th>\n",
       "      <td>9</td>\n",
       "    </tr>\n",
       "    <tr>\n",
       "      <th>92</th>\n",
       "      <td>7</td>\n",
       "    </tr>\n",
       "    <tr>\n",
       "      <th>93</th>\n",
       "      <td>8</td>\n",
       "    </tr>\n",
       "    <tr>\n",
       "      <th>94</th>\n",
       "      <td>9</td>\n",
       "    </tr>\n",
       "    <tr>\n",
       "      <th>95</th>\n",
       "      <td>11</td>\n",
       "    </tr>\n",
       "  </tbody>\n",
       "</table>\n",
       "</div>"
      ],
      "text/plain": [
       "    Firm1\n",
       "90      8\n",
       "91      9\n",
       "92      7\n",
       "93      8\n",
       "94      9\n",
       "95     11"
      ]
     },
     "execution_count": 102,
     "metadata": {},
     "output_type": "execute_result"
    }
   ],
   "source": [
    "columndrop = df3.dropna(axis=1)   # Drop column if any value in the column is NaN\n",
    "columndrop"
   ]
  },
  {
   "cell_type": "code",
   "execution_count": 103,
   "metadata": {
    "collapsed": false
   },
   "outputs": [
    {
     "data": {
      "text/html": [
       "<div>\n",
       "<table border=\"1\" class=\"dataframe\">\n",
       "  <thead>\n",
       "    <tr style=\"text-align: right;\">\n",
       "      <th></th>\n",
       "      <th>Firm1</th>\n",
       "      <th>Firm2</th>\n",
       "      <th>Firm3</th>\n",
       "    </tr>\n",
       "  </thead>\n",
       "  <tbody>\n",
       "    <tr>\n",
       "      <th>90</th>\n",
       "      <td>8</td>\n",
       "      <td>14.0</td>\n",
       "      <td>NaN</td>\n",
       "    </tr>\n",
       "    <tr>\n",
       "      <th>91</th>\n",
       "      <td>9</td>\n",
       "      <td>NaN</td>\n",
       "      <td>NaN</td>\n",
       "    </tr>\n",
       "    <tr>\n",
       "      <th>92</th>\n",
       "      <td>7</td>\n",
       "      <td>9.0</td>\n",
       "      <td>NaN</td>\n",
       "    </tr>\n",
       "    <tr>\n",
       "      <th>93</th>\n",
       "      <td>8</td>\n",
       "      <td>13.0</td>\n",
       "      <td>10.0</td>\n",
       "    </tr>\n",
       "    <tr>\n",
       "      <th>94</th>\n",
       "      <td>9</td>\n",
       "      <td>5.0</td>\n",
       "      <td>12.0</td>\n",
       "    </tr>\n",
       "    <tr>\n",
       "      <th>95</th>\n",
       "      <td>11</td>\n",
       "      <td>NaN</td>\n",
       "      <td>13.0</td>\n",
       "    </tr>\n",
       "  </tbody>\n",
       "</table>\n",
       "</div>"
      ],
      "text/plain": [
       "    Firm1  Firm2  Firm3\n",
       "90      8   14.0    NaN\n",
       "91      9    NaN    NaN\n",
       "92      7    9.0    NaN\n",
       "93      8   13.0   10.0\n",
       "94      9    5.0   12.0\n",
       "95     11    NaN   13.0"
      ]
     },
     "execution_count": 103,
     "metadata": {},
     "output_type": "execute_result"
    }
   ],
   "source": [
    "df3"
   ]
  },
  {
   "cell_type": "code",
   "execution_count": 104,
   "metadata": {
    "collapsed": false
   },
   "outputs": [
    {
     "data": {
      "text/html": [
       "<div>\n",
       "<table border=\"1\" class=\"dataframe\">\n",
       "  <thead>\n",
       "    <tr style=\"text-align: right;\">\n",
       "      <th></th>\n",
       "      <th>Firm1</th>\n",
       "      <th>Firm2</th>\n",
       "      <th>Firm3</th>\n",
       "    </tr>\n",
       "  </thead>\n",
       "  <tbody>\n",
       "    <tr>\n",
       "      <th>90</th>\n",
       "      <td>8</td>\n",
       "      <td>14.0</td>\n",
       "      <td>NaN</td>\n",
       "    </tr>\n",
       "    <tr>\n",
       "      <th>92</th>\n",
       "      <td>7</td>\n",
       "      <td>9.0</td>\n",
       "      <td>NaN</td>\n",
       "    </tr>\n",
       "    <tr>\n",
       "      <th>93</th>\n",
       "      <td>8</td>\n",
       "      <td>13.0</td>\n",
       "      <td>10.0</td>\n",
       "    </tr>\n",
       "    <tr>\n",
       "      <th>94</th>\n",
       "      <td>9</td>\n",
       "      <td>5.0</td>\n",
       "      <td>12.0</td>\n",
       "    </tr>\n",
       "    <tr>\n",
       "      <th>95</th>\n",
       "      <td>11</td>\n",
       "      <td>NaN</td>\n",
       "      <td>13.0</td>\n",
       "    </tr>\n",
       "  </tbody>\n",
       "</table>\n",
       "</div>"
      ],
      "text/plain": [
       "    Firm1  Firm2  Firm3\n",
       "90      8   14.0    NaN\n",
       "92      7    9.0    NaN\n",
       "93      8   13.0   10.0\n",
       "94      9    5.0   12.0\n",
       "95     11    NaN   13.0"
      ]
     },
     "execution_count": 104,
     "metadata": {},
     "output_type": "execute_result"
    }
   ],
   "source": [
    "thresholddf = df3.dropna(thresh=2)    # Define threshold. In this case row having >= 2 NaN, drop the row\n",
    "thresholddf"
   ]
  },
  {
   "cell_type": "code",
   "execution_count": 105,
   "metadata": {
    "collapsed": false
   },
   "outputs": [
    {
     "data": {
      "text/html": [
       "<div>\n",
       "<table border=\"1\" class=\"dataframe\">\n",
       "  <thead>\n",
       "    <tr style=\"text-align: right;\">\n",
       "      <th></th>\n",
       "      <th>Firm1</th>\n",
       "      <th>Firm2</th>\n",
       "      <th>Firm3</th>\n",
       "    </tr>\n",
       "  </thead>\n",
       "  <tbody>\n",
       "    <tr>\n",
       "      <th>90</th>\n",
       "      <td>8</td>\n",
       "      <td>14.0</td>\n",
       "      <td>0.0</td>\n",
       "    </tr>\n",
       "    <tr>\n",
       "      <th>91</th>\n",
       "      <td>9</td>\n",
       "      <td>0.0</td>\n",
       "      <td>0.0</td>\n",
       "    </tr>\n",
       "    <tr>\n",
       "      <th>92</th>\n",
       "      <td>7</td>\n",
       "      <td>9.0</td>\n",
       "      <td>0.0</td>\n",
       "    </tr>\n",
       "    <tr>\n",
       "      <th>93</th>\n",
       "      <td>8</td>\n",
       "      <td>13.0</td>\n",
       "      <td>10.0</td>\n",
       "    </tr>\n",
       "    <tr>\n",
       "      <th>94</th>\n",
       "      <td>9</td>\n",
       "      <td>5.0</td>\n",
       "      <td>12.0</td>\n",
       "    </tr>\n",
       "    <tr>\n",
       "      <th>95</th>\n",
       "      <td>11</td>\n",
       "      <td>0.0</td>\n",
       "      <td>13.0</td>\n",
       "    </tr>\n",
       "  </tbody>\n",
       "</table>\n",
       "</div>"
      ],
      "text/plain": [
       "    Firm1  Firm2  Firm3\n",
       "90      8   14.0    0.0\n",
       "91      9    0.0    0.0\n",
       "92      7    9.0    0.0\n",
       "93      8   13.0   10.0\n",
       "94      9    5.0   12.0\n",
       "95     11    0.0   13.0"
      ]
     },
     "execution_count": 105,
     "metadata": {},
     "output_type": "execute_result"
    }
   ],
   "source": [
    "fillna1 = df3.fillna(0)      # Fill all NaN values with 0\n",
    "fillna1"
   ]
  },
  {
   "cell_type": "code",
   "execution_count": 106,
   "metadata": {
    "collapsed": false
   },
   "outputs": [
    {
     "data": {
      "text/html": [
       "<div>\n",
       "<table border=\"1\" class=\"dataframe\">\n",
       "  <thead>\n",
       "    <tr style=\"text-align: right;\">\n",
       "      <th></th>\n",
       "      <th>Firm1</th>\n",
       "      <th>Firm2</th>\n",
       "      <th>Firm3</th>\n",
       "    </tr>\n",
       "  </thead>\n",
       "  <tbody>\n",
       "    <tr>\n",
       "      <th>90</th>\n",
       "      <td>8</td>\n",
       "      <td>14.0</td>\n",
       "      <td>14.0</td>\n",
       "    </tr>\n",
       "    <tr>\n",
       "      <th>91</th>\n",
       "      <td>9</td>\n",
       "      <td>10.0</td>\n",
       "      <td>14.0</td>\n",
       "    </tr>\n",
       "    <tr>\n",
       "      <th>92</th>\n",
       "      <td>7</td>\n",
       "      <td>9.0</td>\n",
       "      <td>14.0</td>\n",
       "    </tr>\n",
       "    <tr>\n",
       "      <th>93</th>\n",
       "      <td>8</td>\n",
       "      <td>13.0</td>\n",
       "      <td>10.0</td>\n",
       "    </tr>\n",
       "    <tr>\n",
       "      <th>94</th>\n",
       "      <td>9</td>\n",
       "      <td>5.0</td>\n",
       "      <td>12.0</td>\n",
       "    </tr>\n",
       "    <tr>\n",
       "      <th>95</th>\n",
       "      <td>11</td>\n",
       "      <td>10.0</td>\n",
       "      <td>13.0</td>\n",
       "    </tr>\n",
       "  </tbody>\n",
       "</table>\n",
       "</div>"
      ],
      "text/plain": [
       "    Firm1  Firm2  Firm3\n",
       "90      8   14.0   14.0\n",
       "91      9   10.0   14.0\n",
       "92      7    9.0   14.0\n",
       "93      8   13.0   10.0\n",
       "94      9    5.0   12.0\n",
       "95     11   10.0   13.0"
      ]
     },
     "execution_count": 106,
     "metadata": {},
     "output_type": "execute_result"
    }
   ],
   "source": [
    "fillna2 = df3.fillna({'Firm1':8, 'Firm2': 10, 'Firm3':14})   # We can specify what value should be replaced\n",
    "fillna2"
   ]
  },
  {
   "cell_type": "code",
   "execution_count": 107,
   "metadata": {
    "collapsed": false
   },
   "outputs": [
    {
     "data": {
      "text/html": [
       "<div>\n",
       "<table border=\"1\" class=\"dataframe\">\n",
       "  <thead>\n",
       "    <tr style=\"text-align: right;\">\n",
       "      <th></th>\n",
       "      <th>Firm1</th>\n",
       "      <th>Firm2</th>\n",
       "      <th>Firm3</th>\n",
       "    </tr>\n",
       "  </thead>\n",
       "  <tbody>\n",
       "    <tr>\n",
       "      <th>90</th>\n",
       "      <td>8</td>\n",
       "      <td>14.0</td>\n",
       "      <td>NaN</td>\n",
       "    </tr>\n",
       "    <tr>\n",
       "      <th>91</th>\n",
       "      <td>9</td>\n",
       "      <td>NaN</td>\n",
       "      <td>NaN</td>\n",
       "    </tr>\n",
       "    <tr>\n",
       "      <th>92</th>\n",
       "      <td>7</td>\n",
       "      <td>9.0</td>\n",
       "      <td>NaN</td>\n",
       "    </tr>\n",
       "    <tr>\n",
       "      <th>93</th>\n",
       "      <td>8</td>\n",
       "      <td>13.0</td>\n",
       "      <td>10.0</td>\n",
       "    </tr>\n",
       "    <tr>\n",
       "      <th>94</th>\n",
       "      <td>9</td>\n",
       "      <td>5.0</td>\n",
       "      <td>12.0</td>\n",
       "    </tr>\n",
       "    <tr>\n",
       "      <th>95</th>\n",
       "      <td>11</td>\n",
       "      <td>NaN</td>\n",
       "      <td>13.0</td>\n",
       "    </tr>\n",
       "  </tbody>\n",
       "</table>\n",
       "</div>"
      ],
      "text/plain": [
       "    Firm1  Firm2  Firm3\n",
       "90      8   14.0    NaN\n",
       "91      9    NaN    NaN\n",
       "92      7    9.0    NaN\n",
       "93      8   13.0   10.0\n",
       "94      9    5.0   12.0\n",
       "95     11    NaN   13.0"
      ]
     },
     "execution_count": 107,
     "metadata": {},
     "output_type": "execute_result"
    }
   ],
   "source": [
    "df3"
   ]
  },
  {
   "cell_type": "code",
   "execution_count": 108,
   "metadata": {
    "collapsed": false
   },
   "outputs": [
    {
     "data": {
      "text/html": [
       "<div>\n",
       "<table border=\"1\" class=\"dataframe\">\n",
       "  <thead>\n",
       "    <tr style=\"text-align: right;\">\n",
       "      <th></th>\n",
       "      <th>Firm1</th>\n",
       "      <th>Firm2</th>\n",
       "      <th>Firm3</th>\n",
       "    </tr>\n",
       "  </thead>\n",
       "  <tbody>\n",
       "    <tr>\n",
       "      <th>90</th>\n",
       "      <td>8</td>\n",
       "      <td>14.0</td>\n",
       "      <td>NaN</td>\n",
       "    </tr>\n",
       "    <tr>\n",
       "      <th>91</th>\n",
       "      <td>9</td>\n",
       "      <td>14.0</td>\n",
       "      <td>NaN</td>\n",
       "    </tr>\n",
       "    <tr>\n",
       "      <th>92</th>\n",
       "      <td>7</td>\n",
       "      <td>9.0</td>\n",
       "      <td>NaN</td>\n",
       "    </tr>\n",
       "    <tr>\n",
       "      <th>93</th>\n",
       "      <td>8</td>\n",
       "      <td>13.0</td>\n",
       "      <td>10.0</td>\n",
       "    </tr>\n",
       "    <tr>\n",
       "      <th>94</th>\n",
       "      <td>9</td>\n",
       "      <td>5.0</td>\n",
       "      <td>12.0</td>\n",
       "    </tr>\n",
       "    <tr>\n",
       "      <th>95</th>\n",
       "      <td>11</td>\n",
       "      <td>5.0</td>\n",
       "      <td>13.0</td>\n",
       "    </tr>\n",
       "  </tbody>\n",
       "</table>\n",
       "</div>"
      ],
      "text/plain": [
       "    Firm1  Firm2  Firm3\n",
       "90      8   14.0    NaN\n",
       "91      9   14.0    NaN\n",
       "92      7    9.0    NaN\n",
       "93      8   13.0   10.0\n",
       "94      9    5.0   12.0\n",
       "95     11    5.0   13.0"
      ]
     },
     "execution_count": 108,
     "metadata": {},
     "output_type": "execute_result"
    }
   ],
   "source": [
    "fillna3 = df3.fillna(method='ffill')    # Forward fill NaNs for 1 level. Check Firm 2 -> 14 & 5\n",
    "fillna3"
   ]
  },
  {
   "cell_type": "code",
   "execution_count": 109,
   "metadata": {
    "collapsed": false
   },
   "outputs": [
    {
     "data": {
      "text/html": [
       "<div>\n",
       "<table border=\"1\" class=\"dataframe\">\n",
       "  <thead>\n",
       "    <tr style=\"text-align: right;\">\n",
       "      <th></th>\n",
       "      <th>Firm1</th>\n",
       "      <th>Firm2</th>\n",
       "      <th>Firm3</th>\n",
       "    </tr>\n",
       "  </thead>\n",
       "  <tbody>\n",
       "    <tr>\n",
       "      <th>90</th>\n",
       "      <td>8</td>\n",
       "      <td>14.0</td>\n",
       "      <td>NaN</td>\n",
       "    </tr>\n",
       "    <tr>\n",
       "      <th>91</th>\n",
       "      <td>9</td>\n",
       "      <td>9.0</td>\n",
       "      <td>10.0</td>\n",
       "    </tr>\n",
       "    <tr>\n",
       "      <th>92</th>\n",
       "      <td>7</td>\n",
       "      <td>9.0</td>\n",
       "      <td>10.0</td>\n",
       "    </tr>\n",
       "    <tr>\n",
       "      <th>93</th>\n",
       "      <td>8</td>\n",
       "      <td>13.0</td>\n",
       "      <td>10.0</td>\n",
       "    </tr>\n",
       "    <tr>\n",
       "      <th>94</th>\n",
       "      <td>9</td>\n",
       "      <td>5.0</td>\n",
       "      <td>12.0</td>\n",
       "    </tr>\n",
       "    <tr>\n",
       "      <th>95</th>\n",
       "      <td>11</td>\n",
       "      <td>NaN</td>\n",
       "      <td>13.0</td>\n",
       "    </tr>\n",
       "  </tbody>\n",
       "</table>\n",
       "</div>"
      ],
      "text/plain": [
       "    Firm1  Firm2  Firm3\n",
       "90      8   14.0    NaN\n",
       "91      9    9.0   10.0\n",
       "92      7    9.0   10.0\n",
       "93      8   13.0   10.0\n",
       "94      9    5.0   12.0\n",
       "95     11    NaN   13.0"
      ]
     },
     "execution_count": 109,
     "metadata": {},
     "output_type": "execute_result"
    }
   ],
   "source": [
    "fillna4 = df3.fillna(method='bfill',limit=2)    # Back fill NaNs till 2 levels before. Check how Firm3 behaves\n",
    "fillna4"
   ]
  },
  {
   "cell_type": "code",
   "execution_count": 110,
   "metadata": {
    "collapsed": false
   },
   "outputs": [
    {
     "data": {
      "text/html": [
       "<div>\n",
       "<table border=\"1\" class=\"dataframe\">\n",
       "  <thead>\n",
       "    <tr style=\"text-align: right;\">\n",
       "      <th></th>\n",
       "      <th>Firm1</th>\n",
       "      <th>Firm2</th>\n",
       "      <th>Firm3</th>\n",
       "    </tr>\n",
       "  </thead>\n",
       "  <tbody>\n",
       "    <tr>\n",
       "      <th>90</th>\n",
       "      <td>8</td>\n",
       "      <td>14.00</td>\n",
       "      <td>11.666667</td>\n",
       "    </tr>\n",
       "    <tr>\n",
       "      <th>91</th>\n",
       "      <td>9</td>\n",
       "      <td>10.25</td>\n",
       "      <td>11.666667</td>\n",
       "    </tr>\n",
       "    <tr>\n",
       "      <th>92</th>\n",
       "      <td>7</td>\n",
       "      <td>9.00</td>\n",
       "      <td>11.666667</td>\n",
       "    </tr>\n",
       "    <tr>\n",
       "      <th>93</th>\n",
       "      <td>8</td>\n",
       "      <td>13.00</td>\n",
       "      <td>10.000000</td>\n",
       "    </tr>\n",
       "    <tr>\n",
       "      <th>94</th>\n",
       "      <td>9</td>\n",
       "      <td>5.00</td>\n",
       "      <td>12.000000</td>\n",
       "    </tr>\n",
       "    <tr>\n",
       "      <th>95</th>\n",
       "      <td>11</td>\n",
       "      <td>10.25</td>\n",
       "      <td>13.000000</td>\n",
       "    </tr>\n",
       "  </tbody>\n",
       "</table>\n",
       "</div>"
      ],
      "text/plain": [
       "    Firm1  Firm2      Firm3\n",
       "90      8  14.00  11.666667\n",
       "91      9  10.25  11.666667\n",
       "92      7   9.00  11.666667\n",
       "93      8  13.00  10.000000\n",
       "94      9   5.00  12.000000\n",
       "95     11  10.25  13.000000"
      ]
     },
     "execution_count": 110,
     "metadata": {},
     "output_type": "execute_result"
    }
   ],
   "source": [
    "#print(df3.mean())\n",
    "fillna5 = df3.fillna(df3.mean())  # We will substitute empty values with Mean of the Firm in concern\n",
    "fillna5"
   ]
  },
  {
   "cell_type": "markdown",
   "metadata": {},
   "source": [
    "**Hierarchical Indexing**\n",
    "\n",
    "Hierarchical indexing allows you to have <b>index on an index (multiple index)</b>. It is an important feature of pandas using which you can <b>select subsets of data and perform independent analyses</b> on them. For example, suppose you have <b>firm prices data and the data is indexed by firm name</b>. On top of that, you can <b>index firms by industry</b>. Thus, industry becomes an index on top of firms. You can then perform analyses either on individual firm, or on group of firms in an industry, or on the whole dataset."
   ]
  },
  {
   "cell_type": "code",
   "execution_count": 114,
   "metadata": {
    "collapsed": false
   },
   "outputs": [
    {
     "data": {
      "text/plain": [
       "Ind1  1   -0.771749\n",
       "      2   -0.405586\n",
       "      3    0.164656\n",
       "      4   -0.155176\n",
       "Ind2  1   -0.445149\n",
       "      2    0.814041\n",
       "      3    0.323483\n",
       "Ind3  1    0.619982\n",
       "      2   -0.680254\n",
       "      3   -0.102931\n",
       "dtype: float64"
      ]
     },
     "execution_count": 114,
     "metadata": {},
     "output_type": "execute_result"
    }
   ],
   "source": [
    "h_i_data = pd.Series(np.random.randn(10),index=[['Ind1','Ind1','Ind1','Ind1','Ind2','Ind2','Ind2','Ind3','Ind3','Ind3'],\n",
    "                                              [1,2,3,4,1,2,3,1,2,3]])\n",
    "h_i_data"
   ]
  },
  {
   "cell_type": "code",
   "execution_count": 113,
   "metadata": {
    "collapsed": false
   },
   "outputs": [
    {
     "data": {
      "text/plain": [
       "1   -1.078240\n",
       "2    0.241606\n",
       "3   -0.905921\n",
       "dtype: float64"
      ]
     },
     "execution_count": 113,
     "metadata": {},
     "output_type": "execute_result"
    }
   ],
   "source": [
    "h_i_data['Ind3']   # Looks like Dictionary of a Dictionary"
   ]
  },
  {
   "cell_type": "code",
   "execution_count": null,
   "metadata": {
    "collapsed": false
   },
   "outputs": [],
   "source": [
    "h_i_data['Ind1':'Ind3']"
   ]
  },
  {
   "cell_type": "code",
   "execution_count": null,
   "metadata": {
    "collapsed": false
   },
   "outputs": [],
   "source": [
    "h_i_data[['Ind1','Ind3']]"
   ]
  },
  {
   "cell_type": "code",
   "execution_count": 115,
   "metadata": {
    "collapsed": false
   },
   "outputs": [
    {
     "data": {
      "text/plain": [
       "Ind1    0.164656\n",
       "Ind2    0.323483\n",
       "Ind3   -0.102931\n",
       "dtype: float64"
      ]
     },
     "execution_count": 115,
     "metadata": {},
     "output_type": "execute_result"
    }
   ],
   "source": [
    "h_i_data[:,3]   # 3rd sub index of main Index. We have 3 values."
   ]
  },
  {
   "cell_type": "code",
   "execution_count": 116,
   "metadata": {
    "collapsed": false
   },
   "outputs": [
    {
     "data": {
      "text/plain": [
       "Ind1   -0.155176\n",
       "dtype: float64"
      ]
     },
     "execution_count": 116,
     "metadata": {},
     "output_type": "execute_result"
    }
   ],
   "source": [
    "h_i_data[:,4]   # 3rd sub index of main Index. We have 1 value."
   ]
  },
  {
   "cell_type": "code",
   "execution_count": 119,
   "metadata": {
    "collapsed": false
   },
   "outputs": [
    {
     "data": {
      "text/html": [
       "<div>\n",
       "<table border=\"1\" class=\"dataframe\">\n",
       "  <thead>\n",
       "    <tr style=\"text-align: right;\">\n",
       "      <th></th>\n",
       "      <th>1</th>\n",
       "      <th>2</th>\n",
       "      <th>3</th>\n",
       "      <th>4</th>\n",
       "    </tr>\n",
       "  </thead>\n",
       "  <tbody>\n",
       "    <tr>\n",
       "      <th>Ind1</th>\n",
       "      <td>-0.771749</td>\n",
       "      <td>-0.405586</td>\n",
       "      <td>0.164656</td>\n",
       "      <td>-0.155176</td>\n",
       "    </tr>\n",
       "    <tr>\n",
       "      <th>Ind2</th>\n",
       "      <td>-0.445149</td>\n",
       "      <td>0.814041</td>\n",
       "      <td>0.323483</td>\n",
       "      <td>NaN</td>\n",
       "    </tr>\n",
       "    <tr>\n",
       "      <th>Ind3</th>\n",
       "      <td>0.619982</td>\n",
       "      <td>-0.680254</td>\n",
       "      <td>-0.102931</td>\n",
       "      <td>NaN</td>\n",
       "    </tr>\n",
       "  </tbody>\n",
       "</table>\n",
       "</div>"
      ],
      "text/plain": [
       "             1         2         3         4\n",
       "Ind1 -0.771749 -0.405586  0.164656 -0.155176\n",
       "Ind2 -0.445149  0.814041  0.323483       NaN\n",
       "Ind3  0.619982 -0.680254 -0.102931       NaN"
      ]
     },
     "execution_count": 119,
     "metadata": {},
     "output_type": "execute_result"
    }
   ],
   "source": [
    "h_i_data.unstack()        # Pivot a level of the index labels"
   ]
  },
  {
   "cell_type": "code",
   "execution_count": 120,
   "metadata": {
    "collapsed": false
   },
   "outputs": [
    {
     "data": {
      "text/plain": [
       "Ind1  1   -0.771749\n",
       "      2   -0.405586\n",
       "      3    0.164656\n",
       "      4   -0.155176\n",
       "Ind2  1   -0.445149\n",
       "      2    0.814041\n",
       "      3    0.323483\n",
       "Ind3  1    0.619982\n",
       "      2   -0.680254\n",
       "      3   -0.102931\n",
       "dtype: float64"
      ]
     },
     "execution_count": 120,
     "metadata": {},
     "output_type": "execute_result"
    }
   ],
   "source": [
    "h_i_data.unstack().stack()"
   ]
  },
  {
   "cell_type": "code",
   "execution_count": 121,
   "metadata": {
    "collapsed": false
   },
   "outputs": [
    {
     "data": {
      "text/plain": [
       "-0.6386810025046883"
      ]
     },
     "execution_count": 121,
     "metadata": {},
     "output_type": "execute_result"
    }
   ],
   "source": [
    "h_i_data.sum()"
   ]
  },
  {
   "cell_type": "code",
   "execution_count": null,
   "metadata": {
    "collapsed": false
   },
   "outputs": [],
   "source": [
    "print(h_i_data)\n",
    "h_i_data.sum(level=1)  # Sum based on level 1, e.g. -0.407952 + 0.976813 + -0.360328 = 0.208534 (Between Industries)"
   ]
  },
  {
   "cell_type": "code",
   "execution_count": null,
   "metadata": {
    "collapsed": false
   },
   "outputs": [],
   "source": [
    "h_i_data.sum(level=0)   # Sum based on Type of Industry (Within Industry)"
   ]
  },
  {
   "cell_type": "code",
   "execution_count": null,
   "metadata": {
    "collapsed": false
   },
   "outputs": [],
   "source": [
    "h_i_data"
   ]
  },
  {
   "cell_type": "code",
   "execution_count": null,
   "metadata": {
    "collapsed": false
   },
   "outputs": [],
   "source": [
    "# Panel represents wide format panel data, stored as 3-dimensional array -> ndarray (items x major x minor)\n",
    "pdata = pd.Panel(dict((stk,web.get_data_yahoo(stk,start='6/1/2014',end='6/9/2014'))\n",
    "                      for stk in ['AAPL','GOOG','MSFT','DIS']))\n",
    "pdata"
   ]
  },
  {
   "cell_type": "code",
   "execution_count": null,
   "metadata": {
    "collapsed": false
   },
   "outputs": [],
   "source": [
    "pdata.ix[:,'6/1/2014':,'Low']"
   ]
  },
  {
   "cell_type": "code",
   "execution_count": null,
   "metadata": {
    "collapsed": false
   },
   "outputs": [],
   "source": [
    "stacked_pdata = pdata.to_frame()                     # A better way to present the data"
   ]
  },
  {
   "cell_type": "code",
   "execution_count": null,
   "metadata": {
    "collapsed": false
   },
   "outputs": [],
   "source": [
    "#stacked_pdata\n",
    "stacked_pdata.head()"
   ]
  },
  {
   "cell_type": "markdown",
   "metadata": {},
   "source": [
    "**IO in pandas**\n",
    "\n",
    "In this section, we will focus on <b>I/O from text files, csv, excel, and sql files as well as getting data from web such as Yahoo! Finance</b>. Using functions in pandas, you can read data as a DataFrame object. \n",
    "\n",
    "**Reading a csv file**"
   ]
  },
  {
   "cell_type": "code",
   "execution_count": 122,
   "metadata": {
    "collapsed": false
   },
   "outputs": [
    {
     "data": {
      "text/html": [
       "<div>\n",
       "<table border=\"1\" class=\"dataframe\">\n",
       "  <thead>\n",
       "    <tr style=\"text-align: right;\">\n",
       "      <th></th>\n",
       "      <th>Industry Name</th>\n",
       "      <th>Number of firms</th>\n",
       "      <th>ROE</th>\n",
       "    </tr>\n",
       "  </thead>\n",
       "  <tbody>\n",
       "    <tr>\n",
       "      <th>0</th>\n",
       "      <td>Advertising</td>\n",
       "      <td>65</td>\n",
       "      <td>16.51%</td>\n",
       "    </tr>\n",
       "    <tr>\n",
       "      <th>1</th>\n",
       "      <td>Aerospace/Defense</td>\n",
       "      <td>95</td>\n",
       "      <td>21.60%</td>\n",
       "    </tr>\n",
       "    <tr>\n",
       "      <th>2</th>\n",
       "      <td>Air Transport</td>\n",
       "      <td>25</td>\n",
       "      <td>42.68%</td>\n",
       "    </tr>\n",
       "    <tr>\n",
       "      <th>3</th>\n",
       "      <td>Apparel</td>\n",
       "      <td>70</td>\n",
       "      <td>17.87%</td>\n",
       "    </tr>\n",
       "    <tr>\n",
       "      <th>4</th>\n",
       "      <td>Auto &amp; Truck</td>\n",
       "      <td>26</td>\n",
       "      <td>22.05%</td>\n",
       "    </tr>\n",
       "  </tbody>\n",
       "</table>\n",
       "</div>"
      ],
      "text/plain": [
       "       Industry Name  Number of firms     ROE\n",
       "0        Advertising               65  16.51%\n",
       "1  Aerospace/Defense               95  21.60%\n",
       "2      Air Transport               25  42.68%\n",
       "3            Apparel               70  17.87%\n",
       "4       Auto & Truck               26  22.05%"
      ]
     },
     "execution_count": 122,
     "metadata": {},
     "output_type": "execute_result"
    }
   ],
   "source": [
    "roedatacsv = pd.read_csv(your_local_path+'roedata.csv')\n",
    "#roedatacsv\n",
    "roedatacsv.head()"
   ]
  },
  {
   "cell_type": "markdown",
   "metadata": {},
   "source": [
    "If the file does not have a header, then you can either let pandas assign default headers or you can specify custom headers. If you want industry name to be the index of DataFrame, you can achieve that."
   ]
  },
  {
   "cell_type": "code",
   "execution_count": 123,
   "metadata": {
    "collapsed": false
   },
   "outputs": [
    {
     "data": {
      "text/html": [
       "<div>\n",
       "<table border=\"1\" class=\"dataframe\">\n",
       "  <thead>\n",
       "    <tr style=\"text-align: right;\">\n",
       "      <th></th>\n",
       "      <th>Number of firms</th>\n",
       "      <th>ROE</th>\n",
       "    </tr>\n",
       "    <tr>\n",
       "      <th>Industry Name</th>\n",
       "      <th></th>\n",
       "      <th></th>\n",
       "    </tr>\n",
       "  </thead>\n",
       "  <tbody>\n",
       "    <tr>\n",
       "      <th>Advertising</th>\n",
       "      <td>65</td>\n",
       "      <td>16.51%</td>\n",
       "    </tr>\n",
       "    <tr>\n",
       "      <th>Aerospace/Defense</th>\n",
       "      <td>95</td>\n",
       "      <td>21.60%</td>\n",
       "    </tr>\n",
       "    <tr>\n",
       "      <th>Air Transport</th>\n",
       "      <td>25</td>\n",
       "      <td>42.68%</td>\n",
       "    </tr>\n",
       "    <tr>\n",
       "      <th>Apparel</th>\n",
       "      <td>70</td>\n",
       "      <td>17.87%</td>\n",
       "    </tr>\n",
       "    <tr>\n",
       "      <th>Auto &amp; Truck</th>\n",
       "      <td>26</td>\n",
       "      <td>22.05%</td>\n",
       "    </tr>\n",
       "  </tbody>\n",
       "</table>\n",
       "</div>"
      ],
      "text/plain": [
       "                   Number of firms     ROE\n",
       "Industry Name                             \n",
       "Advertising                     65  16.51%\n",
       "Aerospace/Defense               95  21.60%\n",
       "Air Transport                   25  42.68%\n",
       "Apparel                         70  17.87%\n",
       "Auto & Truck                    26  22.05%"
      ]
     },
     "execution_count": 123,
     "metadata": {},
     "output_type": "execute_result"
    }
   ],
   "source": [
    "roedatacsv = pd.read_csv(your_local_path+'roedata.csv', index_col = 'Industry Name' )\n",
    "roedatacsv.head()"
   ]
  },
  {
   "cell_type": "code",
   "execution_count": 124,
   "metadata": {
    "collapsed": false
   },
   "outputs": [
    {
     "data": {
      "text/html": [
       "<div>\n",
       "<table border=\"1\" class=\"dataframe\">\n",
       "  <thead>\n",
       "    <tr style=\"text-align: right;\">\n",
       "      <th></th>\n",
       "      <th>Industry Name</th>\n",
       "      <th>ROE</th>\n",
       "    </tr>\n",
       "  </thead>\n",
       "  <tbody>\n",
       "    <tr>\n",
       "      <th>0</th>\n",
       "      <td>Advertising</td>\n",
       "      <td>16.51%</td>\n",
       "    </tr>\n",
       "    <tr>\n",
       "      <th>1</th>\n",
       "      <td>Aerospace/Defense</td>\n",
       "      <td>21.60%</td>\n",
       "    </tr>\n",
       "    <tr>\n",
       "      <th>2</th>\n",
       "      <td>Air Transport</td>\n",
       "      <td>42.68%</td>\n",
       "    </tr>\n",
       "    <tr>\n",
       "      <th>3</th>\n",
       "      <td>Apparel</td>\n",
       "      <td>17.87%</td>\n",
       "    </tr>\n",
       "    <tr>\n",
       "      <th>4</th>\n",
       "      <td>Auto &amp; Truck</td>\n",
       "      <td>22.05%</td>\n",
       "    </tr>\n",
       "  </tbody>\n",
       "</table>\n",
       "</div>"
      ],
      "text/plain": [
       "       Industry Name     ROE\n",
       "0        Advertising  16.51%\n",
       "1  Aerospace/Defense  21.60%\n",
       "2      Air Transport  42.68%\n",
       "3            Apparel  17.87%\n",
       "4       Auto & Truck  22.05%"
      ]
     },
     "execution_count": 124,
     "metadata": {},
     "output_type": "execute_result"
    }
   ],
   "source": [
    "roedatacsv = pd.read_csv(your_local_path+'roedata.csv', usecols = ['Industry Name','ROE'] ) # Prints on columns that we Use here\n",
    "roedatacsv.head()"
   ]
  },
  {
   "cell_type": "code",
   "execution_count": 125,
   "metadata": {
    "collapsed": false
   },
   "outputs": [
    {
     "data": {
      "text/html": [
       "<div>\n",
       "<table border=\"1\" class=\"dataframe\">\n",
       "  <thead>\n",
       "    <tr style=\"text-align: right;\">\n",
       "      <th></th>\n",
       "      <th>0</th>\n",
       "      <th>1</th>\n",
       "      <th>2</th>\n",
       "      <th>3</th>\n",
       "    </tr>\n",
       "  </thead>\n",
       "  <tbody>\n",
       "    <tr>\n",
       "      <th>0</th>\n",
       "      <td>195710</td>\n",
       "      <td>880211</td>\n",
       "      <td>-0.012605</td>\n",
       "      <td>0.003871</td>\n",
       "    </tr>\n",
       "    <tr>\n",
       "      <th>1</th>\n",
       "      <td>195710</td>\n",
       "      <td>880212</td>\n",
       "      <td>-0.008511</td>\n",
       "      <td>0.007406</td>\n",
       "    </tr>\n",
       "    <tr>\n",
       "      <th>2</th>\n",
       "      <td>195710</td>\n",
       "      <td>880216</td>\n",
       "      <td>0.008584</td>\n",
       "      <td>0.001411</td>\n",
       "    </tr>\n",
       "    <tr>\n",
       "      <th>3</th>\n",
       "      <td>195710</td>\n",
       "      <td>880217</td>\n",
       "      <td>-0.004255</td>\n",
       "      <td>0.002414</td>\n",
       "    </tr>\n",
       "    <tr>\n",
       "      <th>4</th>\n",
       "      <td>195710</td>\n",
       "      <td>880218</td>\n",
       "      <td>0.000000</td>\n",
       "      <td>0.002845</td>\n",
       "    </tr>\n",
       "  </tbody>\n",
       "</table>\n",
       "</div>"
      ],
      "text/plain": [
       "        0       1         2         3\n",
       "0  195710  880211 -0.012605  0.003871\n",
       "1  195710  880212 -0.008511  0.007406\n",
       "2  195710  880216  0.008584  0.001411\n",
       "3  195710  880217 -0.004255  0.002414\n",
       "4  195710  880218  0.000000  0.002845"
      ]
     },
     "execution_count": 125,
     "metadata": {},
     "output_type": "execute_result"
    }
   ],
   "source": [
    "capm_dem_data = pd.read_table(your_local_path+'capm_dem.dat', delimiter=' ',header = None)\n",
    "capm_dem_data.head()"
   ]
  },
  {
   "cell_type": "code",
   "execution_count": 126,
   "metadata": {
    "collapsed": false
   },
   "outputs": [
    {
     "data": {
      "text/html": [
       "<div>\n",
       "<table border=\"1\" class=\"dataframe\">\n",
       "  <thead>\n",
       "    <tr style=\"text-align: right;\">\n",
       "      <th></th>\n",
       "      <th></th>\n",
       "      <th>datadate</th>\n",
       "      <th>fyear</th>\n",
       "      <th>indfmt</th>\n",
       "      <th>consol</th>\n",
       "      <th>popsrc</th>\n",
       "      <th>datafmt</th>\n",
       "      <th>tic</th>\n",
       "      <th>conm</th>\n",
       "      <th>curcd</th>\n",
       "      <th>fyr</th>\n",
       "      <th>act</th>\n",
       "      <th>artfs</th>\n",
       "      <th>at</th>\n",
       "      <th>ebitda</th>\n",
       "      <th>epsfi</th>\n",
       "      <th>ni</th>\n",
       "      <th>costat</th>\n",
       "    </tr>\n",
       "    <tr>\n",
       "      <th>ggroup</th>\n",
       "      <th>gvkey</th>\n",
       "      <th></th>\n",
       "      <th></th>\n",
       "      <th></th>\n",
       "      <th></th>\n",
       "      <th></th>\n",
       "      <th></th>\n",
       "      <th></th>\n",
       "      <th></th>\n",
       "      <th></th>\n",
       "      <th></th>\n",
       "      <th></th>\n",
       "      <th></th>\n",
       "      <th></th>\n",
       "      <th></th>\n",
       "      <th></th>\n",
       "      <th></th>\n",
       "      <th></th>\n",
       "    </tr>\n",
       "  </thead>\n",
       "  <tbody>\n",
       "    <tr>\n",
       "      <th rowspan=\"5\" valign=\"top\">5510.0</th>\n",
       "      <th>273902</th>\n",
       "      <td>20101231</td>\n",
       "      <td>2010.0</td>\n",
       "      <td>INDL</td>\n",
       "      <td>C</td>\n",
       "      <td>D</td>\n",
       "      <td>STD</td>\n",
       "      <td>PENGF</td>\n",
       "      <td>PRIMARY ENERGY RECYCLING CP</td>\n",
       "      <td>CAD</td>\n",
       "      <td>12.0</td>\n",
       "      <td>34.821</td>\n",
       "      <td>NaN</td>\n",
       "      <td>329.365</td>\n",
       "      <td>34.071</td>\n",
       "      <td>0.10</td>\n",
       "      <td>13.382</td>\n",
       "      <td>A</td>\n",
       "    </tr>\n",
       "    <tr>\n",
       "      <th>273902</th>\n",
       "      <td>20111231</td>\n",
       "      <td>2011.0</td>\n",
       "      <td>INDL</td>\n",
       "      <td>C</td>\n",
       "      <td>D</td>\n",
       "      <td>STD</td>\n",
       "      <td>PENGF</td>\n",
       "      <td>PRIMARY ENERGY RECYCLING CP</td>\n",
       "      <td>CAD</td>\n",
       "      <td>12.0</td>\n",
       "      <td>31.385</td>\n",
       "      <td>NaN</td>\n",
       "      <td>309.250</td>\n",
       "      <td>28.511</td>\n",
       "      <td>0.00</td>\n",
       "      <td>0.037</td>\n",
       "      <td>A</td>\n",
       "    </tr>\n",
       "    <tr>\n",
       "      <th>273902</th>\n",
       "      <td>20121231</td>\n",
       "      <td>2012.0</td>\n",
       "      <td>INDL</td>\n",
       "      <td>C</td>\n",
       "      <td>D</td>\n",
       "      <td>STD</td>\n",
       "      <td>PENGF</td>\n",
       "      <td>PRIMARY ENERGY RECYCLING CP</td>\n",
       "      <td>CAD</td>\n",
       "      <td>12.0</td>\n",
       "      <td>41.333</td>\n",
       "      <td>NaN</td>\n",
       "      <td>300.047</td>\n",
       "      <td>23.890</td>\n",
       "      <td>0.20</td>\n",
       "      <td>9.042</td>\n",
       "      <td>A</td>\n",
       "    </tr>\n",
       "    <tr>\n",
       "      <th>273902</th>\n",
       "      <td>20131231</td>\n",
       "      <td>2013.0</td>\n",
       "      <td>INDL</td>\n",
       "      <td>C</td>\n",
       "      <td>D</td>\n",
       "      <td>STD</td>\n",
       "      <td>PENGF</td>\n",
       "      <td>PRIMARY ENERGY RECYCLING CP</td>\n",
       "      <td>CAD</td>\n",
       "      <td>12.0</td>\n",
       "      <td>34.165</td>\n",
       "      <td>NaN</td>\n",
       "      <td>293.968</td>\n",
       "      <td>21.166</td>\n",
       "      <td>-0.04</td>\n",
       "      <td>-2.026</td>\n",
       "      <td>A</td>\n",
       "    </tr>\n",
       "    <tr>\n",
       "      <th>269005</th>\n",
       "      <td>20101231</td>\n",
       "      <td>2010.0</td>\n",
       "      <td>INDL</td>\n",
       "      <td>C</td>\n",
       "      <td>D</td>\n",
       "      <td>STD</td>\n",
       "      <td>CPL</td>\n",
       "      <td>CPFL ENERGIA SA</td>\n",
       "      <td>USD</td>\n",
       "      <td>12.0</td>\n",
       "      <td>2343.929</td>\n",
       "      <td>NaN</td>\n",
       "      <td>12059.891</td>\n",
       "      <td>1953.276</td>\n",
       "      <td>5.77</td>\n",
       "      <td>924.948</td>\n",
       "      <td>A</td>\n",
       "    </tr>\n",
       "  </tbody>\n",
       "</table>\n",
       "</div>"
      ],
      "text/plain": [
       "               datadate   fyear indfmt consol popsrc datafmt    tic  \\\n",
       "ggroup gvkey                                                          \n",
       "5510.0 273902  20101231  2010.0   INDL      C      D     STD  PENGF   \n",
       "       273902  20111231  2011.0   INDL      C      D     STD  PENGF   \n",
       "       273902  20121231  2012.0   INDL      C      D     STD  PENGF   \n",
       "       273902  20131231  2013.0   INDL      C      D     STD  PENGF   \n",
       "       269005  20101231  2010.0   INDL      C      D     STD    CPL   \n",
       "\n",
       "                                      conm curcd   fyr       act  artfs  \\\n",
       "ggroup gvkey                                                              \n",
       "5510.0 273902  PRIMARY ENERGY RECYCLING CP   CAD  12.0    34.821    NaN   \n",
       "       273902  PRIMARY ENERGY RECYCLING CP   CAD  12.0    31.385    NaN   \n",
       "       273902  PRIMARY ENERGY RECYCLING CP   CAD  12.0    41.333    NaN   \n",
       "       273902  PRIMARY ENERGY RECYCLING CP   CAD  12.0    34.165    NaN   \n",
       "       269005              CPFL ENERGIA SA   USD  12.0  2343.929    NaN   \n",
       "\n",
       "                      at    ebitda  epsfi       ni costat  \n",
       "ggroup gvkey                                               \n",
       "5510.0 273902    329.365    34.071   0.10   13.382      A  \n",
       "       273902    309.250    28.511   0.00    0.037      A  \n",
       "       273902    300.047    23.890   0.20    9.042      A  \n",
       "       273902    293.968    21.166  -0.04   -2.026      A  \n",
       "       269005  12059.891  1953.276   5.77  924.948      A  "
      ]
     },
     "execution_count": 126,
     "metadata": {},
     "output_type": "execute_result"
    }
   ],
   "source": [
    "compustatdata = pd.read_csv(your_local_path+'compustat.csv', index_col = ['ggroup','gvkey'] )\n",
    "compustatdata = compustatdata.sort_index(0,ascending=False)\n",
    "compustatdata.head()"
   ]
  },
  {
   "cell_type": "code",
   "execution_count": null,
   "metadata": {
    "collapsed": false
   },
   "outputs": [],
   "source": [
    "crsp_data = pd.read_table(your_local_path+'crsp.output', sep='\\s+',header = None)\n",
    "crsp_data.head()"
   ]
  },
  {
   "cell_type": "markdown",
   "metadata": {},
   "source": [
    "** Handling missing values**\n",
    "\n",
    "Some types of missing values are automatically identified by pandas as NaN while importing the data. Those types are NA, NULL, -1.#IND. Additionally, you can also specify a list of missing values. "
   ]
  },
  {
   "cell_type": "code",
   "execution_count": 127,
   "metadata": {
    "collapsed": false
   },
   "outputs": [
    {
     "data": {
      "text/html": [
       "<div>\n",
       "<table border=\"1\" class=\"dataframe\">\n",
       "  <thead>\n",
       "    <tr style=\"text-align: right;\">\n",
       "      <th></th>\n",
       "      <th>Industry Name</th>\n",
       "      <th>Number of firms</th>\n",
       "      <th>ROE</th>\n",
       "    </tr>\n",
       "  </thead>\n",
       "  <tbody>\n",
       "    <tr>\n",
       "      <th>0</th>\n",
       "      <td>Advertising</td>\n",
       "      <td>65.0</td>\n",
       "      <td>16.51%</td>\n",
       "    </tr>\n",
       "    <tr>\n",
       "      <th>1</th>\n",
       "      <td>Aerospace/Defense</td>\n",
       "      <td>95.0</td>\n",
       "      <td>21.60%</td>\n",
       "    </tr>\n",
       "    <tr>\n",
       "      <th>2</th>\n",
       "      <td>Air Transport</td>\n",
       "      <td>25.0</td>\n",
       "      <td>42.68%</td>\n",
       "    </tr>\n",
       "    <tr>\n",
       "      <th>3</th>\n",
       "      <td>Apparel</td>\n",
       "      <td>70.0</td>\n",
       "      <td>17.87%</td>\n",
       "    </tr>\n",
       "    <tr>\n",
       "      <th>4</th>\n",
       "      <td>Auto &amp; Truck</td>\n",
       "      <td>26.0</td>\n",
       "      <td>22.05%</td>\n",
       "    </tr>\n",
       "    <tr>\n",
       "      <th>5</th>\n",
       "      <td>Auto Parts</td>\n",
       "      <td>75.0</td>\n",
       "      <td>17.54%</td>\n",
       "    </tr>\n",
       "    <tr>\n",
       "      <th>6</th>\n",
       "      <td>Bank</td>\n",
       "      <td>7.0</td>\n",
       "      <td>15.03%</td>\n",
       "    </tr>\n",
       "    <tr>\n",
       "      <th>7</th>\n",
       "      <td>Banks (Regional)</td>\n",
       "      <td>721.0</td>\n",
       "      <td>9.52%</td>\n",
       "    </tr>\n",
       "    <tr>\n",
       "      <th>8</th>\n",
       "      <td>Beverage</td>\n",
       "      <td>47.0</td>\n",
       "      <td>27.62%</td>\n",
       "    </tr>\n",
       "    <tr>\n",
       "      <th>9</th>\n",
       "      <td>Beverage (Alcoholic)</td>\n",
       "      <td>19.0</td>\n",
       "      <td>18.28%</td>\n",
       "    </tr>\n",
       "    <tr>\n",
       "      <th>10</th>\n",
       "      <td>Biotechnology</td>\n",
       "      <td>349.0</td>\n",
       "      <td>6.77%</td>\n",
       "    </tr>\n",
       "    <tr>\n",
       "      <th>11</th>\n",
       "      <td>Broadcasting</td>\n",
       "      <td>30.0</td>\n",
       "      <td>74.10%</td>\n",
       "    </tr>\n",
       "    <tr>\n",
       "      <th>12</th>\n",
       "      <td>Brokerage &amp; Investment Banking</td>\n",
       "      <td>49.0</td>\n",
       "      <td>9.25%</td>\n",
       "    </tr>\n",
       "    <tr>\n",
       "      <th>13</th>\n",
       "      <td>Building Materials</td>\n",
       "      <td>37.0</td>\n",
       "      <td>6.78%</td>\n",
       "    </tr>\n",
       "    <tr>\n",
       "      <th>14</th>\n",
       "      <td>Business &amp; Consumer Services</td>\n",
       "      <td>NaN</td>\n",
       "      <td>12.48%</td>\n",
       "    </tr>\n",
       "    <tr>\n",
       "      <th>15</th>\n",
       "      <td>Cable TV</td>\n",
       "      <td>16.0</td>\n",
       "      <td>26.62%</td>\n",
       "    </tr>\n",
       "    <tr>\n",
       "      <th>16</th>\n",
       "      <td>Chemical (Basic)</td>\n",
       "      <td>47.0</td>\n",
       "      <td>10000.00%</td>\n",
       "    </tr>\n",
       "    <tr>\n",
       "      <th>17</th>\n",
       "      <td>Chemical (Diversified)</td>\n",
       "      <td>10.0</td>\n",
       "      <td>145.00%</td>\n",
       "    </tr>\n",
       "    <tr>\n",
       "      <th>18</th>\n",
       "      <td>Chemical (Specialty)</td>\n",
       "      <td>100.0</td>\n",
       "      <td>22.10%</td>\n",
       "    </tr>\n",
       "    <tr>\n",
       "      <th>19</th>\n",
       "      <td>Coal &amp; Related Energy</td>\n",
       "      <td>45.0</td>\n",
       "      <td>-14.66%</td>\n",
       "    </tr>\n",
       "    <tr>\n",
       "      <th>20</th>\n",
       "      <td>Computer Services</td>\n",
       "      <td>129.0</td>\n",
       "      <td>39.46%</td>\n",
       "    </tr>\n",
       "    <tr>\n",
       "      <th>21</th>\n",
       "      <td>Computer Software</td>\n",
       "      <td>273.0</td>\n",
       "      <td>21.53%</td>\n",
       "    </tr>\n",
       "    <tr>\n",
       "      <th>22</th>\n",
       "      <td>Computers/Peripherals</td>\n",
       "      <td>66.0</td>\n",
       "      <td>24.55%</td>\n",
       "    </tr>\n",
       "    <tr>\n",
       "      <th>23</th>\n",
       "      <td>Construction</td>\n",
       "      <td>18.0</td>\n",
       "      <td>3.62%</td>\n",
       "    </tr>\n",
       "    <tr>\n",
       "      <th>24</th>\n",
       "      <td>Diversified</td>\n",
       "      <td>20.0</td>\n",
       "      <td>13.06%</td>\n",
       "    </tr>\n",
       "    <tr>\n",
       "      <th>25</th>\n",
       "      <td>Educational Services</td>\n",
       "      <td>40.0</td>\n",
       "      <td>-0.13%</td>\n",
       "    </tr>\n",
       "    <tr>\n",
       "      <th>26</th>\n",
       "      <td>Electrical Equipment</td>\n",
       "      <td>135.0</td>\n",
       "      <td>13.67%</td>\n",
       "    </tr>\n",
       "    <tr>\n",
       "      <th>27</th>\n",
       "      <td>Electronics</td>\n",
       "      <td>191.0</td>\n",
       "      <td>7.98%</td>\n",
       "    </tr>\n",
       "    <tr>\n",
       "      <th>28</th>\n",
       "      <td>Electronics (Consumer &amp; Office)</td>\n",
       "      <td>26.0</td>\n",
       "      <td>25.66%</td>\n",
       "    </tr>\n",
       "    <tr>\n",
       "      <th>29</th>\n",
       "      <td>Engineering</td>\n",
       "      <td>56.0</td>\n",
       "      <td>7.61%</td>\n",
       "    </tr>\n",
       "    <tr>\n",
       "      <th>...</th>\n",
       "      <td>...</td>\n",
       "      <td>...</td>\n",
       "      <td>...</td>\n",
       "    </tr>\n",
       "    <tr>\n",
       "      <th>67</th>\n",
       "      <td>Railroad</td>\n",
       "      <td>10.0</td>\n",
       "      <td>19.85%</td>\n",
       "    </tr>\n",
       "    <tr>\n",
       "      <th>68</th>\n",
       "      <td>Real Estate (Development)</td>\n",
       "      <td>22.0</td>\n",
       "      <td>-4.29%</td>\n",
       "    </tr>\n",
       "    <tr>\n",
       "      <th>69</th>\n",
       "      <td>Real Estate (General/Diversified)</td>\n",
       "      <td>11.0</td>\n",
       "      <td>1.02%</td>\n",
       "    </tr>\n",
       "    <tr>\n",
       "      <th>70</th>\n",
       "      <td>Real Estate (Operations &amp; Services)</td>\n",
       "      <td>47.0</td>\n",
       "      <td>19.84%</td>\n",
       "    </tr>\n",
       "    <tr>\n",
       "      <th>71</th>\n",
       "      <td>Recreation</td>\n",
       "      <td>70.0</td>\n",
       "      <td>18.03%</td>\n",
       "    </tr>\n",
       "    <tr>\n",
       "      <th>72</th>\n",
       "      <td>Reinsurance</td>\n",
       "      <td>3.0</td>\n",
       "      <td>6.05%</td>\n",
       "    </tr>\n",
       "    <tr>\n",
       "      <th>73</th>\n",
       "      <td>Restaurant</td>\n",
       "      <td>84.0</td>\n",
       "      <td>27.46%</td>\n",
       "    </tr>\n",
       "    <tr>\n",
       "      <th>74</th>\n",
       "      <td>Retail (Automotive)</td>\n",
       "      <td>30.0</td>\n",
       "      <td>30.79%</td>\n",
       "    </tr>\n",
       "    <tr>\n",
       "      <th>75</th>\n",
       "      <td>Retail (Building Supply)</td>\n",
       "      <td>7.0</td>\n",
       "      <td>23.12%</td>\n",
       "    </tr>\n",
       "    <tr>\n",
       "      <th>76</th>\n",
       "      <td>Retail (Distributors)</td>\n",
       "      <td>87.0</td>\n",
       "      <td>12.92%</td>\n",
       "    </tr>\n",
       "    <tr>\n",
       "      <th>77</th>\n",
       "      <td>Retail (General)</td>\n",
       "      <td>21.0</td>\n",
       "      <td>17.68%</td>\n",
       "    </tr>\n",
       "    <tr>\n",
       "      <th>78</th>\n",
       "      <td>Retail (Grocery and Food)</td>\n",
       "      <td>21.0</td>\n",
       "      <td>10.91%</td>\n",
       "    </tr>\n",
       "    <tr>\n",
       "      <th>79</th>\n",
       "      <td>Retail (Internet)</td>\n",
       "      <td>47.0</td>\n",
       "      <td>18.36%</td>\n",
       "    </tr>\n",
       "    <tr>\n",
       "      <th>80</th>\n",
       "      <td>Retail (Special Lines)</td>\n",
       "      <td>137.0</td>\n",
       "      <td>17.29%</td>\n",
       "    </tr>\n",
       "    <tr>\n",
       "      <th>81</th>\n",
       "      <td>Rubber&amp; Tires</td>\n",
       "      <td>4.0</td>\n",
       "      <td>45.41%</td>\n",
       "    </tr>\n",
       "    <tr>\n",
       "      <th>82</th>\n",
       "      <td>Semiconductor</td>\n",
       "      <td>104.0</td>\n",
       "      <td>13.14%</td>\n",
       "    </tr>\n",
       "    <tr>\n",
       "      <th>83</th>\n",
       "      <td>Semiconductor Equip</td>\n",
       "      <td>51.0</td>\n",
       "      <td>-1.21%</td>\n",
       "    </tr>\n",
       "    <tr>\n",
       "      <th>84</th>\n",
       "      <td>Shipbuilding &amp; Marine</td>\n",
       "      <td>14.0</td>\n",
       "      <td>0.37%</td>\n",
       "    </tr>\n",
       "    <tr>\n",
       "      <th>85</th>\n",
       "      <td>Shoe</td>\n",
       "      <td>14.0</td>\n",
       "      <td>24.27%</td>\n",
       "    </tr>\n",
       "    <tr>\n",
       "      <th>86</th>\n",
       "      <td>Steel</td>\n",
       "      <td>37.0</td>\n",
       "      <td>-6.67%</td>\n",
       "    </tr>\n",
       "    <tr>\n",
       "      <th>87</th>\n",
       "      <td>Telecom (Wireless)</td>\n",
       "      <td>28.0</td>\n",
       "      <td>-15.63%</td>\n",
       "    </tr>\n",
       "    <tr>\n",
       "      <th>88</th>\n",
       "      <td>Telecom. Equipment</td>\n",
       "      <td>131.0</td>\n",
       "      <td>15.67%</td>\n",
       "    </tr>\n",
       "    <tr>\n",
       "      <th>89</th>\n",
       "      <td>Telecom. Services</td>\n",
       "      <td>82.0</td>\n",
       "      <td>5.78%</td>\n",
       "    </tr>\n",
       "    <tr>\n",
       "      <th>90</th>\n",
       "      <td>Thrift</td>\n",
       "      <td>223.0</td>\n",
       "      <td>-79.47%</td>\n",
       "    </tr>\n",
       "    <tr>\n",
       "      <th>91</th>\n",
       "      <td>Tobacco</td>\n",
       "      <td>12.0</td>\n",
       "      <td>214.71%</td>\n",
       "    </tr>\n",
       "    <tr>\n",
       "      <th>92</th>\n",
       "      <td>Transportation</td>\n",
       "      <td>22.0</td>\n",
       "      <td>14.75%</td>\n",
       "    </tr>\n",
       "    <tr>\n",
       "      <th>93</th>\n",
       "      <td>Trucking</td>\n",
       "      <td>28.0</td>\n",
       "      <td>16.01%</td>\n",
       "    </tr>\n",
       "    <tr>\n",
       "      <th>94</th>\n",
       "      <td>Utility (General)</td>\n",
       "      <td>20.0</td>\n",
       "      <td>7.34%</td>\n",
       "    </tr>\n",
       "    <tr>\n",
       "      <th>95</th>\n",
       "      <td>Utility (Water)</td>\n",
       "      <td>20.0</td>\n",
       "      <td>9.95%</td>\n",
       "    </tr>\n",
       "    <tr>\n",
       "      <th>96</th>\n",
       "      <td>Total Market</td>\n",
       "      <td>7766.0</td>\n",
       "      <td>15.68%</td>\n",
       "    </tr>\n",
       "  </tbody>\n",
       "</table>\n",
       "<p>97 rows × 3 columns</p>\n",
       "</div>"
      ],
      "text/plain": [
       "                          Industry Name  Number of firms        ROE\n",
       "0                           Advertising             65.0     16.51%\n",
       "1                     Aerospace/Defense             95.0     21.60%\n",
       "2                         Air Transport             25.0     42.68%\n",
       "3                               Apparel             70.0     17.87%\n",
       "4                          Auto & Truck             26.0     22.05%\n",
       "5                            Auto Parts             75.0     17.54%\n",
       "6                                  Bank              7.0     15.03%\n",
       "7                      Banks (Regional)            721.0      9.52%\n",
       "8                             Beverage              47.0     27.62%\n",
       "9                  Beverage (Alcoholic)             19.0     18.28%\n",
       "10                        Biotechnology            349.0      6.77%\n",
       "11                         Broadcasting             30.0     74.10%\n",
       "12       Brokerage & Investment Banking             49.0      9.25%\n",
       "13                   Building Materials             37.0      6.78%\n",
       "14         Business & Consumer Services              NaN     12.48%\n",
       "15                             Cable TV             16.0     26.62%\n",
       "16                     Chemical (Basic)             47.0  10000.00%\n",
       "17               Chemical (Diversified)             10.0    145.00%\n",
       "18                 Chemical (Specialty)            100.0     22.10%\n",
       "19                Coal & Related Energy             45.0    -14.66%\n",
       "20                    Computer Services            129.0     39.46%\n",
       "21                    Computer Software            273.0     21.53%\n",
       "22                Computers/Peripherals             66.0     24.55%\n",
       "23                         Construction             18.0      3.62%\n",
       "24                          Diversified             20.0     13.06%\n",
       "25                 Educational Services             40.0     -0.13%\n",
       "26                 Electrical Equipment            135.0     13.67%\n",
       "27                          Electronics            191.0      7.98%\n",
       "28      Electronics (Consumer & Office)             26.0     25.66%\n",
       "29                          Engineering             56.0      7.61%\n",
       "..                                  ...              ...        ...\n",
       "67                             Railroad             10.0     19.85%\n",
       "68            Real Estate (Development)             22.0     -4.29%\n",
       "69    Real Estate (General/Diversified)             11.0      1.02%\n",
       "70  Real Estate (Operations & Services)             47.0     19.84%\n",
       "71                           Recreation             70.0     18.03%\n",
       "72                          Reinsurance              3.0      6.05%\n",
       "73                           Restaurant             84.0     27.46%\n",
       "74                  Retail (Automotive)             30.0     30.79%\n",
       "75             Retail (Building Supply)              7.0     23.12%\n",
       "76                Retail (Distributors)             87.0     12.92%\n",
       "77                     Retail (General)             21.0     17.68%\n",
       "78            Retail (Grocery and Food)             21.0     10.91%\n",
       "79                    Retail (Internet)             47.0     18.36%\n",
       "80               Retail (Special Lines)            137.0     17.29%\n",
       "81                        Rubber& Tires              4.0     45.41%\n",
       "82                        Semiconductor            104.0     13.14%\n",
       "83                  Semiconductor Equip             51.0     -1.21%\n",
       "84                Shipbuilding & Marine             14.0      0.37%\n",
       "85                                 Shoe             14.0     24.27%\n",
       "86                                Steel             37.0     -6.67%\n",
       "87                   Telecom (Wireless)             28.0    -15.63%\n",
       "88                   Telecom. Equipment            131.0     15.67%\n",
       "89                    Telecom. Services             82.0      5.78%\n",
       "90                               Thrift            223.0    -79.47%\n",
       "91                              Tobacco             12.0    214.71%\n",
       "92                       Transportation             22.0     14.75%\n",
       "93                             Trucking             28.0     16.01%\n",
       "94                    Utility (General)             20.0      7.34%\n",
       "95                      Utility (Water)             20.0      9.95%\n",
       "96                         Total Market           7766.0     15.68%\n",
       "\n",
       "[97 rows x 3 columns]"
      ]
     },
     "execution_count": 127,
     "metadata": {},
     "output_type": "execute_result"
    }
   ],
   "source": [
    "roemissing = pd.read_csv(your_local_path+'roemissing.csv', na_values=['Null',-999] )\n",
    "roemissing"
   ]
  },
  {
   "cell_type": "code",
   "execution_count": 128,
   "metadata": {
    "collapsed": false
   },
   "outputs": [
    {
     "data": {
      "text/html": [
       "<div>\n",
       "<table border=\"1\" class=\"dataframe\">\n",
       "  <thead>\n",
       "    <tr style=\"text-align: right;\">\n",
       "      <th></th>\n",
       "      <th>Industry Name</th>\n",
       "      <th>Number of firms</th>\n",
       "      <th>ROE</th>\n",
       "    </tr>\n",
       "  </thead>\n",
       "  <tbody>\n",
       "    <tr>\n",
       "      <th>0</th>\n",
       "      <td>Advertising</td>\n",
       "      <td>65.0</td>\n",
       "      <td>16.51%</td>\n",
       "    </tr>\n",
       "    <tr>\n",
       "      <th>1</th>\n",
       "      <td>Aerospace/Defense</td>\n",
       "      <td>95.0</td>\n",
       "      <td>21.60%</td>\n",
       "    </tr>\n",
       "    <tr>\n",
       "      <th>2</th>\n",
       "      <td>Air Transport</td>\n",
       "      <td>25.0</td>\n",
       "      <td>42.68%</td>\n",
       "    </tr>\n",
       "    <tr>\n",
       "      <th>3</th>\n",
       "      <td>Apparel</td>\n",
       "      <td>70.0</td>\n",
       "      <td>17.87%</td>\n",
       "    </tr>\n",
       "    <tr>\n",
       "      <th>4</th>\n",
       "      <td>Auto &amp; Truck</td>\n",
       "      <td>26.0</td>\n",
       "      <td>22.05%</td>\n",
       "    </tr>\n",
       "    <tr>\n",
       "      <th>5</th>\n",
       "      <td>Auto Parts</td>\n",
       "      <td>75.0</td>\n",
       "      <td>17.54%</td>\n",
       "    </tr>\n",
       "    <tr>\n",
       "      <th>6</th>\n",
       "      <td>Bank</td>\n",
       "      <td>7.0</td>\n",
       "      <td>15.03%</td>\n",
       "    </tr>\n",
       "    <tr>\n",
       "      <th>7</th>\n",
       "      <td>Banks (Regional)</td>\n",
       "      <td>721.0</td>\n",
       "      <td>9.52%</td>\n",
       "    </tr>\n",
       "    <tr>\n",
       "      <th>8</th>\n",
       "      <td>Beverage</td>\n",
       "      <td>47.0</td>\n",
       "      <td>27.62%</td>\n",
       "    </tr>\n",
       "    <tr>\n",
       "      <th>9</th>\n",
       "      <td>Beverage (Alcoholic)</td>\n",
       "      <td>19.0</td>\n",
       "      <td>18.28%</td>\n",
       "    </tr>\n",
       "    <tr>\n",
       "      <th>10</th>\n",
       "      <td>Biotechnology</td>\n",
       "      <td>349.0</td>\n",
       "      <td>6.77%</td>\n",
       "    </tr>\n",
       "    <tr>\n",
       "      <th>11</th>\n",
       "      <td>Broadcasting</td>\n",
       "      <td>30.0</td>\n",
       "      <td>74.10%</td>\n",
       "    </tr>\n",
       "    <tr>\n",
       "      <th>12</th>\n",
       "      <td>Brokerage &amp; Investment Banking</td>\n",
       "      <td>49.0</td>\n",
       "      <td>9.25%</td>\n",
       "    </tr>\n",
       "    <tr>\n",
       "      <th>13</th>\n",
       "      <td>Building Materials</td>\n",
       "      <td>37.0</td>\n",
       "      <td>6.78%</td>\n",
       "    </tr>\n",
       "    <tr>\n",
       "      <th>14</th>\n",
       "      <td>Business &amp; Consumer Services</td>\n",
       "      <td>NaN</td>\n",
       "      <td>12.48%</td>\n",
       "    </tr>\n",
       "    <tr>\n",
       "      <th>15</th>\n",
       "      <td>Cable TV</td>\n",
       "      <td>16.0</td>\n",
       "      <td>26.62%</td>\n",
       "    </tr>\n",
       "    <tr>\n",
       "      <th>16</th>\n",
       "      <td>Chemical (Basic)</td>\n",
       "      <td>47.0</td>\n",
       "      <td>NaN</td>\n",
       "    </tr>\n",
       "    <tr>\n",
       "      <th>17</th>\n",
       "      <td>Chemical (Diversified)</td>\n",
       "      <td>10.0</td>\n",
       "      <td>145.00%</td>\n",
       "    </tr>\n",
       "    <tr>\n",
       "      <th>18</th>\n",
       "      <td>Chemical (Specialty)</td>\n",
       "      <td>100.0</td>\n",
       "      <td>22.10%</td>\n",
       "    </tr>\n",
       "    <tr>\n",
       "      <th>19</th>\n",
       "      <td>Coal &amp; Related Energy</td>\n",
       "      <td>45.0</td>\n",
       "      <td>-14.66%</td>\n",
       "    </tr>\n",
       "    <tr>\n",
       "      <th>20</th>\n",
       "      <td>Computer Services</td>\n",
       "      <td>129.0</td>\n",
       "      <td>39.46%</td>\n",
       "    </tr>\n",
       "    <tr>\n",
       "      <th>21</th>\n",
       "      <td>Computer Software</td>\n",
       "      <td>273.0</td>\n",
       "      <td>21.53%</td>\n",
       "    </tr>\n",
       "    <tr>\n",
       "      <th>22</th>\n",
       "      <td>Computers/Peripherals</td>\n",
       "      <td>66.0</td>\n",
       "      <td>24.55%</td>\n",
       "    </tr>\n",
       "    <tr>\n",
       "      <th>23</th>\n",
       "      <td>Construction</td>\n",
       "      <td>18.0</td>\n",
       "      <td>3.62%</td>\n",
       "    </tr>\n",
       "    <tr>\n",
       "      <th>24</th>\n",
       "      <td>Diversified</td>\n",
       "      <td>20.0</td>\n",
       "      <td>13.06%</td>\n",
       "    </tr>\n",
       "    <tr>\n",
       "      <th>25</th>\n",
       "      <td>Educational Services</td>\n",
       "      <td>40.0</td>\n",
       "      <td>-0.13%</td>\n",
       "    </tr>\n",
       "    <tr>\n",
       "      <th>26</th>\n",
       "      <td>Electrical Equipment</td>\n",
       "      <td>135.0</td>\n",
       "      <td>13.67%</td>\n",
       "    </tr>\n",
       "    <tr>\n",
       "      <th>27</th>\n",
       "      <td>Electronics</td>\n",
       "      <td>191.0</td>\n",
       "      <td>7.98%</td>\n",
       "    </tr>\n",
       "    <tr>\n",
       "      <th>28</th>\n",
       "      <td>Electronics (Consumer &amp; Office)</td>\n",
       "      <td>26.0</td>\n",
       "      <td>25.66%</td>\n",
       "    </tr>\n",
       "    <tr>\n",
       "      <th>29</th>\n",
       "      <td>Engineering</td>\n",
       "      <td>56.0</td>\n",
       "      <td>7.61%</td>\n",
       "    </tr>\n",
       "    <tr>\n",
       "      <th>...</th>\n",
       "      <td>...</td>\n",
       "      <td>...</td>\n",
       "      <td>...</td>\n",
       "    </tr>\n",
       "    <tr>\n",
       "      <th>67</th>\n",
       "      <td>Railroad</td>\n",
       "      <td>10.0</td>\n",
       "      <td>19.85%</td>\n",
       "    </tr>\n",
       "    <tr>\n",
       "      <th>68</th>\n",
       "      <td>Real Estate (Development)</td>\n",
       "      <td>22.0</td>\n",
       "      <td>-4.29%</td>\n",
       "    </tr>\n",
       "    <tr>\n",
       "      <th>69</th>\n",
       "      <td>Real Estate (General/Diversified)</td>\n",
       "      <td>11.0</td>\n",
       "      <td>1.02%</td>\n",
       "    </tr>\n",
       "    <tr>\n",
       "      <th>70</th>\n",
       "      <td>Real Estate (Operations &amp; Services)</td>\n",
       "      <td>47.0</td>\n",
       "      <td>19.84%</td>\n",
       "    </tr>\n",
       "    <tr>\n",
       "      <th>71</th>\n",
       "      <td>Recreation</td>\n",
       "      <td>70.0</td>\n",
       "      <td>18.03%</td>\n",
       "    </tr>\n",
       "    <tr>\n",
       "      <th>72</th>\n",
       "      <td>Reinsurance</td>\n",
       "      <td>3.0</td>\n",
       "      <td>6.05%</td>\n",
       "    </tr>\n",
       "    <tr>\n",
       "      <th>73</th>\n",
       "      <td>Restaurant</td>\n",
       "      <td>84.0</td>\n",
       "      <td>27.46%</td>\n",
       "    </tr>\n",
       "    <tr>\n",
       "      <th>74</th>\n",
       "      <td>Retail (Automotive)</td>\n",
       "      <td>30.0</td>\n",
       "      <td>30.79%</td>\n",
       "    </tr>\n",
       "    <tr>\n",
       "      <th>75</th>\n",
       "      <td>Retail (Building Supply)</td>\n",
       "      <td>7.0</td>\n",
       "      <td>23.12%</td>\n",
       "    </tr>\n",
       "    <tr>\n",
       "      <th>76</th>\n",
       "      <td>Retail (Distributors)</td>\n",
       "      <td>87.0</td>\n",
       "      <td>12.92%</td>\n",
       "    </tr>\n",
       "    <tr>\n",
       "      <th>77</th>\n",
       "      <td>Retail (General)</td>\n",
       "      <td>21.0</td>\n",
       "      <td>17.68%</td>\n",
       "    </tr>\n",
       "    <tr>\n",
       "      <th>78</th>\n",
       "      <td>Retail (Grocery and Food)</td>\n",
       "      <td>21.0</td>\n",
       "      <td>10.91%</td>\n",
       "    </tr>\n",
       "    <tr>\n",
       "      <th>79</th>\n",
       "      <td>Retail (Internet)</td>\n",
       "      <td>47.0</td>\n",
       "      <td>18.36%</td>\n",
       "    </tr>\n",
       "    <tr>\n",
       "      <th>80</th>\n",
       "      <td>Retail (Special Lines)</td>\n",
       "      <td>137.0</td>\n",
       "      <td>17.29%</td>\n",
       "    </tr>\n",
       "    <tr>\n",
       "      <th>81</th>\n",
       "      <td>Rubber&amp; Tires</td>\n",
       "      <td>4.0</td>\n",
       "      <td>45.41%</td>\n",
       "    </tr>\n",
       "    <tr>\n",
       "      <th>82</th>\n",
       "      <td>Semiconductor</td>\n",
       "      <td>104.0</td>\n",
       "      <td>13.14%</td>\n",
       "    </tr>\n",
       "    <tr>\n",
       "      <th>83</th>\n",
       "      <td>Semiconductor Equip</td>\n",
       "      <td>51.0</td>\n",
       "      <td>-1.21%</td>\n",
       "    </tr>\n",
       "    <tr>\n",
       "      <th>84</th>\n",
       "      <td>Shipbuilding &amp; Marine</td>\n",
       "      <td>14.0</td>\n",
       "      <td>0.37%</td>\n",
       "    </tr>\n",
       "    <tr>\n",
       "      <th>85</th>\n",
       "      <td>Shoe</td>\n",
       "      <td>14.0</td>\n",
       "      <td>24.27%</td>\n",
       "    </tr>\n",
       "    <tr>\n",
       "      <th>86</th>\n",
       "      <td>Steel</td>\n",
       "      <td>37.0</td>\n",
       "      <td>-6.67%</td>\n",
       "    </tr>\n",
       "    <tr>\n",
       "      <th>87</th>\n",
       "      <td>Telecom (Wireless)</td>\n",
       "      <td>28.0</td>\n",
       "      <td>-15.63%</td>\n",
       "    </tr>\n",
       "    <tr>\n",
       "      <th>88</th>\n",
       "      <td>Telecom. Equipment</td>\n",
       "      <td>131.0</td>\n",
       "      <td>15.67%</td>\n",
       "    </tr>\n",
       "    <tr>\n",
       "      <th>89</th>\n",
       "      <td>Telecom. Services</td>\n",
       "      <td>82.0</td>\n",
       "      <td>5.78%</td>\n",
       "    </tr>\n",
       "    <tr>\n",
       "      <th>90</th>\n",
       "      <td>Thrift</td>\n",
       "      <td>223.0</td>\n",
       "      <td>-79.47%</td>\n",
       "    </tr>\n",
       "    <tr>\n",
       "      <th>91</th>\n",
       "      <td>Tobacco</td>\n",
       "      <td>12.0</td>\n",
       "      <td>214.71%</td>\n",
       "    </tr>\n",
       "    <tr>\n",
       "      <th>92</th>\n",
       "      <td>Transportation</td>\n",
       "      <td>22.0</td>\n",
       "      <td>14.75%</td>\n",
       "    </tr>\n",
       "    <tr>\n",
       "      <th>93</th>\n",
       "      <td>Trucking</td>\n",
       "      <td>28.0</td>\n",
       "      <td>16.01%</td>\n",
       "    </tr>\n",
       "    <tr>\n",
       "      <th>94</th>\n",
       "      <td>Utility (General)</td>\n",
       "      <td>20.0</td>\n",
       "      <td>7.34%</td>\n",
       "    </tr>\n",
       "    <tr>\n",
       "      <th>95</th>\n",
       "      <td>Utility (Water)</td>\n",
       "      <td>20.0</td>\n",
       "      <td>9.95%</td>\n",
       "    </tr>\n",
       "    <tr>\n",
       "      <th>96</th>\n",
       "      <td>Total Market</td>\n",
       "      <td>7766.0</td>\n",
       "      <td>15.68%</td>\n",
       "    </tr>\n",
       "  </tbody>\n",
       "</table>\n",
       "<p>97 rows × 3 columns</p>\n",
       "</div>"
      ],
      "text/plain": [
       "                          Industry Name  Number of firms      ROE\n",
       "0                           Advertising             65.0   16.51%\n",
       "1                     Aerospace/Defense             95.0   21.60%\n",
       "2                         Air Transport             25.0   42.68%\n",
       "3                               Apparel             70.0   17.87%\n",
       "4                          Auto & Truck             26.0   22.05%\n",
       "5                            Auto Parts             75.0   17.54%\n",
       "6                                  Bank              7.0   15.03%\n",
       "7                      Banks (Regional)            721.0    9.52%\n",
       "8                             Beverage              47.0   27.62%\n",
       "9                  Beverage (Alcoholic)             19.0   18.28%\n",
       "10                        Biotechnology            349.0    6.77%\n",
       "11                         Broadcasting             30.0   74.10%\n",
       "12       Brokerage & Investment Banking             49.0    9.25%\n",
       "13                   Building Materials             37.0    6.78%\n",
       "14         Business & Consumer Services              NaN   12.48%\n",
       "15                             Cable TV             16.0   26.62%\n",
       "16                     Chemical (Basic)             47.0      NaN\n",
       "17               Chemical (Diversified)             10.0  145.00%\n",
       "18                 Chemical (Specialty)            100.0   22.10%\n",
       "19                Coal & Related Energy             45.0  -14.66%\n",
       "20                    Computer Services            129.0   39.46%\n",
       "21                    Computer Software            273.0   21.53%\n",
       "22                Computers/Peripherals             66.0   24.55%\n",
       "23                         Construction             18.0    3.62%\n",
       "24                          Diversified             20.0   13.06%\n",
       "25                 Educational Services             40.0   -0.13%\n",
       "26                 Electrical Equipment            135.0   13.67%\n",
       "27                          Electronics            191.0    7.98%\n",
       "28      Electronics (Consumer & Office)             26.0   25.66%\n",
       "29                          Engineering             56.0    7.61%\n",
       "..                                  ...              ...      ...\n",
       "67                             Railroad             10.0   19.85%\n",
       "68            Real Estate (Development)             22.0   -4.29%\n",
       "69    Real Estate (General/Diversified)             11.0    1.02%\n",
       "70  Real Estate (Operations & Services)             47.0   19.84%\n",
       "71                           Recreation             70.0   18.03%\n",
       "72                          Reinsurance              3.0    6.05%\n",
       "73                           Restaurant             84.0   27.46%\n",
       "74                  Retail (Automotive)             30.0   30.79%\n",
       "75             Retail (Building Supply)              7.0   23.12%\n",
       "76                Retail (Distributors)             87.0   12.92%\n",
       "77                     Retail (General)             21.0   17.68%\n",
       "78            Retail (Grocery and Food)             21.0   10.91%\n",
       "79                    Retail (Internet)             47.0   18.36%\n",
       "80               Retail (Special Lines)            137.0   17.29%\n",
       "81                        Rubber& Tires              4.0   45.41%\n",
       "82                        Semiconductor            104.0   13.14%\n",
       "83                  Semiconductor Equip             51.0   -1.21%\n",
       "84                Shipbuilding & Marine             14.0    0.37%\n",
       "85                                 Shoe             14.0   24.27%\n",
       "86                                Steel             37.0   -6.67%\n",
       "87                   Telecom (Wireless)             28.0  -15.63%\n",
       "88                   Telecom. Equipment            131.0   15.67%\n",
       "89                    Telecom. Services             82.0    5.78%\n",
       "90                               Thrift            223.0  -79.47%\n",
       "91                              Tobacco             12.0  214.71%\n",
       "92                       Transportation             22.0   14.75%\n",
       "93                             Trucking             28.0   16.01%\n",
       "94                    Utility (General)             20.0    7.34%\n",
       "95                      Utility (Water)             20.0    9.95%\n",
       "96                         Total Market           7766.0   15.68%\n",
       "\n",
       "[97 rows x 3 columns]"
      ]
     },
     "execution_count": 128,
     "metadata": {},
     "output_type": "execute_result"
    }
   ],
   "source": [
    "roemissing = pd.read_csv(your_local_path+'roemissing.csv', na_values={'Number of firms':['NULL',-999],'ROE':['10000.00%']} )\n",
    "roemissing"
   ]
  },
  {
   "cell_type": "markdown",
   "metadata": {},
   "source": [
    "**Writing Data**"
   ]
  },
  {
   "cell_type": "code",
   "execution_count": null,
   "metadata": {
    "collapsed": false
   },
   "outputs": [],
   "source": [
    "roedata = pd.read_csv(your_local_path+'roedata.csv')\n",
    "roedata.to_csv(your_local_path+'roedatawrite.csv')"
   ]
  },
  {
   "cell_type": "code",
   "execution_count": null,
   "metadata": {
    "collapsed": false
   },
   "outputs": [],
   "source": [
    "roedata = pd.read_csv(your_local_path+'roedata.csv')\n",
    "roedata.to_csv(your_local_path+'roedatawrite2.csv', index=False, columns=['Industry Name','ROE']) # Index = 'False' & select your own columns"
   ]
  },
  {
   "cell_type": "markdown",
   "metadata": {},
   "source": [
    "**Merging Data**\n",
    "<p/>Resembles Joins in database"
   ]
  },
  {
   "cell_type": "code",
   "execution_count": 129,
   "metadata": {
    "collapsed": false
   },
   "outputs": [],
   "source": [
    "import pandas as pd"
   ]
  },
  {
   "cell_type": "code",
   "execution_count": 130,
   "metadata": {
    "collapsed": false
   },
   "outputs": [
    {
     "name": "stdout",
     "output_type": "stream",
     "text": [
      "   key left_value\n",
      "0    0          a\n",
      "1    1          b\n",
      "2    2          c\n",
      "3    3          d\n",
      "4    4          e\n",
      "\n",
      "\n",
      "   key right_value\n",
      "0    2           f\n",
      "1    3           g\n",
      "2    4           h\n",
      "3    5           i\n",
      "4    6           j\n"
     ]
    }
   ],
   "source": [
    "left_frame = pd.DataFrame({'key': range(5), \n",
    "                           'left_value': ['a', 'b', 'c', 'd', 'e']})\n",
    "right_frame = pd.DataFrame({'key': range(2, 7), \n",
    "                           'right_value': ['f', 'g', 'h', 'i', 'j']})\n",
    "print(left_frame)\n",
    "print('\\n')\n",
    "print(right_frame)"
   ]
  },
  {
   "cell_type": "code",
   "execution_count": 131,
   "metadata": {
    "collapsed": false
   },
   "outputs": [
    {
     "data": {
      "text/html": [
       "<div>\n",
       "<table border=\"1\" class=\"dataframe\">\n",
       "  <thead>\n",
       "    <tr style=\"text-align: right;\">\n",
       "      <th></th>\n",
       "      <th>key</th>\n",
       "      <th>left_value</th>\n",
       "      <th>right_value</th>\n",
       "    </tr>\n",
       "  </thead>\n",
       "  <tbody>\n",
       "    <tr>\n",
       "      <th>0</th>\n",
       "      <td>2</td>\n",
       "      <td>c</td>\n",
       "      <td>f</td>\n",
       "    </tr>\n",
       "    <tr>\n",
       "      <th>1</th>\n",
       "      <td>3</td>\n",
       "      <td>d</td>\n",
       "      <td>g</td>\n",
       "    </tr>\n",
       "    <tr>\n",
       "      <th>2</th>\n",
       "      <td>4</td>\n",
       "      <td>e</td>\n",
       "      <td>h</td>\n",
       "    </tr>\n",
       "  </tbody>\n",
       "</table>\n",
       "</div>"
      ],
      "text/plain": [
       "   key left_value right_value\n",
       "0    2          c           f\n",
       "1    3          d           g\n",
       "2    4          e           h"
      ]
     },
     "execution_count": 131,
     "metadata": {},
     "output_type": "execute_result"
    }
   ],
   "source": [
    "pd.merge(left_frame, right_frame, on='key', how='inner')"
   ]
  },
  {
   "cell_type": "code",
   "execution_count": 132,
   "metadata": {
    "collapsed": false
   },
   "outputs": [
    {
     "data": {
      "text/html": [
       "<div>\n",
       "<table border=\"1\" class=\"dataframe\">\n",
       "  <thead>\n",
       "    <tr style=\"text-align: right;\">\n",
       "      <th></th>\n",
       "      <th>key</th>\n",
       "      <th>left_value</th>\n",
       "      <th>right_value</th>\n",
       "    </tr>\n",
       "  </thead>\n",
       "  <tbody>\n",
       "    <tr>\n",
       "      <th>0</th>\n",
       "      <td>0</td>\n",
       "      <td>a</td>\n",
       "      <td>NaN</td>\n",
       "    </tr>\n",
       "    <tr>\n",
       "      <th>1</th>\n",
       "      <td>1</td>\n",
       "      <td>b</td>\n",
       "      <td>NaN</td>\n",
       "    </tr>\n",
       "    <tr>\n",
       "      <th>2</th>\n",
       "      <td>2</td>\n",
       "      <td>c</td>\n",
       "      <td>f</td>\n",
       "    </tr>\n",
       "    <tr>\n",
       "      <th>3</th>\n",
       "      <td>3</td>\n",
       "      <td>d</td>\n",
       "      <td>g</td>\n",
       "    </tr>\n",
       "    <tr>\n",
       "      <th>4</th>\n",
       "      <td>4</td>\n",
       "      <td>e</td>\n",
       "      <td>h</td>\n",
       "    </tr>\n",
       "  </tbody>\n",
       "</table>\n",
       "</div>"
      ],
      "text/plain": [
       "   key left_value right_value\n",
       "0    0          a         NaN\n",
       "1    1          b         NaN\n",
       "2    2          c           f\n",
       "3    3          d           g\n",
       "4    4          e           h"
      ]
     },
     "execution_count": 132,
     "metadata": {},
     "output_type": "execute_result"
    }
   ],
   "source": [
    "pd.merge(left_frame, right_frame, on='key', how='left')"
   ]
  },
  {
   "cell_type": "code",
   "execution_count": 133,
   "metadata": {
    "collapsed": false
   },
   "outputs": [
    {
     "data": {
      "text/html": [
       "<div>\n",
       "<table border=\"1\" class=\"dataframe\">\n",
       "  <thead>\n",
       "    <tr style=\"text-align: right;\">\n",
       "      <th></th>\n",
       "      <th>key</th>\n",
       "      <th>left_value</th>\n",
       "      <th>right_value</th>\n",
       "    </tr>\n",
       "  </thead>\n",
       "  <tbody>\n",
       "    <tr>\n",
       "      <th>0</th>\n",
       "      <td>2.0</td>\n",
       "      <td>c</td>\n",
       "      <td>f</td>\n",
       "    </tr>\n",
       "    <tr>\n",
       "      <th>1</th>\n",
       "      <td>3.0</td>\n",
       "      <td>d</td>\n",
       "      <td>g</td>\n",
       "    </tr>\n",
       "    <tr>\n",
       "      <th>2</th>\n",
       "      <td>4.0</td>\n",
       "      <td>e</td>\n",
       "      <td>h</td>\n",
       "    </tr>\n",
       "    <tr>\n",
       "      <th>3</th>\n",
       "      <td>5.0</td>\n",
       "      <td>NaN</td>\n",
       "      <td>i</td>\n",
       "    </tr>\n",
       "    <tr>\n",
       "      <th>4</th>\n",
       "      <td>6.0</td>\n",
       "      <td>NaN</td>\n",
       "      <td>j</td>\n",
       "    </tr>\n",
       "  </tbody>\n",
       "</table>\n",
       "</div>"
      ],
      "text/plain": [
       "   key left_value right_value\n",
       "0  2.0          c           f\n",
       "1  3.0          d           g\n",
       "2  4.0          e           h\n",
       "3  5.0        NaN           i\n",
       "4  6.0        NaN           j"
      ]
     },
     "execution_count": 133,
     "metadata": {},
     "output_type": "execute_result"
    }
   ],
   "source": [
    "pd.merge(left_frame, right_frame, on='key', how='right')"
   ]
  },
  {
   "cell_type": "code",
   "execution_count": 134,
   "metadata": {
    "collapsed": false
   },
   "outputs": [
    {
     "data": {
      "text/html": [
       "<div>\n",
       "<table border=\"1\" class=\"dataframe\">\n",
       "  <thead>\n",
       "    <tr style=\"text-align: right;\">\n",
       "      <th></th>\n",
       "      <th>key</th>\n",
       "      <th>left_value</th>\n",
       "      <th>right_value</th>\n",
       "    </tr>\n",
       "  </thead>\n",
       "  <tbody>\n",
       "    <tr>\n",
       "      <th>0</th>\n",
       "      <td>0.0</td>\n",
       "      <td>a</td>\n",
       "      <td>NaN</td>\n",
       "    </tr>\n",
       "    <tr>\n",
       "      <th>1</th>\n",
       "      <td>1.0</td>\n",
       "      <td>b</td>\n",
       "      <td>NaN</td>\n",
       "    </tr>\n",
       "    <tr>\n",
       "      <th>2</th>\n",
       "      <td>2.0</td>\n",
       "      <td>c</td>\n",
       "      <td>f</td>\n",
       "    </tr>\n",
       "    <tr>\n",
       "      <th>3</th>\n",
       "      <td>3.0</td>\n",
       "      <td>d</td>\n",
       "      <td>g</td>\n",
       "    </tr>\n",
       "    <tr>\n",
       "      <th>4</th>\n",
       "      <td>4.0</td>\n",
       "      <td>e</td>\n",
       "      <td>h</td>\n",
       "    </tr>\n",
       "    <tr>\n",
       "      <th>5</th>\n",
       "      <td>5.0</td>\n",
       "      <td>NaN</td>\n",
       "      <td>i</td>\n",
       "    </tr>\n",
       "    <tr>\n",
       "      <th>6</th>\n",
       "      <td>6.0</td>\n",
       "      <td>NaN</td>\n",
       "      <td>j</td>\n",
       "    </tr>\n",
       "  </tbody>\n",
       "</table>\n",
       "</div>"
      ],
      "text/plain": [
       "   key left_value right_value\n",
       "0  0.0          a         NaN\n",
       "1  1.0          b         NaN\n",
       "2  2.0          c           f\n",
       "3  3.0          d           g\n",
       "4  4.0          e           h\n",
       "5  5.0        NaN           i\n",
       "6  6.0        NaN           j"
      ]
     },
     "execution_count": 134,
     "metadata": {},
     "output_type": "execute_result"
    }
   ],
   "source": [
    "pd.merge(left_frame, right_frame, on='key', how='outer')"
   ]
  },
  {
   "cell_type": "code",
   "execution_count": 136,
   "metadata": {
    "collapsed": false
   },
   "outputs": [
    {
     "data": {
      "text/html": [
       "<div>\n",
       "<table border=\"1\" class=\"dataframe\">\n",
       "  <thead>\n",
       "    <tr style=\"text-align: right;\">\n",
       "      <th></th>\n",
       "      <th>key</th>\n",
       "      <th>left_value</th>\n",
       "      <th>right_value</th>\n",
       "    </tr>\n",
       "  </thead>\n",
       "  <tbody>\n",
       "    <tr>\n",
       "      <th>0</th>\n",
       "      <td>0</td>\n",
       "      <td>a</td>\n",
       "      <td>NaN</td>\n",
       "    </tr>\n",
       "    <tr>\n",
       "      <th>1</th>\n",
       "      <td>1</td>\n",
       "      <td>b</td>\n",
       "      <td>NaN</td>\n",
       "    </tr>\n",
       "    <tr>\n",
       "      <th>2</th>\n",
       "      <td>2</td>\n",
       "      <td>c</td>\n",
       "      <td>NaN</td>\n",
       "    </tr>\n",
       "    <tr>\n",
       "      <th>3</th>\n",
       "      <td>3</td>\n",
       "      <td>d</td>\n",
       "      <td>NaN</td>\n",
       "    </tr>\n",
       "    <tr>\n",
       "      <th>4</th>\n",
       "      <td>4</td>\n",
       "      <td>e</td>\n",
       "      <td>NaN</td>\n",
       "    </tr>\n",
       "    <tr>\n",
       "      <th>0</th>\n",
       "      <td>2</td>\n",
       "      <td>NaN</td>\n",
       "      <td>f</td>\n",
       "    </tr>\n",
       "    <tr>\n",
       "      <th>1</th>\n",
       "      <td>3</td>\n",
       "      <td>NaN</td>\n",
       "      <td>g</td>\n",
       "    </tr>\n",
       "    <tr>\n",
       "      <th>2</th>\n",
       "      <td>4</td>\n",
       "      <td>NaN</td>\n",
       "      <td>h</td>\n",
       "    </tr>\n",
       "    <tr>\n",
       "      <th>3</th>\n",
       "      <td>5</td>\n",
       "      <td>NaN</td>\n",
       "      <td>i</td>\n",
       "    </tr>\n",
       "    <tr>\n",
       "      <th>4</th>\n",
       "      <td>6</td>\n",
       "      <td>NaN</td>\n",
       "      <td>j</td>\n",
       "    </tr>\n",
       "  </tbody>\n",
       "</table>\n",
       "</div>"
      ],
      "text/plain": [
       "   key left_value right_value\n",
       "0    0          a         NaN\n",
       "1    1          b         NaN\n",
       "2    2          c         NaN\n",
       "3    3          d         NaN\n",
       "4    4          e         NaN\n",
       "0    2        NaN           f\n",
       "1    3        NaN           g\n",
       "2    4        NaN           h\n",
       "3    5        NaN           i\n",
       "4    6        NaN           j"
      ]
     },
     "execution_count": 136,
     "metadata": {},
     "output_type": "execute_result"
    }
   ],
   "source": [
    "pd.concat([left_frame, right_frame])"
   ]
  },
  {
   "cell_type": "code",
   "execution_count": 135,
   "metadata": {
    "collapsed": false
   },
   "outputs": [
    {
     "data": {
      "text/html": [
       "<div>\n",
       "<table border=\"1\" class=\"dataframe\">\n",
       "  <thead>\n",
       "    <tr style=\"text-align: right;\">\n",
       "      <th></th>\n",
       "      <th>key</th>\n",
       "      <th>left_value</th>\n",
       "      <th>key</th>\n",
       "      <th>right_value</th>\n",
       "    </tr>\n",
       "  </thead>\n",
       "  <tbody>\n",
       "    <tr>\n",
       "      <th>0</th>\n",
       "      <td>0</td>\n",
       "      <td>a</td>\n",
       "      <td>2</td>\n",
       "      <td>f</td>\n",
       "    </tr>\n",
       "    <tr>\n",
       "      <th>1</th>\n",
       "      <td>1</td>\n",
       "      <td>b</td>\n",
       "      <td>3</td>\n",
       "      <td>g</td>\n",
       "    </tr>\n",
       "    <tr>\n",
       "      <th>2</th>\n",
       "      <td>2</td>\n",
       "      <td>c</td>\n",
       "      <td>4</td>\n",
       "      <td>h</td>\n",
       "    </tr>\n",
       "    <tr>\n",
       "      <th>3</th>\n",
       "      <td>3</td>\n",
       "      <td>d</td>\n",
       "      <td>5</td>\n",
       "      <td>i</td>\n",
       "    </tr>\n",
       "    <tr>\n",
       "      <th>4</th>\n",
       "      <td>4</td>\n",
       "      <td>e</td>\n",
       "      <td>6</td>\n",
       "      <td>j</td>\n",
       "    </tr>\n",
       "  </tbody>\n",
       "</table>\n",
       "</div>"
      ],
      "text/plain": [
       "   key left_value  key right_value\n",
       "0    0          a    2           f\n",
       "1    1          b    3           g\n",
       "2    2          c    4           h\n",
       "3    3          d    5           i\n",
       "4    4          e    6           j"
      ]
     },
     "execution_count": 135,
     "metadata": {},
     "output_type": "execute_result"
    }
   ],
   "source": [
    "pd.concat([left_frame, right_frame], axis=1)"
   ]
  },
  {
   "cell_type": "code",
   "execution_count": null,
   "metadata": {
    "collapsed": true
   },
   "outputs": [],
   "source": []
  }
 ],
 "metadata": {
  "kernelspec": {
   "display_name": "Python [Root]",
   "language": "python",
   "name": "Python [Root]"
  },
  "language_info": {
   "codemirror_mode": {
    "name": "ipython",
    "version": 3
   },
   "file_extension": ".py",
   "mimetype": "text/x-python",
   "name": "python",
   "nbconvert_exporter": "python",
   "pygments_lexer": "ipython3",
   "version": "3.5.2"
  }
 },
 "nbformat": 4,
 "nbformat_minor": 0
}
