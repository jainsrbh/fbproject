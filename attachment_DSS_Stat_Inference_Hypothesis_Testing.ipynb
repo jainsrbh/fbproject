{
 "cells": [
  {
   "cell_type": "markdown",
   "metadata": {},
   "source": [
    "# Statistical Inference and Hypothesis Testing\n",
    "\n",
    "**Statistics** is a science of inference. It is the science of generalization from a part(the randomly chosen sample) to the whole (the population).\n",
    "\n",
    "**Statistical inference** is the process of deducing properties of an underlying distribution by analysis of data. Inferential statistical analysis infers properties about a population: this includes testing hypotheses and deriving estimates.\n",
    "\n",
    "Statistics are helpful in analyzing most collections of data. **Hypothesis testing** can justify conclusions even when no scientific theory exists."
   ]
  },
  {
   "cell_type": "markdown",
   "metadata": {},
   "source": [
    "## Average Experience of Data Science Specialization(DSS) batch with Statistical Inference"
   ]
  },
  {
   "cell_type": "code",
   "execution_count": 6,
   "metadata": {
    "collapsed": true
   },
   "outputs": [],
   "source": [
    "%matplotlib inline\n",
    "import matplotlib.pyplot as plt\n",
    "import numpy as np\n",
    "import pandas as pd\n",
    "# Let us explore the original data\n",
    "\n",
    "dss_exp = np.array([12,  15,  13,  20,  19,  20,  11,  19,  11,  12,  19,  13,  \n",
    "                    12,  10,  6,  19,  3,  1,  1,  0,  4,  4,  6,  5,  3,  7,  \n",
    "                    12,  7,  9,  8,  12,  11,  11,  18,  19,  18,  19,  3,  6,  \n",
    "                     5,  6,  9,  11,  10,  14,  14,  16,  17,  17,  19,  0,  2,  \n",
    "                     0,  3,  1,  4,  6,  6,  8,  7,  7,  6,  7,  11,  11,  10,  \n",
    "                    11,  10,  13,  13,  15,  18,  20,  19,  1,  10,  8,  16,  \n",
    "                    19,  19,  17,  16,  11,  1,  10,  13,  15,  3,  8,  6,  9,  \n",
    "                    10,  15,  19,  2,  4,  5,  6,  9,  11,  10,  9,  10,  9,  \n",
    "                    15,  16,  18,  13])"
   ]
  },
  {
   "cell_type": "markdown",
   "metadata": {},
   "source": [
    "### Understanding the Underlying distribution"
   ]
  },
  {
   "cell_type": "code",
   "execution_count": 7,
   "metadata": {
    "collapsed": false
   },
   "outputs": [
    {
     "data": {
      "image/png": "[encoded data removed]",
      "text/plain": [
       "<matplotlib.figure.Figure at 0x2b7acaefdd8>"
      ]
     },
     "metadata": {},
     "output_type": "display_data"
    },
    {
     "name": "stdout",
     "output_type": "stream",
     "text": [
      "Mean Experience of DSS Batch: 10.435\n",
      "Std Deviation of Experience of DSS Batch: 5.665\n"
     ]
    }
   ],
   "source": [
    "# Plot the distribution of Experience\n",
    "plt.hist(dss_exp, range = (0,20), bins = 21)\n",
    "# Add axis labels\n",
    "plt.xlabel(\"Experience in years\")\n",
    "plt.ylabel(\"Frequency\")\n",
    "plt.title(\"Distribution of Experience in Data Science Specialization\")\n",
    "plt.axvline(x=dss_exp.mean(), linewidth=2, color = 'r')\n",
    "plt.show()\n",
    "\n",
    "# Statistics of DSS Batch experience\n",
    "print(\"Mean Experience of DSS Batch: {:4.3f}\".format(dss_exp.mean()))\n",
    "print(\"Std Deviation of Experience of DSS Batch: {:4.3f}\".format(dss_exp.std()))\n"
   ]
  },
  {
   "cell_type": "code",
   "execution_count": 18,
   "metadata": {
    "collapsed": true
   },
   "outputs": [],
   "source": [
    "# Set the parameters for sampling\n",
    "n = 100\n",
    "NUM_TRIALS = 1000"
   ]
  },
  {
   "cell_type": "markdown",
   "metadata": {},
   "source": [
    "### Estimating DSS Experience from samples"
   ]
  },
  {
   "cell_type": "code",
   "execution_count": 19,
   "metadata": {
    "collapsed": false
   },
   "outputs": [
    {
     "name": "stdout",
     "output_type": "stream",
     "text": [
      "Samp_mean = 10.560 Sample_SD = 5.906\n"
     ]
    }
   ],
   "source": [
    "#Just try for 1 iteration\n",
    "\n",
    "samp = np.random.choice(dss_exp, size = n, replace = True)\n",
    "samp_mean = samp.mean()\n",
    "samp_sd = samp.std()\n",
    "print(\"Samp_mean = {:4.3f} Sample_SD = {:4.3f}\".format(samp_mean, samp_sd))\n"
   ]
  },
  {
   "cell_type": "code",
   "execution_count": 20,
   "metadata": {
    "collapsed": true
   },
   "outputs": [],
   "source": [
    "# Distribution of Sample means\n",
    "\n",
    "mn_array = np.zeros(NUM_TRIALS)\n",
    "sd_array = np.zeros(NUM_TRIALS)\n",
    "\n",
    "# Extract Random Samples and compute mean & standard deviation\n",
    "for i in range(NUM_TRIALS):\n",
    "  samp = np.random.choice(dss_exp, size = n, replace = True)\n",
    "  mn_array[i] = samp.mean()\n"
   ]
  },
  {
   "cell_type": "code",
   "execution_count": 21,
   "metadata": {
    "collapsed": false
   },
   "outputs": [
    {
     "name": "stdout",
     "output_type": "stream",
     "text": [
      "Mean = 10.446, Std Dev = 0.566, 5% Pct = 9.559, 95% Pct = 11.391\n"
     ]
    },
    {
     "data": {
      "image/png": "[encoded data removed]",
      "text/plain": [
       "<matplotlib.figure.Figure at 0x2b7acd4a080>"
      ]
     },
     "metadata": {},
     "output_type": "display_data"
    }
   ],
   "source": [
    "# Annotate the distribution - Not important for understanding\n",
    "mn = mn_array.mean()\n",
    "sd = mn_array.std()\n",
    "x5_pct = np.percentile(mn_array, 5.0)\n",
    "x95_pct = np.percentile(mn_array, 95.0)\n",
    "print(\"Mean = {:4.3f}, Std Dev = {:4.3f}, 5% Pct = {:4.3f}, 95% Pct = {:4.3f}\".format(mn, sd, x5_pct, x95_pct))\n",
    "\n",
    "\n",
    "# Plot Sampling distribution of Mean    \n",
    "plt.hist(mn_array, range=(0,20), bins = 41)\n",
    "# Add axis labels\n",
    "plt.xlabel(\"Avg Experience with n={}\".format(n))\n",
    "plt.ylabel(\"Frequency\")\n",
    "plt.title(\"Sampling Distribution of Mean\")\n",
    "plt.axvline(x=x5_pct, linewidth=2, color = 'r')\n",
    "plt.axvline(x=x95_pct, linewidth=2, color = 'r')\n",
    "plt.show()"
   ]
  },
  {
   "cell_type": "code",
   "execution_count": 22,
   "metadata": {
    "collapsed": true
   },
   "outputs": [],
   "source": [
    "# Function to check if the true mean lies within 90% Confidence Interval\n",
    "\n",
    "def samp_mean_within_ci(mn, l_5pct, u_95pct):\n",
    "    out = True\n",
    "    if (mn < l_5pct) | (mn > u_95pct):\n",
    "        out = False\n",
    "        \n",
    "    return out"
   ]
  },
  {
   "cell_type": "code",
   "execution_count": 23,
   "metadata": {
    "collapsed": false
   },
   "outputs": [
    {
     "name": "stdout",
     "output_type": "stream",
     "text": [
      "Sample: L_5PCT = 9.801 M = samp_mean = 10.740 H_95PCT = 11.679\n",
      "True mean lies with the 90% confidence Intervel = True\n"
     ]
    }
   ],
   "source": [
    "# Estimation and Confidence Interval\n",
    "#np.random.seed(100) # seed value is set to reproduce the results\n",
    "\n",
    "samp = np.random.choice(dss_exp, size = n, replace = True)\n",
    "samp_mean = samp.mean()\n",
    "samp_sd = samp.std()\n",
    "sd_ci = samp_sd/np.sqrt(n)\n",
    "\n",
    "samp_lower_5pct = samp_mean - 1.645 * sd_ci\n",
    "samp_upper_95pct = samp_mean + 1.645 * sd_ci\n",
    "print(\"Sample: L_5PCT = {:4.3f} M = samp_mean = {:4.3f} H_95PCT = {:4.3f}\".format(samp_lower_5pct, samp_mean, samp_upper_95pct))\n",
    "mn_within_ci_flag = samp_mean_within_ci(samp_mean, x5_pct, x95_pct)\n",
    "print(\"True mean lies with the 90% confidence Intervel = {}\".format(mn_within_ci_flag))"
   ]
  },
  {
   "cell_type": "markdown",
   "metadata": {},
   "source": [
    "## Hypothesis Testing\n",
    "\n",
    "Let us define the Hypotheses as follows:\n",
    "- **H0** : Average Experience of Current Batch & Previous batch are **same**\n",
    "- **H1** : Average Experience of Current Batch & Previous batch are **different**"
   ]
  },
  {
   "cell_type": "code",
   "execution_count": null,
   "metadata": {
    "collapsed": true
   },
   "outputs": [],
   "source": [
    "# Previous Batch Data for working experience\n",
    "dss_exp_prev = np.array([1, 14,  6,  7, 10, 10, 19, 15, 19, 15, \n",
    "                    2,  2, 14, 14, 14,  3,  0,  4, 11,  7, \n",
    "                    1,  2,  0,  1,  2,  2,  2,  1,  1,  2, \n",
    "                    4,  4,  3,  3,  3,  3,  4,  3,  3,  7, \n",
    "                    8,  6,  6,  6,  7, 8, 8, 8, 8, 7, \n",
    "                    8, 0, 0, 7, 6, 9, 10, 9, 9, 11, \n",
    "                    11, 9, 10, 10, 11, 10, 11, 9, 9, 9, \n",
    "                    12, 14, 13, 14, 18, 14, 11, 10, 17, 20, \n",
    "                    18, 5, 13, 4, 2, 4, 3, 12, 12, 14, \n",
    "                    12, 12, 10, 14, 4, 11, 9])"
   ]
  },
  {
   "cell_type": "code",
   "execution_count": null,
   "metadata": {
    "collapsed": true
   },
   "outputs": [],
   "source": [
    "avg_exp_prev = dss_exp_prev.mean()\n",
    "std_exp_prev = dss_exp_prev.std()\n",
    "print(\"Previous DSS Batch: Avg Exp - {:4.3f} Std Dev - {:4.3f}\".format(avg_exp_prev, std_exp_prev))\n",
    "\n",
    "plt.hist(dss_exp_prev, range=(0,20), bins = 21)\n",
    "plt.axvline(x=dss_exp_prev.mean(), linewidth=2, color = 'r')\n",
    "plt.show()"
   ]
  },
  {
   "cell_type": "code",
   "execution_count": null,
   "metadata": {
    "collapsed": true
   },
   "outputs": [],
   "source": [
    "np.random.seed(100)\n",
    "n = 20\n",
    "\n",
    "dss_mean = dss_exp.mean()\n",
    "dss_sd   = dss_exp.std()\n",
    "print(\"Current DSS Batch : Population Mean - {:4.3f}\".format(dss_mean))\n",
    "\n",
    "dss_prev_samp = np.random.choice(dss_exp_prev, size = n, replace = True)\n",
    "dss_prev_samp_mean = dss_prev_samp.mean()\n",
    "print(\"Previous DSS Batch Sample Mean: {:4.3f}\".format(dss_prev_samp_mean))"
   ]
  },
  {
   "cell_type": "code",
   "execution_count": null,
   "metadata": {
    "collapsed": true
   },
   "outputs": [],
   "source": [
    "from scipy import stats\n",
    "t_statistic = (dss_prev_samp_mean - dss_mean)/(dss_sd/np.sqrt(n))\n",
    "p_val = 2 * stats.t.cdf(t_statistic, df= (n-1))\n",
    "print(\"T-Statistic : {:4.2f}, p-Value = {:4.2f}\".format(t_statistic,p_val))"
   ]
  },
  {
   "cell_type": "markdown",
   "metadata": {},
   "source": [
    "### Summary\n",
    "Above code describes to do hypothesis testing based on the intuition from Sampling distribution of mean. There will be differences with exact math based on various conditions and assumptions made."
   ]
  },
  {
   "cell_type": "markdown",
   "metadata": {},
   "source": [
    "### Appendix Code"
   ]
  },
  {
   "cell_type": "code",
   "execution_count": null,
   "metadata": {
    "collapsed": true
   },
   "outputs": [],
   "source": [
    "from collections import Counter\n",
    "c = Counter(dss_exp)\n",
    "print(c)"
   ]
  },
  {
   "cell_type": "code",
   "execution_count": null,
   "metadata": {
    "collapsed": true
   },
   "outputs": [],
   "source": [
    "# Create random samples to check if the true mean lie within the specified confidence Interval\n",
    "\n",
    "samp_mn_vec, lower_5pct, upper_95pct, flag_true_mean_within_ci = (np.zeros(NUM_TRIALS), np.zeros(NUM_TRIALS), np.zeros(NUM_TRIALS), np.zeros(NUM_TRIALS))\n",
    "for i in range(NUM_TRIALS):\n",
    "    samp = np.random.choice(dss_exp, size = n, replace = True)\n",
    "    samp_mn_vec[i] = samp.mean()\n",
    "    samp_sd = samp.std()\n",
    "    sd_ci = samp_sd/np.sqrt(n)\n",
    "    lower_5pct[i] = samp_mn_vec[i] - 1.645 * sd_ci\n",
    "    upper_95pct[i] = samp_mn_vec[i] + 1.645 * sd_ci\n",
    "    flag_true_mean_within_ci[i] = int(samp_mean_within_ci(samp_mn_vec[i], x5_pct, x95_pct))\n",
    "    #print(x5_pct, samp_mn_vec[i], x95_pct, lower_5pct[i], upper_95pct[i], flag_true_mean_within_ci[i])\n",
    "    \n",
    "df = pd.DataFrame(np.column_stack((samp_mn_vec,lower_5pct,upper_95pct, flag_true_mean_within_ci)), columns = ['samp_mean', 'lower_5pct', 'upper_95pct', 'flag_true_mean_within_ci' ])    \n",
    "df.to_csv('expt_n{}_iters{}.csv'.format(n, NUM_TRIALS)) "
   ]
  },
  {
   "cell_type": "code",
   "execution_count": null,
   "metadata": {
    "collapsed": true
   },
   "outputs": [],
   "source": [
    "# For 2-tailed hypothesis testing \n",
    "# Ref: http://www.scipy-lectures.org/packages/statistics/index.html#hypothesis-testing-comparing-two-groups\n",
    "from scipy import stats\n",
    "dss_exp_prev_samp = np.random.choice(dss_exp_prev, size = 20, replace = True)\n",
    "dss_exp_samp = np.random.choice(dss_exp, size = 20, replace = True)\n",
    "stats.ttest_ind(dss_exp_prev_samp, dss_exp_samp)"
   ]
  }
 ],
 "metadata": {
  "kernelspec": {
   "display_name": "Python [Root]",
   "language": "python",
   "name": "Python [Root]"
  },
  "language_info": {
   "codemirror_mode": {
    "name": "ipython",
    "version": 3
   },
   "file_extension": ".py",
   "mimetype": "text/x-python",
   "name": "python",
   "nbconvert_exporter": "python",
   "pygments_lexer": "ipython3",
   "version": "3.5.2"
  }
 },
 "nbformat": 4,
 "nbformat_minor": 2
}
