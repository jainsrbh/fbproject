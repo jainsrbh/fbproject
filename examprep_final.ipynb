{
 "cells": [
  {
   "cell_type": "code",
   "execution_count": 1,
   "metadata": {
    "collapsed": true
   },
   "outputs": [],
   "source": [
    "import requests\n",
    "import numpy as np\n",
    "import pandas as pd\n",
    "import pylab as pl\n",
    "import seaborn as sns\n",
    "\n",
    "import matplotlib.pyplot as plt\n",
    "%matplotlib inline\n",
    "from sklearn.model_selection import cross_val_score\n",
    "from sklearn.preprocessing import MinMaxScaler\n",
    "from sklearn.model_selection import train_test_split\n",
    "from sklearn.preprocessing import Imputer"
   ]
  },
  {
   "cell_type": "code",
   "execution_count": 2,
   "metadata": {
    "collapsed": false
   },
   "outputs": [
    {
     "data": {
      "text/html": [
       "<div>\n",
       "<table border=\"1\" class=\"dataframe\">\n",
       "  <thead>\n",
       "    <tr style=\"text-align: right;\">\n",
       "      <th></th>\n",
       "      <th>fixed acidity</th>\n",
       "      <th>volatile acidity</th>\n",
       "      <th>citric acid</th>\n",
       "      <th>residual sugar</th>\n",
       "      <th>chlorides</th>\n",
       "      <th>free sulfur dioxide</th>\n",
       "      <th>total sulfur dioxide</th>\n",
       "      <th>density</th>\n",
       "      <th>pH</th>\n",
       "      <th>sulphates</th>\n",
       "      <th>alcohol</th>\n",
       "      <th>quality</th>\n",
       "    </tr>\n",
       "  </thead>\n",
       "  <tbody>\n",
       "    <tr>\n",
       "      <th>4893</th>\n",
       "      <td>6.2</td>\n",
       "      <td>0.21</td>\n",
       "      <td>0.29</td>\n",
       "      <td>1.6</td>\n",
       "      <td>0.039</td>\n",
       "      <td>24.0</td>\n",
       "      <td>92.0</td>\n",
       "      <td>0.99114</td>\n",
       "      <td>3.27</td>\n",
       "      <td>0.50</td>\n",
       "      <td>11.2</td>\n",
       "      <td>6.0</td>\n",
       "    </tr>\n",
       "    <tr>\n",
       "      <th>4894</th>\n",
       "      <td>6.6</td>\n",
       "      <td>0.32</td>\n",
       "      <td>0.36</td>\n",
       "      <td>8.0</td>\n",
       "      <td>0.047</td>\n",
       "      <td>57.0</td>\n",
       "      <td>168.0</td>\n",
       "      <td>0.99490</td>\n",
       "      <td>3.15</td>\n",
       "      <td>0.46</td>\n",
       "      <td>9.6</td>\n",
       "      <td>5.0</td>\n",
       "    </tr>\n",
       "    <tr>\n",
       "      <th>4895</th>\n",
       "      <td>6.5</td>\n",
       "      <td>0.24</td>\n",
       "      <td>0.19</td>\n",
       "      <td>1.2</td>\n",
       "      <td>0.041</td>\n",
       "      <td>30.0</td>\n",
       "      <td>111.0</td>\n",
       "      <td>0.99254</td>\n",
       "      <td>2.99</td>\n",
       "      <td>0.46</td>\n",
       "      <td>9.4</td>\n",
       "      <td>6.0</td>\n",
       "    </tr>\n",
       "    <tr>\n",
       "      <th>4896</th>\n",
       "      <td>5.5</td>\n",
       "      <td>0.29</td>\n",
       "      <td>0.30</td>\n",
       "      <td>1.1</td>\n",
       "      <td>0.022</td>\n",
       "      <td>20.0</td>\n",
       "      <td>110.0</td>\n",
       "      <td>0.98869</td>\n",
       "      <td>3.34</td>\n",
       "      <td>0.38</td>\n",
       "      <td>12.8</td>\n",
       "      <td>7.0</td>\n",
       "    </tr>\n",
       "    <tr>\n",
       "      <th>4897</th>\n",
       "      <td>6.0</td>\n",
       "      <td>0.21</td>\n",
       "      <td>0.38</td>\n",
       "      <td>0.8</td>\n",
       "      <td>0.020</td>\n",
       "      <td>22.0</td>\n",
       "      <td>98.0</td>\n",
       "      <td>0.98941</td>\n",
       "      <td>3.26</td>\n",
       "      <td>0.32</td>\n",
       "      <td>11.8</td>\n",
       "      <td>6.0</td>\n",
       "    </tr>\n",
       "  </tbody>\n",
       "</table>\n",
       "</div>"
      ],
      "text/plain": [
       "      fixed acidity  volatile acidity  citric acid  residual sugar  chlorides  \\\n",
       "4893            6.2              0.21         0.29             1.6      0.039   \n",
       "4894            6.6              0.32         0.36             8.0      0.047   \n",
       "4895            6.5              0.24         0.19             1.2      0.041   \n",
       "4896            5.5              0.29         0.30             1.1      0.022   \n",
       "4897            6.0              0.21         0.38             0.8      0.020   \n",
       "\n",
       "      free sulfur dioxide  total sulfur dioxide  density    pH  sulphates  \\\n",
       "4893                 24.0                  92.0  0.99114  3.27       0.50   \n",
       "4894                 57.0                 168.0  0.99490  3.15       0.46   \n",
       "4895                 30.0                 111.0  0.99254  2.99       0.46   \n",
       "4896                 20.0                 110.0  0.98869  3.34       0.38   \n",
       "4897                 22.0                  98.0  0.98941  3.26       0.32   \n",
       "\n",
       "      alcohol  quality  \n",
       "4893     11.2      6.0  \n",
       "4894      9.6      5.0  \n",
       "4895      9.4      6.0  \n",
       "4896     12.8      7.0  \n",
       "4897     11.8      6.0  "
      ]
     },
     "execution_count": 2,
     "metadata": {},
     "output_type": "execute_result"
    }
   ],
   "source": [
    "###Prepare data frame\n",
    "http_request = requests.get('https://archive.ics.uci.edu/ml/machine-learning-databases/wine-quality/winequality-white.csv')\n",
    "http_text = http_request.text.split(\"\\n\")\n",
    "data_array = []\n",
    "for lines in http_text:\n",
    "    data_array.append(lines.split(\";\"))\n",
    "col_names = []\n",
    "for col in data_array[0]:\n",
    "    col_names.append(col.strip('\"'))\n",
    "    \n",
    "fill_NaN = Imputer(missing_values=np.nan, strategy='mean', axis=1)\n",
    "##Change to numeric\n",
    "data_frame = pd.DataFrame(data=data_array[1:]).apply(pd.to_numeric)\n",
    "## Remove last column as all are Nan\n",
    "data_frame = data_frame.ix[0:data_frame.shape[0]-2,:]\n",
    "##Remove nan with mean values\n",
    "data_frame = pd.DataFrame(fill_NaN.fit_transform(data_frame),columns=col_names)\n",
    "data_frame.tail(5)"
   ]
  },
  {
   "cell_type": "code",
   "execution_count": 3,
   "metadata": {
    "collapsed": false
   },
   "outputs": [],
   "source": [
    "feature_cols = col_names[:-1]\n",
    "features = data_frame[feature_cols]\n",
    "labels = data_frame[\"quality\"]\n",
    "features_train, features_test, labels_train, labels_test = train_test_split(features, labels, random_state=42)\n",
    "actuals = labels_test[:].values"
   ]
  },
  {
   "cell_type": "code",
   "execution_count": 27,
   "metadata": {
    "collapsed": false
   },
   "outputs": [
    {
     "ename": "SyntaxError",
     "evalue": "unexpected EOF while parsing (<ipython-input-27-70f8f320fdda>, line 15)",
     "output_type": "error",
     "traceback": [
      "\u001b[1;36m  File \u001b[1;32m\"<ipython-input-27-70f8f320fdda>\"\u001b[1;36m, line \u001b[1;32m15\u001b[0m\n\u001b[1;33m    #print(\"Predicted value \" +  str(predictions[i]) + \"and actual value is \" + str(actuals[i]))\u001b[0m\n\u001b[1;37m                                                                                                  ^\u001b[0m\n\u001b[1;31mSyntaxError\u001b[0m\u001b[1;31m:\u001b[0m unexpected EOF while parsing\n"
     ]
    }
   ],
   "source": [
    "##SVM\n",
    "from sklearn import svm\n",
    "scaler_model = MinMaxScaler().fit_transform(features_train.values)\n",
    "bins = np.linspace(0, 1, 10)\n",
    "digitized = np.digitize(scaler_model, bins)\n",
    "print(digitized)\n",
    "clf = svm.SVC()\n",
    "clf.fit(X=digitized,y=labels_train.values)  \n",
    "score_knn = cross_val_score(clf, digitized, labels_train.values, cv=4)\n",
    "print(\"Cross Validation score : \" + str(score_knn))\n",
    "print(\"Cross Validation Mean score : \" + str(score_knn.mean()))\n",
    "\n",
    "predictions = clf.predict(features_test)\n",
    "for i in range (labels_test.size-1) :\n",
    "    if predictions[i] != actuals[i]:\n",
    "        print(\"Predicted value \" +  str(predictions[i]) + \"and actual value is \" + str(actuals[i]))  "
   ]
  },
  {
   "cell_type": "code",
   "execution_count": 81,
   "metadata": {
    "collapsed": false
   },
   "outputs": [
    {
     "name": "stdout",
     "output_type": "stream",
     "text": [
      "[('fixed acidity', -0.12352578913237661)]\n",
      "Mean squared error: 0.88\n",
      "Variance score: 0.01\n",
      "[[ 6.]]\n"
     ]
    },
    {
     "data": {
      "image/png": "[encoded data removed]",
      "text/plain": [
       "<matplotlib.figure.Figure at 0x1e8b0df9208>"
      ]
     },
     "metadata": {},
     "output_type": "display_data"
    }
   ],
   "source": [
    "# Linear Regression\n",
    "\n",
    "from sklearn.linear_model import LinearRegression\n",
    "from sklearn.metrics import mean_squared_error, r2_score\n",
    "\n",
    "linreg = LinearRegression()\n",
    "linreg.fit(features_train, labels_train)\n",
    "\n",
    "coefs = list(zip(feature_cols, linreg.coef_))\n",
    "print(coefs)\n",
    "\n",
    "labels_predicted = linreg.predict(features_test)\n",
    "\n",
    "# ist(zip\n",
    "print(\"Mean squared error: %.2f\"\n",
    "    11  % np.sqrt(mean_squared_error(labels_test, labels_predicted)))\n",
    "# Explained variance score: 1 is perfect prediction\n",
    "print('Variance score: %.2f' % r2_score(labels_test, labels_predicted))\n",
    "print(features_test[:1].values)\n",
    "# Plot outputs\n",
    "#for i in range(len(feature_cols)):\n",
    "plt.scatter(features_test, labels_test,  color='black')\n",
    "plt.plot(features_test, labels_predicted, color='blue', linewidth=3)\n",
    "plt.xticks(range(5,10))\n",
    "plt.yticks(range(10))\n",
    "plt.xlabel('feature')\n",
    "plt.ylabel('quality')\n",
    "plt.title('Linear regression graph')\n",
    "plt.grid(True)\n",
    "plt.show()"
   ]
  },
  {
   "cell_type": "code",
   "execution_count": 26,
   "metadata": {
    "collapsed": false
   },
   "outputs": [
    {
     "name": "stdout",
     "output_type": "stream",
     "text": [
      "Intercepts are [-13.06609569  -5.95430694  -1.9894609    0.22400334   0.06808869\n",
      "  -1.77119271 -11.08037296]\n",
      "[('fixed acidity', array([ 1.01509739]))]\n",
      "[(array([ 6.]), 6.0), (array([ 5.4]), 6.0), (array([ 7.1]), 6.0), (array([ 7.3]), 6.0), (array([ 6.5]), 6.0), (array([ 6.3]), 6.0), (array([ 7.]), 6.0), (array([ 7.6]), 6.0), (array([ 8.3]), 6.0), (array([ 8.7]), 6.0), (array([ 6.4]), 6.0), (array([ 6.7]), 6.0), (array([ 6.3]), 6.0), (array([ 7.6]), 6.0), (array([ 5.9]), 6.0), (array([ 6.4]), 6.0), (array([ 5.2]), 6.0), (array([ 5.5]), 6.0), (array([ 7.7]), 6.0), (array([ 6.7]), 6.0), (array([ 5.9]), 6.0), (array([ 7.4]), 6.0), (array([ 6.9]), 6.0), (array([ 7.6]), 6.0), (array([ 5.9]), 6.0), (array([ 7.6]), 6.0), (array([ 6.8]), 6.0), (array([ 5.1]), 6.0), (array([ 8.7]), 6.0), (array([ 8.1]), 6.0), (array([ 6.8]), 6.0), (array([ 7.4]), 6.0), (array([ 7.1]), 6.0), (array([ 7.2]), 6.0), (array([ 7.4]), 6.0), (array([ 6.1]), 6.0), (array([ 7.1]), 6.0), (array([ 6.6]), 6.0), (array([ 7.6]), 6.0), (array([ 6.]), 6.0), (array([ 6.]), 6.0), (array([ 6.9]), 6.0), (array([ 6.9]), 6.0), (array([ 5.2]), 6.0), (array([ 6.3]), 6.0), (array([ 7.]), 6.0), (array([ 7.]), 6.0), (array([ 5.9]), 6.0), (array([ 6.4]), 6.0), (array([ 7.4]), 6.0), (array([ 7.2]), 6.0), (array([ 7.9]), 6.0), (array([ 6.]), 6.0), (array([ 6.9]), 6.0), (array([ 7.5]), 6.0), (array([ 7.8]), 6.0), (array([ 6.4]), 6.0), (array([ 6.1]), 6.0), (array([ 7.]), 6.0), (array([ 7.2]), 6.0), (array([ 7.9]), 6.0), (array([ 6.2]), 6.0), (array([ 6.3]), 6.0), (array([ 6.1]), 6.0), (array([ 6.7]), 6.0), (array([ 7.3]), 6.0), (array([ 6.]), 6.0), (array([ 8.3]), 6.0), (array([ 7.2]), 6.0), (array([ 7.6]), 6.0), (array([ 8.3]), 6.0), (array([ 6.2]), 6.0), (array([ 7.1]), 6.0), (array([ 7.6]), 6.0), (array([ 7.7]), 6.0), (array([ 6.9]), 6.0), (array([ 7.6]), 6.0), (array([ 6.6]), 6.0), (array([ 5.]), 6.0), (array([ 7.4]), 6.0), (array([ 7.1]), 6.0), (array([ 6.2]), 6.0), (array([ 6.9]), 6.0), (array([ 7.9]), 6.0), (array([ 7.]), 6.0), (array([ 7.7]), 6.0), (array([ 6.4]), 6.0), (array([ 6.3]), 6.0), (array([ 6.1]), 6.0), (array([ 7.5]), 6.0), (array([ 6.4]), 6.0), (array([ 8.]), 6.0), (array([ 6.7]), 6.0), (array([ 5.7]), 6.0), (array([ 5.5]), 6.0), (array([ 7.3]), 6.0), (array([ 7.9]), 6.0), (array([ 6.1]), 6.0), (array([ 6.8]), 6.0), (array([ 6.4]), 6.0), (array([ 6.8]), 6.0), (array([ 6.7]), 6.0), (array([ 7.]), 6.0), (array([ 6.8]), 6.0), (array([ 6.4]), 6.0), (array([ 6.8]), 6.0), (array([ 7.2]), 6.0), (array([ 6.1]), 6.0), (array([ 5.5]), 6.0), (array([ 5.]), 6.0), (array([ 8.1]), 6.0), (array([ 9.2]), 6.0), (array([ 5.9]), 6.0), (array([ 7.4]), 6.0), (array([ 7.5]), 6.0), (array([ 6.1]), 6.0), (array([ 6.6]), 6.0), (array([ 7.3]), 6.0), (array([ 6.]), 6.0), (array([ 7.3]), 6.0), (array([ 6.5]), 6.0), (array([ 6.1]), 6.0), (array([ 6.2]), 6.0), (array([ 6.5]), 6.0), (array([ 5.7]), 6.0), (array([ 7.]), 6.0), (array([ 6.3]), 6.0), (array([ 7.7]), 6.0), (array([ 6.4]), 6.0), (array([ 6.2]), 6.0), (array([ 6.2]), 6.0), (array([ 6.9]), 6.0), (array([ 7.1]), 6.0), (array([ 6.5]), 6.0), (array([ 7.3]), 6.0), (array([ 7.]), 6.0), (array([ 7.5]), 6.0), (array([ 7.6]), 6.0), (array([ 7.4]), 6.0), (array([ 6.6]), 6.0), (array([ 5.8]), 6.0), (array([ 6.2]), 6.0), (array([ 7.]), 6.0), (array([ 6.4]), 6.0), (array([ 6.7]), 6.0), (array([ 7.4]), 6.0), (array([ 6.9]), 6.0), (array([ 6.5]), 6.0), (array([ 6.2]), 6.0), (array([ 6.9]), 6.0), (array([ 6.1]), 6.0), (array([ 7.4]), 6.0), (array([ 5.2]), 6.0), (array([ 6.]), 6.0), (array([ 6.5]), 6.0), (array([ 7.8]), 6.0), (array([ 5.7]), 6.0), (array([ 8.1]), 6.0), (array([ 6.6]), 6.0), (array([ 6.4]), 6.0), (array([ 6.2]), 6.0), (array([ 6.4]), 6.0), (array([ 6.2]), 6.0), (array([ 6.7]), 6.0), (array([ 6.]), 6.0), (array([ 6.7]), 6.0), (array([ 6.2]), 6.0), (array([ 7.9]), 6.0), (array([ 6.3]), 6.0), (array([ 6.2]), 6.0), (array([ 6.]), 6.0), (array([ 6.9]), 6.0), (array([ 5.6]), 6.0), (array([ 6.5]), 6.0), (array([ 5.8]), 6.0), (array([ 7.4]), 6.0), (array([ 6.4]), 6.0), (array([ 6.9]), 6.0), (array([ 7.3]), 6.0), (array([ 6.8]), 6.0), (array([ 5.9]), 6.0), (array([ 5.6]), 6.0), (array([ 7.2]), 6.0), (array([ 6.1]), 6.0), (array([ 7.6]), 6.0), (array([ 6.7]), 6.0), (array([ 6.5]), 6.0), (array([ 7.4]), 6.0), (array([ 7.]), 6.0), (array([ 9.1]), 6.0), (array([ 7.3]), 6.0), (array([ 7.3]), 6.0), (array([ 6.4]), 6.0), (array([ 5.8]), 6.0), (array([ 6.3]), 6.0), (array([ 6.3]), 6.0), (array([ 5.9]), 6.0), (array([ 5.8]), 6.0), (array([ 6.9]), 6.0), (array([ 6.8]), 6.0), (array([ 6.6]), 6.0), (array([ 6.8]), 6.0), (array([ 6.6]), 6.0), (array([ 7.3]), 6.0), (array([ 8.4]), 6.0), (array([ 6.6]), 6.0), (array([ 5.4]), 6.0), (array([ 6.]), 6.0), (array([ 6.5]), 6.0), (array([ 6.7]), 6.0), (array([ 6.6]), 6.0), (array([ 7.4]), 6.0), (array([ 6.9]), 6.0), (array([ 6.4]), 6.0), (array([ 6.4]), 6.0), (array([ 5.1]), 6.0), (array([ 6.5]), 6.0), (array([ 4.2]), 6.0), (array([ 6.2]), 6.0), (array([ 6.7]), 6.0), (array([ 6.5]), 6.0), (array([ 6.7]), 6.0), (array([ 7.2]), 6.0), (array([ 6.]), 6.0), (array([ 7.3]), 6.0), (array([ 7.6]), 6.0), (array([ 7.6]), 6.0), (array([ 6.3]), 6.0), (array([ 7.8]), 6.0), (array([ 6.5]), 6.0), (array([ 7.]), 6.0), (array([ 7.1]), 6.0), (array([ 7.]), 6.0), (array([ 6.3]), 6.0), (array([ 7.5]), 6.0), (array([ 5.8]), 6.0), (array([ 7.3]), 6.0), (array([ 7.6]), 6.0), (array([ 7.6]), 6.0), (array([ 7.]), 6.0), (array([ 7.7]), 6.0), (array([ 6.9]), 6.0), (array([ 7.1]), 6.0), (array([ 6.8]), 6.0), (array([ 5.6]), 6.0), (array([ 6.8]), 6.0), (array([ 8.4]), 6.0), (array([ 6.9]), 6.0), (array([ 6.5]), 6.0), (array([ 6.2]), 6.0), (array([ 6.3]), 6.0), (array([ 6.9]), 6.0), (array([ 7.7]), 6.0), (array([ 6.8]), 6.0), (array([ 7.2]), 6.0), (array([ 8.3]), 6.0), (array([ 7.9]), 6.0), (array([ 6.]), 6.0), (array([ 8.8]), 6.0), (array([ 7.5]), 6.0), (array([ 6.8]), 6.0), (array([ 7.3]), 6.0), (array([ 8.2]), 6.0), (array([ 7.1]), 6.0), (array([ 5.6]), 6.0), (array([ 7.5]), 6.0), (array([ 7.6]), 6.0), (array([ 6.1]), 6.0), (array([ 8.6]), 6.0), (array([ 7.5]), 6.0), (array([ 6.]), 6.0), (array([ 7.4]), 6.0), (array([ 7.2]), 6.0), (array([ 6.5]), 6.0), (array([ 7.2]), 6.0), (array([ 5.8]), 6.0), (array([ 5.3]), 6.0), (array([ 6.9]), 6.0), (array([ 6.]), 6.0), (array([ 9.4]), 6.0), (array([ 7.4]), 6.0), (array([ 7.7]), 6.0), (array([ 6.7]), 6.0), (array([ 6.5]), 6.0), (array([ 7.1]), 6.0), (array([ 7.1]), 6.0), (array([ 6.2]), 6.0), (array([ 5.8]), 6.0), (array([ 6.6]), 6.0), (array([ 7.7]), 6.0), (array([ 5.2]), 6.0), (array([ 7.2]), 6.0), (array([ 6.3]), 6.0), (array([ 6.8]), 6.0), (array([ 7.3]), 6.0), (array([ 7.6]), 6.0), (array([ 8.6]), 6.0), (array([ 7.]), 6.0), (array([ 6.3]), 6.0), (array([ 7.4]), 6.0), (array([ 7.2]), 6.0), (array([ 7.7]), 6.0), (array([ 14.2]), 3.0), (array([ 7.6]), 6.0), (array([ 6.]), 6.0), (array([ 6.4]), 6.0), (array([ 6.6]), 6.0), (array([ 7.6]), 6.0), (array([ 6.2]), 6.0), (array([ 6.]), 6.0), (array([ 6.8]), 6.0), (array([ 6.7]), 6.0), (array([ 6.9]), 6.0), (array([ 8.4]), 6.0), (array([ 5.5]), 6.0), (array([ 6.6]), 6.0), (array([ 7.]), 6.0), (array([ 6.6]), 6.0), (array([ 6.8]), 6.0), (array([ 5.3]), 6.0), (array([ 7.1]), 6.0), (array([ 6.5]), 6.0), (array([ 6.7]), 6.0), (array([ 6.9]), 6.0), (array([ 6.]), 6.0), (array([ 8.2]), 6.0), (array([ 7.]), 6.0), (array([ 5.9]), 6.0), (array([ 3.9]), 6.0), (array([ 6.8]), 6.0), (array([ 6.5]), 6.0), (array([ 6.5]), 6.0), (array([ 8.4]), 6.0), (array([ 7.5]), 6.0), (array([ 9.5]), 6.0), (array([ 5.6]), 6.0), (array([ 6.9]), 6.0), (array([ 6.7]), 6.0), (array([ 6.4]), 6.0), (array([ 6.3]), 6.0), (array([ 8.]), 6.0), (array([ 6.3]), 6.0), (array([ 6.9]), 6.0), (array([ 7.3]), 6.0), (array([ 6.7]), 6.0), (array([ 7.6]), 6.0), (array([ 7.8]), 6.0), (array([ 6.4]), 6.0), (array([ 7.]), 6.0), (array([ 7.8]), 6.0), (array([ 6.8]), 6.0), (array([ 6.6]), 6.0), (array([ 6.4]), 6.0), (array([ 6.6]), 6.0), (array([ 6.1]), 6.0), (array([ 6.8]), 6.0), (array([ 8.1]), 6.0), (array([ 7.7]), 6.0), (array([ 5.5]), 6.0), (array([ 4.9]), 6.0), (array([ 6.4]), 6.0), (array([ 5.8]), 6.0), (array([ 6.6]), 6.0), (array([ 6.4]), 6.0), (array([ 5.6]), 6.0), (array([ 5.8]), 6.0), (array([ 6.7]), 6.0), (array([ 5.7]), 6.0), (array([ 7.5]), 6.0), (array([ 5.9]), 6.0), (array([ 6.9]), 6.0), (array([ 7.6]), 6.0), (array([ 7.]), 6.0), (array([ 6.8]), 6.0), (array([ 7.2]), 6.0), (array([ 7.]), 6.0), (array([ 7.2]), 6.0), (array([ 7.2]), 6.0), (array([ 6.8]), 6.0), (array([ 7.2]), 6.0), (array([ 7.]), 6.0), (array([ 6.7]), 6.0), (array([ 7.2]), 6.0), (array([ 6.9]), 6.0), (array([ 8.1]), 6.0), (array([ 6.8]), 6.0), (array([ 7.4]), 6.0), (array([ 7.5]), 6.0), (array([ 7.1]), 6.0), (array([ 7.3]), 6.0), (array([ 7.8]), 6.0), (array([ 5.6]), 6.0), (array([ 7.3]), 6.0), (array([ 7.8]), 6.0), (array([ 6.2]), 6.0), (array([ 6.5]), 6.0), (array([ 8.]), 6.0), (array([ 6.9]), 6.0), (array([ 6.8]), 6.0), (array([ 6.8]), 6.0), (array([ 6.]), 6.0), (array([ 6.]), 6.0), (array([ 6.8]), 6.0), (array([ 6.4]), 6.0), (array([ 5.5]), 6.0), (array([ 6.8]), 6.0), (array([ 6.1]), 6.0), (array([ 6.9]), 6.0), (array([ 5.8]), 6.0), (array([ 6.]), 6.0), (array([ 6.8]), 6.0), (array([ 7.2]), 6.0), (array([ 5.8]), 6.0), (array([ 8.1]), 6.0), (array([ 7.1]), 6.0), (array([ 7.1]), 6.0), (array([ 7.6]), 6.0), (array([ 7.5]), 6.0), (array([ 8.]), 6.0), (array([ 5.9]), 6.0), (array([ 7.6]), 6.0), (array([ 7.6]), 6.0), (array([ 6.8]), 6.0), (array([ 6.2]), 6.0), (array([ 6.2]), 6.0), (array([ 7.]), 6.0), (array([ 6.7]), 6.0), (array([ 5.9]), 6.0), (array([ 7.8]), 6.0), (array([ 6.2]), 6.0), (array([ 6.6]), 6.0), (array([ 7.]), 6.0), (array([ 8.]), 6.0), (array([ 5.2]), 6.0), (array([ 7.2]), 6.0), (array([ 7.1]), 6.0), (array([ 7.]), 6.0), (array([ 6.7]), 6.0), (array([ 6.5]), 6.0), (array([ 7.8]), 6.0), (array([ 6.]), 6.0), (array([ 5.6]), 6.0), (array([ 6.9]), 6.0), (array([ 6.2]), 6.0), (array([ 6.8]), 6.0), (array([ 7.3]), 6.0), (array([ 6.1]), 6.0), (array([ 6.4]), 6.0), (array([ 7.]), 6.0), (array([ 7.1]), 6.0), (array([ 7.]), 6.0), (array([ 7.2]), 6.0), (array([ 8.]), 6.0), (array([ 6.3]), 6.0), (array([ 6.7]), 6.0), (array([ 6.5]), 6.0), (array([ 8.5]), 6.0), (array([ 6.1]), 6.0), (array([ 7.2]), 6.0), (array([ 8.1]), 6.0), (array([ 6.3]), 6.0), (array([ 6.6]), 6.0), (array([ 6.1]), 6.0), (array([ 7.]), 6.0), (array([ 6.2]), 6.0), (array([ 7.1]), 6.0), (array([ 6.6]), 6.0), (array([ 8.3]), 6.0), (array([ 6.]), 6.0), (array([ 6.9]), 6.0), (array([ 6.9]), 6.0), (array([ 8.9]), 6.0), (array([ 6.6]), 6.0), (array([ 6.8]), 6.0), (array([ 7.6]), 6.0), (array([ 6.]), 6.0), (array([ 7.3]), 6.0), (array([ 6.5]), 6.0), (array([ 7.2]), 6.0), (array([ 6.6]), 6.0), (array([ 7.7]), 6.0), (array([ 6.4]), 6.0), (array([ 7.7]), 6.0), (array([ 6.7]), 6.0), (array([ 9.1]), 6.0), (array([ 7.1]), 6.0), (array([ 6.6]), 6.0), (array([ 9.4]), 6.0), (array([ 6.2]), 6.0), (array([ 8.6]), 6.0), (array([ 7.6]), 6.0), (array([ 6.4]), 6.0), (array([ 7.5]), 6.0), (array([ 6.5]), 6.0), (array([ 6.]), 6.0), (array([ 6.]), 6.0), (array([ 7.1]), 6.0), (array([ 8.3]), 6.0), (array([ 7.1]), 6.0), (array([ 6.2]), 6.0), (array([ 8.2]), 6.0), (array([ 6.6]), 6.0), (array([ 6.8]), 6.0), (array([ 6.7]), 6.0), (array([ 7.9]), 6.0), (array([ 5.9]), 6.0), (array([ 7.3]), 6.0), (array([ 8.3]), 6.0), (array([ 7.4]), 6.0), (array([ 7.3]), 6.0), (array([ 6.6]), 6.0), (array([ 6.2]), 6.0), (array([ 6.5]), 6.0), (array([ 6.5]), 6.0), (array([ 7.1]), 6.0), (array([ 6.8]), 6.0), (array([ 6.4]), 6.0), (array([ 6.6]), 6.0), (array([ 6.5]), 6.0), (array([ 8.8]), 6.0), (array([ 5.9]), 6.0), (array([ 6.]), 6.0), (array([ 8.6]), 6.0), (array([ 6.6]), 6.0), (array([ 7.7]), 6.0), (array([ 7.4]), 6.0), (array([ 6.4]), 6.0), (array([ 6.6]), 6.0), (array([ 8.]), 6.0), (array([ 6.1]), 6.0), (array([ 6.5]), 6.0), (array([ 7.2]), 6.0), (array([ 6.4]), 6.0), (array([ 7.4]), 6.0), (array([ 7.3]), 6.0), (array([ 7.3]), 6.0), (array([ 6.9]), 6.0), (array([ 6.5]), 6.0), (array([ 6.2]), 6.0), (array([ 7.]), 6.0), (array([ 7.4]), 6.0), (array([ 6.9]), 6.0), (array([ 6.]), 6.0), (array([ 7.5]), 6.0), (array([ 7.1]), 6.0), (array([ 7.7]), 6.0), (array([ 7.]), 6.0), (array([ 6.5]), 6.0), (array([ 7.6]), 6.0), (array([ 6.2]), 6.0), (array([ 6.8]), 6.0), (array([ 8.1]), 6.0), (array([ 7.9]), 6.0), (array([ 8.1]), 6.0), (array([ 5.8]), 6.0), (array([ 7.4]), 6.0), (array([ 5.9]), 6.0), (array([ 5.9]), 6.0), (array([ 6.3]), 6.0), (array([ 5.7]), 6.0), (array([ 7.4]), 6.0), (array([ 6.6]), 6.0), (array([ 6.6]), 6.0), (array([ 6.2]), 6.0), (array([ 5.9]), 6.0), (array([ 7.4]), 6.0), (array([ 6.5]), 6.0), (array([ 8.1]), 6.0), (array([ 5.8]), 6.0), (array([ 6.6]), 6.0), (array([ 6.6]), 6.0), (array([ 7.2]), 6.0), (array([ 6.2]), 6.0), (array([ 6.6]), 6.0), (array([ 6.]), 6.0), (array([ 8.2]), 6.0), (array([ 8.7]), 6.0), (array([ 7.4]), 6.0), (array([ 6.4]), 6.0), (array([ 7.2]), 6.0), (array([ 6.6]), 6.0), (array([ 5.5]), 6.0), (array([ 6.4]), 6.0), (array([ 5.8]), 6.0), (array([ 5.8]), 6.0), (array([ 7.6]), 6.0), (array([ 6.6]), 6.0), (array([ 7.6]), 6.0), (array([ 6.7]), 6.0), (array([ 6.9]), 6.0), (array([ 6.8]), 6.0), (array([ 6.7]), 6.0), (array([ 5.9]), 6.0), (array([ 8.]), 6.0), (array([ 5.]), 6.0), (array([ 6.2]), 6.0), (array([ 6.1]), 6.0), (array([ 6.7]), 6.0), (array([ 6.8]), 6.0), (array([ 7.2]), 6.0), (array([ 6.4]), 6.0), (array([ 7.1]), 6.0), (array([ 6.5]), 6.0), (array([ 8.9]), 6.0), (array([ 7.8]), 6.0), (array([ 4.7]), 6.0), (array([ 6.4]), 6.0), (array([ 6.7]), 6.0), (array([ 6.8]), 6.0), (array([ 7.1]), 6.0), (array([ 8.5]), 6.0), (array([ 5.8]), 6.0), (array([ 7.4]), 6.0), (array([ 7.4]), 6.0), (array([ 6.3]), 6.0), (array([ 5.]), 6.0), (array([ 7.3]), 6.0), (array([ 7.4]), 6.0), (array([ 6.]), 6.0), (array([ 6.3]), 6.0), (array([ 8.7]), 6.0), (array([ 6.7]), 6.0), (array([ 8.1]), 6.0), (array([ 7.]), 6.0), (array([ 7.2]), 6.0), (array([ 8.3]), 6.0), (array([ 6.5]), 6.0), (array([ 7.]), 6.0), (array([ 6.4]), 6.0), (array([ 7.]), 6.0), (array([ 6.9]), 6.0), (array([ 6.9]), 6.0), (array([ 5.9]), 6.0), (array([ 6.1]), 6.0), (array([ 6.1]), 6.0), (array([ 7.]), 6.0), (array([ 8.1]), 6.0), (array([ 5.7]), 6.0), (array([ 6.]), 6.0), (array([ 6.8]), 6.0), (array([ 6.3]), 6.0), (array([ 8.]), 6.0), (array([ 6.7]), 6.0), (array([ 6.]), 6.0), (array([ 6.]), 6.0), (array([ 7.6]), 6.0), (array([ 6.8]), 6.0), (array([ 7.9]), 6.0), (array([ 6.]), 6.0), (array([ 7.5]), 6.0), (array([ 6.5]), 6.0), (array([ 6.8]), 6.0), (array([ 7.1]), 6.0), (array([ 6.5]), 6.0), (array([ 7.4]), 6.0), (array([ 6.2]), 6.0), (array([ 6.6]), 6.0), (array([ 7.5]), 6.0), (array([ 7.8]), 6.0), (array([ 7.6]), 6.0), (array([ 5.]), 6.0), (array([ 7.3]), 6.0), (array([ 5.3]), 6.0), (array([ 7.6]), 6.0), (array([ 6.4]), 6.0), (array([ 8.8]), 6.0), (array([ 6.3]), 6.0), (array([ 7.3]), 6.0), (array([ 5.8]), 6.0), (array([ 7.5]), 6.0), (array([ 5.1]), 6.0), (array([ 6.1]), 6.0), (array([ 8.2]), 6.0), (array([ 7.5]), 6.0), (array([ 7.1]), 6.0), (array([ 6.6]), 6.0), (array([ 7.]), 6.0), (array([ 8.]), 6.0), (array([ 6.]), 6.0), (array([ 6.8]), 6.0), (array([ 6.6]), 6.0), (array([ 6.5]), 6.0), (array([ 6.9]), 6.0), (array([ 8.]), 6.0), (array([ 7.6]), 6.0), (array([ 7.4]), 6.0), (array([ 7.1]), 6.0), (array([ 6.]), 6.0), (array([ 8.6]), 6.0), (array([ 7.]), 6.0), (array([ 8.2]), 6.0), (array([ 8.3]), 6.0), (array([ 7.4]), 6.0), (array([ 6.4]), 6.0), (array([ 5.6]), 6.0), (array([ 5.]), 6.0), (array([ 6.3]), 6.0), (array([ 6.8]), 6.0), (array([ 7.1]), 6.0), (array([ 6.6]), 6.0), (array([ 6.2]), 6.0), (array([ 7.]), 6.0), (array([ 7.6]), 6.0), (array([ 5.9]), 6.0), (array([ 6.9]), 6.0), (array([ 7.]), 6.0), (array([ 6.]), 6.0), (array([ 7.]), 6.0), (array([ 8.]), 6.0), (array([ 6.]), 6.0), (array([ 6.4]), 6.0), (array([ 6.2]), 6.0), (array([ 7.1]), 6.0), (array([ 6.6]), 6.0), (array([ 6.8]), 6.0), (array([ 7.7]), 6.0), (array([ 7.2]), 6.0), (array([ 5.9]), 6.0), (array([ 6.4]), 6.0), (array([ 7.3]), 6.0), (array([ 6.9]), 6.0), (array([ 5.6]), 6.0), (array([ 6.]), 6.0), (array([ 6.2]), 6.0), (array([ 8.9]), 6.0), (array([ 6.2]), 6.0), (array([ 6.8]), 6.0), (array([ 6.]), 6.0), (array([ 7.8]), 6.0), (array([ 6.8]), 6.0), (array([ 6.2]), 6.0), (array([ 6.6]), 6.0), (array([ 7.1]), 6.0), (array([ 7.6]), 6.0), (array([ 6.5]), 6.0), (array([ 7.8]), 6.0), (array([ 6.1]), 6.0), (array([ 6.2]), 6.0), (array([ 7.4]), 6.0), (array([ 7.7]), 6.0), (array([ 7.4]), 6.0), (array([ 7.]), 6.0), (array([ 6.]), 6.0), (array([ 6.7]), 6.0), (array([ 5.9]), 6.0), (array([ 6.9]), 6.0), (array([ 6.6]), 6.0), (array([ 8.3]), 6.0), (array([ 6.6]), 6.0), (array([ 6.7]), 6.0), (array([ 7.]), 6.0), (array([ 7.3]), 6.0), (array([ 6.8]), 6.0), (array([ 5.]), 6.0), (array([ 6.6]), 6.0), (array([ 6.9]), 6.0), (array([ 6.]), 6.0), (array([ 8.5]), 6.0), (array([ 6.9]), 6.0), (array([ 6.8]), 6.0), (array([ 5.7]), 6.0), (array([ 7.3]), 6.0), (array([ 7.]), 6.0), (array([ 6.1]), 6.0), (array([ 7.4]), 6.0), (array([ 6.6]), 6.0), (array([ 6.4]), 6.0), (array([ 5.9]), 6.0), (array([ 6.1]), 6.0), (array([ 6.]), 6.0), (array([ 6.4]), 6.0), (array([ 5.1]), 6.0), (array([ 7.8]), 6.0), (array([ 6.8]), 6.0), (array([ 6.3]), 6.0), (array([ 7.4]), 6.0), (array([ 6.4]), 6.0), (array([ 7.2]), 6.0), (array([ 7.1]), 6.0), (array([ 5.6]), 6.0), (array([ 7.5]), 6.0), (array([ 8.]), 6.0), (array([ 6.2]), 6.0), (array([ 6.6]), 6.0), (array([ 6.2]), 6.0), (array([ 7.1]), 6.0), (array([ 6.6]), 6.0), (array([ 5.9]), 6.0), (array([ 6.2]), 6.0), (array([ 7.]), 6.0), (array([ 6.2]), 6.0), (array([ 6.8]), 6.0), (array([ 6.7]), 6.0), (array([ 6.5]), 6.0), (array([ 6.9]), 6.0), (array([ 6.4]), 6.0), (array([ 6.3]), 6.0), (array([ 7.8]), 6.0), (array([ 5.4]), 6.0), (array([ 7.7]), 6.0), (array([ 6.7]), 6.0), (array([ 8.]), 6.0), (array([ 7.4]), 6.0), (array([ 6.9]), 6.0), (array([ 6.7]), 6.0), (array([ 6.1]), 6.0), (array([ 7.3]), 6.0), (array([ 6.]), 6.0), (array([ 6.8]), 6.0), (array([ 8.1]), 6.0), (array([ 7.2]), 6.0), (array([ 6.4]), 6.0), (array([ 6.8]), 6.0), (array([ 6.8]), 6.0), (array([ 6.4]), 6.0), (array([ 6.1]), 6.0), (array([ 5.4]), 6.0), (array([ 6.8]), 6.0), (array([ 6.9]), 6.0), (array([ 5.6]), 6.0), (array([ 6.1]), 6.0), (array([ 6.4]), 6.0), (array([ 6.2]), 6.0), (array([ 6.2]), 6.0), (array([ 7.2]), 6.0), (array([ 6.8]), 6.0), (array([ 6.8]), 6.0), (array([ 7.6]), 6.0), (array([ 6.2]), 6.0), (array([ 5.8]), 6.0), (array([ 6.7]), 6.0), (array([ 7.5]), 6.0), (array([ 7.9]), 6.0), (array([ 6.1]), 6.0), (array([ 7.8]), 6.0), (array([ 7.3]), 6.0), (array([ 6.2]), 6.0), (array([ 6.6]), 6.0), (array([ 7.1]), 6.0), (array([ 6.]), 6.0), (array([ 6.6]), 6.0), (array([ 6.9]), 6.0), (array([ 5.7]), 6.0), (array([ 6.5]), 6.0), (array([ 7.4]), 6.0), (array([ 6.2]), 6.0), (array([ 6.4]), 6.0), (array([ 5.7]), 6.0), (array([ 6.8]), 6.0), (array([ 5.6]), 6.0), (array([ 7.4]), 6.0), (array([ 6.8]), 6.0), (array([ 7.]), 6.0), (array([ 4.7]), 6.0), (array([ 6.2]), 6.0), (array([ 8.9]), 6.0), (array([ 6.3]), 6.0), (array([ 6.6]), 6.0), (array([ 7.]), 6.0), (array([ 6.3]), 6.0), (array([ 6.4]), 6.0), (array([ 7.8]), 6.0), (array([ 7.7]), 6.0), (array([ 6.1]), 6.0), (array([ 8.8]), 6.0), (array([ 6.2]), 6.0), (array([ 6.6]), 6.0), (array([ 6.9]), 6.0), (array([ 6.4]), 6.0), (array([ 7.]), 6.0), (array([ 6.5]), 6.0), (array([ 6.9]), 6.0), (array([ 5.7]), 6.0), (array([ 6.]), 6.0), (array([ 6.2]), 6.0), (array([ 5.3]), 6.0), (array([ 6.7]), 6.0), (array([ 5.8]), 6.0), (array([ 6.8]), 6.0), (array([ 8.3]), 6.0), (array([ 6.3]), 6.0), (array([ 6.4]), 6.0), (array([ 6.9]), 6.0), (array([ 7.2]), 6.0), (array([ 5.3]), 6.0), (array([ 5.8]), 6.0), (array([ 8.1]), 6.0), (array([ 7.2]), 6.0), (array([ 7.6]), 6.0), (array([ 6.9]), 6.0), (array([ 4.9]), 6.0), (array([ 6.2]), 6.0), (array([ 6.8]), 6.0), (array([ 5.1]), 6.0), (array([ 6.8]), 6.0), (array([ 5.]), 6.0), (array([ 7.4]), 6.0), (array([ 6.3]), 6.0), (array([ 7.]), 6.0), (array([ 6.6]), 6.0), (array([ 6.2]), 6.0), (array([ 7.2]), 6.0), (array([ 5.7]), 6.0), (array([ 8.4]), 6.0), (array([ 6.2]), 6.0), (array([ 6.8]), 6.0), (array([ 6.5]), 6.0), (array([ 6.4]), 6.0), (array([ 7.6]), 6.0), (array([ 7.]), 6.0), (array([ 7.1]), 6.0), (array([ 9.8]), 5.0), (array([ 8.]), 6.0), (array([ 9.2]), 6.0), (array([ 6.6]), 6.0), (array([ 7.4]), 6.0), (array([ 8.2]), 6.0), (array([ 6.8]), 6.0), (array([ 6.6]), 6.0), (array([ 7.1]), 6.0), (array([ 6.7]), 6.0), (array([ 7.2]), 6.0), (array([ 6.9]), 6.0), (array([ 5.4]), 6.0), (array([ 6.2]), 6.0), (array([ 8.5]), 6.0), (array([ 5.3]), 6.0), (array([ 5.8]), 6.0), (array([ 6.9]), 6.0), (array([ 6.4]), 6.0), (array([ 5.8]), 6.0), (array([ 6.3]), 6.0), (array([ 6.9]), 6.0), (array([ 6.7]), 6.0), (array([ 7.6]), 6.0), (array([ 6.9]), 6.0), (array([ 6.6]), 6.0), (array([ 6.3]), 6.0), (array([ 6.4]), 6.0), (array([ 7.9]), 6.0), (array([ 7.7]), 6.0), (array([ 6.3]), 6.0), (array([ 7.6]), 6.0), (array([ 6.4]), 6.0), (array([ 8.3]), 6.0), (array([ 7.4]), 6.0), (array([ 6.1]), 6.0), (array([ 5.4]), 6.0), (array([ 8.2]), 6.0), (array([ 6.7]), 6.0), (array([ 7.5]), 6.0), (array([ 8.6]), 6.0), (array([ 6.2]), 6.0), (array([ 6.3]), 6.0), (array([ 6.6]), 6.0), (array([ 6.8]), 6.0), (array([ 6.1]), 6.0), (array([ 7.5]), 6.0), (array([ 6.8]), 6.0), (array([ 7.7]), 6.0), (array([ 5.8]), 6.0), (array([ 5.7]), 6.0), (array([ 5.7]), 6.0), (array([ 5.3]), 6.0), (array([ 6.8]), 6.0), (array([ 6.4]), 6.0), (array([ 7.5]), 6.0), (array([ 7.2]), 6.0), (array([ 6.9]), 6.0), (array([ 6.2]), 6.0), (array([ 6.4]), 6.0), (array([ 6.8]), 6.0), (array([ 6.3]), 6.0), (array([ 7.3]), 6.0), (array([ 6.6]), 6.0), (array([ 6.8]), 6.0), (array([ 7.3]), 6.0), (array([ 5.9]), 6.0), (array([ 7.5]), 6.0), (array([ 6.7]), 6.0), (array([ 7.3]), 6.0), (array([ 6.3]), 6.0), (array([ 5.6]), 6.0), (array([ 6.9]), 6.0), (array([ 7.7]), 6.0), (array([ 6.5]), 6.0), (array([ 7.2]), 6.0), (array([ 5.9]), 6.0), (array([ 7.4]), 6.0), (array([ 7.]), 6.0), (array([ 6.8]), 6.0), (array([ 7.2]), 6.0), (array([ 7.1]), 6.0), (array([ 6.5]), 6.0), (array([ 7.9]), 6.0), (array([ 6.8]), 6.0), (array([ 5.7]), 6.0), (array([ 6.4]), 6.0), (array([ 7.5]), 6.0), (array([ 5.7]), 6.0), (array([ 7.1]), 6.0), (array([ 7.8]), 6.0), (array([ 6.3]), 6.0), (array([ 7.2]), 6.0), (array([ 7.3]), 6.0), (array([ 6.5]), 6.0), (array([ 6.7]), 6.0), (array([ 7.1]), 6.0), (array([ 7.9]), 6.0), (array([ 6.9]), 6.0), (array([ 6.2]), 6.0), (array([ 7.]), 6.0), (array([ 6.9]), 6.0), (array([ 7.5]), 6.0), (array([ 7.1]), 6.0), (array([ 5.7]), 6.0), (array([ 6.4]), 6.0), (array([ 7.5]), 6.0), (array([ 7.4]), 6.0), (array([ 8.7]), 6.0), (array([ 7.2]), 6.0), (array([ 7.8]), 6.0), (array([ 6.]), 6.0), (array([ 6.4]), 6.0), (array([ 7.9]), 6.0), (array([ 6.7]), 6.0), (array([ 6.8]), 6.0), (array([ 7.4]), 6.0), (array([ 6.7]), 6.0), (array([ 6.9]), 6.0), (array([ 6.9]), 6.0), (array([ 6.2]), 6.0), (array([ 5.7]), 6.0), (array([ 5.4]), 6.0), (array([ 6.6]), 6.0), (array([ 7.2]), 6.0), (array([ 7.1]), 6.0), (array([ 7.5]), 6.0), (array([ 7.]), 6.0), (array([ 7.9]), 6.0), (array([ 7.6]), 6.0), (array([ 6.5]), 6.0), (array([ 7.7]), 6.0), (array([ 6.3]), 6.0), (array([ 7.]), 6.0), (array([ 7.2]), 6.0), (array([ 9.2]), 6.0), (array([ 7.6]), 6.0), (array([ 6.4]), 6.0), (array([ 7.1]), 6.0), (array([ 6.8]), 6.0), (array([ 6.1]), 6.0), (array([ 6.8]), 6.0), (array([ 6.8]), 6.0), (array([ 6.6]), 6.0), (array([ 7.9]), 6.0), (array([ 6.2]), 6.0), (array([ 6.1]), 6.0), (array([ 7.1]), 6.0), (array([ 7.7]), 6.0), (array([ 7.]), 6.0), (array([ 6.4]), 6.0), (array([ 7.4]), 6.0), (array([ 9.2]), 6.0), (array([ 5.8]), 6.0), (array([ 9.2]), 6.0), (array([ 6.7]), 6.0), (array([ 7.3]), 6.0), (array([ 5.8]), 6.0), (array([ 6.3]), 6.0), (array([ 6.]), 6.0), (array([ 6.8]), 6.0), (array([ 8.5]), 6.0), (array([ 7.1]), 6.0), (array([ 7.1]), 6.0), (array([ 6.6]), 6.0), (array([ 7.7]), 6.0), (array([ 6.2]), 6.0), (array([ 7.6]), 6.0), (array([ 7.]), 6.0), (array([ 6.1]), 6.0), (array([ 5.5]), 6.0), (array([ 6.1]), 6.0), (array([ 7.]), 6.0), (array([ 7.1]), 6.0), (array([ 6.4]), 6.0), (array([ 7.4]), 6.0), (array([ 6.5]), 6.0), (array([ 8.4]), 6.0), (array([ 6.4]), 6.0), (array([ 7.6]), 6.0), (array([ 6.5]), 6.0), (array([ 6.4]), 6.0), (array([ 7.3]), 6.0), (array([ 7.7]), 6.0), (array([ 6.2]), 6.0), (array([ 6.]), 6.0), (array([ 8.6]), 6.0), (array([ 7.5]), 6.0), (array([ 8.3]), 6.0), (array([ 6.4]), 6.0), (array([ 5.1]), 6.0), (array([ 7.2]), 6.0), (array([ 6.4]), 6.0), (array([ 5.7]), 6.0), (array([ 7.4]), 6.0), (array([ 7.1]), 6.0), (array([ 7.8]), 6.0), (array([ 6.8]), 6.0), (array([ 6.8]), 6.0), (array([ 5.9]), 6.0), (array([ 7.5]), 6.0), (array([ 6.1]), 6.0), (array([ 6.9]), 6.0), (array([ 7.2]), 6.0), (array([ 6.]), 6.0), (array([ 6.8]), 6.0), (array([ 7.7]), 6.0), (array([ 7.9]), 6.0), (array([ 7.7]), 6.0), (array([ 7.]), 6.0), (array([ 7.1]), 6.0), (array([ 6.3]), 6.0), (array([ 7.8]), 6.0), (array([ 7.3]), 6.0), (array([ 6.5]), 6.0), (array([ 7.3]), 6.0), (array([ 7.]), 6.0), (array([ 7.3]), 6.0), (array([ 6.6]), 6.0), (array([ 6.7]), 6.0), (array([ 6.9]), 6.0), (array([ 6.7]), 6.0), (array([ 6.]), 6.0), (array([ 6.4]), 6.0), (array([ 7.6]), 6.0), (array([ 5.7]), 6.0), (array([ 7.3]), 6.0), (array([ 6.3]), 6.0), (array([ 9.2]), 6.0), (array([ 6.6]), 6.0), (array([ 6.]), 6.0), (array([ 6.4]), 6.0), (array([ 5.9]), 6.0), (array([ 7.]), 6.0), (array([ 6.5]), 6.0), (array([ 7.2]), 6.0), (array([ 6.7]), 6.0), (array([ 6.7]), 6.0), (array([ 7.1]), 6.0), (array([ 6.2]), 6.0), (array([ 5.9]), 6.0), (array([ 6.5]), 6.0), (array([ 7.6]), 6.0), (array([ 6.8]), 6.0), (array([ 8.3]), 6.0), (array([ 6.8]), 6.0), (array([ 6.7]), 6.0), (array([ 8.]), 6.0), (array([ 7.7]), 6.0), (array([ 6.4]), 6.0), (array([ 5.7]), 6.0), (array([ 6.5]), 6.0), (array([ 6.9]), 6.0), (array([ 6.8]), 6.0), (array([ 5.8]), 6.0), (array([ 7.4]), 6.0), (array([ 7.]), 6.0), (array([ 6.]), 6.0), (array([ 4.4]), 6.0), (array([ 5.8]), 6.0), (array([ 7.]), 6.0), (array([ 4.8]), 6.0), (array([ 7.2]), 6.0), (array([ 5.]), 6.0), (array([ 6.1]), 6.0), (array([ 7.5]), 6.0), (array([ 6.2]), 6.0), (array([ 7.3]), 6.0), (array([ 6.8]), 6.0), (array([ 7.]), 6.0), (array([ 7.2]), 6.0), (array([ 7.4]), 6.0), (array([ 7.4]), 6.0), (array([ 5.2]), 6.0), (array([ 6.7]), 6.0), (array([ 6.]), 6.0), (array([ 7.2]), 6.0), (array([ 6.4]), 6.0), (array([ 6.3]), 6.0), (array([ 6.7]), 6.0), (array([ 7.]), 6.0), (array([ 9.2]), 6.0), (array([ 6.7]), 6.0), (array([ 7.4]), 6.0), (array([ 5.7]), 6.0), (array([ 6.3]), 6.0), (array([ 6.4]), 6.0), (array([ 6.9]), 6.0), (array([ 7.4]), 6.0), (array([ 6.]), 6.0), (array([ 6.7]), 6.0), (array([ 7.5]), 6.0), (array([ 6.4]), 6.0), (array([ 7.]), 6.0), (array([ 8.8]), 6.0), (array([ 5.7]), 6.0), (array([ 7.3]), 6.0), (array([ 8.4]), 6.0), (array([ 6.6]), 6.0), (array([ 6.4]), 6.0), (array([ 7.4]), 6.0), (array([ 6.6]), 6.0), (array([ 6.5]), 6.0), (array([ 5.3]), 6.0), (array([ 6.4]), 6.0), (array([ 6.3]), 6.0), (array([ 5.8]), 6.0), (array([ 9.4]), 6.0), (array([ 6.5]), 6.0), (array([ 6.15]), 6.0), (array([ 7.1]), 6.0), (array([ 5.9]), 6.0), (array([ 6.8]), 6.0), (array([ 7.4]), 6.0)]\n"
     ]
    },
    {
     "ename": "TypeError",
     "evalue": "Dimensions of C (1225, 2) are incompatible with X (1) and/or Y (1225); see help(pcolormesh)",
     "output_type": "error",
     "traceback": [
      "\u001b[1;31m---------------------------------------------------------------------------\u001b[0m",
      "\u001b[1;31mTypeError\u001b[0m                                 Traceback (most recent call last)",
      "\u001b[1;32m<ipython-input-26-4ab62e4d517b>\u001b[0m in \u001b[0;36m<module>\u001b[1;34m()\u001b[0m\n\u001b[0;32m     24\u001b[0m \u001b[0mprint\u001b[0m\u001b[1;33m(\u001b[0m\u001b[0mC\u001b[0m\u001b[1;33m)\u001b[0m\u001b[1;33m\u001b[0m\u001b[0m\n\u001b[0;32m     25\u001b[0m \u001b[1;33m\u001b[0m\u001b[0m\n\u001b[1;32m---> 26\u001b[1;33m \u001b[0mplt\u001b[0m\u001b[1;33m.\u001b[0m\u001b[0mpcolormesh\u001b[0m\u001b[1;33m(\u001b[0m\u001b[0mfeatures_test\u001b[0m\u001b[1;33m,\u001b[0m \u001b[0mlabels_test\u001b[0m\u001b[1;33m,\u001b[0m \u001b[0mC\u001b[0m\u001b[1;33m,\u001b[0m \u001b[0mcmap\u001b[0m\u001b[1;33m=\u001b[0m\u001b[0mplt\u001b[0m\u001b[1;33m.\u001b[0m\u001b[0mcm\u001b[0m\u001b[1;33m.\u001b[0m\u001b[0mPaired\u001b[0m\u001b[1;33m)\u001b[0m\u001b[1;33m\u001b[0m\u001b[0m\n\u001b[0m\u001b[0;32m     27\u001b[0m \u001b[0mplt\u001b[0m\u001b[1;33m.\u001b[0m\u001b[0mscatter\u001b[0m\u001b[1;33m(\u001b[0m\u001b[0mfeatures_test\u001b[0m\u001b[1;33m,\u001b[0m \u001b[0mlabels_test\u001b[0m\u001b[1;33m,\u001b[0m\u001b[0mc\u001b[0m\u001b[1;33m=\u001b[0m\u001b[0mC\u001b[0m\u001b[1;33m,\u001b[0m \u001b[0medgecolors\u001b[0m\u001b[1;33m=\u001b[0m\u001b[1;34m'k'\u001b[0m\u001b[1;33m,\u001b[0m \u001b[0mcmap\u001b[0m\u001b[1;33m=\u001b[0m\u001b[0mplt\u001b[0m\u001b[1;33m.\u001b[0m\u001b[0mcm\u001b[0m\u001b[1;33m.\u001b[0m\u001b[0mPaired\u001b[0m\u001b[1;33m)\u001b[0m\u001b[1;33m\u001b[0m\u001b[0m\n\u001b[0;32m     28\u001b[0m \u001b[1;31m#plt.plot(features_test, labels_predicted, color='blue', linewidth=3)\u001b[0m\u001b[1;33m\u001b[0m\u001b[1;33m\u001b[0m\u001b[0m\n",
      "\u001b[1;32mC:\\Users\\User\\Anaconda3\\lib\\site-packages\\matplotlib\\pyplot.py\u001b[0m in \u001b[0;36mpcolormesh\u001b[1;34m(*args, **kwargs)\u001b[0m\n\u001b[0;32m   3091\u001b[0m         \u001b[0max\u001b[0m\u001b[1;33m.\u001b[0m\u001b[0mhold\u001b[0m\u001b[1;33m(\u001b[0m\u001b[0mhold\u001b[0m\u001b[1;33m)\u001b[0m\u001b[1;33m\u001b[0m\u001b[0m\n\u001b[0;32m   3092\u001b[0m     \u001b[1;32mtry\u001b[0m\u001b[1;33m:\u001b[0m\u001b[1;33m\u001b[0m\u001b[0m\n\u001b[1;32m-> 3093\u001b[1;33m         \u001b[0mret\u001b[0m \u001b[1;33m=\u001b[0m \u001b[0max\u001b[0m\u001b[1;33m.\u001b[0m\u001b[0mpcolormesh\u001b[0m\u001b[1;33m(\u001b[0m\u001b[1;33m*\u001b[0m\u001b[0margs\u001b[0m\u001b[1;33m,\u001b[0m \u001b[1;33m**\u001b[0m\u001b[0mkwargs\u001b[0m\u001b[1;33m)\u001b[0m\u001b[1;33m\u001b[0m\u001b[0m\n\u001b[0m\u001b[0;32m   3094\u001b[0m     \u001b[1;32mfinally\u001b[0m\u001b[1;33m:\u001b[0m\u001b[1;33m\u001b[0m\u001b[0m\n\u001b[0;32m   3095\u001b[0m         \u001b[0max\u001b[0m\u001b[1;33m.\u001b[0m\u001b[0mhold\u001b[0m\u001b[1;33m(\u001b[0m\u001b[0mwashold\u001b[0m\u001b[1;33m)\u001b[0m\u001b[1;33m\u001b[0m\u001b[0m\n",
      "\u001b[1;32mC:\\Users\\User\\Anaconda3\\lib\\site-packages\\matplotlib\\__init__.py\u001b[0m in \u001b[0;36minner\u001b[1;34m(ax, *args, **kwargs)\u001b[0m\n\u001b[0;32m   1809\u001b[0m                     warnings.warn(msg % (label_namer, func.__name__),\n\u001b[0;32m   1810\u001b[0m                                   RuntimeWarning, stacklevel=2)\n\u001b[1;32m-> 1811\u001b[1;33m             \u001b[1;32mreturn\u001b[0m \u001b[0mfunc\u001b[0m\u001b[1;33m(\u001b[0m\u001b[0max\u001b[0m\u001b[1;33m,\u001b[0m \u001b[1;33m*\u001b[0m\u001b[0margs\u001b[0m\u001b[1;33m,\u001b[0m \u001b[1;33m**\u001b[0m\u001b[0mkwargs\u001b[0m\u001b[1;33m)\u001b[0m\u001b[1;33m\u001b[0m\u001b[0m\n\u001b[0m\u001b[0;32m   1812\u001b[0m         \u001b[0mpre_doc\u001b[0m \u001b[1;33m=\u001b[0m \u001b[0minner\u001b[0m\u001b[1;33m.\u001b[0m\u001b[0m__doc__\u001b[0m\u001b[1;33m\u001b[0m\u001b[0m\n\u001b[0;32m   1813\u001b[0m         \u001b[1;32mif\u001b[0m \u001b[0mpre_doc\u001b[0m \u001b[1;32mis\u001b[0m \u001b[1;32mNone\u001b[0m\u001b[1;33m:\u001b[0m\u001b[1;33m\u001b[0m\u001b[0m\n",
      "\u001b[1;32mC:\\Users\\User\\Anaconda3\\lib\\site-packages\\matplotlib\\axes\\_axes.py\u001b[0m in \u001b[0;36mpcolormesh\u001b[1;34m(self, *args, **kwargs)\u001b[0m\n\u001b[0;32m   5393\u001b[0m         \u001b[0mallmatch\u001b[0m \u001b[1;33m=\u001b[0m \u001b[1;33m(\u001b[0m\u001b[0mshading\u001b[0m \u001b[1;33m==\u001b[0m \u001b[1;34m'gouraud'\u001b[0m\u001b[1;33m)\u001b[0m\u001b[1;33m\u001b[0m\u001b[0m\n\u001b[0;32m   5394\u001b[0m \u001b[1;33m\u001b[0m\u001b[0m\n\u001b[1;32m-> 5395\u001b[1;33m         \u001b[0mX\u001b[0m\u001b[1;33m,\u001b[0m \u001b[0mY\u001b[0m\u001b[1;33m,\u001b[0m \u001b[0mC\u001b[0m \u001b[1;33m=\u001b[0m \u001b[0mself\u001b[0m\u001b[1;33m.\u001b[0m\u001b[0m_pcolorargs\u001b[0m\u001b[1;33m(\u001b[0m\u001b[1;34m'pcolormesh'\u001b[0m\u001b[1;33m,\u001b[0m \u001b[1;33m*\u001b[0m\u001b[0margs\u001b[0m\u001b[1;33m,\u001b[0m \u001b[0mallmatch\u001b[0m\u001b[1;33m=\u001b[0m\u001b[0mallmatch\u001b[0m\u001b[1;33m)\u001b[0m\u001b[1;33m\u001b[0m\u001b[0m\n\u001b[0m\u001b[0;32m   5396\u001b[0m         \u001b[0mNy\u001b[0m\u001b[1;33m,\u001b[0m \u001b[0mNx\u001b[0m \u001b[1;33m=\u001b[0m \u001b[0mX\u001b[0m\u001b[1;33m.\u001b[0m\u001b[0mshape\u001b[0m\u001b[1;33m\u001b[0m\u001b[0m\n\u001b[0;32m   5397\u001b[0m \u001b[1;33m\u001b[0m\u001b[0m\n",
      "\u001b[1;32mC:\\Users\\User\\Anaconda3\\lib\\site-packages\\matplotlib\\axes\\_axes.py\u001b[0m in \u001b[0;36m_pcolorargs\u001b[1;34m(funcname, *args, **kw)\u001b[0m\n\u001b[0;32m   5019\u001b[0m                 raise TypeError('Dimensions of C %s are incompatible with'\n\u001b[0;32m   5020\u001b[0m                                 ' X (%d) and/or Y (%d); see help(%s)' % (\n\u001b[1;32m-> 5021\u001b[1;33m                                     C.shape, Nx, Ny, funcname))\n\u001b[0m\u001b[0;32m   5022\u001b[0m             \u001b[0mC\u001b[0m \u001b[1;33m=\u001b[0m \u001b[0mC\u001b[0m\u001b[1;33m[\u001b[0m\u001b[1;33m:\u001b[0m\u001b[0mNy\u001b[0m \u001b[1;33m-\u001b[0m \u001b[1;36m1\u001b[0m\u001b[1;33m,\u001b[0m \u001b[1;33m:\u001b[0m\u001b[0mNx\u001b[0m \u001b[1;33m-\u001b[0m \u001b[1;36m1\u001b[0m\u001b[1;33m]\u001b[0m\u001b[1;33m\u001b[0m\u001b[0m\n\u001b[0;32m   5023\u001b[0m         \u001b[1;32mreturn\u001b[0m \u001b[0mX\u001b[0m\u001b[1;33m,\u001b[0m \u001b[0mY\u001b[0m\u001b[1;33m,\u001b[0m \u001b[0mC\u001b[0m\u001b[1;33m\u001b[0m\u001b[0m\n",
      "\u001b[1;31mTypeError\u001b[0m: Dimensions of C (1225, 2) are incompatible with X (1) and/or Y (1225); see help(pcolormesh)"
     ]
    },
    {
     "data": {
      "image/png": "[encoded data removed]",
      "text/plain": [
       "<matplotlib.figure.Figure at 0x1c40c05cba8>"
      ]
     },
     "metadata": {},
     "output_type": "display_data"
    }
   ],
   "source": [
    "# Logistic Regression\n",
    "\n",
    "from sklearn.linear_model import LogisticRegression\n",
    "\n",
    "feature_cols = col_names[:1]\n",
    "features = data_frame[feature_cols]\n",
    "labels = data_frame[\"quality\"]\n",
    "features_train, features_test, labels_train, labels_test = train_test_split(features, labels, random_state=42)\n",
    "actuals = labels_test[:].values\n",
    "\n",
    "logreg = LogisticRegression(C=1e42) # Set Large C value for low regularization\n",
    "logreg.fit(features_train, labels_train)\n",
    "\n",
    "print(\"Intercepts are \"+str(logreg.intercept_))\n",
    "\n",
    "coefs = list(zip(feature_cols, logreg.coef_))\n",
    "print(coefs)\n",
    "\n",
    "labels_predicted = logreg.predict(features_test) # Categorial / Digital\n",
    "predicted_proba = logreg.predict_proba(features_test) # Analog (e.g. > 0.5 = true else false)\n",
    "\n",
    "plt.figure(1, figsize=(4, 3))\n",
    "C = list(zip(features_test.values, labels_predicted))\n",
    "print(C)\n",
    "\n",
    "plt.pcolormesh(features_test, labels_test, C, cmap=plt.cm.Paired)\n",
    "plt.scatter(features_test, labels_test,c=C, edgecolors='k', cmap=plt.cm.Paired)\n",
    "#plt.plot(features_test, labels_predicted, color='blue', linewidth=3)\n",
    "plt.xticks(range(5,10))\n",
    "plt.yticks(range(10))\n",
    "plt.xlabel(feature_cols)\n",
    "plt.ylabel('quality')\n",
    "plt.title('Logistic regression graph')\n",
    "plt.grid(True)\n",
    "plt.show()\n",
    "\n",
    "#for i in range (labels_test.size-1) :\n",
    " #   if predictions[i] != actuals[i]:\n",
    "  #      print(\"Predicted value \" +  str(predictions[i]) + \"and actual value is \" + str(actuals[i]))  \n",
    "\n",
    "\n",
    "\n",
    "\n"
   ]
  },
  {
   "cell_type": "code",
   "execution_count": 39,
   "metadata": {
    "collapsed": false
   },
   "outputs": [
    {
     "name": "stdout",
     "output_type": "stream",
     "text": [
      "[ 0.07202589  0.11345824  0.07007856  0.07960145  0.08561998  0.0964986\n",
      "  0.08236588  0.10712978  0.07353311  0.06761671  0.15207182]\n",
      "0.867138578818\n"
     ]
    },
    {
     "ename": "ValueError",
     "evalue": "multiclass format is not supported",
     "output_type": "error",
     "traceback": [
      "\u001b[1;31m---------------------------------------------------------------------------\u001b[0m",
      "\u001b[1;31mValueError\u001b[0m                                Traceback (most recent call last)",
      "\u001b[1;32m<ipython-input-39-69df49db28e1>\u001b[0m in \u001b[0;36m<module>\u001b[1;34m()\u001b[0m\n\u001b[0;32m     14\u001b[0m \u001b[0mpredicted_proba\u001b[0m \u001b[1;33m=\u001b[0m \u001b[0mrandom_forest\u001b[0m\u001b[1;33m.\u001b[0m\u001b[0mpredict_proba\u001b[0m\u001b[1;33m(\u001b[0m\u001b[0mfeatures_test\u001b[0m\u001b[1;33m)\u001b[0m\u001b[1;33m\u001b[0m\u001b[0m\n\u001b[0;32m     15\u001b[0m \u001b[1;31m# Get success rate of the model\u001b[0m\u001b[1;33m\u001b[0m\u001b[1;33m\u001b[0m\u001b[0m\n\u001b[1;32m---> 16\u001b[1;33m \u001b[0mprint\u001b[0m\u001b[1;33m(\u001b[0m\u001b[0mroc_auc_score\u001b[0m\u001b[1;33m(\u001b[0m\u001b[0mlabels_test\u001b[0m\u001b[1;33m,\u001b[0m \u001b[0mpredicted_proba\u001b[0m\u001b[1;33m)\u001b[0m\u001b[1;33m)\u001b[0m \u001b[1;31m# [:,1] for only 2 classes (e.g. Churn, Not Churn)\u001b[0m\u001b[1;33m\u001b[0m\u001b[0m\n\u001b[0m",
      "\u001b[1;32mC:\\Users\\User\\Anaconda3\\lib\\site-packages\\sklearn\\metrics\\ranking.py\u001b[0m in \u001b[0;36mroc_auc_score\u001b[1;34m(y_true, y_score, average, sample_weight)\u001b[0m\n\u001b[0;32m    258\u001b[0m     return _average_binary_score(\n\u001b[0;32m    259\u001b[0m         \u001b[0m_binary_roc_auc_score\u001b[0m\u001b[1;33m,\u001b[0m \u001b[0my_true\u001b[0m\u001b[1;33m,\u001b[0m \u001b[0my_score\u001b[0m\u001b[1;33m,\u001b[0m \u001b[0maverage\u001b[0m\u001b[1;33m,\u001b[0m\u001b[1;33m\u001b[0m\u001b[0m\n\u001b[1;32m--> 260\u001b[1;33m         sample_weight=sample_weight)\n\u001b[0m\u001b[0;32m    261\u001b[0m \u001b[1;33m\u001b[0m\u001b[0m\n\u001b[0;32m    262\u001b[0m \u001b[1;33m\u001b[0m\u001b[0m\n",
      "\u001b[1;32mC:\\Users\\User\\Anaconda3\\lib\\site-packages\\sklearn\\metrics\\base.py\u001b[0m in \u001b[0;36m_average_binary_score\u001b[1;34m(binary_metric, y_true, y_score, average, sample_weight)\u001b[0m\n\u001b[0;32m     79\u001b[0m     \u001b[0my_type\u001b[0m \u001b[1;33m=\u001b[0m \u001b[0mtype_of_target\u001b[0m\u001b[1;33m(\u001b[0m\u001b[0my_true\u001b[0m\u001b[1;33m)\u001b[0m\u001b[1;33m\u001b[0m\u001b[0m\n\u001b[0;32m     80\u001b[0m     \u001b[1;32mif\u001b[0m \u001b[0my_type\u001b[0m \u001b[1;32mnot\u001b[0m \u001b[1;32min\u001b[0m \u001b[1;33m(\u001b[0m\u001b[1;34m\"binary\"\u001b[0m\u001b[1;33m,\u001b[0m \u001b[1;34m\"multilabel-indicator\"\u001b[0m\u001b[1;33m)\u001b[0m\u001b[1;33m:\u001b[0m\u001b[1;33m\u001b[0m\u001b[0m\n\u001b[1;32m---> 81\u001b[1;33m         \u001b[1;32mraise\u001b[0m \u001b[0mValueError\u001b[0m\u001b[1;33m(\u001b[0m\u001b[1;34m\"{0} format is not supported\"\u001b[0m\u001b[1;33m.\u001b[0m\u001b[0mformat\u001b[0m\u001b[1;33m(\u001b[0m\u001b[0my_type\u001b[0m\u001b[1;33m)\u001b[0m\u001b[1;33m)\u001b[0m\u001b[1;33m\u001b[0m\u001b[0m\n\u001b[0m\u001b[0;32m     82\u001b[0m \u001b[1;33m\u001b[0m\u001b[0m\n\u001b[0;32m     83\u001b[0m     \u001b[1;32mif\u001b[0m \u001b[0my_type\u001b[0m \u001b[1;33m==\u001b[0m \u001b[1;34m\"binary\"\u001b[0m\u001b[1;33m:\u001b[0m\u001b[1;33m\u001b[0m\u001b[0m\n",
      "\u001b[1;31mValueError\u001b[0m: multiclass format is not supported"
     ]
    }
   ],
   "source": [
    "# Random Forest\n",
    "\n",
    "from sklearn.ensemble import RandomForestClassifier\n",
    "from sklearn.metrics import roc_auc_score\n",
    "\n",
    "random_forest = RandomForestClassifier(criterion=\"entropy\", max_depth = 10, min_samples_split=2, n_estimators = 100, random_state = 1)\n",
    "#random_forest = RandomForestClassifier(criterion=\"gini\", max_depth = 10, min_samples_split=2, n_estimators = 100, random_state = 1)\n",
    "random_forest = random_forest.fit(features_train, labels_train)\n",
    "\n",
    "print(random_forest.feature_importances_)\n",
    "\n",
    "print(random_forest.score(features_train, labels_train))\n",
    "\n",
    "predicted_proba = random_forest.predict_proba(features_test)\n",
    "# Get success rate of the model\n",
    "print(roc_auc_score(labels_test, predicted_proba)) # [:,1] for only 2 classes (e.g. Churn, Not Churn)"
   ]
  },
  {
   "cell_type": "code",
   "execution_count": 41,
   "metadata": {
    "collapsed": false
   },
   "outputs": [
    {
     "name": "stdout",
     "output_type": "stream",
     "text": [
      "1.0\n"
     ]
    },
    {
     "ename": "ValueError",
     "evalue": "multiclass format is not supported",
     "output_type": "error",
     "traceback": [
      "\u001b[1;31m---------------------------------------------------------------------------\u001b[0m",
      "\u001b[1;31mValueError\u001b[0m                                Traceback (most recent call last)",
      "\u001b[1;32m<ipython-input-41-c99eb3e2d0de>\u001b[0m in \u001b[0;36m<module>\u001b[1;34m()\u001b[0m\n\u001b[0;32m     11\u001b[0m \u001b[0mpredicted_proba\u001b[0m \u001b[1;33m=\u001b[0m \u001b[0mknn\u001b[0m\u001b[1;33m.\u001b[0m\u001b[0mpredict_proba\u001b[0m\u001b[1;33m(\u001b[0m\u001b[0mfeatures_test\u001b[0m\u001b[1;33m)\u001b[0m\u001b[1;33m\u001b[0m\u001b[0m\n\u001b[0;32m     12\u001b[0m \u001b[1;31m# Get success rate of the model\u001b[0m\u001b[1;33m\u001b[0m\u001b[1;33m\u001b[0m\u001b[0m\n\u001b[1;32m---> 13\u001b[1;33m \u001b[0mprint\u001b[0m\u001b[1;33m(\u001b[0m\u001b[0mroc_auc_score\u001b[0m\u001b[1;33m(\u001b[0m\u001b[0mlabels_test\u001b[0m\u001b[1;33m,\u001b[0m \u001b[0mpredicted_proba\u001b[0m\u001b[1;33m[\u001b[0m\u001b[1;33m:\u001b[0m\u001b[1;33m]\u001b[0m\u001b[1;33m)\u001b[0m\u001b[1;33m)\u001b[0m \u001b[1;31m# [:,1] for only 2 classes (e.g. Legitimate or Malicious site)\u001b[0m\u001b[1;33m\u001b[0m\u001b[0m\n\u001b[0m",
      "\u001b[1;32mC:\\Users\\User\\Anaconda3\\lib\\site-packages\\sklearn\\metrics\\ranking.py\u001b[0m in \u001b[0;36mroc_auc_score\u001b[1;34m(y_true, y_score, average, sample_weight)\u001b[0m\n\u001b[0;32m    258\u001b[0m     return _average_binary_score(\n\u001b[0;32m    259\u001b[0m         \u001b[0m_binary_roc_auc_score\u001b[0m\u001b[1;33m,\u001b[0m \u001b[0my_true\u001b[0m\u001b[1;33m,\u001b[0m \u001b[0my_score\u001b[0m\u001b[1;33m,\u001b[0m \u001b[0maverage\u001b[0m\u001b[1;33m,\u001b[0m\u001b[1;33m\u001b[0m\u001b[0m\n\u001b[1;32m--> 260\u001b[1;33m         sample_weight=sample_weight)\n\u001b[0m\u001b[0;32m    261\u001b[0m \u001b[1;33m\u001b[0m\u001b[0m\n\u001b[0;32m    262\u001b[0m \u001b[1;33m\u001b[0m\u001b[0m\n",
      "\u001b[1;32mC:\\Users\\User\\Anaconda3\\lib\\site-packages\\sklearn\\metrics\\base.py\u001b[0m in \u001b[0;36m_average_binary_score\u001b[1;34m(binary_metric, y_true, y_score, average, sample_weight)\u001b[0m\n\u001b[0;32m     79\u001b[0m     \u001b[0my_type\u001b[0m \u001b[1;33m=\u001b[0m \u001b[0mtype_of_target\u001b[0m\u001b[1;33m(\u001b[0m\u001b[0my_true\u001b[0m\u001b[1;33m)\u001b[0m\u001b[1;33m\u001b[0m\u001b[0m\n\u001b[0;32m     80\u001b[0m     \u001b[1;32mif\u001b[0m \u001b[0my_type\u001b[0m \u001b[1;32mnot\u001b[0m \u001b[1;32min\u001b[0m \u001b[1;33m(\u001b[0m\u001b[1;34m\"binary\"\u001b[0m\u001b[1;33m,\u001b[0m \u001b[1;34m\"multilabel-indicator\"\u001b[0m\u001b[1;33m)\u001b[0m\u001b[1;33m:\u001b[0m\u001b[1;33m\u001b[0m\u001b[0m\n\u001b[1;32m---> 81\u001b[1;33m         \u001b[1;32mraise\u001b[0m \u001b[0mValueError\u001b[0m\u001b[1;33m(\u001b[0m\u001b[1;34m\"{0} format is not supported\"\u001b[0m\u001b[1;33m.\u001b[0m\u001b[0mformat\u001b[0m\u001b[1;33m(\u001b[0m\u001b[0my_type\u001b[0m\u001b[1;33m)\u001b[0m\u001b[1;33m)\u001b[0m\u001b[1;33m\u001b[0m\u001b[0m\n\u001b[0m\u001b[0;32m     82\u001b[0m \u001b[1;33m\u001b[0m\u001b[0m\n\u001b[0;32m     83\u001b[0m     \u001b[1;32mif\u001b[0m \u001b[0my_type\u001b[0m \u001b[1;33m==\u001b[0m \u001b[1;34m\"binary\"\u001b[0m\u001b[1;33m:\u001b[0m\u001b[1;33m\u001b[0m\u001b[0m\n",
      "\u001b[1;31mValueError\u001b[0m: multiclass format is not supported"
     ]
    }
   ],
   "source": [
    "# kNN : k - Near Neighbors (Classification)\n",
    "\n",
    "from sklearn.neighbors import KNeighborsClassifier\n",
    "from sklearn.metrics import roc_auc_score\n",
    "\n",
    "knn = KNeighborsClassifier(n_neighbors=10, weights='distance')\n",
    "knn = knn.fit(features_train, labels_train)\n",
    "\n",
    "print(knn.score(features_train, labels_train))\n",
    "\n",
    "predicted_proba = knn.predict_proba(features_test)\n",
    "# Get success rate of the model\n",
    "print(roc_auc_score(labels_test, predicted_proba[:])) # [:,1] for only 2 classes (e.g. Legitimate or Malicious site)"
   ]
  },
  {
   "cell_type": "code",
   "execution_count": 42,
   "metadata": {
    "collapsed": false
   },
   "outputs": [
    {
     "ename": "LookupError",
     "evalue": "\n**********************************************************************\n  Resource 'corpora/stopwords' not found.  Please use the NLTK\n  Downloader to obtain the resource:  >>> nltk.download()\n  Searched in:\n    - 'C:\\\\Users\\\\User/nltk_data'\n    - 'C:\\\\nltk_data'\n    - 'D:\\\\nltk_data'\n    - 'E:\\\\nltk_data'\n    - 'C:\\\\Users\\\\User\\\\Anaconda3\\\\nltk_data'\n    - 'C:\\\\Users\\\\User\\\\Anaconda3\\\\lib\\\\nltk_data'\n    - 'C:\\\\Users\\\\User\\\\AppData\\\\Roaming\\\\nltk_data'\n**********************************************************************",
     "output_type": "error",
     "traceback": [
      "\u001b[1;31m---------------------------------------------------------------------------\u001b[0m",
      "\u001b[1;31mLookupError\u001b[0m                               Traceback (most recent call last)",
      "\u001b[1;32mC:\\Users\\User\\Anaconda3\\lib\\site-packages\\nltk\\corpus\\util.py\u001b[0m in \u001b[0;36m__load\u001b[1;34m(self)\u001b[0m\n\u001b[0;32m     62\u001b[0m             \u001b[1;32mexcept\u001b[0m \u001b[0mLookupError\u001b[0m \u001b[1;32mas\u001b[0m \u001b[0me\u001b[0m\u001b[1;33m:\u001b[0m\u001b[1;33m\u001b[0m\u001b[0m\n\u001b[1;32m---> 63\u001b[1;33m                 \u001b[1;32mtry\u001b[0m\u001b[1;33m:\u001b[0m \u001b[0mroot\u001b[0m \u001b[1;33m=\u001b[0m \u001b[0mnltk\u001b[0m\u001b[1;33m.\u001b[0m\u001b[0mdata\u001b[0m\u001b[1;33m.\u001b[0m\u001b[0mfind\u001b[0m\u001b[1;33m(\u001b[0m\u001b[1;34m'corpora/%s'\u001b[0m \u001b[1;33m%\u001b[0m \u001b[0mzip_name\u001b[0m\u001b[1;33m)\u001b[0m\u001b[1;33m\u001b[0m\u001b[0m\n\u001b[0m\u001b[0;32m     64\u001b[0m                 \u001b[1;32mexcept\u001b[0m \u001b[0mLookupError\u001b[0m\u001b[1;33m:\u001b[0m \u001b[1;32mraise\u001b[0m \u001b[0me\u001b[0m\u001b[1;33m\u001b[0m\u001b[0m\n",
      "\u001b[1;32mC:\\Users\\User\\Anaconda3\\lib\\site-packages\\nltk\\data.py\u001b[0m in \u001b[0;36mfind\u001b[1;34m(resource_name, paths)\u001b[0m\n\u001b[0;32m    640\u001b[0m     \u001b[0mresource_not_found\u001b[0m \u001b[1;33m=\u001b[0m \u001b[1;34m'\\n%s\\n%s\\n%s'\u001b[0m \u001b[1;33m%\u001b[0m \u001b[1;33m(\u001b[0m\u001b[0msep\u001b[0m\u001b[1;33m,\u001b[0m \u001b[0mmsg\u001b[0m\u001b[1;33m,\u001b[0m \u001b[0msep\u001b[0m\u001b[1;33m)\u001b[0m\u001b[1;33m\u001b[0m\u001b[0m\n\u001b[1;32m--> 641\u001b[1;33m     \u001b[1;32mraise\u001b[0m \u001b[0mLookupError\u001b[0m\u001b[1;33m(\u001b[0m\u001b[0mresource_not_found\u001b[0m\u001b[1;33m)\u001b[0m\u001b[1;33m\u001b[0m\u001b[0m\n\u001b[0m\u001b[0;32m    642\u001b[0m \u001b[1;33m\u001b[0m\u001b[0m\n",
      "\u001b[1;31mLookupError\u001b[0m: \n**********************************************************************\n  Resource 'corpora/stopwords.zip/stopwords/' not found.  Please\n  use the NLTK Downloader to obtain the resource:  >>>\n  nltk.download()\n  Searched in:\n    - 'C:\\\\Users\\\\User/nltk_data'\n    - 'C:\\\\nltk_data'\n    - 'D:\\\\nltk_data'\n    - 'E:\\\\nltk_data'\n    - 'C:\\\\Users\\\\User\\\\Anaconda3\\\\nltk_data'\n    - 'C:\\\\Users\\\\User\\\\Anaconda3\\\\lib\\\\nltk_data'\n    - 'C:\\\\Users\\\\User\\\\AppData\\\\Roaming\\\\nltk_data'\n**********************************************************************",
      "\nDuring handling of the above exception, another exception occurred:\n",
      "\u001b[1;31mLookupError\u001b[0m                               Traceback (most recent call last)",
      "\u001b[1;32m<ipython-input-42-8c7c1da29962>\u001b[0m in \u001b[0;36m<module>\u001b[1;34m()\u001b[0m\n\u001b[0;32m      6\u001b[0m \u001b[1;33m\u001b[0m\u001b[0m\n\u001b[0;32m      7\u001b[0m \u001b[1;31m#TFIDF Vectorizer\u001b[0m\u001b[1;33m\u001b[0m\u001b[1;33m\u001b[0m\u001b[0m\n\u001b[1;32m----> 8\u001b[1;33m \u001b[0mstopset\u001b[0m \u001b[1;33m=\u001b[0m \u001b[0mset\u001b[0m\u001b[1;33m(\u001b[0m\u001b[0mstopwords\u001b[0m\u001b[1;33m.\u001b[0m\u001b[0mwords\u001b[0m\u001b[1;33m(\u001b[0m\u001b[1;34m'english'\u001b[0m\u001b[1;33m)\u001b[0m\u001b[1;33m)\u001b[0m\u001b[1;33m\u001b[0m\u001b[0m\n\u001b[0m\u001b[0;32m      9\u001b[0m \u001b[0mvectorizer\u001b[0m \u001b[1;33m=\u001b[0m \u001b[0mTfidfVectorizer\u001b[0m\u001b[1;33m(\u001b[0m\u001b[0muse_idf\u001b[0m\u001b[1;33m=\u001b[0m\u001b[1;32mTrue\u001b[0m\u001b[1;33m,\u001b[0m \u001b[0mlowercase\u001b[0m\u001b[1;33m=\u001b[0m\u001b[1;32mTrue\u001b[0m\u001b[1;33m,\u001b[0m \u001b[0mstrip_accents\u001b[0m\u001b[1;33m=\u001b[0m\u001b[1;34m'ascii'\u001b[0m\u001b[1;33m,\u001b[0m \u001b[0mstop_words\u001b[0m\u001b[1;33m=\u001b[0m\u001b[0mstopset\u001b[0m\u001b[1;33m)\u001b[0m\u001b[1;33m\u001b[0m\u001b[0m\n\u001b[0;32m     10\u001b[0m \u001b[0mfeatures\u001b[0m \u001b[1;33m=\u001b[0m \u001b[0mvectorizer\u001b[0m\u001b[1;33m.\u001b[0m\u001b[0mfit_transform\u001b[0m\u001b[1;33m(\u001b[0m\u001b[0mdataframe\u001b[0m\u001b[1;33m.\u001b[0m\u001b[0mtext\u001b[0m\u001b[1;33m)\u001b[0m \u001b[1;31m# transform sentence text from 1 column to features\u001b[0m\u001b[1;33m\u001b[0m\u001b[0m\n",
      "\u001b[1;32mC:\\Users\\User\\Anaconda3\\lib\\site-packages\\nltk\\corpus\\util.py\u001b[0m in \u001b[0;36m__getattr__\u001b[1;34m(self, attr)\u001b[0m\n\u001b[0;32m     97\u001b[0m             \u001b[1;32mraise\u001b[0m \u001b[0mAttributeError\u001b[0m\u001b[1;33m(\u001b[0m\u001b[1;34m\"LazyCorpusLoader object has no attribute '__bases__'\"\u001b[0m\u001b[1;33m)\u001b[0m\u001b[1;33m\u001b[0m\u001b[0m\n\u001b[0;32m     98\u001b[0m \u001b[1;33m\u001b[0m\u001b[0m\n\u001b[1;32m---> 99\u001b[1;33m         \u001b[0mself\u001b[0m\u001b[1;33m.\u001b[0m\u001b[0m__load\u001b[0m\u001b[1;33m(\u001b[0m\u001b[1;33m)\u001b[0m\u001b[1;33m\u001b[0m\u001b[0m\n\u001b[0m\u001b[0;32m    100\u001b[0m         \u001b[1;31m# This looks circular, but its not, since __load() changes our\u001b[0m\u001b[1;33m\u001b[0m\u001b[1;33m\u001b[0m\u001b[0m\n\u001b[0;32m    101\u001b[0m         \u001b[1;31m# __class__ to something new:\u001b[0m\u001b[1;33m\u001b[0m\u001b[1;33m\u001b[0m\u001b[0m\n",
      "\u001b[1;32mC:\\Users\\User\\Anaconda3\\lib\\site-packages\\nltk\\corpus\\util.py\u001b[0m in \u001b[0;36m__load\u001b[1;34m(self)\u001b[0m\n\u001b[0;32m     62\u001b[0m             \u001b[1;32mexcept\u001b[0m \u001b[0mLookupError\u001b[0m \u001b[1;32mas\u001b[0m \u001b[0me\u001b[0m\u001b[1;33m:\u001b[0m\u001b[1;33m\u001b[0m\u001b[0m\n\u001b[0;32m     63\u001b[0m                 \u001b[1;32mtry\u001b[0m\u001b[1;33m:\u001b[0m \u001b[0mroot\u001b[0m \u001b[1;33m=\u001b[0m \u001b[0mnltk\u001b[0m\u001b[1;33m.\u001b[0m\u001b[0mdata\u001b[0m\u001b[1;33m.\u001b[0m\u001b[0mfind\u001b[0m\u001b[1;33m(\u001b[0m\u001b[1;34m'corpora/%s'\u001b[0m \u001b[1;33m%\u001b[0m \u001b[0mzip_name\u001b[0m\u001b[1;33m)\u001b[0m\u001b[1;33m\u001b[0m\u001b[0m\n\u001b[1;32m---> 64\u001b[1;33m                 \u001b[1;32mexcept\u001b[0m \u001b[0mLookupError\u001b[0m\u001b[1;33m:\u001b[0m \u001b[1;32mraise\u001b[0m \u001b[0me\u001b[0m\u001b[1;33m\u001b[0m\u001b[0m\n\u001b[0m\u001b[0;32m     65\u001b[0m \u001b[1;33m\u001b[0m\u001b[0m\n\u001b[0;32m     66\u001b[0m         \u001b[1;31m# Load the corpus.\u001b[0m\u001b[1;33m\u001b[0m\u001b[1;33m\u001b[0m\u001b[0m\n",
      "\u001b[1;32mC:\\Users\\User\\Anaconda3\\lib\\site-packages\\nltk\\corpus\\util.py\u001b[0m in \u001b[0;36m__load\u001b[1;34m(self)\u001b[0m\n\u001b[0;32m     59\u001b[0m         \u001b[1;32melse\u001b[0m\u001b[1;33m:\u001b[0m\u001b[1;33m\u001b[0m\u001b[0m\n\u001b[0;32m     60\u001b[0m             \u001b[1;32mtry\u001b[0m\u001b[1;33m:\u001b[0m\u001b[1;33m\u001b[0m\u001b[0m\n\u001b[1;32m---> 61\u001b[1;33m                 \u001b[0mroot\u001b[0m \u001b[1;33m=\u001b[0m \u001b[0mnltk\u001b[0m\u001b[1;33m.\u001b[0m\u001b[0mdata\u001b[0m\u001b[1;33m.\u001b[0m\u001b[0mfind\u001b[0m\u001b[1;33m(\u001b[0m\u001b[1;34m'corpora/%s'\u001b[0m \u001b[1;33m%\u001b[0m \u001b[0mself\u001b[0m\u001b[1;33m.\u001b[0m\u001b[0m__name\u001b[0m\u001b[1;33m)\u001b[0m\u001b[1;33m\u001b[0m\u001b[0m\n\u001b[0m\u001b[0;32m     62\u001b[0m             \u001b[1;32mexcept\u001b[0m \u001b[0mLookupError\u001b[0m \u001b[1;32mas\u001b[0m \u001b[0me\u001b[0m\u001b[1;33m:\u001b[0m\u001b[1;33m\u001b[0m\u001b[0m\n\u001b[0;32m     63\u001b[0m                 \u001b[1;32mtry\u001b[0m\u001b[1;33m:\u001b[0m \u001b[0mroot\u001b[0m \u001b[1;33m=\u001b[0m \u001b[0mnltk\u001b[0m\u001b[1;33m.\u001b[0m\u001b[0mdata\u001b[0m\u001b[1;33m.\u001b[0m\u001b[0mfind\u001b[0m\u001b[1;33m(\u001b[0m\u001b[1;34m'corpora/%s'\u001b[0m \u001b[1;33m%\u001b[0m \u001b[0mzip_name\u001b[0m\u001b[1;33m)\u001b[0m\u001b[1;33m\u001b[0m\u001b[0m\n",
      "\u001b[1;32mC:\\Users\\User\\Anaconda3\\lib\\site-packages\\nltk\\data.py\u001b[0m in \u001b[0;36mfind\u001b[1;34m(resource_name, paths)\u001b[0m\n\u001b[0;32m    639\u001b[0m     \u001b[0msep\u001b[0m \u001b[1;33m=\u001b[0m \u001b[1;34m'*'\u001b[0m \u001b[1;33m*\u001b[0m \u001b[1;36m70\u001b[0m\u001b[1;33m\u001b[0m\u001b[0m\n\u001b[0;32m    640\u001b[0m     \u001b[0mresource_not_found\u001b[0m \u001b[1;33m=\u001b[0m \u001b[1;34m'\\n%s\\n%s\\n%s'\u001b[0m \u001b[1;33m%\u001b[0m \u001b[1;33m(\u001b[0m\u001b[0msep\u001b[0m\u001b[1;33m,\u001b[0m \u001b[0mmsg\u001b[0m\u001b[1;33m,\u001b[0m \u001b[0msep\u001b[0m\u001b[1;33m)\u001b[0m\u001b[1;33m\u001b[0m\u001b[0m\n\u001b[1;32m--> 641\u001b[1;33m     \u001b[1;32mraise\u001b[0m \u001b[0mLookupError\u001b[0m\u001b[1;33m(\u001b[0m\u001b[0mresource_not_found\u001b[0m\u001b[1;33m)\u001b[0m\u001b[1;33m\u001b[0m\u001b[0m\n\u001b[0m\u001b[0;32m    642\u001b[0m \u001b[1;33m\u001b[0m\u001b[0m\n\u001b[0;32m    643\u001b[0m \u001b[1;33m\u001b[0m\u001b[0m\n",
      "\u001b[1;31mLookupError\u001b[0m: \n**********************************************************************\n  Resource 'corpora/stopwords' not found.  Please use the NLTK\n  Downloader to obtain the resource:  >>> nltk.download()\n  Searched in:\n    - 'C:\\\\Users\\\\User/nltk_data'\n    - 'C:\\\\nltk_data'\n    - 'D:\\\\nltk_data'\n    - 'E:\\\\nltk_data'\n    - 'C:\\\\Users\\\\User\\\\Anaconda3\\\\nltk_data'\n    - 'C:\\\\Users\\\\User\\\\Anaconda3\\\\lib\\\\nltk_data'\n    - 'C:\\\\Users\\\\User\\\\AppData\\\\Roaming\\\\nltk_data'\n**********************************************************************"
     ]
    }
   ],
   "source": [
    "# Naive Bayes (Classification, strong independence between features)\n",
    "\n",
    "# Feature Extraction - http://scikit-learn.org/stable/modules/feature_extraction.html#text-feature-extraction\n",
    "from nltk.corpus import stopwords\n",
    "from sklearn.feature_extraction.text import TfidfVectorizer\n",
    "\n",
    "#TFIDF Vectorizer\n",
    "stopset = set(stopwords.words('english'))\n",
    "vectorizer = TfidfVectorizer(use_idf=True, lowercase=True, strip_accents='ascii', stop_words=stopset)\n",
    "features = vectorizer.fit_transform(dataframe.text) # transform sentence text from 1 column to features\n",
    "\n",
    "\n",
    "from sklearn import naive_bayes\n",
    "from sklearn.metrics import roc_auc_score\n",
    "\n",
    "#clf = naive_bayes.BernoulliNB() #discrete data, for binary/boolean features\n",
    "#clf = naive_bayes.GaussianNB() # ?\n",
    "clf = naive_bayes.MultinomialNB() #discrete data, for occurrence count\n",
    "clf.fit(features_train, labels_train)\n",
    "\n",
    "predicted_proba = clf.predict_proba(features_test)\n",
    "# Get success rate of the model\n",
    "print(roc_auc_score(labels_test, predicted_proba[:,1])) # [:,1] for only 2 classes (e.g. Spam or Ham)"
   ]
  },
  {
   "cell_type": "code",
   "execution_count": 49,
   "metadata": {
    "collapsed": false
   },
   "outputs": [
    {
     "data": {
      "text/plain": [
       "array([[   2,    0,    6,   12,    0,    0,    0],\n",
       "       [   0,   11,   89,   61,    2,    0,    0],\n",
       "       [   0,    0,  869,  582,    6,    0,    0],\n",
       "       [   0,    1,  316, 1785,   95,    0,    0],\n",
       "       [   0,    0,   36,  579,  264,    0,    0],\n",
       "       [   0,    0,    7,  120,   48,    0,    0],\n",
       "       [   0,    0,    0,    2,    3,    0,    0]])"
      ]
     },
     "execution_count": 49,
     "metadata": {},
     "output_type": "execute_result"
    }
   ],
   "source": [
    "from sklearn.metrics import confusion_matrix\n",
    "confusion_matrix(label.values, clf.predict(X=digitized))"
   ]
  },
  {
   "cell_type": "code",
   "execution_count": 45,
   "metadata": {
    "collapsed": false
   },
   "outputs": [
    {
     "ename": "NameError",
     "evalue": "name 'itertools' is not defined",
     "output_type": "error",
     "traceback": [
      "\u001b[1;31m---------------------------------------------------------------------------\u001b[0m",
      "\u001b[1;31mNameError\u001b[0m                                 Traceback (most recent call last)",
      "\u001b[1;32m<ipython-input-45-319c9c7c31f2>\u001b[0m in \u001b[0;36m<module>\u001b[1;34m()\u001b[0m\n\u001b[0;32m     23\u001b[0m \u001b[0mdf_confusion\u001b[0m \u001b[1;33m=\u001b[0m \u001b[0mmetrics\u001b[0m\u001b[1;33m.\u001b[0m\u001b[0mconfusion_matrix\u001b[0m\u001b[1;33m(\u001b[0m\u001b[0mlabels\u001b[0m\u001b[1;33m,\u001b[0m \u001b[0mlabels_pred\u001b[0m\u001b[1;33m)\u001b[0m\u001b[1;33m\u001b[0m\u001b[0m\n\u001b[0;32m     24\u001b[0m \u001b[1;31m#df_confusion\u001b[0m\u001b[1;33m\u001b[0m\u001b[1;33m\u001b[0m\u001b[0m\n\u001b[1;32m---> 25\u001b[1;33m \u001b[0mplot_confusion_matrix\u001b[0m\u001b[1;33m(\u001b[0m\u001b[0mdf_confusion\u001b[0m\u001b[1;33m)\u001b[0m\u001b[1;33m\u001b[0m\u001b[0m\n\u001b[0m",
      "\u001b[1;32m<ipython-input-45-319c9c7c31f2>\u001b[0m in \u001b[0;36mplot_confusion_matrix\u001b[1;34m(df_confusion, title, cmap)\u001b[0m\n\u001b[0;32m     14\u001b[0m \u001b[1;33m\u001b[0m\u001b[0m\n\u001b[0;32m     15\u001b[0m     \u001b[0mthresh\u001b[0m \u001b[1;33m=\u001b[0m \u001b[0mdf_confusion\u001b[0m\u001b[1;33m.\u001b[0m\u001b[0mmax\u001b[0m\u001b[1;33m(\u001b[0m\u001b[1;33m)\u001b[0m \u001b[1;33m/\u001b[0m \u001b[1;36m2\u001b[0m\u001b[1;33m\u001b[0m\u001b[0m\n\u001b[1;32m---> 16\u001b[1;33m     \u001b[1;32mfor\u001b[0m \u001b[0mi\u001b[0m\u001b[1;33m,\u001b[0m \u001b[0mj\u001b[0m \u001b[1;32min\u001b[0m \u001b[0mitertools\u001b[0m\u001b[1;33m.\u001b[0m\u001b[0mproduct\u001b[0m\u001b[1;33m(\u001b[0m\u001b[0mrange\u001b[0m\u001b[1;33m(\u001b[0m\u001b[0mdf_confusion\u001b[0m\u001b[1;33m.\u001b[0m\u001b[0mshape\u001b[0m\u001b[1;33m[\u001b[0m\u001b[1;36m0\u001b[0m\u001b[1;33m]\u001b[0m\u001b[1;33m)\u001b[0m\u001b[1;33m,\u001b[0m \u001b[0mrange\u001b[0m\u001b[1;33m(\u001b[0m\u001b[0mdf_confusion\u001b[0m\u001b[1;33m.\u001b[0m\u001b[0mshape\u001b[0m\u001b[1;33m[\u001b[0m\u001b[1;36m1\u001b[0m\u001b[1;33m]\u001b[0m\u001b[1;33m)\u001b[0m\u001b[1;33m)\u001b[0m\u001b[1;33m:\u001b[0m\u001b[1;33m\u001b[0m\u001b[0m\n\u001b[0m\u001b[0;32m     17\u001b[0m         plt.text(j, i, df_confusion[i, j],\n\u001b[0;32m     18\u001b[0m                  \u001b[0mhorizontalalignment\u001b[0m\u001b[1;33m=\u001b[0m\u001b[1;34m\"center\"\u001b[0m\u001b[1;33m,\u001b[0m\u001b[1;33m\u001b[0m\u001b[0m\n",
      "\u001b[1;31mNameError\u001b[0m: name 'itertools' is not defined"
     ]
    },
    {
     "data": {
      "image/png": "[encoded data removed]",
      "text/plain": [
       "<matplotlib.figure.Figure at 0x1e8b5376f60>"
      ]
     },
     "metadata": {},
     "output_type": "display_data"
    }
   ],
   "source": [
    "# Confusion Matrix\n",
    "\n",
    "from sklearn import metrics\n",
    "\n",
    "def plot_confusion_matrix(df_confusion, title='Confusion matrix', cmap=plt.cm.Blues):\n",
    "    plt.imshow(df_confusion, cmap=cmap)\n",
    "    plt.title('Confusion Matrix')\n",
    "    plt.colorbar()\n",
    "    plt.yticks(np.arange(2), ('False', 'True'))\n",
    "    plt.xticks(np.arange(2), ('False', 'True'))\n",
    "    plt.tight_layout()\n",
    "    plt.ylabel('Actual')\n",
    "    plt.xlabel('Predicted')\n",
    "    \n",
    "    thresh = df_confusion.max() / 2\n",
    "    for i, j in itertools.product(range(df_confusion.shape[0]), range(df_confusion.shape[1])):\n",
    "        plt.text(j, i, df_confusion[i, j],\n",
    "                 horizontalalignment=\"center\",\n",
    "                 color=\"white\" if df_confusion[i, j] > thresh else \"black\")\n",
    "\n",
    "\n",
    "labels_pred = clf.predict(features)\n",
    "df_confusion = metrics.confusion_matrix(labels, labels_pred)\n",
    "#df_confusion\n",
    "plot_confusion_matrix(df_confusion)"
   ]
  },
  {
   "cell_type": "code",
   "execution_count": null,
   "metadata": {
    "collapsed": true
   },
   "outputs": [],
   "source": []
  }
 ],
 "metadata": {
  "anaconda-cloud": {},
  "kernelspec": {
   "display_name": "Python [Root]",
   "language": "python",
   "name": "Python [Root]"
  },
  "language_info": {
   "codemirror_mode": {
    "name": "ipython",
    "version": 3
   },
   "file_extension": ".py",
   "mimetype": "text/x-python",
   "name": "python",
   "nbconvert_exporter": "python",
   "pygments_lexer": "ipython3",
   "version": "3.5.2"
  }
 },
 "nbformat": 4,
 "nbformat_minor": 2
}
