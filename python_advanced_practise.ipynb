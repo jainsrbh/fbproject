{
 "cells": [
  {
   "cell_type": "code",
   "execution_count": 47,
   "metadata": {
    "collapsed": false
   },
   "outputs": [
    {
     "name": "stdout",
     "output_type": "stream",
     "text": [
      "[1 2 3 4]\n",
      "[ 1  2  3  4  5  6  7  8  9 10]\n",
      "[1 6]\n",
      "[  1.     3.25   5.5    7.75  10.  ]\n",
      "[[ 1  2]\n",
      " [ 3  4]\n",
      " [ 5  6]\n",
      " [ 7  8]\n",
      " [ 9 10]]\n"
     ]
    },
    {
     "data": {
      "text/plain": [
       "array([[ 1.,  0.],\n",
       "       [ 0.,  1.]])"
      ]
     },
     "execution_count": 47,
     "metadata": {},
     "output_type": "execute_result"
    }
   ],
   "source": [
    "import numpy as np\n",
    "a = np.array([1,2,3,4])\n",
    "print(a)\n",
    "b = np.arange(1,11)\n",
    "print(b)\n",
    "c = np.arange(1,10,5)\n",
    "print(c)\n",
    "d = np.linspace(1,10,5)\n",
    "print(d)\n",
    "b = b.reshape(5,2)\n",
    "print(b)\n",
    "#np.zeros(50)\n",
    "np.eye(2)"
   ]
  },
  {
   "cell_type": "code",
   "execution_count": 37,
   "metadata": {
    "collapsed": false
   },
   "outputs": [
    {
     "name": "stdout",
     "output_type": "stream",
     "text": [
      "1    10\n",
      "2    20\n",
      "3    30\n",
      "4    40\n",
      "dtype: int64\n",
      "2    20\n",
      "3    30\n",
      "dtype: int64\n",
      "1    3.162278\n",
      "2    4.472136\n",
      "3    5.477226\n",
      "4    6.324555\n",
      "dtype: float64\n"
     ]
    }
   ],
   "source": [
    "import numpy as np\n",
    "import pandas as pd\n",
    "s = pd.Series([10,20,30,40],index=[1,2,3,4])\n",
    "print(s)\n",
    "print(s[[2,3]])\n",
    "print(np.sqrt(s))"
   ]
  },
  {
   "cell_type": "code",
   "execution_count": 43,
   "metadata": {
    "collapsed": false
   },
   "outputs": [
    {
     "name": "stdout",
     "output_type": "stream",
     "text": [
      "            company  price ticker\n",
      "0  American Express     95    AXP\n",
      "1             Cisco     25   CSCO\n",
      "2       Walt Disney     85    DIS\n",
      "3         Microsoft     41   MSFT\n",
      "4           Walmart     78    WMT\n"
     ]
    },
    {
     "data": {
      "text/plain": [
       "company    Cisco\n",
       "price         25\n",
       "ticker      CSCO\n",
       "Name: 1, dtype: object"
      ]
     },
     "execution_count": 43,
     "metadata": {},
     "output_type": "execute_result"
    }
   ],
   "source": [
    "data = pd.DataFrame({'price':[95, 25, 85, 41, 78],\n",
    "                     'ticker':['AXP', 'CSCO', 'DIS', 'MSFT', 'WMT'],\n",
    "                     'company':['American Express', 'Cisco', 'Walt Disney','Microsoft', 'Walmart']})\n",
    "print(data)\n",
    "#data['company']\n",
    "data.ix[1]"
   ]
  },
  {
   "cell_type": "code",
   "execution_count": 44,
   "metadata": {
    "collapsed": false
   },
   "outputs": [
    {
     "name": "stdout",
     "output_type": "stream",
     "text": [
      "-------------Firm 1------------\n",
      "90     8\n",
      "91     9\n",
      "92     7\n",
      "93     8\n",
      "94     9\n",
      "95    11\n",
      "dtype: int64\n",
      "-------------Firm 2------------\n",
      "90    14.0\n",
      "91     NaN\n",
      "92     9.0\n",
      "93    13.0\n",
      "94     5.0\n",
      "95     NaN\n",
      "dtype: float64\n",
      "-------------Firm 3------------\n",
      "90     NaN\n",
      "91     NaN\n",
      "92     NaN\n",
      "93    10.0\n",
      "94    12.0\n",
      "95    13.0\n",
      "dtype: float64\n",
      "-------------Create empty dataframe------------\n",
      "   Firm1 Firm2 Firm3\n",
      "90   NaN   NaN   NaN\n",
      "91   NaN   NaN   NaN\n",
      "92   NaN   NaN   NaN\n",
      "93   NaN   NaN   NaN\n",
      "94   NaN   NaN   NaN\n",
      "95   NaN   NaN   NaN\n",
      "-------------Populate the dataframe------------\n",
      "    Firm1  Firm2  Firm3\n",
      "90      8   14.0    NaN\n",
      "91      9    NaN    NaN\n",
      "92      7    9.0    NaN\n",
      "93      8   13.0   10.0\n",
      "94      9    5.0   12.0\n",
      "95     11    NaN   13.0\n"
     ]
    }
   ],
   "source": [
    "years = [90, 91, 92, 93, 94, 95]\n",
    "print('-------------Firm 1------------')\n",
    "f1 = {90:8, 91:9, 92:7, 93:8, 94:9, 95:11}\n",
    "firm1 = pd.Series(f1,index=years)\n",
    "print(firm1)\n",
    "print('-------------Firm 2------------')\n",
    "f2 = {90:14,92:9, 93:13, 94:5}\n",
    "firm2 = pd.Series(f2,index=years)\n",
    "print(firm2)\n",
    "print('-------------Firm 3------------')\n",
    "f3 = {93:10, 94:12, 95: 13}\n",
    "firm3 = pd.Series(f3,index=years)\n",
    "print(firm3)\n",
    "print('-------------Create empty dataframe------------')\n",
    "df1 = pd.DataFrame(columns=['Firm1','Firm2','Firm3'],index=years)    # Convert the 3 series to a DataFrame with 'years' as Index\n",
    "print(df1)\n",
    "print('-------------Populate the dataframe------------')\n",
    "df1.Firm1 = firm1\n",
    "df1.Firm2 = firm2\n",
    "df1.Firm3 = firm3\n",
    "print(df1)"
   ]
  },
  {
   "cell_type": "code",
   "execution_count": 48,
   "metadata": {
    "collapsed": false
   },
   "outputs": [
    {
     "data": {
      "text/html": [
       "<div>\n",
       "<table border=\"1\" class=\"dataframe\">\n",
       "  <thead>\n",
       "    <tr style=\"text-align: right;\">\n",
       "      <th></th>\n",
       "      <th>one</th>\n",
       "      <th>two</th>\n",
       "      <th>three</th>\n",
       "    </tr>\n",
       "  </thead>\n",
       "  <tbody>\n",
       "    <tr>\n",
       "      <th>0</th>\n",
       "      <td>0.538588</td>\n",
       "      <td>0.498810</td>\n",
       "      <td>0.670010</td>\n",
       "    </tr>\n",
       "    <tr>\n",
       "      <th>1</th>\n",
       "      <td>0.662960</td>\n",
       "      <td>0.500276</td>\n",
       "      <td>0.088885</td>\n",
       "    </tr>\n",
       "    <tr>\n",
       "      <th>2</th>\n",
       "      <td>0.308323</td>\n",
       "      <td>0.592499</td>\n",
       "      <td>0.012416</td>\n",
       "    </tr>\n",
       "  </tbody>\n",
       "</table>\n",
       "</div>"
      ],
      "text/plain": [
       "        one       two     three\n",
       "0  0.538588  0.498810  0.670010\n",
       "1  0.662960  0.500276  0.088885\n",
       "2  0.308323  0.592499  0.012416"
      ]
     },
     "execution_count": 48,
     "metadata": {},
     "output_type": "execute_result"
    }
   ],
   "source": [
    "dataframe = pd.DataFrame(np.random.rand(3,3),columns=['one','two','three'])  # Create array of 3*3 dimensionality using standard normally distributed random vales\n",
    "dataframe"
   ]
  },
  {
   "cell_type": "code",
   "execution_count": null,
   "metadata": {
    "collapsed": true
   },
   "outputs": [],
   "source": []
  }
 ],
 "metadata": {
  "kernelspec": {
   "display_name": "Python [Root]",
   "language": "python",
   "name": "Python [Root]"
  },
  "language_info": {
   "codemirror_mode": {
    "name": "ipython",
    "version": 3
   },
   "file_extension": ".py",
   "mimetype": "text/x-python",
   "name": "python",
   "nbconvert_exporter": "python",
   "pygments_lexer": "ipython3",
   "version": "3.5.2"
  }
 },
 "nbformat": 4,
 "nbformat_minor": 0
}
